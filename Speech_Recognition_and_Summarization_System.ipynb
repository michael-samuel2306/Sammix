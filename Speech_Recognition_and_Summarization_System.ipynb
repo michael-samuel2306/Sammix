{
  "nbformat": 4,
  "nbformat_minor": 0,
  "metadata": {
    "colab": {
      "name": "Speech Recognition and Summarization System",
      "provenance": [],
      "collapsed_sections": [],
      "mount_file_id": "1Ycrgr1pA3wpsB4gSSVQho_RFEJlnP18Y",
      "authorship_tag": "ABX9TyPKB2J67QucECuWOv0U3hDt",
      "include_colab_link": true
    },
    "kernelspec": {
      "name": "python3",
      "display_name": "Python 3"
    },
    "language_info": {
      "name": "python"
    },
    "widgets": {
      "application/vnd.jupyter.widget-state+json": {
        "6a155c365b814becb16edae26982b4e5": {
          "model_module": "@jupyter-widgets/controls",
          "model_name": "HBoxModel",
          "model_module_version": "1.5.0",
          "state": {
            "_dom_classes": [],
            "_model_module": "@jupyter-widgets/controls",
            "_model_module_version": "1.5.0",
            "_model_name": "HBoxModel",
            "_view_count": null,
            "_view_module": "@jupyter-widgets/controls",
            "_view_module_version": "1.5.0",
            "_view_name": "HBoxView",
            "box_style": "",
            "children": [
              "IPY_MODEL_e91c5a5c235849329de50ba437ebfdf6",
              "IPY_MODEL_acfa2614e1134a4f863eb0481d8e4caf",
              "IPY_MODEL_06c94433473f4c1cb5ce800ebbda869a"
            ],
            "layout": "IPY_MODEL_ae6d617f5cec42b68c02914416f94240"
          }
        },
        "e91c5a5c235849329de50ba437ebfdf6": {
          "model_module": "@jupyter-widgets/controls",
          "model_name": "HTMLModel",
          "model_module_version": "1.5.0",
          "state": {
            "_dom_classes": [],
            "_model_module": "@jupyter-widgets/controls",
            "_model_module_version": "1.5.0",
            "_model_name": "HTMLModel",
            "_view_count": null,
            "_view_module": "@jupyter-widgets/controls",
            "_view_module_version": "1.5.0",
            "_view_name": "HTMLView",
            "description": "",
            "description_tooltip": null,
            "layout": "IPY_MODEL_d5c3c7f36f7b46b7afe8b8dc8e6de953",
            "placeholder": "​",
            "style": "IPY_MODEL_517ce44b1c1047328e0fcf62accef89d",
            "value": "Downloading: 100%"
          }
        },
        "acfa2614e1134a4f863eb0481d8e4caf": {
          "model_module": "@jupyter-widgets/controls",
          "model_name": "FloatProgressModel",
          "model_module_version": "1.5.0",
          "state": {
            "_dom_classes": [],
            "_model_module": "@jupyter-widgets/controls",
            "_model_module_version": "1.5.0",
            "_model_name": "FloatProgressModel",
            "_view_count": null,
            "_view_module": "@jupyter-widgets/controls",
            "_view_module_version": "1.5.0",
            "_view_name": "ProgressView",
            "bar_style": "success",
            "description": "",
            "description_tooltip": null,
            "layout": "IPY_MODEL_29c32533dd8f41769a6ef1602be88195",
            "max": 1802,
            "min": 0,
            "orientation": "horizontal",
            "style": "IPY_MODEL_2664fed712a54a8b96fcb289b630bcb3",
            "value": 1802
          }
        },
        "06c94433473f4c1cb5ce800ebbda869a": {
          "model_module": "@jupyter-widgets/controls",
          "model_name": "HTMLModel",
          "model_module_version": "1.5.0",
          "state": {
            "_dom_classes": [],
            "_model_module": "@jupyter-widgets/controls",
            "_model_module_version": "1.5.0",
            "_model_name": "HTMLModel",
            "_view_count": null,
            "_view_module": "@jupyter-widgets/controls",
            "_view_module_version": "1.5.0",
            "_view_name": "HTMLView",
            "description": "",
            "description_tooltip": null,
            "layout": "IPY_MODEL_89420a8656ea420a85299a8aa4f9c224",
            "placeholder": "​",
            "style": "IPY_MODEL_6005e541dbfd4d9da7cf8dc63662539a",
            "value": " 1.76k/1.76k [00:00&lt;00:00, 36.6kB/s]"
          }
        },
        "ae6d617f5cec42b68c02914416f94240": {
          "model_module": "@jupyter-widgets/base",
          "model_name": "LayoutModel",
          "model_module_version": "1.2.0",
          "state": {
            "_model_module": "@jupyter-widgets/base",
            "_model_module_version": "1.2.0",
            "_model_name": "LayoutModel",
            "_view_count": null,
            "_view_module": "@jupyter-widgets/base",
            "_view_module_version": "1.2.0",
            "_view_name": "LayoutView",
            "align_content": null,
            "align_items": null,
            "align_self": null,
            "border": null,
            "bottom": null,
            "display": null,
            "flex": null,
            "flex_flow": null,
            "grid_area": null,
            "grid_auto_columns": null,
            "grid_auto_flow": null,
            "grid_auto_rows": null,
            "grid_column": null,
            "grid_gap": null,
            "grid_row": null,
            "grid_template_areas": null,
            "grid_template_columns": null,
            "grid_template_rows": null,
            "height": null,
            "justify_content": null,
            "justify_items": null,
            "left": null,
            "margin": null,
            "max_height": null,
            "max_width": null,
            "min_height": null,
            "min_width": null,
            "object_fit": null,
            "object_position": null,
            "order": null,
            "overflow": null,
            "overflow_x": null,
            "overflow_y": null,
            "padding": null,
            "right": null,
            "top": null,
            "visibility": null,
            "width": null
          }
        },
        "d5c3c7f36f7b46b7afe8b8dc8e6de953": {
          "model_module": "@jupyter-widgets/base",
          "model_name": "LayoutModel",
          "model_module_version": "1.2.0",
          "state": {
            "_model_module": "@jupyter-widgets/base",
            "_model_module_version": "1.2.0",
            "_model_name": "LayoutModel",
            "_view_count": null,
            "_view_module": "@jupyter-widgets/base",
            "_view_module_version": "1.2.0",
            "_view_name": "LayoutView",
            "align_content": null,
            "align_items": null,
            "align_self": null,
            "border": null,
            "bottom": null,
            "display": null,
            "flex": null,
            "flex_flow": null,
            "grid_area": null,
            "grid_auto_columns": null,
            "grid_auto_flow": null,
            "grid_auto_rows": null,
            "grid_column": null,
            "grid_gap": null,
            "grid_row": null,
            "grid_template_areas": null,
            "grid_template_columns": null,
            "grid_template_rows": null,
            "height": null,
            "justify_content": null,
            "justify_items": null,
            "left": null,
            "margin": null,
            "max_height": null,
            "max_width": null,
            "min_height": null,
            "min_width": null,
            "object_fit": null,
            "object_position": null,
            "order": null,
            "overflow": null,
            "overflow_x": null,
            "overflow_y": null,
            "padding": null,
            "right": null,
            "top": null,
            "visibility": null,
            "width": null
          }
        },
        "517ce44b1c1047328e0fcf62accef89d": {
          "model_module": "@jupyter-widgets/controls",
          "model_name": "DescriptionStyleModel",
          "model_module_version": "1.5.0",
          "state": {
            "_model_module": "@jupyter-widgets/controls",
            "_model_module_version": "1.5.0",
            "_model_name": "DescriptionStyleModel",
            "_view_count": null,
            "_view_module": "@jupyter-widgets/base",
            "_view_module_version": "1.2.0",
            "_view_name": "StyleView",
            "description_width": ""
          }
        },
        "29c32533dd8f41769a6ef1602be88195": {
          "model_module": "@jupyter-widgets/base",
          "model_name": "LayoutModel",
          "model_module_version": "1.2.0",
          "state": {
            "_model_module": "@jupyter-widgets/base",
            "_model_module_version": "1.2.0",
            "_model_name": "LayoutModel",
            "_view_count": null,
            "_view_module": "@jupyter-widgets/base",
            "_view_module_version": "1.2.0",
            "_view_name": "LayoutView",
            "align_content": null,
            "align_items": null,
            "align_self": null,
            "border": null,
            "bottom": null,
            "display": null,
            "flex": null,
            "flex_flow": null,
            "grid_area": null,
            "grid_auto_columns": null,
            "grid_auto_flow": null,
            "grid_auto_rows": null,
            "grid_column": null,
            "grid_gap": null,
            "grid_row": null,
            "grid_template_areas": null,
            "grid_template_columns": null,
            "grid_template_rows": null,
            "height": null,
            "justify_content": null,
            "justify_items": null,
            "left": null,
            "margin": null,
            "max_height": null,
            "max_width": null,
            "min_height": null,
            "min_width": null,
            "object_fit": null,
            "object_position": null,
            "order": null,
            "overflow": null,
            "overflow_x": null,
            "overflow_y": null,
            "padding": null,
            "right": null,
            "top": null,
            "visibility": null,
            "width": null
          }
        },
        "2664fed712a54a8b96fcb289b630bcb3": {
          "model_module": "@jupyter-widgets/controls",
          "model_name": "ProgressStyleModel",
          "model_module_version": "1.5.0",
          "state": {
            "_model_module": "@jupyter-widgets/controls",
            "_model_module_version": "1.5.0",
            "_model_name": "ProgressStyleModel",
            "_view_count": null,
            "_view_module": "@jupyter-widgets/base",
            "_view_module_version": "1.2.0",
            "_view_name": "StyleView",
            "bar_color": null,
            "description_width": ""
          }
        },
        "89420a8656ea420a85299a8aa4f9c224": {
          "model_module": "@jupyter-widgets/base",
          "model_name": "LayoutModel",
          "model_module_version": "1.2.0",
          "state": {
            "_model_module": "@jupyter-widgets/base",
            "_model_module_version": "1.2.0",
            "_model_name": "LayoutModel",
            "_view_count": null,
            "_view_module": "@jupyter-widgets/base",
            "_view_module_version": "1.2.0",
            "_view_name": "LayoutView",
            "align_content": null,
            "align_items": null,
            "align_self": null,
            "border": null,
            "bottom": null,
            "display": null,
            "flex": null,
            "flex_flow": null,
            "grid_area": null,
            "grid_auto_columns": null,
            "grid_auto_flow": null,
            "grid_auto_rows": null,
            "grid_column": null,
            "grid_gap": null,
            "grid_row": null,
            "grid_template_areas": null,
            "grid_template_columns": null,
            "grid_template_rows": null,
            "height": null,
            "justify_content": null,
            "justify_items": null,
            "left": null,
            "margin": null,
            "max_height": null,
            "max_width": null,
            "min_height": null,
            "min_width": null,
            "object_fit": null,
            "object_position": null,
            "order": null,
            "overflow": null,
            "overflow_x": null,
            "overflow_y": null,
            "padding": null,
            "right": null,
            "top": null,
            "visibility": null,
            "width": null
          }
        },
        "6005e541dbfd4d9da7cf8dc63662539a": {
          "model_module": "@jupyter-widgets/controls",
          "model_name": "DescriptionStyleModel",
          "model_module_version": "1.5.0",
          "state": {
            "_model_module": "@jupyter-widgets/controls",
            "_model_module_version": "1.5.0",
            "_model_name": "DescriptionStyleModel",
            "_view_count": null,
            "_view_module": "@jupyter-widgets/base",
            "_view_module_version": "1.2.0",
            "_view_name": "StyleView",
            "description_width": ""
          }
        },
        "96a85263f30248a2a790afda86182943": {
          "model_module": "@jupyter-widgets/controls",
          "model_name": "HBoxModel",
          "model_module_version": "1.5.0",
          "state": {
            "_dom_classes": [],
            "_model_module": "@jupyter-widgets/controls",
            "_model_module_version": "1.5.0",
            "_model_name": "HBoxModel",
            "_view_count": null,
            "_view_module": "@jupyter-widgets/controls",
            "_view_module_version": "1.5.0",
            "_view_name": "HBoxView",
            "box_style": "",
            "children": [
              "IPY_MODEL_b916e04588654bdcb0dbfe5385ed6a4e",
              "IPY_MODEL_c3cf17327b574fc6a7790fd80ee1e2e2",
              "IPY_MODEL_922d593b8f794f888bea815018bf1b89"
            ],
            "layout": "IPY_MODEL_c50d46c85d64418f9463dad98876e417"
          }
        },
        "b916e04588654bdcb0dbfe5385ed6a4e": {
          "model_module": "@jupyter-widgets/controls",
          "model_name": "HTMLModel",
          "model_module_version": "1.5.0",
          "state": {
            "_dom_classes": [],
            "_model_module": "@jupyter-widgets/controls",
            "_model_module_version": "1.5.0",
            "_model_name": "HTMLModel",
            "_view_count": null,
            "_view_module": "@jupyter-widgets/controls",
            "_view_module_version": "1.5.0",
            "_view_name": "HTMLView",
            "description": "",
            "description_tooltip": null,
            "layout": "IPY_MODEL_75d84c4a99504b7cab2d8bf695ac2693",
            "placeholder": "​",
            "style": "IPY_MODEL_5914283769ac4fb1b0ad5e34554ceb6b",
            "value": "Downloading: 100%"
          }
        },
        "c3cf17327b574fc6a7790fd80ee1e2e2": {
          "model_module": "@jupyter-widgets/controls",
          "model_name": "FloatProgressModel",
          "model_module_version": "1.5.0",
          "state": {
            "_dom_classes": [],
            "_model_module": "@jupyter-widgets/controls",
            "_model_module_version": "1.5.0",
            "_model_name": "FloatProgressModel",
            "_view_count": null,
            "_view_module": "@jupyter-widgets/controls",
            "_view_module_version": "1.5.0",
            "_view_name": "ProgressView",
            "bar_style": "success",
            "description": "",
            "description_tooltip": null,
            "layout": "IPY_MODEL_32067abc3b0342c3becdae39428a9ae5",
            "max": 1222317369,
            "min": 0,
            "orientation": "horizontal",
            "style": "IPY_MODEL_f37a7c667ea94020a9089721d0dfcc67",
            "value": 1222317369
          }
        },
        "922d593b8f794f888bea815018bf1b89": {
          "model_module": "@jupyter-widgets/controls",
          "model_name": "HTMLModel",
          "model_module_version": "1.5.0",
          "state": {
            "_dom_classes": [],
            "_model_module": "@jupyter-widgets/controls",
            "_model_module_version": "1.5.0",
            "_model_name": "HTMLModel",
            "_view_count": null,
            "_view_module": "@jupyter-widgets/controls",
            "_view_module_version": "1.5.0",
            "_view_name": "HTMLView",
            "description": "",
            "description_tooltip": null,
            "layout": "IPY_MODEL_2932648d0f594a9ebed920b163556c6d",
            "placeholder": "​",
            "style": "IPY_MODEL_9b5b016b93ea4d779a02cb02e588285c",
            "value": " 1.14G/1.14G [00:25&lt;00:00, 52.6MB/s]"
          }
        },
        "c50d46c85d64418f9463dad98876e417": {
          "model_module": "@jupyter-widgets/base",
          "model_name": "LayoutModel",
          "model_module_version": "1.2.0",
          "state": {
            "_model_module": "@jupyter-widgets/base",
            "_model_module_version": "1.2.0",
            "_model_name": "LayoutModel",
            "_view_count": null,
            "_view_module": "@jupyter-widgets/base",
            "_view_module_version": "1.2.0",
            "_view_name": "LayoutView",
            "align_content": null,
            "align_items": null,
            "align_self": null,
            "border": null,
            "bottom": null,
            "display": null,
            "flex": null,
            "flex_flow": null,
            "grid_area": null,
            "grid_auto_columns": null,
            "grid_auto_flow": null,
            "grid_auto_rows": null,
            "grid_column": null,
            "grid_gap": null,
            "grid_row": null,
            "grid_template_areas": null,
            "grid_template_columns": null,
            "grid_template_rows": null,
            "height": null,
            "justify_content": null,
            "justify_items": null,
            "left": null,
            "margin": null,
            "max_height": null,
            "max_width": null,
            "min_height": null,
            "min_width": null,
            "object_fit": null,
            "object_position": null,
            "order": null,
            "overflow": null,
            "overflow_x": null,
            "overflow_y": null,
            "padding": null,
            "right": null,
            "top": null,
            "visibility": null,
            "width": null
          }
        },
        "75d84c4a99504b7cab2d8bf695ac2693": {
          "model_module": "@jupyter-widgets/base",
          "model_name": "LayoutModel",
          "model_module_version": "1.2.0",
          "state": {
            "_model_module": "@jupyter-widgets/base",
            "_model_module_version": "1.2.0",
            "_model_name": "LayoutModel",
            "_view_count": null,
            "_view_module": "@jupyter-widgets/base",
            "_view_module_version": "1.2.0",
            "_view_name": "LayoutView",
            "align_content": null,
            "align_items": null,
            "align_self": null,
            "border": null,
            "bottom": null,
            "display": null,
            "flex": null,
            "flex_flow": null,
            "grid_area": null,
            "grid_auto_columns": null,
            "grid_auto_flow": null,
            "grid_auto_rows": null,
            "grid_column": null,
            "grid_gap": null,
            "grid_row": null,
            "grid_template_areas": null,
            "grid_template_columns": null,
            "grid_template_rows": null,
            "height": null,
            "justify_content": null,
            "justify_items": null,
            "left": null,
            "margin": null,
            "max_height": null,
            "max_width": null,
            "min_height": null,
            "min_width": null,
            "object_fit": null,
            "object_position": null,
            "order": null,
            "overflow": null,
            "overflow_x": null,
            "overflow_y": null,
            "padding": null,
            "right": null,
            "top": null,
            "visibility": null,
            "width": null
          }
        },
        "5914283769ac4fb1b0ad5e34554ceb6b": {
          "model_module": "@jupyter-widgets/controls",
          "model_name": "DescriptionStyleModel",
          "model_module_version": "1.5.0",
          "state": {
            "_model_module": "@jupyter-widgets/controls",
            "_model_module_version": "1.5.0",
            "_model_name": "DescriptionStyleModel",
            "_view_count": null,
            "_view_module": "@jupyter-widgets/base",
            "_view_module_version": "1.2.0",
            "_view_name": "StyleView",
            "description_width": ""
          }
        },
        "32067abc3b0342c3becdae39428a9ae5": {
          "model_module": "@jupyter-widgets/base",
          "model_name": "LayoutModel",
          "model_module_version": "1.2.0",
          "state": {
            "_model_module": "@jupyter-widgets/base",
            "_model_module_version": "1.2.0",
            "_model_name": "LayoutModel",
            "_view_count": null,
            "_view_module": "@jupyter-widgets/base",
            "_view_module_version": "1.2.0",
            "_view_name": "LayoutView",
            "align_content": null,
            "align_items": null,
            "align_self": null,
            "border": null,
            "bottom": null,
            "display": null,
            "flex": null,
            "flex_flow": null,
            "grid_area": null,
            "grid_auto_columns": null,
            "grid_auto_flow": null,
            "grid_auto_rows": null,
            "grid_column": null,
            "grid_gap": null,
            "grid_row": null,
            "grid_template_areas": null,
            "grid_template_columns": null,
            "grid_template_rows": null,
            "height": null,
            "justify_content": null,
            "justify_items": null,
            "left": null,
            "margin": null,
            "max_height": null,
            "max_width": null,
            "min_height": null,
            "min_width": null,
            "object_fit": null,
            "object_position": null,
            "order": null,
            "overflow": null,
            "overflow_x": null,
            "overflow_y": null,
            "padding": null,
            "right": null,
            "top": null,
            "visibility": null,
            "width": null
          }
        },
        "f37a7c667ea94020a9089721d0dfcc67": {
          "model_module": "@jupyter-widgets/controls",
          "model_name": "ProgressStyleModel",
          "model_module_version": "1.5.0",
          "state": {
            "_model_module": "@jupyter-widgets/controls",
            "_model_module_version": "1.5.0",
            "_model_name": "ProgressStyleModel",
            "_view_count": null,
            "_view_module": "@jupyter-widgets/base",
            "_view_module_version": "1.2.0",
            "_view_name": "StyleView",
            "bar_color": null,
            "description_width": ""
          }
        },
        "2932648d0f594a9ebed920b163556c6d": {
          "model_module": "@jupyter-widgets/base",
          "model_name": "LayoutModel",
          "model_module_version": "1.2.0",
          "state": {
            "_model_module": "@jupyter-widgets/base",
            "_model_module_version": "1.2.0",
            "_model_name": "LayoutModel",
            "_view_count": null,
            "_view_module": "@jupyter-widgets/base",
            "_view_module_version": "1.2.0",
            "_view_name": "LayoutView",
            "align_content": null,
            "align_items": null,
            "align_self": null,
            "border": null,
            "bottom": null,
            "display": null,
            "flex": null,
            "flex_flow": null,
            "grid_area": null,
            "grid_auto_columns": null,
            "grid_auto_flow": null,
            "grid_auto_rows": null,
            "grid_column": null,
            "grid_gap": null,
            "grid_row": null,
            "grid_template_areas": null,
            "grid_template_columns": null,
            "grid_template_rows": null,
            "height": null,
            "justify_content": null,
            "justify_items": null,
            "left": null,
            "margin": null,
            "max_height": null,
            "max_width": null,
            "min_height": null,
            "min_width": null,
            "object_fit": null,
            "object_position": null,
            "order": null,
            "overflow": null,
            "overflow_x": null,
            "overflow_y": null,
            "padding": null,
            "right": null,
            "top": null,
            "visibility": null,
            "width": null
          }
        },
        "9b5b016b93ea4d779a02cb02e588285c": {
          "model_module": "@jupyter-widgets/controls",
          "model_name": "DescriptionStyleModel",
          "model_module_version": "1.5.0",
          "state": {
            "_model_module": "@jupyter-widgets/controls",
            "_model_module_version": "1.5.0",
            "_model_name": "DescriptionStyleModel",
            "_view_count": null,
            "_view_module": "@jupyter-widgets/base",
            "_view_module_version": "1.2.0",
            "_view_name": "StyleView",
            "description_width": ""
          }
        },
        "983a6dd6cfae479484697a73895b66bd": {
          "model_module": "@jupyter-widgets/controls",
          "model_name": "HBoxModel",
          "model_module_version": "1.5.0",
          "state": {
            "_dom_classes": [],
            "_model_module": "@jupyter-widgets/controls",
            "_model_module_version": "1.5.0",
            "_model_name": "HBoxModel",
            "_view_count": null,
            "_view_module": "@jupyter-widgets/controls",
            "_view_module_version": "1.5.0",
            "_view_name": "HBoxView",
            "box_style": "",
            "children": [
              "IPY_MODEL_40d1309e4eb740e8a1559e0b69a86ae6",
              "IPY_MODEL_f02fbe53d2b5438baf1eb7e3a17b7e5b",
              "IPY_MODEL_719c7e6f1d704d7badd23376d3482e93"
            ],
            "layout": "IPY_MODEL_0df20c9831dd44f3a18392c2c51df6c6"
          }
        },
        "40d1309e4eb740e8a1559e0b69a86ae6": {
          "model_module": "@jupyter-widgets/controls",
          "model_name": "HTMLModel",
          "model_module_version": "1.5.0",
          "state": {
            "_dom_classes": [],
            "_model_module": "@jupyter-widgets/controls",
            "_model_module_version": "1.5.0",
            "_model_name": "HTMLModel",
            "_view_count": null,
            "_view_module": "@jupyter-widgets/controls",
            "_view_module_version": "1.5.0",
            "_view_name": "HTMLView",
            "description": "",
            "description_tooltip": null,
            "layout": "IPY_MODEL_cfa6a52db3dc4b89bdc6bbee11bc9db1",
            "placeholder": "​",
            "style": "IPY_MODEL_3e721dde1fed4fb183cf7e83a9239646",
            "value": "Downloading: 100%"
          }
        },
        "f02fbe53d2b5438baf1eb7e3a17b7e5b": {
          "model_module": "@jupyter-widgets/controls",
          "model_name": "FloatProgressModel",
          "model_module_version": "1.5.0",
          "state": {
            "_dom_classes": [],
            "_model_module": "@jupyter-widgets/controls",
            "_model_module_version": "1.5.0",
            "_model_name": "FloatProgressModel",
            "_view_count": null,
            "_view_module": "@jupyter-widgets/controls",
            "_view_module_version": "1.5.0",
            "_view_name": "ProgressView",
            "bar_style": "success",
            "description": "",
            "description_tooltip": null,
            "layout": "IPY_MODEL_7ea71bd293784983a46de187a6237bd1",
            "max": 26,
            "min": 0,
            "orientation": "horizontal",
            "style": "IPY_MODEL_57cb13950bfb4cb59efb826d2ee802cc",
            "value": 26
          }
        },
        "719c7e6f1d704d7badd23376d3482e93": {
          "model_module": "@jupyter-widgets/controls",
          "model_name": "HTMLModel",
          "model_module_version": "1.5.0",
          "state": {
            "_dom_classes": [],
            "_model_module": "@jupyter-widgets/controls",
            "_model_module_version": "1.5.0",
            "_model_name": "HTMLModel",
            "_view_count": null,
            "_view_module": "@jupyter-widgets/controls",
            "_view_module_version": "1.5.0",
            "_view_name": "HTMLView",
            "description": "",
            "description_tooltip": null,
            "layout": "IPY_MODEL_a7b98ddc4f40424d9220ef0d63f46694",
            "placeholder": "​",
            "style": "IPY_MODEL_fa34d369d1984ce99ad4501b93775360",
            "value": " 26.0/26.0 [00:00&lt;00:00, 469B/s]"
          }
        },
        "0df20c9831dd44f3a18392c2c51df6c6": {
          "model_module": "@jupyter-widgets/base",
          "model_name": "LayoutModel",
          "model_module_version": "1.2.0",
          "state": {
            "_model_module": "@jupyter-widgets/base",
            "_model_module_version": "1.2.0",
            "_model_name": "LayoutModel",
            "_view_count": null,
            "_view_module": "@jupyter-widgets/base",
            "_view_module_version": "1.2.0",
            "_view_name": "LayoutView",
            "align_content": null,
            "align_items": null,
            "align_self": null,
            "border": null,
            "bottom": null,
            "display": null,
            "flex": null,
            "flex_flow": null,
            "grid_area": null,
            "grid_auto_columns": null,
            "grid_auto_flow": null,
            "grid_auto_rows": null,
            "grid_column": null,
            "grid_gap": null,
            "grid_row": null,
            "grid_template_areas": null,
            "grid_template_columns": null,
            "grid_template_rows": null,
            "height": null,
            "justify_content": null,
            "justify_items": null,
            "left": null,
            "margin": null,
            "max_height": null,
            "max_width": null,
            "min_height": null,
            "min_width": null,
            "object_fit": null,
            "object_position": null,
            "order": null,
            "overflow": null,
            "overflow_x": null,
            "overflow_y": null,
            "padding": null,
            "right": null,
            "top": null,
            "visibility": null,
            "width": null
          }
        },
        "cfa6a52db3dc4b89bdc6bbee11bc9db1": {
          "model_module": "@jupyter-widgets/base",
          "model_name": "LayoutModel",
          "model_module_version": "1.2.0",
          "state": {
            "_model_module": "@jupyter-widgets/base",
            "_model_module_version": "1.2.0",
            "_model_name": "LayoutModel",
            "_view_count": null,
            "_view_module": "@jupyter-widgets/base",
            "_view_module_version": "1.2.0",
            "_view_name": "LayoutView",
            "align_content": null,
            "align_items": null,
            "align_self": null,
            "border": null,
            "bottom": null,
            "display": null,
            "flex": null,
            "flex_flow": null,
            "grid_area": null,
            "grid_auto_columns": null,
            "grid_auto_flow": null,
            "grid_auto_rows": null,
            "grid_column": null,
            "grid_gap": null,
            "grid_row": null,
            "grid_template_areas": null,
            "grid_template_columns": null,
            "grid_template_rows": null,
            "height": null,
            "justify_content": null,
            "justify_items": null,
            "left": null,
            "margin": null,
            "max_height": null,
            "max_width": null,
            "min_height": null,
            "min_width": null,
            "object_fit": null,
            "object_position": null,
            "order": null,
            "overflow": null,
            "overflow_x": null,
            "overflow_y": null,
            "padding": null,
            "right": null,
            "top": null,
            "visibility": null,
            "width": null
          }
        },
        "3e721dde1fed4fb183cf7e83a9239646": {
          "model_module": "@jupyter-widgets/controls",
          "model_name": "DescriptionStyleModel",
          "model_module_version": "1.5.0",
          "state": {
            "_model_module": "@jupyter-widgets/controls",
            "_model_module_version": "1.5.0",
            "_model_name": "DescriptionStyleModel",
            "_view_count": null,
            "_view_module": "@jupyter-widgets/base",
            "_view_module_version": "1.2.0",
            "_view_name": "StyleView",
            "description_width": ""
          }
        },
        "7ea71bd293784983a46de187a6237bd1": {
          "model_module": "@jupyter-widgets/base",
          "model_name": "LayoutModel",
          "model_module_version": "1.2.0",
          "state": {
            "_model_module": "@jupyter-widgets/base",
            "_model_module_version": "1.2.0",
            "_model_name": "LayoutModel",
            "_view_count": null,
            "_view_module": "@jupyter-widgets/base",
            "_view_module_version": "1.2.0",
            "_view_name": "LayoutView",
            "align_content": null,
            "align_items": null,
            "align_self": null,
            "border": null,
            "bottom": null,
            "display": null,
            "flex": null,
            "flex_flow": null,
            "grid_area": null,
            "grid_auto_columns": null,
            "grid_auto_flow": null,
            "grid_auto_rows": null,
            "grid_column": null,
            "grid_gap": null,
            "grid_row": null,
            "grid_template_areas": null,
            "grid_template_columns": null,
            "grid_template_rows": null,
            "height": null,
            "justify_content": null,
            "justify_items": null,
            "left": null,
            "margin": null,
            "max_height": null,
            "max_width": null,
            "min_height": null,
            "min_width": null,
            "object_fit": null,
            "object_position": null,
            "order": null,
            "overflow": null,
            "overflow_x": null,
            "overflow_y": null,
            "padding": null,
            "right": null,
            "top": null,
            "visibility": null,
            "width": null
          }
        },
        "57cb13950bfb4cb59efb826d2ee802cc": {
          "model_module": "@jupyter-widgets/controls",
          "model_name": "ProgressStyleModel",
          "model_module_version": "1.5.0",
          "state": {
            "_model_module": "@jupyter-widgets/controls",
            "_model_module_version": "1.5.0",
            "_model_name": "ProgressStyleModel",
            "_view_count": null,
            "_view_module": "@jupyter-widgets/base",
            "_view_module_version": "1.2.0",
            "_view_name": "StyleView",
            "bar_color": null,
            "description_width": ""
          }
        },
        "a7b98ddc4f40424d9220ef0d63f46694": {
          "model_module": "@jupyter-widgets/base",
          "model_name": "LayoutModel",
          "model_module_version": "1.2.0",
          "state": {
            "_model_module": "@jupyter-widgets/base",
            "_model_module_version": "1.2.0",
            "_model_name": "LayoutModel",
            "_view_count": null,
            "_view_module": "@jupyter-widgets/base",
            "_view_module_version": "1.2.0",
            "_view_name": "LayoutView",
            "align_content": null,
            "align_items": null,
            "align_self": null,
            "border": null,
            "bottom": null,
            "display": null,
            "flex": null,
            "flex_flow": null,
            "grid_area": null,
            "grid_auto_columns": null,
            "grid_auto_flow": null,
            "grid_auto_rows": null,
            "grid_column": null,
            "grid_gap": null,
            "grid_row": null,
            "grid_template_areas": null,
            "grid_template_columns": null,
            "grid_template_rows": null,
            "height": null,
            "justify_content": null,
            "justify_items": null,
            "left": null,
            "margin": null,
            "max_height": null,
            "max_width": null,
            "min_height": null,
            "min_width": null,
            "object_fit": null,
            "object_position": null,
            "order": null,
            "overflow": null,
            "overflow_x": null,
            "overflow_y": null,
            "padding": null,
            "right": null,
            "top": null,
            "visibility": null,
            "width": null
          }
        },
        "fa34d369d1984ce99ad4501b93775360": {
          "model_module": "@jupyter-widgets/controls",
          "model_name": "DescriptionStyleModel",
          "model_module_version": "1.5.0",
          "state": {
            "_model_module": "@jupyter-widgets/controls",
            "_model_module_version": "1.5.0",
            "_model_name": "DescriptionStyleModel",
            "_view_count": null,
            "_view_module": "@jupyter-widgets/base",
            "_view_module_version": "1.2.0",
            "_view_name": "StyleView",
            "description_width": ""
          }
        },
        "4a5f12339e254cad9b43d28d78126ca6": {
          "model_module": "@jupyter-widgets/controls",
          "model_name": "HBoxModel",
          "model_module_version": "1.5.0",
          "state": {
            "_dom_classes": [],
            "_model_module": "@jupyter-widgets/controls",
            "_model_module_version": "1.5.0",
            "_model_name": "HBoxModel",
            "_view_count": null,
            "_view_module": "@jupyter-widgets/controls",
            "_view_module_version": "1.5.0",
            "_view_name": "HBoxView",
            "box_style": "",
            "children": [
              "IPY_MODEL_3745d08a827945aabdb97ef3485b20a0",
              "IPY_MODEL_f933014541524af3a36bfeb0b1869213",
              "IPY_MODEL_e61f4b1edf6b45269b219cbd84e88fd3"
            ],
            "layout": "IPY_MODEL_59f9e6e3b0ec42efad71737d3ffcd4a5"
          }
        },
        "3745d08a827945aabdb97ef3485b20a0": {
          "model_module": "@jupyter-widgets/controls",
          "model_name": "HTMLModel",
          "model_module_version": "1.5.0",
          "state": {
            "_dom_classes": [],
            "_model_module": "@jupyter-widgets/controls",
            "_model_module_version": "1.5.0",
            "_model_name": "HTMLModel",
            "_view_count": null,
            "_view_module": "@jupyter-widgets/controls",
            "_view_module_version": "1.5.0",
            "_view_name": "HTMLView",
            "description": "",
            "description_tooltip": null,
            "layout": "IPY_MODEL_22984b07897a46679f8d53324ab16164",
            "placeholder": "​",
            "style": "IPY_MODEL_dea8110ccf5b4bf28247a27f52b96408",
            "value": "Downloading: 100%"
          }
        },
        "f933014541524af3a36bfeb0b1869213": {
          "model_module": "@jupyter-widgets/controls",
          "model_name": "FloatProgressModel",
          "model_module_version": "1.5.0",
          "state": {
            "_dom_classes": [],
            "_model_module": "@jupyter-widgets/controls",
            "_model_module_version": "1.5.0",
            "_model_name": "FloatProgressModel",
            "_view_count": null,
            "_view_module": "@jupyter-widgets/controls",
            "_view_module_version": "1.5.0",
            "_view_name": "ProgressView",
            "bar_style": "success",
            "description": "",
            "description_tooltip": null,
            "layout": "IPY_MODEL_b988b0a7e7044f87b7a4d4bb8f40077e",
            "max": 898822,
            "min": 0,
            "orientation": "horizontal",
            "style": "IPY_MODEL_e4d2b6ffff6e41209aa1c872d6903a20",
            "value": 898822
          }
        },
        "e61f4b1edf6b45269b219cbd84e88fd3": {
          "model_module": "@jupyter-widgets/controls",
          "model_name": "HTMLModel",
          "model_module_version": "1.5.0",
          "state": {
            "_dom_classes": [],
            "_model_module": "@jupyter-widgets/controls",
            "_model_module_version": "1.5.0",
            "_model_name": "HTMLModel",
            "_view_count": null,
            "_view_module": "@jupyter-widgets/controls",
            "_view_module_version": "1.5.0",
            "_view_name": "HTMLView",
            "description": "",
            "description_tooltip": null,
            "layout": "IPY_MODEL_e89208a7293c421497d84ef5464a3703",
            "placeholder": "​",
            "style": "IPY_MODEL_83bbb3c030a447c0a079417bf406e774",
            "value": " 878k/878k [00:00&lt;00:00, 986kB/s]"
          }
        },
        "59f9e6e3b0ec42efad71737d3ffcd4a5": {
          "model_module": "@jupyter-widgets/base",
          "model_name": "LayoutModel",
          "model_module_version": "1.2.0",
          "state": {
            "_model_module": "@jupyter-widgets/base",
            "_model_module_version": "1.2.0",
            "_model_name": "LayoutModel",
            "_view_count": null,
            "_view_module": "@jupyter-widgets/base",
            "_view_module_version": "1.2.0",
            "_view_name": "LayoutView",
            "align_content": null,
            "align_items": null,
            "align_self": null,
            "border": null,
            "bottom": null,
            "display": null,
            "flex": null,
            "flex_flow": null,
            "grid_area": null,
            "grid_auto_columns": null,
            "grid_auto_flow": null,
            "grid_auto_rows": null,
            "grid_column": null,
            "grid_gap": null,
            "grid_row": null,
            "grid_template_areas": null,
            "grid_template_columns": null,
            "grid_template_rows": null,
            "height": null,
            "justify_content": null,
            "justify_items": null,
            "left": null,
            "margin": null,
            "max_height": null,
            "max_width": null,
            "min_height": null,
            "min_width": null,
            "object_fit": null,
            "object_position": null,
            "order": null,
            "overflow": null,
            "overflow_x": null,
            "overflow_y": null,
            "padding": null,
            "right": null,
            "top": null,
            "visibility": null,
            "width": null
          }
        },
        "22984b07897a46679f8d53324ab16164": {
          "model_module": "@jupyter-widgets/base",
          "model_name": "LayoutModel",
          "model_module_version": "1.2.0",
          "state": {
            "_model_module": "@jupyter-widgets/base",
            "_model_module_version": "1.2.0",
            "_model_name": "LayoutModel",
            "_view_count": null,
            "_view_module": "@jupyter-widgets/base",
            "_view_module_version": "1.2.0",
            "_view_name": "LayoutView",
            "align_content": null,
            "align_items": null,
            "align_self": null,
            "border": null,
            "bottom": null,
            "display": null,
            "flex": null,
            "flex_flow": null,
            "grid_area": null,
            "grid_auto_columns": null,
            "grid_auto_flow": null,
            "grid_auto_rows": null,
            "grid_column": null,
            "grid_gap": null,
            "grid_row": null,
            "grid_template_areas": null,
            "grid_template_columns": null,
            "grid_template_rows": null,
            "height": null,
            "justify_content": null,
            "justify_items": null,
            "left": null,
            "margin": null,
            "max_height": null,
            "max_width": null,
            "min_height": null,
            "min_width": null,
            "object_fit": null,
            "object_position": null,
            "order": null,
            "overflow": null,
            "overflow_x": null,
            "overflow_y": null,
            "padding": null,
            "right": null,
            "top": null,
            "visibility": null,
            "width": null
          }
        },
        "dea8110ccf5b4bf28247a27f52b96408": {
          "model_module": "@jupyter-widgets/controls",
          "model_name": "DescriptionStyleModel",
          "model_module_version": "1.5.0",
          "state": {
            "_model_module": "@jupyter-widgets/controls",
            "_model_module_version": "1.5.0",
            "_model_name": "DescriptionStyleModel",
            "_view_count": null,
            "_view_module": "@jupyter-widgets/base",
            "_view_module_version": "1.2.0",
            "_view_name": "StyleView",
            "description_width": ""
          }
        },
        "b988b0a7e7044f87b7a4d4bb8f40077e": {
          "model_module": "@jupyter-widgets/base",
          "model_name": "LayoutModel",
          "model_module_version": "1.2.0",
          "state": {
            "_model_module": "@jupyter-widgets/base",
            "_model_module_version": "1.2.0",
            "_model_name": "LayoutModel",
            "_view_count": null,
            "_view_module": "@jupyter-widgets/base",
            "_view_module_version": "1.2.0",
            "_view_name": "LayoutView",
            "align_content": null,
            "align_items": null,
            "align_self": null,
            "border": null,
            "bottom": null,
            "display": null,
            "flex": null,
            "flex_flow": null,
            "grid_area": null,
            "grid_auto_columns": null,
            "grid_auto_flow": null,
            "grid_auto_rows": null,
            "grid_column": null,
            "grid_gap": null,
            "grid_row": null,
            "grid_template_areas": null,
            "grid_template_columns": null,
            "grid_template_rows": null,
            "height": null,
            "justify_content": null,
            "justify_items": null,
            "left": null,
            "margin": null,
            "max_height": null,
            "max_width": null,
            "min_height": null,
            "min_width": null,
            "object_fit": null,
            "object_position": null,
            "order": null,
            "overflow": null,
            "overflow_x": null,
            "overflow_y": null,
            "padding": null,
            "right": null,
            "top": null,
            "visibility": null,
            "width": null
          }
        },
        "e4d2b6ffff6e41209aa1c872d6903a20": {
          "model_module": "@jupyter-widgets/controls",
          "model_name": "ProgressStyleModel",
          "model_module_version": "1.5.0",
          "state": {
            "_model_module": "@jupyter-widgets/controls",
            "_model_module_version": "1.5.0",
            "_model_name": "ProgressStyleModel",
            "_view_count": null,
            "_view_module": "@jupyter-widgets/base",
            "_view_module_version": "1.2.0",
            "_view_name": "StyleView",
            "bar_color": null,
            "description_width": ""
          }
        },
        "e89208a7293c421497d84ef5464a3703": {
          "model_module": "@jupyter-widgets/base",
          "model_name": "LayoutModel",
          "model_module_version": "1.2.0",
          "state": {
            "_model_module": "@jupyter-widgets/base",
            "_model_module_version": "1.2.0",
            "_model_name": "LayoutModel",
            "_view_count": null,
            "_view_module": "@jupyter-widgets/base",
            "_view_module_version": "1.2.0",
            "_view_name": "LayoutView",
            "align_content": null,
            "align_items": null,
            "align_self": null,
            "border": null,
            "bottom": null,
            "display": null,
            "flex": null,
            "flex_flow": null,
            "grid_area": null,
            "grid_auto_columns": null,
            "grid_auto_flow": null,
            "grid_auto_rows": null,
            "grid_column": null,
            "grid_gap": null,
            "grid_row": null,
            "grid_template_areas": null,
            "grid_template_columns": null,
            "grid_template_rows": null,
            "height": null,
            "justify_content": null,
            "justify_items": null,
            "left": null,
            "margin": null,
            "max_height": null,
            "max_width": null,
            "min_height": null,
            "min_width": null,
            "object_fit": null,
            "object_position": null,
            "order": null,
            "overflow": null,
            "overflow_x": null,
            "overflow_y": null,
            "padding": null,
            "right": null,
            "top": null,
            "visibility": null,
            "width": null
          }
        },
        "83bbb3c030a447c0a079417bf406e774": {
          "model_module": "@jupyter-widgets/controls",
          "model_name": "DescriptionStyleModel",
          "model_module_version": "1.5.0",
          "state": {
            "_model_module": "@jupyter-widgets/controls",
            "_model_module_version": "1.5.0",
            "_model_name": "DescriptionStyleModel",
            "_view_count": null,
            "_view_module": "@jupyter-widgets/base",
            "_view_module_version": "1.2.0",
            "_view_name": "StyleView",
            "description_width": ""
          }
        },
        "13d60a24017f4f5888a68f325b177cfc": {
          "model_module": "@jupyter-widgets/controls",
          "model_name": "HBoxModel",
          "model_module_version": "1.5.0",
          "state": {
            "_dom_classes": [],
            "_model_module": "@jupyter-widgets/controls",
            "_model_module_version": "1.5.0",
            "_model_name": "HBoxModel",
            "_view_count": null,
            "_view_module": "@jupyter-widgets/controls",
            "_view_module_version": "1.5.0",
            "_view_name": "HBoxView",
            "box_style": "",
            "children": [
              "IPY_MODEL_9fa19a02b4674b5d8f28077dbc015ae9",
              "IPY_MODEL_da7b00f6f9f84dad9bc7382386bef8ab",
              "IPY_MODEL_8c099bfe46be4a4c8e0de5e379d42a50"
            ],
            "layout": "IPY_MODEL_b5db042b1d874b9e8b4a1a1fa25b4c76"
          }
        },
        "9fa19a02b4674b5d8f28077dbc015ae9": {
          "model_module": "@jupyter-widgets/controls",
          "model_name": "HTMLModel",
          "model_module_version": "1.5.0",
          "state": {
            "_dom_classes": [],
            "_model_module": "@jupyter-widgets/controls",
            "_model_module_version": "1.5.0",
            "_model_name": "HTMLModel",
            "_view_count": null,
            "_view_module": "@jupyter-widgets/controls",
            "_view_module_version": "1.5.0",
            "_view_name": "HTMLView",
            "description": "",
            "description_tooltip": null,
            "layout": "IPY_MODEL_b43c4d750a2c486ea25060f8f33dc5ec",
            "placeholder": "​",
            "style": "IPY_MODEL_b0d161fbc6964788817dd5593395818d",
            "value": "Downloading: 100%"
          }
        },
        "da7b00f6f9f84dad9bc7382386bef8ab": {
          "model_module": "@jupyter-widgets/controls",
          "model_name": "FloatProgressModel",
          "model_module_version": "1.5.0",
          "state": {
            "_dom_classes": [],
            "_model_module": "@jupyter-widgets/controls",
            "_model_module_version": "1.5.0",
            "_model_name": "FloatProgressModel",
            "_view_count": null,
            "_view_module": "@jupyter-widgets/controls",
            "_view_module_version": "1.5.0",
            "_view_name": "ProgressView",
            "bar_style": "success",
            "description": "",
            "description_tooltip": null,
            "layout": "IPY_MODEL_bf9a8e413f414ac892d0836a544301ec",
            "max": 456318,
            "min": 0,
            "orientation": "horizontal",
            "style": "IPY_MODEL_95c55d4ee0954d17b84cae7240ecbea9",
            "value": 456318
          }
        },
        "8c099bfe46be4a4c8e0de5e379d42a50": {
          "model_module": "@jupyter-widgets/controls",
          "model_name": "HTMLModel",
          "model_module_version": "1.5.0",
          "state": {
            "_dom_classes": [],
            "_model_module": "@jupyter-widgets/controls",
            "_model_module_version": "1.5.0",
            "_model_name": "HTMLModel",
            "_view_count": null,
            "_view_module": "@jupyter-widgets/controls",
            "_view_module_version": "1.5.0",
            "_view_name": "HTMLView",
            "description": "",
            "description_tooltip": null,
            "layout": "IPY_MODEL_7f9ab8193c73477eaf92eeb8393c8ea6",
            "placeholder": "​",
            "style": "IPY_MODEL_550b6647d84c493a98ed95cc0b547099",
            "value": " 446k/446k [00:00&lt;00:00, 742kB/s]"
          }
        },
        "b5db042b1d874b9e8b4a1a1fa25b4c76": {
          "model_module": "@jupyter-widgets/base",
          "model_name": "LayoutModel",
          "model_module_version": "1.2.0",
          "state": {
            "_model_module": "@jupyter-widgets/base",
            "_model_module_version": "1.2.0",
            "_model_name": "LayoutModel",
            "_view_count": null,
            "_view_module": "@jupyter-widgets/base",
            "_view_module_version": "1.2.0",
            "_view_name": "LayoutView",
            "align_content": null,
            "align_items": null,
            "align_self": null,
            "border": null,
            "bottom": null,
            "display": null,
            "flex": null,
            "flex_flow": null,
            "grid_area": null,
            "grid_auto_columns": null,
            "grid_auto_flow": null,
            "grid_auto_rows": null,
            "grid_column": null,
            "grid_gap": null,
            "grid_row": null,
            "grid_template_areas": null,
            "grid_template_columns": null,
            "grid_template_rows": null,
            "height": null,
            "justify_content": null,
            "justify_items": null,
            "left": null,
            "margin": null,
            "max_height": null,
            "max_width": null,
            "min_height": null,
            "min_width": null,
            "object_fit": null,
            "object_position": null,
            "order": null,
            "overflow": null,
            "overflow_x": null,
            "overflow_y": null,
            "padding": null,
            "right": null,
            "top": null,
            "visibility": null,
            "width": null
          }
        },
        "b43c4d750a2c486ea25060f8f33dc5ec": {
          "model_module": "@jupyter-widgets/base",
          "model_name": "LayoutModel",
          "model_module_version": "1.2.0",
          "state": {
            "_model_module": "@jupyter-widgets/base",
            "_model_module_version": "1.2.0",
            "_model_name": "LayoutModel",
            "_view_count": null,
            "_view_module": "@jupyter-widgets/base",
            "_view_module_version": "1.2.0",
            "_view_name": "LayoutView",
            "align_content": null,
            "align_items": null,
            "align_self": null,
            "border": null,
            "bottom": null,
            "display": null,
            "flex": null,
            "flex_flow": null,
            "grid_area": null,
            "grid_auto_columns": null,
            "grid_auto_flow": null,
            "grid_auto_rows": null,
            "grid_column": null,
            "grid_gap": null,
            "grid_row": null,
            "grid_template_areas": null,
            "grid_template_columns": null,
            "grid_template_rows": null,
            "height": null,
            "justify_content": null,
            "justify_items": null,
            "left": null,
            "margin": null,
            "max_height": null,
            "max_width": null,
            "min_height": null,
            "min_width": null,
            "object_fit": null,
            "object_position": null,
            "order": null,
            "overflow": null,
            "overflow_x": null,
            "overflow_y": null,
            "padding": null,
            "right": null,
            "top": null,
            "visibility": null,
            "width": null
          }
        },
        "b0d161fbc6964788817dd5593395818d": {
          "model_module": "@jupyter-widgets/controls",
          "model_name": "DescriptionStyleModel",
          "model_module_version": "1.5.0",
          "state": {
            "_model_module": "@jupyter-widgets/controls",
            "_model_module_version": "1.5.0",
            "_model_name": "DescriptionStyleModel",
            "_view_count": null,
            "_view_module": "@jupyter-widgets/base",
            "_view_module_version": "1.2.0",
            "_view_name": "StyleView",
            "description_width": ""
          }
        },
        "bf9a8e413f414ac892d0836a544301ec": {
          "model_module": "@jupyter-widgets/base",
          "model_name": "LayoutModel",
          "model_module_version": "1.2.0",
          "state": {
            "_model_module": "@jupyter-widgets/base",
            "_model_module_version": "1.2.0",
            "_model_name": "LayoutModel",
            "_view_count": null,
            "_view_module": "@jupyter-widgets/base",
            "_view_module_version": "1.2.0",
            "_view_name": "LayoutView",
            "align_content": null,
            "align_items": null,
            "align_self": null,
            "border": null,
            "bottom": null,
            "display": null,
            "flex": null,
            "flex_flow": null,
            "grid_area": null,
            "grid_auto_columns": null,
            "grid_auto_flow": null,
            "grid_auto_rows": null,
            "grid_column": null,
            "grid_gap": null,
            "grid_row": null,
            "grid_template_areas": null,
            "grid_template_columns": null,
            "grid_template_rows": null,
            "height": null,
            "justify_content": null,
            "justify_items": null,
            "left": null,
            "margin": null,
            "max_height": null,
            "max_width": null,
            "min_height": null,
            "min_width": null,
            "object_fit": null,
            "object_position": null,
            "order": null,
            "overflow": null,
            "overflow_x": null,
            "overflow_y": null,
            "padding": null,
            "right": null,
            "top": null,
            "visibility": null,
            "width": null
          }
        },
        "95c55d4ee0954d17b84cae7240ecbea9": {
          "model_module": "@jupyter-widgets/controls",
          "model_name": "ProgressStyleModel",
          "model_module_version": "1.5.0",
          "state": {
            "_model_module": "@jupyter-widgets/controls",
            "_model_module_version": "1.5.0",
            "_model_name": "ProgressStyleModel",
            "_view_count": null,
            "_view_module": "@jupyter-widgets/base",
            "_view_module_version": "1.2.0",
            "_view_name": "StyleView",
            "bar_color": null,
            "description_width": ""
          }
        },
        "7f9ab8193c73477eaf92eeb8393c8ea6": {
          "model_module": "@jupyter-widgets/base",
          "model_name": "LayoutModel",
          "model_module_version": "1.2.0",
          "state": {
            "_model_module": "@jupyter-widgets/base",
            "_model_module_version": "1.2.0",
            "_model_name": "LayoutModel",
            "_view_count": null,
            "_view_module": "@jupyter-widgets/base",
            "_view_module_version": "1.2.0",
            "_view_name": "LayoutView",
            "align_content": null,
            "align_items": null,
            "align_self": null,
            "border": null,
            "bottom": null,
            "display": null,
            "flex": null,
            "flex_flow": null,
            "grid_area": null,
            "grid_auto_columns": null,
            "grid_auto_flow": null,
            "grid_auto_rows": null,
            "grid_column": null,
            "grid_gap": null,
            "grid_row": null,
            "grid_template_areas": null,
            "grid_template_columns": null,
            "grid_template_rows": null,
            "height": null,
            "justify_content": null,
            "justify_items": null,
            "left": null,
            "margin": null,
            "max_height": null,
            "max_width": null,
            "min_height": null,
            "min_width": null,
            "object_fit": null,
            "object_position": null,
            "order": null,
            "overflow": null,
            "overflow_x": null,
            "overflow_y": null,
            "padding": null,
            "right": null,
            "top": null,
            "visibility": null,
            "width": null
          }
        },
        "550b6647d84c493a98ed95cc0b547099": {
          "model_module": "@jupyter-widgets/controls",
          "model_name": "DescriptionStyleModel",
          "model_module_version": "1.5.0",
          "state": {
            "_model_module": "@jupyter-widgets/controls",
            "_model_module_version": "1.5.0",
            "_model_name": "DescriptionStyleModel",
            "_view_count": null,
            "_view_module": "@jupyter-widgets/base",
            "_view_module_version": "1.2.0",
            "_view_name": "StyleView",
            "description_width": ""
          }
        }
      }
    }
  },
  "cells": [
    {
      "cell_type": "markdown",
      "metadata": {
        "id": "view-in-github",
        "colab_type": "text"
      },
      "source": [
        "<a href=\"https://colab.research.google.com/github/sammix95/Sammix/blob/master/Speech_Recognition_and_Summarization_System.ipynb\" target=\"_parent\"><img src=\"https://colab.research.google.com/assets/colab-badge.svg\" alt=\"Open In Colab\"/></a>"
      ]
    },
    {
      "cell_type": "code",
      "execution_count": null,
      "metadata": {
        "colab": {
          "base_uri": "https://localhost:8080/"
        },
        "id": "7Q50VAOPXSQA",
        "outputId": "4fd6fc0e-1361-403b-931a-1e4a05114e4f"
      },
      "outputs": [
        {
          "output_type": "stream",
          "name": "stdout",
          "text": [
            "Looking in indexes: https://pypi.org/simple, https://us-python.pkg.dev/colab-wheels/public/simple/\n",
            "Collecting vosk\n",
            "  Downloading vosk-0.3.42-py3-none-manylinux_2_12_x86_64.manylinux2010_x86_64.whl (7.2 MB)\n",
            "\u001b[K     |████████████████████████████████| 7.2 MB 4.8 MB/s \n",
            "\u001b[?25hRequirement already satisfied: requests in /usr/local/lib/python3.7/dist-packages (from vosk) (2.23.0)\n",
            "Requirement already satisfied: cffi>=1.0 in /usr/local/lib/python3.7/dist-packages (from vosk) (1.15.0)\n",
            "Collecting srt\n",
            "  Downloading srt-3.5.2.tar.gz (24 kB)\n",
            "Requirement already satisfied: tqdm in /usr/local/lib/python3.7/dist-packages (from vosk) (4.64.0)\n",
            "Requirement already satisfied: pycparser in /usr/local/lib/python3.7/dist-packages (from cffi>=1.0->vosk) (2.21)\n",
            "Requirement already satisfied: idna<3,>=2.5 in /usr/local/lib/python3.7/dist-packages (from requests->vosk) (2.10)\n",
            "Requirement already satisfied: chardet<4,>=3.0.2 in /usr/local/lib/python3.7/dist-packages (from requests->vosk) (3.0.4)\n",
            "Requirement already satisfied: urllib3!=1.25.0,!=1.25.1,<1.26,>=1.21.1 in /usr/local/lib/python3.7/dist-packages (from requests->vosk) (1.24.3)\n",
            "Requirement already satisfied: certifi>=2017.4.17 in /usr/local/lib/python3.7/dist-packages (from requests->vosk) (2022.5.18.1)\n",
            "Building wheels for collected packages: srt\n",
            "  Building wheel for srt (setup.py) ... \u001b[?25l\u001b[?25hdone\n",
            "  Created wheel for srt: filename=srt-3.5.2-py3-none-any.whl size=22487 sha256=a17eb092c7255a7c7e31117efcd174fc2b54aaa075e509c1db7787f3eafaf981\n",
            "  Stored in directory: /root/.cache/pip/wheels/54/c4/ec/4604122e072aebb16803c8297b7cd3f4c72073a3ee58738015\n",
            "Successfully built srt\n",
            "Installing collected packages: srt, vosk\n",
            "Successfully installed srt-3.5.2 vosk-0.3.42\n"
          ]
        }
      ],
      "source": [
        "pip install vosk"
      ]
    },
    {
      "cell_type": "code",
      "source": [
        "from vosk import Model, KaldiRecognizer"
      ],
      "metadata": {
        "id": "hgSf-ZQHXk5G"
      },
      "execution_count": null,
      "outputs": []
    },
    {
      "cell_type": "code",
      "source": [
        "FRAME_RATE = 16000\n",
        "CHANNELS = 1\n",
        "\n",
        "model = Model(model_name =\"vosk-model-en-us-0.22\")\n",
        "#This is the model we want to use. there are other models you can use\n",
        "\n",
        "rec = KaldiRecognizer(model, FRAME_RATE)\n",
        "rec.SetWords(True)"
      ],
      "metadata": {
        "id": "YSbq-KlJYHNs"
      },
      "execution_count": null,
      "outputs": []
    },
    {
      "cell_type": "code",
      "source": [
        "pip install pydub"
      ],
      "metadata": {
        "colab": {
          "base_uri": "https://localhost:8080/"
        },
        "id": "TZC6gH0vZWIz",
        "outputId": "9df89d52-2ae5-4615-cd00-a659b669ff52"
      },
      "execution_count": null,
      "outputs": [
        {
          "output_type": "stream",
          "name": "stdout",
          "text": [
            "Looking in indexes: https://pypi.org/simple, https://us-python.pkg.dev/colab-wheels/public/simple/\n",
            "Collecting pydub\n",
            "  Downloading pydub-0.25.1-py2.py3-none-any.whl (32 kB)\n",
            "Installing collected packages: pydub\n",
            "Successfully installed pydub-0.25.1\n"
          ]
        }
      ]
    },
    {
      "cell_type": "code",
      "source": [
        "from pydub import AudioSegment"
      ],
      "metadata": {
        "id": "psJudiw3b_0t"
      },
      "execution_count": null,
      "outputs": []
    },
    {
      "cell_type": "code",
      "source": [
        "mp3 = AudioSegment.from_mp3(\"marketplace_full.mp3\")\n",
        "mp3 = mp3.set_channels(CHANNELS)\n",
        "mp3 = mp3.set_frame_rate(FRAME_RATE)"
      ],
      "metadata": {
        "id": "oPyjMaWWcMhu"
      },
      "execution_count": null,
      "outputs": []
    },
    {
      "cell_type": "code",
      "source": [
        "mp3.raw_data"
      ],
      "metadata": {
        "id": "4UTQvUc8cZq9"
      },
      "execution_count": null,
      "outputs": []
    },
    {
      "cell_type": "code",
      "source": [
        "rec.AcceptWaveform(mp3.raw_data) # accepts the mp3 file and converts it to transcript.\n",
        "result = rec.Result() "
      ],
      "metadata": {
        "id": "YFbPuP-Od2B0"
      },
      "execution_count": null,
      "outputs": []
    },
    {
      "cell_type": "code",
      "source": [
        "result"
      ],
      "metadata": {
        "colab": {
          "base_uri": "https://localhost:8080/",
          "height": 258
        },
        "id": "wO1bkbSVd6C7",
        "outputId": "f1f7ff2f-9f08-4d78-9564-5043dc457fd5"
      },
      "execution_count": null,
      "outputs": [
        {
          "output_type": "execute_result",
          "data": {
            "text/plain": [
              "'{\\n  \"result\" : [{\\n      \"conf\" : 1.000000,\\n      \"end\" : 2.430000,\\n      \"start\" : 2.070000,\\n      \"word\" : \"turns\"\\n    }, {\\n      \"conf\" : 1.000000,\\n      \"end\" : 2.730000,\\n      \"start\" : 2.430000,\\n      \"word\" : \"out\"\\n    }, {\\n      \"conf\" : 1.000000,\\n      \"end\" : 3.150000,\\n      \"start\" : 2.730000,\\n      \"word\" : \"fifty\"\\n    }, {\\n      \"conf\" : 1.000000,\\n      \"end\" : 3.420000,\\n      \"start\" : 3.150000,\\n      \"word\" : \"four\"\\n    }, {\\n      \"conf\" : 1.000000,\\n      \"end\" : 3.870000,\\n      \"start\" : 3.420000,\\n      \"word\" : \"dollars\"\\n    }, {\\n      \"conf\" : 1.000000,\\n      \"end\" : 3.990000,\\n      \"start\" : 3.870000,\\n      \"word\" : \"and\"\\n    }, {\\n      \"conf\" : 1.000000,\\n      \"end\" : 4.440000,\\n      \"start\" : 3.990000,\\n      \"word\" : \"twenty\"\\n    }, {\\n      \"conf\" : 1.000000,\\n      \"end\" : 4.950000,\\n      \"start\" : 4.440000,\\n      \"word\" : \"cents\"\\n    }, {\\n      \"conf\" : 1.000000,\\n      \"end\" : 5.490000,\\n      \"start\" : 5.160000,\\n      \"word\" : \"was\"\\n    }, {\\n      \"conf\" : 1.000000,\\n      \"end\" : 6.120000,\\n      \"start\" : 5.490000,\\n      \"word\" : \"not\"\\n    }, {\\n      \"conf\" : 1.000000,\\n      \"end\" : 6.540000,\\n      \"start\" : 6.450000,\\n      \"word\" : \"a\"\\n    }, {\\n      \"conf\" : 1.000000,\\n      \"end\" : 7.230000,\\n      \"start\" : 6.540000,\\n      \"word\" : \"joke\"\\n    }, {\\n      \"conf\" : 1.000000,\\n      \"end\" : 9.930000,\\n      \"start\" : 9.600000,\\n      \"word\" : \"from\"\\n    }, {\\n      \"conf\" : 1.000000,\\n      \"end\" : 10.410000,\\n      \"start\" : 9.930000,\\n      \"word\" : \"american\"\\n    }, {\\n      \"conf\" : 1.000000,\\n      \"end\" : 10.710000,\\n      \"start\" : 10.410000,\\n      \"word\" : \"public\"\\n    }, {\\n      \"conf\" : 1.000000,\\n      \"end\" : 11.130000,\\n      \"start\" : 10.710000,\\n      \"word\" : \"media\"\\n    }, {\\n      \"conf\" : 1.000000,\\n      \"end\" : 12.180000,\\n      \"start\" : 11.580000,\\n      \"word\" : \"this\"\\n    }, {\\n      \"conf\" : 1.000000,\\n      \"end\" : 12.810000,\\n      \"start\" : 12.630000,\\n      \"word\" : \"is\"\\n    }, {\\n      \"conf\" : 1.000000,\\n      \"end\" : 13.410000,\\n      \"start\" : 12.810000,\\n      \"word\" : \"marketplace\"\\n    }, {\\n      \"conf\" : 1.000000,\\n      \"end\" : 22.440000,\\n      \"start\" : 13.440000,\\n      \"word\" : \"the\"\\n    }, {\\n      \"conf\" : 1.000000,\\n      \"end\" : 22.950000,\\n      \"start\" : 22.800000,\\n      \"word\" : \"in\"\\n    }, {\\n      \"conf\" : 1.000000,\\n      \"end\" : 23.340000,\\n      \"start\" : 22.950000,\\n      \"word\" : \"los\"\\n    }, {\\n      \"conf\" : 1.000000,\\n      \"end\" : 23.790000,\\n      \"start\" : 23.340000,\\n      \"word\" : \"angeles\"\\n    }, {\\n      \"conf\" : 1.000000,\\n      \"end\" : 24.300000,\\n      \"start\" : 23.940000,\\n      \"word\" : \"ca\"\\n    }, {\\n      \"conf\" : 1.000000,\\n      \"end\" : 24.780000,\\n      \"start\" : 24.330000,\\n      \"word\" : \"resident\"\\n    }, {\\n      \"conf\" : 1.000000,\\n      \"end\" : 25.410000,\\n      \"start\" : 24.840000,\\n      \"word\" : \"monday\"\\n    }, {\\n      \"conf\" : 1.000000,\\n      \"end\" : 25.740000,\\n      \"start\" : 25.410000,\\n      \"word\" : \"today\"\\n    }, {\\n      \"conf\" : 1.000000,\\n      \"end\" : 25.830000,\\n      \"start\" : 25.740000,\\n      \"word\" : \"i\"\\n    }, {\\n      \"conf\" : 1.000000,\\n      \"end\" : 25.980000,\\n      \"start\" : 25.830000,\\n      \"word\" : \"do\"\\n    }, {\\n      \"conf\" : 1.000000,\\n      \"end\" : 26.280000,\\n      \"start\" : 25.980000,\\n      \"word\" : \"believe\"\\n    }, {\\n      \"conf\" : 1.000000,\\n      \"end\" : 26.370000,\\n      \"start\" : 26.280000,\\n      \"word\" : \"the\"\\n    }, {\\n      \"conf\" : 1.000000,\\n      \"end\" : 26.760000,\\n      \"start\" : 26.370000,\\n      \"word\" : \"twenty\"\\n    }, {\\n      \"conf\" : 1.000000,\\n      \"end\" : 27.210000,\\n      \"start\" : 26.760000,\\n      \"word\" : \"fifth\"\\n    }, {\\n      \"conf\" : 1.000000,\\n      \"end\" : 27.450000,\\n      \"start\" : 27.210000,\\n      \"word\" : \"of\"\\n    }, {\\n      \"conf\" : 1.000000,\\n      \"end\" : 27.780000,\\n      \"start\" : 27.450000,\\n      \"word\" : \"april\"\\n    }, {\\n      \"conf\" : 1.000000,\\n      \"end\" : 27.930000,\\n      \"start\" : 27.780000,\\n      \"word\" : \"good\"\\n    }, {\\n      \"conf\" : 1.000000,\\n      \"end\" : 28.020000,\\n      \"start\" : 27.930000,\\n      \"word\" : \"as\"\\n    }, {\\n      \"conf\" : 1.000000,\\n      \"end\" : 28.650000,\\n      \"start\" : 28.020000,\\n      \"word\" : \"always\"\\n    }, {\\n      \"conf\" : 1.000000,\\n      \"end\" : 28.830000,\\n      \"start\" : 28.650000,\\n      \"word\" : \"to\"\\n    }, {\\n      \"conf\" : 1.000000,\\n      \"end\" : 29.010000,\\n      \"start\" : 28.830000,\\n      \"word\" : \"have\"\\n    }, {\\n      \"conf\" : 1.000000,\\n      \"end\" : 29.130000,\\n      \"start\" : 29.010000,\\n      \"word\" : \"you\"\\n    }, {\\n      \"conf\" : 1.000000,\\n      \"end\" : 29.760000,\\n      \"start\" : 29.130000,\\n      \"word\" : \"along\"\\n    }, {\\n      \"conf\" : 1.000000,\\n      \"end\" : 30.390000,\\n      \"start\" : 29.820000,\\n      \"word\" : \"everybody\"\\n    }, {\\n      \"conf\" : 1.000000,\\n      \"end\" : 30.570000,\\n      \"start\" : 30.420000,\\n      \"word\" : \"all\"\\n    }, {\\n      \"conf\" : 1.000000,\\n      \"end\" : 30.720000,\\n      \"start\" : 30.570000,\\n      \"word\" : \"right\"\\n    }, {\\n      \"conf\" : 1.000000,\\n      \"end\" : 30.990000,\\n      \"start\" : 30.750000,\\n      \"word\" : \"just\"\\n    }, {\\n      \"conf\" : 1.000000,\\n      \"end\" : 31.110000,\\n      \"start\" : 30.990000,\\n      \"word\" : \"for\"\\n    }, {\\n      \"conf\" : 1.000000,\\n      \"end\" : 31.560000,\\n      \"start\" : 31.110000,\\n      \"word\" : \"fun\"\\n    }, {\\n      \"conf\" : 1.000000,\\n      \"end\" : 31.920000,\\n      \"start\" : 31.620000,\\n      \"word\" : \"i\"\\n    }, {\\n      \"conf\" : 1.000000,\\n      \"end\" : 32.040000,\\n      \"start\" : 31.920000,\\n      \"word\" : \"am\"\\n    }, {\\n      \"conf\" : 1.000000,\\n      \"end\" : 32.220000,\\n      \"start\" : 32.040000,\\n      \"word\" : \"going\"\\n    }, {\\n      \"conf\" : 1.000000,\\n      \"end\" : 32.310000,\\n      \"start\" : 32.220000,\\n      \"word\" : \"to\"\\n    }, {\\n      \"conf\" : 1.000000,\\n      \"end\" : 32.460000,\\n      \"start\" : 32.310000,\\n      \"word\" : \"see\"\\n    }, {\\n      \"conf\" : 1.000000,\\n      \"end\" : 32.550000,\\n      \"start\" : 32.460000,\\n      \"word\" : \"if\"\\n    }, {\\n      \"conf\" : 1.000000,\\n      \"end\" : 32.640000,\\n      \"start\" : 32.550000,\\n      \"word\" : \"i\"\\n    }, {\\n      \"conf\" : 1.000000,\\n      \"end\" : 32.790000,\\n      \"start\" : 32.640000,\\n      \"word\" : \"can\"\\n    }, {\\n      \"conf\" : 1.000000,\\n      \"end\" : 32.940000,\\n      \"start\" : 32.790000,\\n      \"word\" : \"do\"\\n    }, {\\n      \"conf\" : 1.000000,\\n      \"end\" : 33.180000,\\n      \"start\" : 32.940000,\\n      \"word\" : \"this\"\\n    }, {\\n      \"conf\" : 1.000000,\\n      \"end\" : 33.450000,\\n      \"start\" : 33.180000,\\n      \"word\" : \"in\"\\n    }, {\\n      \"conf\" : 1.000000,\\n      \"end\" : 33.750000,\\n      \"start\" : 33.450000,\\n      \"word\" : \"two\"\\n    }, {\\n      \"conf\" : 1.000000,\\n      \"end\" : 34.020000,\\n      \"start\" : 33.750000,\\n      \"word\" : \"hundred\"\\n    }, {\\n      \"conf\" : 1.000000,\\n      \"end\" : 34.110000,\\n      \"start\" : 34.020000,\\n      \"word\" : \"and\"\\n    }, {\\n      \"conf\" : 1.000000,\\n      \"end\" : 34.350000,\\n      \"start\" : 34.140000,\\n      \"word\" : \"eighty\"\\n    }, {\\n      \"conf\" : 1.000000,\\n      \"end\" : 34.890000,\\n      \"start\" : 34.350000,\\n      \"word\" : \"characters\"\\n    }, {\\n      \"conf\" : 1.000000,\\n      \"end\" : 35.070000,\\n      \"start\" : 34.890000,\\n      \"word\" : \"which\"\\n    }, {\\n      \"conf\" : 1.000000,\\n      \"end\" : 35.190000,\\n      \"start\" : 35.070000,\\n      \"word\" : \"is\"\\n    }, {\\n      \"conf\" : 1.000000,\\n      \"end\" : 35.280000,\\n      \"start\" : 35.190000,\\n      \"word\" : \"of\"\\n    }, {\\n      \"conf\" : 1.000000,\\n      \"end\" : 35.640000,\\n      \"start\" : 35.280000,\\n      \"word\" : \"course\"\\n    }, {\\n      \"conf\" : 1.000000,\\n      \"end\" : 36.030000,\\n      \"start\" : 35.670000,\\n      \"word\" : \"twitter\\'s\"\\n    }, {\\n      \"conf\" : 1.000000,\\n      \"end\" : 36.360000,\\n      \"start\" : 36.030000,\\n      \"word\" : \"limit\"\\n    }, {\\n      \"conf\" : 1.000000,\\n      \"end\" : 37.230000,\\n      \"start\" : 36.750000,\\n      \"word\" : \"starting\"\\n    }, {\\n      \"conf\" : 1.000000,\\n      \"end\" : 37.650000,\\n      \"start\" : 37.230000,\\n      \"word\" : \"right\"\\n    }, {\\n      \"conf\" : 1.000000,\\n      \"end\" : 38.790000,\\n      \"start\" : 38.400000,\\n      \"word\" : \"now\"\\n    }, {\\n      \"conf\" : 1.000000,\\n      \"end\" : 40.110000,\\n      \"start\" : 39.750000,\\n      \"word\" : \"after\"\\n    }, {\\n      \"conf\" : 1.000000,\\n      \"end\" : 40.470000,\\n      \"start\" : 40.110000,\\n      \"word\" : \"making\"\\n    }, {\\n      \"conf\" : 1.000000,\\n      \"end\" : 40.590000,\\n      \"start\" : 40.470000,\\n      \"word\" : \"a\"\\n    }, {\\n      \"conf\" : 1.000000,\\n      \"end\" : 40.980000,\\n      \"start\" : 40.590000,\\n      \"word\" : \"not\"\\n    }, {\\n      \"conf\" : 1.000000,\\n      \"end\" : 41.340000,\\n      \"start\" : 40.980000,\\n      \"word\" : \"very\"\\n    }, {\\n      \"conf\" : 1.000000,\\n      \"end\" : 41.970000,\\n      \"start\" : 41.340000,\\n      \"word\" : \"veiled\"\\n    }, {\\n      \"conf\" : 1.000000,\\n      \"end\" : 42.540000,\\n      \"start\" : 41.970000,\\n      \"word\" : \"marijuana\"\\n    }, {\\n      \"conf\" : 1.000000,\\n      \"end\" : 42.960000,\\n      \"start\" : 42.540000,\\n      \"word\" : \"reference\"\\n    }, {\\n      \"conf\" : 1.000000,\\n      \"end\" : 43.080000,\\n      \"start\" : 42.960000,\\n      \"word\" : \"in\"\\n    }, {\\n      \"conf\" : 1.000000,\\n      \"end\" : 43.380000,\\n      \"start\" : 43.080000,\\n      \"word\" : \"offering\"\\n    }, {\\n      \"conf\" : 1.000000,\\n      \"end\" : 43.740000,\\n      \"start\" : 43.380000,\\n      \"word\" : \"fifty\"\\n    }, {\\n      \"conf\" : 1.000000,\\n      \"end\" : 43.950000,\\n      \"start\" : 43.740000,\\n      \"word\" : \"four\"\\n    }, {\\n      \"conf\" : 1.000000,\\n      \"end\" : 44.340000,\\n      \"start\" : 43.950000,\\n      \"word\" : \"dollars\"\\n    }, {\\n      \"conf\" : 1.000000,\\n      \"end\" : 44.670000,\\n      \"start\" : 44.340000,\\n      \"word\" : \"twenty\"\\n    }, {\\n      \"conf\" : 1.000000,\\n      \"end\" : 44.910000,\\n      \"start\" : 44.670000,\\n      \"word\" : \"cents\"\\n    }, {\\n      \"conf\" : 1.000000,\\n      \"end\" : 44.970000,\\n      \"start\" : 44.910000,\\n      \"word\" : \"a\"\\n    }, {\\n      \"conf\" : 1.000000,\\n      \"end\" : 45.240000,\\n      \"start\" : 44.970000,\\n      \"word\" : \"share\"\\n    }, {\\n      \"conf\" : 1.000000,\\n      \"end\" : 45.330000,\\n      \"start\" : 45.240000,\\n      \"word\" : \"to\"\\n    }, {\\n      \"conf\" : 1.000000,\\n      \"end\" : 45.600000,\\n      \"start\" : 45.330000,\\n      \"word\" : \"buy\"\\n    }, {\\n      \"conf\" : 1.000000,\\n      \"end\" : 46.020000,\\n      \"start\" : 45.600000,\\n      \"word\" : \"twitter\"\\n    }, {\\n      \"conf\" : 1.000000,\\n      \"end\" : 47.010000,\\n      \"start\" : 46.620000,\\n      \"word\" : \"elon\"\\n    }, {\\n      \"conf\" : 1.000000,\\n      \"end\" : 47.310000,\\n      \"start\" : 47.010000,\\n      \"word\" : \"musk\"\\n    }, {\\n      \"conf\" : 1.000000,\\n      \"end\" : 47.520000,\\n      \"start\" : 47.310000,\\n      \"word\" : \"has\"\\n    }, {\\n      \"conf\" : 1.000000,\\n      \"end\" : 48.120000,\\n      \"start\" : 47.520000,\\n      \"word\" : \"sealed\"\\n    }, {\\n      \"conf\" : 1.000000,\\n      \"end\" : 48.300000,\\n      \"start\" : 48.180000,\\n      \"word\" : \"the\"\\n    }, {\\n      \"conf\" : 1.000000,\\n      \"end\" : 48.780000,\\n      \"start\" : 48.300000,\\n      \"word\" : \"deal\"\\n    }, {\\n      \"conf\" : 1.000000,\\n      \"end\" : 49.140000,\\n      \"start\" : 48.780000,\\n      \"word\" : \"as\"\\n    }, {\\n      \"conf\" : 1.000000,\\n      \"end\" : 49.440000,\\n      \"start\" : 49.140000,\\n      \"word\" : \"of\"\\n    }, {\\n      \"conf\" : 1.000000,\\n      \"end\" : 49.770000,\\n      \"start\" : 49.440000,\\n      \"word\" : \"today\"\\n    }, {\\n      \"conf\" : 1.000000,\\n      \"end\" : 50.040000,\\n      \"start\" : 49.770000,\\n      \"word\" : \"lauren\"\\n    }, {\\n      \"conf\" : 0.694509,\\n      \"end\" : 50.430000,\\n      \"start\" : 50.040000,\\n      \"word\" : \"hirsch\"\\n    }, {\\n      \"conf\" : 1.000000,\\n      \"end\" : 50.610000,\\n      \"start\" : 50.430000,\\n      \"word\" : \"has\"\\n    }, {\\n      \"conf\" : 1.000000,\\n      \"end\" : 50.760000,\\n      \"start\" : 50.610000,\\n      \"word\" : \"been\"\\n    }, {\\n      \"conf\" : 1.000000,\\n      \"end\" : 51.030000,\\n      \"start\" : 50.760000,\\n      \"word\" : \"covering\"\\n    }, {\\n      \"conf\" : 0.857620,\\n      \"end\" : 51.120000,\\n      \"start\" : 51.030000,\\n      \"word\" : \"the\"\\n    }, {\\n      \"conf\" : 1.000000,\\n      \"end\" : 51.480000,\\n      \"start\" : 51.124270,\\n      \"word\" : \"story\"\\n    }, {\\n      \"conf\" : 1.000000,\\n      \"end\" : 51.720000,\\n      \"start\" : 51.480000,\\n      \"word\" : \"for\"\\n    }, {\\n      \"conf\" : 1.000000,\\n      \"end\" : 51.840000,\\n      \"start\" : 51.720000,\\n      \"word\" : \"the\"\\n    }, {\\n      \"conf\" : 1.000000,\\n      \"end\" : 51.960000,\\n      \"start\" : 51.840000,\\n      \"word\" : \"new\"\\n    }, {\\n      \"conf\" : 1.000000,\\n      \"end\" : 52.230000,\\n      \"start\" : 51.960000,\\n      \"word\" : \"york\"\\n    }, {\\n      \"conf\" : 1.000000,\\n      \"end\" : 52.530000,\\n      \"start\" : 52.230000,\\n      \"word\" : \"times\"\\n    }, {\\n      \"conf\" : 1.000000,\\n      \"end\" : 52.680000,\\n      \"start\" : 52.530000,\\n      \"word\" : \"thanks\"\\n    }, {\\n      \"conf\" : 1.000000,\\n      \"end\" : 52.770000,\\n      \"start\" : 52.680000,\\n      \"word\" : \"for\"\\n    }, {\\n      \"conf\" : 1.000000,\\n      \"end\" : 53.010000,\\n      \"start\" : 52.770000,\\n      \"word\" : \"coming\"\\n    }, {\\n      \"conf\" : 1.000000,\\n      \"end\" : 53.250000,\\n      \"start\" : 53.010000,\\n      \"word\" : \"on\"\\n    }, {\\n      \"conf\" : 1.000000,\\n      \"end\" : 53.970000,\\n      \"start\" : 53.700000,\\n      \"word\" : \"thanks\"\\n    }, {\\n      \"conf\" : 1.000000,\\n      \"end\" : 54.030000,\\n      \"start\" : 53.970000,\\n      \"word\" : \"for\"\\n    }, {\\n      \"conf\" : 1.000000,\\n      \"end\" : 54.300000,\\n      \"start\" : 54.030000,\\n      \"word\" : \"having\"\\n    }, {\\n      \"conf\" : 1.000000,\\n      \"end\" : 54.510000,\\n      \"start\" : 54.300000,\\n      \"word\" : \"me\"\\n    }, {\\n      \"conf\" : 1.000000,\\n      \"end\" : 55.470000,\\n      \"start\" : 55.140000,\\n      \"word\" : \"setting\"\\n    }, {\\n      \"conf\" : 1.000000,\\n      \"end\" : 55.770000,\\n      \"start\" : 55.470000,\\n      \"word\" : \"aside\"\\n    }, {\\n      \"conf\" : 1.000000,\\n      \"end\" : 55.890000,\\n      \"start\" : 55.770000,\\n      \"word\" : \"all\"\\n    }, {\\n      \"conf\" : 1.000000,\\n      \"end\" : 56.340000,\\n      \"start\" : 55.890000,\\n      \"word\" : \"marijuana\"\\n    }, {\\n      \"conf\" : 1.000000,\\n      \"end\" : 56.850000,\\n      \"start\" : 56.340000,\\n      \"word\" : \"jokes\"\\n    }, {\\n      \"conf\" : 1.000000,\\n      \"end\" : 57.660000,\\n      \"start\" : 57.390000,\\n      \"word\" : \"that\"\\n    }, {\\n      \"conf\" : 1.000000,\\n      \"end\" : 57.900000,\\n      \"start\" : 57.660000,\\n      \"word\" : \"many\"\\n    }, {\\n      \"conf\" : 1.000000,\\n      \"end\" : 58.170000,\\n      \"start\" : 57.900000,\\n      \"word\" : \"people\"\\n    }, {\\n      \"conf\" : 1.000000,\\n      \"end\" : 58.560000,\\n      \"start\" : 58.170000,\\n      \"word\" : \"made\"\\n    }, {\\n      \"conf\" : 1.000000,\\n      \"end\" : 58.770000,\\n      \"start\" : 58.560000,\\n      \"word\" : \"with\"\\n    }, {\\n      \"conf\" : 1.000000,\\n      \"end\" : 58.920000,\\n      \"start\" : 58.770000,\\n      \"word\" : \"this\"\\n    }, {\\n      \"conf\" : 1.000000,\\n      \"end\" : 59.340000,\\n      \"start\" : 58.920000,\\n      \"word\" : \"price\"\\n    }, {\\n      \"conf\" : 1.000000,\\n      \"end\" : 59.490000,\\n      \"start\" : 59.340000,\\n      \"word\" : \"that\"\\n    }, {\\n      \"conf\" : 1.000000,\\n      \"end\" : 59.730000,\\n      \"start\" : 59.490000,\\n      \"word\" : \"musk\"\\n    }, {\\n      \"conf\" : 1.000000,\\n      \"end\" : 60.090000,\\n      \"start\" : 59.730000,\\n      \"word\" : \"offered\"\\n    }, {\\n      \"conf\" : 0.929413,\\n      \"end\" : 60.930000,\\n      \"start\" : 60.570000,\\n      \"word\" : \"and\"\\n    }, {\\n      \"conf\" : 1.000000,\\n      \"end\" : 61.980000,\\n      \"start\" : 61.530000,\\n      \"word\" : \"clearly\"\\n    }, {\\n      \"conf\" : 1.000000,\\n      \"end\" : 62.160000,\\n      \"start\" : 61.980000,\\n      \"word\" : \"he\"\\n    }, {\\n      \"conf\" : 1.000000,\\n      \"end\" : 62.340000,\\n      \"start\" : 62.160000,\\n      \"word\" : \"was\"\\n    }, {\\n      \"conf\" : 1.000000,\\n      \"end\" : 62.940000,\\n      \"start\" : 62.340000,\\n      \"word\" : \"serious\"\\n    }, {\\n      \"conf\" : 1.000000,\\n      \"end\" : 63.180000,\\n      \"start\" : 63.000000,\\n      \"word\" : \"and\"\\n    }, {\\n      \"conf\" : 1.000000,\\n      \"end\" : 63.330000,\\n      \"start\" : 63.180000,\\n      \"word\" : \"now\"\\n    }, {\\n      \"conf\" : 1.000000,\\n      \"end\" : 63.510000,\\n      \"start\" : 63.330000,\\n      \"word\" : \"this\"\\n    }, {\\n      \"conf\" : 1.000000,\\n      \"end\" : 63.630000,\\n      \"start\" : 63.510000,\\n      \"word\" : \"has\"\\n    }, {\\n      \"conf\" : 1.000000,\\n      \"end\" : 64.140000,\\n      \"start\" : 63.630000,\\n      \"word\" : \"happened\"\\n    }, {\\n      \"conf\" : 1.000000,\\n      \"end\" : 64.410000,\\n      \"start\" : 64.230000,\\n      \"word\" : \"in\"\\n    }, {\\n      \"conf\" : 1.000000,\\n      \"end\" : 64.560000,\\n      \"start\" : 64.410000,\\n      \"word\" : \"an\"\\n    }, {\\n      \"conf\" : 1.000000,\\n      \"end\" : 65.400000,\\n      \"start\" : 64.650000,\\n      \"word\" : \"unbelievably\"\\n    }, {\\n      \"conf\" : 1.000000,\\n      \"end\" : 65.760000,\\n      \"start\" : 65.400000,\\n      \"word\" : \"fast\"\\n    }, {\\n      \"conf\" : 1.000000,\\n      \"end\" : 66.210000,\\n      \"start\" : 65.760000,\\n      \"word\" : \"timeline\"\\n    }, {\\n      \"conf\" : 1.000000,\\n      \"end\" : 66.570000,\\n      \"start\" : 66.210000,\\n      \"word\" : \"right\"\\n    }, {\\n      \"conf\" : 1.000000,\\n      \"end\" : 67.440000,\\n      \"start\" : 67.200000,\\n      \"word\" : \"and\"\\n    }, {\\n      \"conf\" : 1.000000,\\n      \"end\" : 67.590000,\\n      \"start\" : 67.440000,\\n      \"word\" : \"we\"\\n    }, {\\n      \"conf\" : 1.000000,\\n      \"end\" : 67.710000,\\n      \"start\" : 67.590000,\\n      \"word\" : \"will\"\\n    }, {\\n      \"conf\" : 1.000000,\\n      \"end\" : 67.860000,\\n      \"start\" : 67.710000,\\n      \"word\" : \"be\"\\n    }, {\\n      \"conf\" : 0.620897,\\n      \"end\" : 68.130000,\\n      \"start\" : 67.860000,\\n      \"word\" : \"fast\"\\n    }, {\\n      \"conf\" : 1.000000,\\n      \"end\" : 68.280000,\\n      \"start\" : 68.160000,\\n      \"word\" : \"i\"\\n    }, {\\n      \"conf\" : 1.000000,\\n      \"end\" : 68.490000,\\n      \"start\" : 68.280000,\\n      \"word\" : \"tell\"\\n    }, {\\n      \"conf\" : 1.000000,\\n      \"end\" : 68.670000,\\n      \"start\" : 68.490000,\\n      \"word\" : \"you\"\\n    }, {\\n      \"conf\" : 1.000000,\\n      \"end\" : 68.880000,\\n      \"start\" : 68.670000,\\n      \"word\" : \"i\"\\n    }, {\\n      \"conf\" : 1.000000,\\n      \"end\" : 69.240000,\\n      \"start\" : 68.880000,\\n      \"word\" : \"was\"\\n    }, {\\n      \"conf\" : 1.000000,\\n      \"end\" : 69.480000,\\n      \"start\" : 69.300000,\\n      \"word\" : \"at\"\\n    }, {\\n      \"conf\" : 1.000000,\\n      \"end\" : 69.540000,\\n      \"start\" : 69.480000,\\n      \"word\" : \"a\"\\n    }, {\\n      \"conf\" : 1.000000,\\n      \"end\" : 70.290000,\\n      \"start\" : 69.540000,\\n      \"word\" : \"shower\"\\n    }, {\\n      \"conf\" : 1.000000,\\n      \"end\" : 71.460000,\\n      \"start\" : 70.590000,\\n      \"word\" : \"yesterday\"\\n    }, {\\n      \"conf\" : 1.000000,\\n      \"end\" : 72.180000,\\n      \"start\" : 71.550000,\\n      \"word\" : \"communicating\"\\n    }, {\\n      \"conf\" : 0.553632,\\n      \"end\" : 72.351497,\\n      \"start\" : 72.180000,\\n      \"word\" : \"with\"\\n    }, {\\n      \"conf\" : 1.000000,\\n      \"end\" : 72.450000,\\n      \"start\" : 72.351497,\\n      \"word\" : \"us\"\\n    }, {\\n      \"conf\" : 1.000000,\\n      \"end\" : 72.540000,\\n      \"start\" : 72.450000,\\n      \"word\" : \"to\"\\n    }, {\\n      \"conf\" : 1.000000,\\n      \"end\" : 72.660000,\\n      \"start\" : 72.540000,\\n      \"word\" : \"where\"\\n    }, {\\n      \"conf\" : 1.000000,\\n      \"end\" : 72.750000,\\n      \"start\" : 72.660000,\\n      \"word\" : \"it\\'s\"\\n    }, {\\n      \"conf\" : 1.000000,\\n      \"end\" : 72.990000,\\n      \"start\" : 72.780000,\\n      \"word\" : \"kind\"\\n    }, {\\n      \"conf\" : 1.000000,\\n      \"end\" : 73.080000,\\n      \"start\" : 72.990000,\\n      \"word\" : \"of\"\\n    }, {\\n      \"conf\" : 1.000000,\\n      \"end\" : 73.680000,\\n      \"start\" : 73.080000,\\n      \"word\" : \"casually\"\\n    }, {\\n      \"conf\" : 1.000000,\\n      \"end\" : 74.070000,\\n      \"start\" : 73.680000,\\n      \"word\" : \"checking\"\\n    }, {\\n      \"conf\" : 1.000000,\\n      \"end\" : 74.250000,\\n      \"start\" : 74.070000,\\n      \"word\" : \"in\"\\n    }, {\\n      \"conf\" : 1.000000,\\n      \"end\" : 74.340000,\\n      \"start\" : 74.250000,\\n      \"word\" : \"at\"\\n    }, {\\n      \"conf\" : 1.000000,\\n      \"end\" : 74.460000,\\n      \"start\" : 74.340000,\\n      \"word\" : \"my\"\\n    }, {\\n      \"conf\" : 1.000000,\\n      \"end\" : 74.790000,\\n      \"start\" : 74.460000,\\n      \"word\" : \"source\"\\n    }, {\\n      \"conf\" : 1.000000,\\n      \"end\" : 75.090000,\\n      \"start\" : 74.790000,\\n      \"word\" : \"code\"\\n    }, {\\n      \"conf\" : 1.000000,\\n      \"end\" : 75.240000,\\n      \"start\" : 75.150000,\\n      \"word\" : \"i\"\\n    }, {\\n      \"conf\" : 1.000000,\\n      \"end\" : 75.480000,\\n      \"start\" : 75.240000,\\n      \"word\" : \"think\"\\n    }, {\\n      \"conf\" : 0.648758,\\n      \"end\" : 75.600000,\\n      \"start\" : 75.480000,\\n      \"word\" : \"there\"\\n    }, {\\n      \"conf\" : 1.000000,\\n      \"end\" : 75.750000,\\n      \"start\" : 75.600000,\\n      \"word\" : \"could\"\\n    }, {\\n      \"conf\" : 1.000000,\\n      \"end\" : 75.840000,\\n      \"start\" : 75.750000,\\n      \"word\" : \"be\"\\n    }, {\\n      \"conf\" : 1.000000,\\n      \"end\" : 76.170000,\\n      \"start\" : 75.840000,\\n      \"word\" : \"detailed\"\\n    }, {\\n      \"conf\" : 1.000000,\\n      \"end\" : 76.260000,\\n      \"start\" : 76.170000,\\n      \"word\" : \"in\"\\n    }, {\\n      \"conf\" : 1.000000,\\n      \"end\" : 76.496931,\\n      \"start\" : 76.260000,\\n      \"word\" : \"my\"\\n    }, {\\n      \"conf\" : 1.000000,\\n      \"end\" : 76.770000,\\n      \"start\" : 76.500000,\\n      \"word\" : \"out\"\\n    }, {\\n      \"conf\" : 1.000000,\\n      \"end\" : 76.890000,\\n      \"start\" : 76.800000,\\n      \"word\" : \"and\"\\n    }, {\\n      \"conf\" : 1.000000,\\n      \"end\" : 77.010000,\\n      \"start\" : 76.890000,\\n      \"word\" : \"i\"\\n    }, {\\n      \"conf\" : 1.000000,\\n      \"end\" : 77.250000,\\n      \"start\" : 77.010000,\\n      \"word\" : \"got\"\\n    }, {\\n      \"conf\" : 1.000000,\\n      \"end\" : 77.760000,\\n      \"start\" : 77.250000,\\n      \"word\" : \"what\"\\n    }, {\\n      \"conf\" : 1.000000,\\n      \"end\" : 78.420000,\\n      \"start\" : 78.120000,\\n      \"word\" : \"how\"\\n    }, {\\n      \"conf\" : 1.000000,\\n      \"end\" : 78.540000,\\n      \"start\" : 78.420000,\\n      \"word\" : \"is\"\\n    }, {\\n      \"conf\" : 1.000000,\\n      \"end\" : 78.690000,\\n      \"start\" : 78.540000,\\n      \"word\" : \"that\"\\n    }, {\\n      \"conf\" : 1.000000,\\n      \"end\" : 78.930000,\\n      \"start\" : 78.690000,\\n      \"word\" : \"even\"\\n    }, {\\n      \"conf\" : 1.000000,\\n      \"end\" : 79.740000,\\n      \"start\" : 78.930000,\\n      \"word\" : \"possible\"\\n    }, {\\n      \"conf\" : 1.000000,\\n      \"end\" : 80.220000,\\n      \"start\" : 79.800000,\\n      \"word\" : \"and\"\\n    }, {\\n      \"conf\" : 1.000000,\\n      \"end\" : 80.340000,\\n      \"start\" : 80.220000,\\n      \"word\" : \"you\"\\n    }, {\\n      \"conf\" : 1.000000,\\n      \"end\" : 80.460000,\\n      \"start\" : 80.340000,\\n      \"word\" : \"know\"\\n    }, {\\n      \"conf\" : 1.000000,\\n      \"end\" : 80.550000,\\n      \"start\" : 80.460000,\\n      \"word\" : \"i\"\\n    }, {\\n      \"conf\" : 1.000000,\\n      \"end\" : 80.700000,\\n      \"start\" : 80.550000,\\n      \"word\" : \"don\\'t\"\\n    }, {\\n      \"conf\" : 1.000000,\\n      \"end\" : 81.000000,\\n      \"start\" : 80.730000,\\n      \"word\" : \"think\"\\n    }, {\\n      \"conf\" : 1.000000,\\n      \"end\" : 81.270000,\\n      \"start\" : 81.000000,\\n      \"word\" : \"most\"\\n    }, {\\n      \"conf\" : 1.000000,\\n      \"end\" : 81.600000,\\n      \"start\" : 81.300000,\\n      \"word\" : \"people\"\\n    }, {\\n      \"conf\" : 1.000000,\\n      \"end\" : 81.900000,\\n      \"start\" : 81.600000,\\n      \"word\" : \"never\"\\n    }, {\\n      \"conf\" : 1.000000,\\n      \"end\" : 82.080000,\\n      \"start\" : 81.900000,\\n      \"word\" : \"thought\"\\n    }, {\\n      \"conf\" : 1.000000,\\n      \"end\" : 82.140000,\\n      \"start\" : 82.080000,\\n      \"word\" : \"a\"\\n    }, {\\n      \"conf\" : 1.000000,\\n      \"end\" : 82.590000,\\n      \"start\" : 82.140000,\\n      \"word\" : \"deal\"\\n    }, {\\n      \"conf\" : 1.000000,\\n      \"end\" : 83.100000,\\n      \"start\" : 82.890000,\\n      \"word\" : \"would\"\\n    }, {\\n      \"conf\" : 1.000000,\\n      \"end\" : 83.190000,\\n      \"start\" : 83.100000,\\n      \"word\" : \"have\"\\n    }, {\\n      \"conf\" : 1.000000,\\n      \"end\" : 83.730000,\\n      \"start\" : 83.190000,\\n      \"word\" : \"happened\"\\n    }, {\\n      \"conf\" : 0.940153,\\n      \"end\" : 83.880000,\\n      \"start\" : 83.760000,\\n      \"word\" : \"and\"\\n    }, {\\n      \"conf\" : 1.000000,\\n      \"end\" : 84.180000,\\n      \"start\" : 83.880000,\\n      \"word\" : \"even\"\\n    }, {\\n      \"conf\" : 1.000000,\\n      \"end\" : 84.390000,\\n      \"start\" : 84.180000,\\n      \"word\" : \"if\"\\n    }, {\\n      \"conf\" : 1.000000,\\n      \"end\" : 85.080000,\\n      \"start\" : 84.540000,\\n      \"word\" : \"people\"\\n    }, {\\n      \"conf\" : 1.000000,\\n      \"end\" : 85.380000,\\n      \"start\" : 85.110000,\\n      \"word\" : \"thought\"\\n    }, {\\n      \"conf\" : 0.589941,\\n      \"end\" : 85.470000,\\n      \"start\" : 85.380000,\\n      \"word\" : \"they\"\\n    }, {\\n      \"conf\" : 0.974889,\\n      \"end\" : 85.740000,\\n      \"start\" : 85.482620,\\n      \"word\" : \"weren\\'t\"\\n    }, {\\n      \"conf\" : 0.811341,\\n      \"end\" : 85.859487,\\n      \"start\" : 85.740000,\\n      \"word\" : \"it\\'d\"\\n    }, {\\n      \"conf\" : 0.836452,\\n      \"end\" : 85.950000,\\n      \"start\" : 85.859487,\\n      \"word\" : \"be\"\\n    }, {\\n      \"conf\" : 0.836452,\\n      \"end\" : 85.980000,\\n      \"start\" : 85.950000,\\n      \"word\" : \"a\"\\n    }, {\\n      \"conf\" : 1.000000,\\n      \"end\" : 86.310000,\\n      \"start\" : 85.984907,\\n      \"word\" : \"deal\"\\n    }, {\\n      \"conf\" : 1.000000,\\n      \"end\" : 86.430000,\\n      \"start\" : 86.310000,\\n      \"word\" : \"i\"\\n    }, {\\n      \"conf\" : 1.000000,\\n      \"end\" : 86.610000,\\n      \"start\" : 86.430000,\\n      \"word\" : \"don\\'t\"\\n    }, {\\n      \"conf\" : 1.000000,\\n      \"end\" : 86.850000,\\n      \"start\" : 86.610000,\\n      \"word\" : \"think\"\\n    }, {\\n      \"conf\" : 1.000000,\\n      \"end\" : 87.570000,\\n      \"start\" : 86.910000,\\n      \"word\" : \"anyone\"\\n    }, {\\n      \"conf\" : 1.000000,\\n      \"end\" : 88.170000,\\n      \"start\" : 87.930000,\\n      \"word\" : \"thought\"\\n    }, {\\n      \"conf\" : 1.000000,\\n      \"end\" : 88.230000,\\n      \"start\" : 88.170000,\\n      \"word\" : \"it\"\\n    }, {\\n      \"conf\" : 0.928882,\\n      \"end\" : 88.350000,\\n      \"start\" : 88.230000,\\n      \"word\" : \"could\"\\n    }, {\\n      \"conf\" : 0.928882,\\n      \"end\" : 88.410000,\\n      \"start\" : 88.350000,\\n      \"word\" : \"have\"\\n    }, {\\n      \"conf\" : 1.000000,\\n      \"end\" : 88.980000,\\n      \"start\" : 88.440000,\\n      \"word\" : \"possibly\"\\n    }, {\\n      \"conf\" : 0.928882,\\n      \"end\" : 89.490000,\\n      \"start\" : 88.980000,\\n      \"word\" : \"happened\"\\n    }, {\\n      \"conf\" : 1.000000,\\n      \"end\" : 89.700000,\\n      \"start\" : 89.520000,\\n      \"word\" : \"this\"\\n    }, {\\n      \"conf\" : 1.000000,\\n      \"end\" : 90.120000,\\n      \"start\" : 89.700000,\\n      \"word\" : \"quickly\"\\n    }, {\\n      \"conf\" : 1.000000,\\n      \"end\" : 90.420000,\\n      \"start\" : 90.210000,\\n      \"word\" : \"he\"\\n    }, {\\n      \"conf\" : 1.000000,\\n      \"end\" : 90.690000,\\n      \"start\" : 90.420000,\\n      \"word\" : \"gets\"\\n    }, {\\n      \"conf\" : 1.000000,\\n      \"end\" : 90.840000,\\n      \"start\" : 90.690000,\\n      \"word\" : \"all\"\\n    }, {\\n      \"conf\" : 1.000000,\\n      \"end\" : 90.930000,\\n      \"start\" : 90.840000,\\n      \"word\" : \"the\"\\n    }, {\\n      \"conf\" : 1.000000,\\n      \"end\" : 91.170000,\\n      \"start\" : 90.930000,\\n      \"word\" : \"money\"\\n    }, {\\n      \"conf\" : 1.000000,\\n      \"end\" : 91.860000,\\n      \"start\" : 91.170000,\\n      \"word\" : \"together\"\\n    }, {\\n      \"conf\" : 1.000000,\\n      \"end\" : 92.160000,\\n      \"start\" : 91.950000,\\n      \"word\" : \"they\"\\n    }, {\\n      \"conf\" : 1.000000,\\n      \"end\" : 92.400000,\\n      \"start\" : 92.160000,\\n      \"word\" : \"have\"\\n    }, {\\n      \"conf\" : 1.000000,\\n      \"end\" : 92.610000,\\n      \"start\" : 92.400000,\\n      \"word\" : \"these\"\\n    }, {\\n      \"conf\" : 1.000000,\\n      \"end\" : 92.910000,\\n      \"start\" : 92.610000,\\n      \"word\" : \"board\"\\n    }, {\\n      \"conf\" : 1.000000,\\n      \"end\" : 93.570000,\\n      \"start\" : 92.910000,\\n      \"word\" : \"meetings\"\\n    }, {\\n      \"conf\" : 1.000000,\\n      \"end\" : 94.110000,\\n      \"start\" : 93.900000,\\n      \"word\" : \"over\"\\n    }, {\\n      \"conf\" : 1.000000,\\n      \"end\" : 94.200000,\\n      \"start\" : 94.110000,\\n      \"word\" : \"the\"\\n    }, {\\n      \"conf\" : 1.000000,\\n      \"end\" : 94.710000,\\n      \"start\" : 94.200000,\\n      \"word\" : \"weekend\"\\n    }, {\\n      \"conf\" : 1.000000,\\n      \"end\" : 94.890000,\\n      \"start\" : 94.740000,\\n      \"word\" : \"and\"\\n    }, {\\n      \"conf\" : 1.000000,\\n      \"end\" : 95.040000,\\n      \"start\" : 94.890000,\\n      \"word\" : \"then\"\\n    }, {\\n      \"conf\" : 1.000000,\\n      \"end\" : 95.610000,\\n      \"start\" : 95.040000,\\n      \"word\" : \"today\"\\n    }, {\\n      \"conf\" : 1.000000,\\n      \"end\" : 95.880000,\\n      \"start\" : 95.640000,\\n      \"word\" : \"it\\'s\"\\n    }, {\\n      \"conf\" : 1.000000,\\n      \"end\" : 95.970000,\\n      \"start\" : 95.880000,\\n      \"word\" : \"a\"\\n    }, {\\n      \"conf\" : 1.000000,\\n      \"end\" : 96.240000,\\n      \"start\" : 95.970000,\\n      \"word\" : \"done\"\\n    }, {\\n      \"conf\" : 1.000000,\\n      \"end\" : 96.510000,\\n      \"start\" : 96.240000,\\n      \"word\" : \"deal\"\\n    }, {\\n      \"conf\" : 1.000000,\\n      \"end\" : 96.720000,\\n      \"start\" : 96.510000,\\n      \"word\" : \"let\"\\n    }, {\\n      \"conf\" : 1.000000,\\n      \"end\" : 96.930000,\\n      \"start\" : 96.720000,\\n      \"word\" : \"me\"\\n    }, {\\n      \"conf\" : 1.000000,\\n      \"end\" : 97.230000,\\n      \"start\" : 96.930000,\\n      \"word\" : \"ask\"\\n    }, {\\n      \"conf\" : 1.000000,\\n      \"end\" : 97.380000,\\n      \"start\" : 97.230000,\\n      \"word\" : \"you\"\\n    }, {\\n      \"conf\" : 1.000000,\\n      \"end\" : 97.710000,\\n      \"start\" : 97.380000,\\n      \"word\" : \"this\"\\n    }, {\\n      \"conf\" : 1.000000,\\n      \"end\" : 98.040000,\\n      \"start\" : 97.710000,\\n      \"word\" : \"though\"\\n    }, {\\n      \"conf\" : 0.853642,\\n      \"end\" : 98.592371,\\n      \"start\" : 98.340000,\\n      \"word\" : \"and\"\\n    }, {\\n      \"conf\" : 1.000000,\\n      \"end\" : 98.905613,\\n      \"start\" : 98.592371,\\n      \"word\" : \"and\"\\n    }, {\\n      \"conf\" : 1.000000,\\n      \"end\" : 99.120000,\\n      \"start\" : 98.910000,\\n      \"word\" : \"this\"\\n    }, {\\n      \"conf\" : 1.000000,\\n      \"end\" : 99.270000,\\n      \"start\" : 99.120000,\\n      \"word\" : \"may\"\\n    }, {\\n      \"conf\" : 1.000000,\\n      \"end\" : 99.390000,\\n      \"start\" : 99.270000,\\n      \"word\" : \"be\"\\n    }, {\\n      \"conf\" : 1.000000,\\n      \"end\" : 99.450000,\\n      \"start\" : 99.390000,\\n      \"word\" : \"a\"\\n    }, {\\n      \"conf\" : 1.000000,\\n      \"end\" : 99.810000,\\n      \"start\" : 99.450000,\\n      \"word\" : \"longer\"\\n    }, {\\n      \"conf\" : 1.000000,\\n      \"end\" : 100.080000,\\n      \"start\" : 99.810000,\\n      \"word\" : \"answer\"\\n    }, {\\n      \"conf\" : 1.000000,\\n      \"end\" : 100.230000,\\n      \"start\" : 100.080000,\\n      \"word\" : \"than\"\\n    }, {\\n      \"conf\" : 1.000000,\\n      \"end\" : 100.350000,\\n      \"start\" : 100.230000,\\n      \"word\" : \"we\"\\n    }, {\\n      \"conf\" : 1.000000,\\n      \"end\" : 100.500000,\\n      \"start\" : 100.350000,\\n      \"word\" : \"have\"\\n    }, {\\n      \"conf\" : 1.000000,\\n      \"end\" : 100.680000,\\n      \"start\" : 100.500000,\\n      \"word\" : \"time\"\\n    }, {\\n      \"conf\" : 1.000000,\\n      \"end\" : 100.830000,\\n      \"start\" : 100.680000,\\n      \"word\" : \"for\"\\n    }, {\\n      \"conf\" : 1.000000,\\n      \"end\" : 100.890000,\\n      \"start\" : 100.830000,\\n      \"word\" : \"in\"\\n    }, {\\n      \"conf\" : 1.000000,\\n      \"end\" : 100.950000,\\n      \"start\" : 100.890000,\\n      \"word\" : \"the\"\\n    }, {\\n      \"conf\" : 1.000000,\\n      \"end\" : 101.310000,\\n      \"start\" : 100.950000,\\n      \"word\" : \"program\"\\n    }, {\\n      \"conf\" : 1.000000,\\n      \"end\" : 101.610000,\\n      \"start\" : 101.310000,\\n      \"word\" : \"today\"\\n    }, {\\n      \"conf\" : 1.000000,\\n      \"end\" : 102.510000,\\n      \"start\" : 101.880000,\\n      \"word\" : \"why\"\\n    }, {\\n      \"conf\" : 1.000000,\\n      \"end\" : 102.840000,\\n      \"start\" : 102.510000,\\n      \"word\" : \"does\"\\n    }, {\\n      \"conf\" : 1.000000,\\n      \"end\" : 103.200000,\\n      \"start\" : 102.840000,\\n      \"word\" : \"elon\"\\n    }, {\\n      \"conf\" : 1.000000,\\n      \"end\" : 103.470000,\\n      \"start\" : 103.200000,\\n      \"word\" : \"musk\"\\n    }, {\\n      \"conf\" : 1.000000,\\n      \"end\" : 103.650000,\\n      \"start\" : 103.470000,\\n      \"word\" : \"want\"\\n    }, {\\n      \"conf\" : 1.000000,\\n      \"end\" : 103.710000,\\n      \"start\" : 103.650000,\\n      \"word\" : \"to\"\\n    }, {\\n      \"conf\" : 1.000000,\\n      \"end\" : 103.860000,\\n      \"start\" : 103.710000,\\n      \"word\" : \"buy\"\\n    }, {\\n      \"conf\" : 1.000000,\\n      \"end\" : 104.220000,\\n      \"start\" : 103.860000,\\n      \"word\" : \"twitter\"\\n    }, {\\n      \"conf\" : 1.000000,\\n      \"end\" : 105.840000,\\n      \"start\" : 105.750000,\\n      \"word\" : \"i\"\\n    }, {\\n      \"conf\" : 1.000000,\\n      \"end\" : 106.020000,\\n      \"start\" : 105.840000,\\n      \"word\" : \"can\"\\n    }, {\\n      \"conf\" : 1.000000,\\n      \"end\" : 106.140000,\\n      \"start\" : 106.020000,\\n      \"word\" : \"tell\"\\n    }, {\\n      \"conf\" : 1.000000,\\n      \"end\" : 106.290000,\\n      \"start\" : 106.140000,\\n      \"word\" : \"you\"\\n    }, {\\n      \"conf\" : 1.000000,\\n      \"end\" : 106.410000,\\n      \"start\" : 106.290000,\\n      \"word\" : \"what\"\\n    }, {\\n      \"conf\" : 1.000000,\\n      \"end\" : 106.500469,\\n      \"start\" : 106.410000,\\n      \"word\" : \"he\"\\n    }, {\\n      \"conf\" : 0.974859,\\n      \"end\" : 106.650000,\\n      \"start\" : 106.500469,\\n      \"word\" : \"has\"\\n    }, {\\n      \"conf\" : 1.000000,\\n      \"end\" : 107.280000,\\n      \"start\" : 106.770000,\\n      \"word\" : \"said\"\\n    }, {\\n      \"conf\" : 1.000000,\\n      \"end\" : 107.700000,\\n      \"start\" : 107.370000,\\n      \"word\" : \"which\"\\n    }, {\\n      \"conf\" : 1.000000,\\n      \"end\" : 107.970000,\\n      \"start\" : 107.700000,\\n      \"word\" : \"is\"\\n    }, {\\n      \"conf\" : 1.000000,\\n      \"end\" : 108.570000,\\n      \"start\" : 107.970000,\\n      \"word\" : \"he\"\\n    }, {\\n      \"conf\" : 1.000000,\\n      \"end\" : 109.050000,\\n      \"start\" : 108.570000,\\n      \"word\" : \"is\"\\n    }, {\\n      \"conf\" : 1.000000,\\n      \"end\" : 109.350000,\\n      \"start\" : 109.140000,\\n      \"word\" : \"he\"\\n    }, {\\n      \"conf\" : 1.000000,\\n      \"end\" : 109.470000,\\n      \"start\" : 109.350000,\\n      \"word\" : \"would\"\\n    }, {\\n      \"conf\" : 1.000000,\\n      \"end\" : 109.770000,\\n      \"start\" : 109.470000,\\n      \"word\" : \"call\"\\n    }, {\\n      \"conf\" : 1.000000,\\n      \"end\" : 110.400000,\\n      \"start\" : 109.770000,\\n      \"word\" : \"himself\"\\n    }, {\\n      \"conf\" : 1.000000,\\n      \"end\" : 110.550000,\\n      \"start\" : 110.430000,\\n      \"word\" : \"an\"\\n    }, {\\n      \"conf\" : 1.000000,\\n      \"end\" : 111.030000,\\n      \"start\" : 110.550000,\\n      \"word\" : \"advocate\"\\n    }, {\\n      \"conf\" : 1.000000,\\n      \"end\" : 111.630000,\\n      \"start\" : 111.090000,\\n      \"word\" : \"for\"\\n    }, {\\n      \"conf\" : 1.000000,\\n      \"end\" : 111.960000,\\n      \"start\" : 111.690000,\\n      \"word\" : \"free\"\\n    }, {\\n      \"conf\" : 1.000000,\\n      \"end\" : 112.500000,\\n      \"start\" : 111.990000,\\n      \"word\" : \"speech\"\\n    }, {\\n      \"conf\" : 1.000000,\\n      \"end\" : 112.620000,\\n      \"start\" : 112.500000,\\n      \"word\" : \"and\"\\n    }, {\\n      \"conf\" : 1.000000,\\n      \"end\" : 112.740000,\\n      \"start\" : 112.620000,\\n      \"word\" : \"he\"\\n    }, {\\n      \"conf\" : 1.000000,\\n      \"end\" : 113.070000,\\n      \"start\" : 112.740000,\\n      \"word\" : \"doesn\\'t\"\\n    }, {\\n      \"conf\" : 1.000000,\\n      \"end\" : 113.280000,\\n      \"start\" : 113.070000,\\n      \"word\" : \"like\"\\n    }, {\\n      \"conf\" : 1.000000,\\n      \"end\" : 113.370000,\\n      \"start\" : 113.280000,\\n      \"word\" : \"the\"\\n    }, {\\n      \"conf\" : 1.000000,\\n      \"end\" : 113.670000,\\n      \"start\" : 113.370000,\\n      \"word\" : \"way\"\\n    }, {\\n      \"conf\" : 1.000000,\\n      \"end\" : 114.000000,\\n      \"start\" : 113.670000,\\n      \"word\" : \"that\"\\n    }, {\\n      \"conf\" : 1.000000,\\n      \"end\" : 115.080000,\\n      \"start\" : 114.660000,\\n      \"word\" : \"twitter\"\\n    }, {\\n      \"conf\" : 1.000000,\\n      \"end\" : 115.620000,\\n      \"start\" : 115.080000,\\n      \"word\" : \"has\"\\n    }, {\\n      \"conf\" : 1.000000,\\n      \"end\" : 116.580000,\\n      \"start\" : 115.710000,\\n      \"word\" : \"managed\"\\n    }, {\\n      \"conf\" : 1.000000,\\n      \"end\" : 117.060000,\\n      \"start\" : 116.640000,\\n      \"word\" : \"content\"\\n    }, {\\n      \"conf\" : 1.000000,\\n      \"end\" : 117.240000,\\n      \"start\" : 117.090000,\\n      \"word\" : \"on\"\\n    }, {\\n      \"conf\" : 0.805529,\\n      \"end\" : 117.360000,\\n      \"start\" : 117.240000,\\n      \"word\" : \"it\\'s\"\\n    }, {\\n      \"conf\" : 1.000000,\\n      \"end\" : 117.870000,\\n      \"start\" : 117.360000,\\n      \"word\" : \"platform\"\\n    }, {\\n      \"conf\" : 1.000000,\\n      \"end\" : 117.960000,\\n      \"start\" : 117.870000,\\n      \"word\" : \"and\"\\n    }, {\\n      \"conf\" : 1.000000,\\n      \"end\" : 118.080000,\\n      \"start\" : 117.960000,\\n      \"word\" : \"he\"\\n    }, {\\n      \"conf\" : 1.000000,\\n      \"end\" : 118.320000,\\n      \"start\" : 118.080000,\\n      \"word\" : \"wants\"\\n    }, {\\n      \"conf\" : 1.000000,\\n      \"end\" : 118.410000,\\n      \"start\" : 118.320000,\\n      \"word\" : \"to\"\\n    }, {\\n      \"conf\" : 1.000000,\\n      \"end\" : 118.770000,\\n      \"start\" : 118.440000,\\n      \"word\" : \"change\"\\n    }, {\\n      \"conf\" : 1.000000,\\n      \"end\" : 119.070000,\\n      \"start\" : 118.770000,\\n      \"word\" : \"that\"\\n    }, {\\n      \"conf\" : 1.000000,\\n      \"end\" : 119.610000,\\n      \"start\" : 119.220000,\\n      \"word\" : \"he\\'s\"\\n    }, {\\n      \"conf\" : 1.000000,\\n      \"end\" : 119.910000,\\n      \"start\" : 119.610000,\\n      \"word\" : \"spoken\"\\n    }, {\\n      \"conf\" : 0.763156,\\n      \"end\" : 119.990369,\\n      \"start\" : 119.910000,\\n      \"word\" : \"in\"\\n    }, {\\n      \"conf\" : 1.000000,\\n      \"end\" : 120.360000,\\n      \"start\" : 120.007104,\\n      \"word\" : \"statement\"\\n    }, {\\n      \"conf\" : 1.000000,\\n      \"end\" : 120.660000,\\n      \"start\" : 120.360000,\\n      \"word\" : \"today\"\\n    }, {\\n      \"conf\" : 1.000000,\\n      \"end\" : 121.170000,\\n      \"start\" : 120.660000,\\n      \"word\" : \"about\"\\n    }, {\\n      \"conf\" : 0.597324,\\n      \"end\" : 121.409993,\\n      \"start\" : 121.229993,\\n      \"word\" : \"i\"\\n    }, {\\n      \"conf\" : 1.000000,\\n      \"end\" : 121.590000,\\n      \"start\" : 121.422078,\\n      \"word\" : \"kind\"\\n    }, {\\n      \"conf\" : 1.000000,\\n      \"end\" : 121.680000,\\n      \"start\" : 121.590000,\\n      \"word\" : \"of\"\\n    }, {\\n      \"conf\" : 0.566597,\\n      \"end\" : 121.830000,\\n      \"start\" : 121.680000,\\n      \"word\" : \"keep\"\\n    }, {\\n      \"conf\" : 0.566597,\\n      \"end\" : 122.550007,\\n      \"start\" : 121.860007,\\n      \"word\" : \"centralizing\"\\n    }, {\\n      \"conf\" : 0.566597,\\n      \"end\" : 122.670007,\\n      \"start\" : 122.550007,\\n      \"word\" : \"it\\'s\"\\n    }, {\\n      \"conf\" : 1.000000,\\n      \"end\" : 123.180000,\\n      \"start\" : 122.670007,\\n      \"word\" : \"contents\"\\n    }, {\\n      \"conf\" : 1.000000,\\n      \"end\" : 123.360000,\\n      \"start\" : 123.180000,\\n      \"word\" : \"with\"\\n    }, {\\n      \"conf\" : 1.000000,\\n      \"end\" : 124.140000,\\n      \"start\" : 123.420000,\\n      \"word\" : \"effectively\"\\n    }, {\\n      \"conf\" : 1.000000,\\n      \"end\" : 124.950000,\\n      \"start\" : 124.440000,\\n      \"word\" : \"allowing\"\\n    }, {\\n      \"conf\" : 1.000000,\\n      \"end\" : 125.610000,\\n      \"start\" : 124.950000,\\n      \"word\" : \"users\"\\n    }, {\\n      \"conf\" : 1.000000,\\n      \"end\" : 126.090000,\\n      \"start\" : 125.670000,\\n      \"word\" : \"to\"\\n    }, {\\n      \"conf\" : 1.000000,\\n      \"end\" : 126.900000,\\n      \"start\" : 126.090000,\\n      \"word\" : \"personalize\"\\n    }, {\\n      \"conf\" : 1.000000,\\n      \"end\" : 127.350000,\\n      \"start\" : 126.900000,\\n      \"word\" : \"that\"\\n    }, {\\n      \"conf\" : 1.000000,\\n      \"end\" : 128.100000,\\n      \"start\" : 127.500000,\\n      \"word\" : \"content\"\\n    }, {\\n      \"conf\" : 1.000000,\\n      \"end\" : 128.250000,\\n      \"start\" : 128.100000,\\n      \"word\" : \"that\"\\n    }, {\\n      \"conf\" : 1.000000,\\n      \"end\" : 128.370000,\\n      \"start\" : 128.250000,\\n      \"word\" : \"they\"\\n    }, {\\n      \"conf\" : 1.000000,\\n      \"end\" : 128.610000,\\n      \"start\" : 128.370000,\\n      \"word\" : \"see\"\\n    }, {\\n      \"conf\" : 1.000000,\\n      \"end\" : 128.790000,\\n      \"start\" : 128.610000,\\n      \"word\" : \"on\"\\n    }, {\\n      \"conf\" : 1.000000,\\n      \"end\" : 128.940000,\\n      \"start\" : 128.790000,\\n      \"word\" : \"the\"\\n    }, {\\n      \"conf\" : 1.000000,\\n      \"end\" : 129.360000,\\n      \"start\" : 128.940000,\\n      \"word\" : \"app\"\\n    }, {\\n      \"conf\" : 1.000000,\\n      \"end\" : 130.080000,\\n      \"start\" : 129.900000,\\n      \"word\" : \"but\"\\n    }, {\\n      \"conf\" : 1.000000,\\n      \"end\" : 130.230000,\\n      \"start\" : 130.080000,\\n      \"word\" : \"i\\'ll\"\\n    }, {\\n      \"conf\" : 1.000000,\\n      \"end\" : 130.410000,\\n      \"start\" : 130.230000,\\n      \"word\" : \"tell\"\\n    }, {\\n      \"conf\" : 1.000000,\\n      \"end\" : 130.530000,\\n      \"start\" : 130.410000,\\n      \"word\" : \"you\"\\n    }, {\\n      \"conf\" : 1.000000,\\n      \"end\" : 130.620000,\\n      \"start\" : 130.530000,\\n      \"word\" : \"a\"\\n    }, {\\n      \"conf\" : 1.000000,\\n      \"end\" : 130.830000,\\n      \"start\" : 130.620000,\\n      \"word\" : \"lot\"\\n    }, {\\n      \"conf\" : 1.000000,\\n      \"end\" : 130.890000,\\n      \"start\" : 130.830000,\\n      \"word\" : \"of\"\\n    }, {\\n      \"conf\" : 1.000000,\\n      \"end\" : 131.160000,\\n      \"start\" : 130.890000,\\n      \"word\" : \"people\"\\n    }, {\\n      \"conf\" : 1.000000,\\n      \"end\" : 131.790000,\\n      \"start\" : 131.160000,\\n      \"word\" : \"really\"\\n    }, {\\n      \"conf\" : 1.000000,\\n      \"end\" : 132.300000,\\n      \"start\" : 131.850000,\\n      \"word\" : \"don\\'t\"\\n    }, {\\n      \"conf\" : 1.000000,\\n      \"end\" : 132.870000,\\n      \"start\" : 132.450000,\\n      \"word\" : \"know\"\\n    }, {\\n      \"conf\" : 1.000000,\\n      \"end\" : 133.620000,\\n      \"start\" : 133.380000,\\n      \"word\" : \"that\"\\n    }, {\\n      \"conf\" : 1.000000,\\n      \"end\" : 133.710000,\\n      \"start\" : 133.620000,\\n      \"word\" : \"is\"\\n    }, {\\n      \"conf\" : 1.000000,\\n      \"end\" : 133.830000,\\n      \"start\" : 133.710000,\\n      \"word\" : \"what\"\\n    }, {\\n      \"conf\" : 1.000000,\\n      \"end\" : 133.980000,\\n      \"start\" : 133.830000,\\n      \"word\" : \"he\"\\n    }, {\\n      \"conf\" : 1.000000,\\n      \"end\" : 134.250000,\\n      \"start\" : 133.980000,\\n      \"word\" : \"said\"\\n    }, {\\n      \"conf\" : 1.000000,\\n      \"end\" : 134.430000,\\n      \"start\" : 134.250000,\\n      \"word\" : \"but\"\\n    }, {\\n      \"conf\" : 1.000000,\\n      \"end\" : 134.520000,\\n      \"start\" : 134.430000,\\n      \"word\" : \"it\"\\n    }, {\\n      \"conf\" : 1.000000,\\n      \"end\" : 134.910000,\\n      \"start\" : 134.520000,\\n      \"word\" : \"feels\"\\n    }, {\\n      \"conf\" : 1.000000,\\n      \"end\" : 135.060000,\\n      \"start\" : 134.910000,\\n      \"word\" : \"like\"\\n    }, {\\n      \"conf\" : 1.000000,\\n      \"end\" : 135.180000,\\n      \"start\" : 135.060000,\\n      \"word\" : \"there\"\\n    }, {\\n      \"conf\" : 1.000000,\\n      \"end\" : 135.450000,\\n      \"start\" : 135.180000,\\n      \"word\" : \"might\"\\n    }, {\\n      \"conf\" : 1.000000,\\n      \"end\" : 135.600000,\\n      \"start\" : 135.450000,\\n      \"word\" : \"be\"\\n    }, {\\n      \"conf\" : 1.000000,\\n      \"end\" : 136.170000,\\n      \"start\" : 135.600000,\\n      \"word\" : \"something\"\\n    }, {\\n      \"conf\" : 1.000000,\\n      \"end\" : 137.040000,\\n      \"start\" : 136.560000,\\n      \"word\" : \"deeper\"\\n    }, {\\n      \"conf\" : 1.000000,\\n      \"end\" : 137.550000,\\n      \"start\" : 137.040000,\\n      \"word\" : \"here\"\\n    }, {\\n      \"conf\" : 1.000000,\\n      \"end\" : 137.730000,\\n      \"start\" : 137.580000,\\n      \"word\" : \"you\"\\n    }, {\\n      \"conf\" : 1.000000,\\n      \"end\" : 137.880000,\\n      \"start\" : 137.730000,\\n      \"word\" : \"know\"\\n    }, {\\n      \"conf\" : 1.000000,\\n      \"end\" : 138.030000,\\n      \"start\" : 137.880000,\\n      \"word\" : \"to\"\\n    }, {\\n      \"conf\" : 1.000000,\\n      \"end\" : 138.300000,\\n      \"start\" : 138.030000,\\n      \"word\" : \"spend\"\\n    }, {\\n      \"conf\" : 1.000000,\\n      \"end\" : 138.690000,\\n      \"start\" : 138.300000,\\n      \"word\" : \"forty\"\\n    }, {\\n      \"conf\" : 1.000000,\\n      \"end\" : 139.080000,\\n      \"start\" : 138.690000,\\n      \"word\" : \"billion\"\\n    }, {\\n      \"conf\" : 1.000000,\\n      \"end\" : 139.800000,\\n      \"start\" : 139.080000,\\n      \"word\" : \"dollars\"\\n    }, {\\n      \"conf\" : 1.000000,\\n      \"end\" : 140.910000,\\n      \"start\" : 140.250000,\\n      \"word\" : \"largely\"\\n    }, {\\n      \"conf\" : 0.685966,\\n      \"end\" : 141.570000,\\n      \"start\" : 141.450000,\\n      \"word\" : \"on\"\\n    }, {\\n      \"conf\" : 1.000000,\\n      \"end\" : 141.870000,\\n      \"start\" : 141.570000,\\n      \"word\" : \"money\"\\n    }, {\\n      \"conf\" : 1.000000,\\n      \"end\" : 142.320000,\\n      \"start\" : 141.900000,\\n      \"word\" : \"right\"\\n    }, {\\n      \"conf\" : 1.000000,\\n      \"end\" : 142.779741,\\n      \"start\" : 142.380000,\\n      \"word\" : \"i\"\\n    }, {\\n      \"conf\" : 1.000000,\\n      \"end\" : 143.220000,\\n      \"start\" : 142.860000,\\n      \"word\" : \"notice\"\\n    }, {\\n      \"conf\" : 1.000000,\\n      \"end\" : 143.310000,\\n      \"start\" : 143.220000,\\n      \"word\" : \"you\"\\n    }, {\\n      \"conf\" : 1.000000,\\n      \"end\" : 143.580000,\\n      \"start\" : 143.310000,\\n      \"word\" : \"didn\\'t\"\\n    }, {\\n      \"conf\" : 1.000000,\\n      \"end\" : 144.120000,\\n      \"start\" : 143.580000,\\n      \"word\" : \"say\"\\n    }, {\\n      \"conf\" : 1.000000,\\n      \"end\" : 144.330000,\\n      \"start\" : 144.120000,\\n      \"word\" : \"he\"\\n    }, {\\n      \"conf\" : 1.000000,\\n      \"end\" : 144.630000,\\n      \"start\" : 144.330000,\\n      \"word\" : \"wants\"\\n    }, {\\n      \"conf\" : 1.000000,\\n      \"end\" : 144.810000,\\n      \"start\" : 144.660000,\\n      \"word\" : \"to\"\\n    }, {\\n      \"conf\" : 1.000000,\\n      \"end\" : 145.200000,\\n      \"start\" : 144.810000,\\n      \"word\" : \"make\"\\n    }, {\\n      \"conf\" : 1.000000,\\n      \"end\" : 145.560000,\\n      \"start\" : 145.200000,\\n      \"word\" : \"money\"\\n    }, {\\n      \"conf\" : 1.000000,\\n      \"end\" : 145.710000,\\n      \"start\" : 145.560000,\\n      \"word\" : \"he\"\\n    }, {\\n      \"conf\" : 1.000000,\\n      \"end\" : 146.010000,\\n      \"start\" : 145.710000,\\n      \"word\" : \"wants\"\\n    }, {\\n      \"conf\" : 1.000000,\\n      \"end\" : 146.100000,\\n      \"start\" : 146.010000,\\n      \"word\" : \"to\"\\n    }, {\\n      \"conf\" : 1.000000,\\n      \"end\" : 146.340000,\\n      \"start\" : 146.100000,\\n      \"word\" : \"run\"\\n    }, {\\n      \"conf\" : 1.000000,\\n      \"end\" : 146.460000,\\n      \"start\" : 146.340000,\\n      \"word\" : \"it\"\\n    }, {\\n      \"conf\" : 1.000000,\\n      \"end\" : 146.700000,\\n      \"start\" : 146.460000,\\n      \"word\" : \"as\"\\n    }, {\\n      \"conf\" : 1.000000,\\n      \"end\" : 146.760000,\\n      \"start\" : 146.700000,\\n      \"word\" : \"a\"\\n    }, {\\n      \"conf\" : 1.000000,\\n      \"end\" : 147.060000,\\n      \"start\" : 146.760000,\\n      \"word\" : \"better\"\\n    }, {\\n      \"conf\" : 1.000000,\\n      \"end\" : 147.690000,\\n      \"start\" : 147.060000,\\n      \"word\" : \"business\"\\n    }, {\\n      \"conf\" : 1.000000,\\n      \"end\" : 147.930000,\\n      \"start\" : 147.690000,\\n      \"word\" : \"and\"\\n    }, {\\n      \"conf\" : 0.739674,\\n      \"end\" : 148.170000,\\n      \"start\" : 147.930000,\\n      \"word\" : \"show\"\\n    }, {\\n      \"conf\" : 1.000000,\\n      \"end\" : 148.440000,\\n      \"start\" : 148.170000,\\n      \"word\" : \"the\"\\n    }, {\\n      \"conf\" : 1.000000,\\n      \"end\" : 148.890000,\\n      \"start\" : 148.440000,\\n      \"word\" : \"the\"\\n    }, {\\n      \"conf\" : 1.000000,\\n      \"end\" : 150.090000,\\n      \"start\" : 149.700000,\\n      \"word\" : \"the\"\\n    }, {\\n      \"conf\" : 1.000000,\\n      \"end\" : 150.330000,\\n      \"start\" : 150.090000,\\n      \"word\" : \"the\"\\n    }, {\\n      \"conf\" : 1.000000,\\n      \"end\" : 150.720000,\\n      \"start\" : 150.330000,\\n      \"word\" : \"logical\"\\n    }, {\\n      \"conf\" : 1.000000,\\n      \"end\" : 151.200000,\\n      \"start\" : 150.720000,\\n      \"word\" : \"extension\"\\n    }, {\\n      \"conf\" : 1.000000,\\n      \"end\" : 151.290000,\\n      \"start\" : 151.200000,\\n      \"word\" : \"of\"\\n    }, {\\n      \"conf\" : 1.000000,\\n      \"end\" : 151.500000,\\n      \"start\" : 151.290000,\\n      \"word\" : \"that\"\\n    }, {\\n      \"conf\" : 1.000000,\\n      \"end\" : 151.650000,\\n      \"start\" : 151.500000,\\n      \"word\" : \"is\"\\n    }, {\\n      \"conf\" : 1.000000,\\n      \"end\" : 151.890000,\\n      \"start\" : 151.650000,\\n      \"word\" : \"here\"\\n    }, {\\n      \"conf\" : 1.000000,\\n      \"end\" : 152.010000,\\n      \"start\" : 151.890000,\\n      \"word\" : \"you\"\\n    }, {\\n      \"conf\" : 1.000000,\\n      \"end\" : 152.430000,\\n      \"start\" : 152.010000,\\n      \"word\" : \"have\"\\n    }, {\\n      \"conf\" : 1.000000,\\n      \"end\" : 153.330000,\\n      \"start\" : 152.550000,\\n      \"word\" : \"an\"\\n    }, {\\n      \"conf\" : 1.000000,\\n      \"end\" : 153.660000,\\n      \"start\" : 153.330000,\\n      \"word\" : \"american\"\\n    }, {\\n      \"conf\" : 1.000000,\\n      \"end\" : 154.200000,\\n      \"start\" : 153.660000,\\n      \"word\" : \"oligarch\"\\n    }, {\\n      \"conf\" : 1.000000,\\n      \"end\" : 154.860000,\\n      \"start\" : 154.470000,\\n      \"word\" : \"buying\"\\n    }, {\\n      \"conf\" : 1.000000,\\n      \"end\" : 154.980000,\\n      \"start\" : 154.860000,\\n      \"word\" : \"a\"\\n    }, {\\n      \"conf\" : 1.000000,\\n      \"end\" : 155.730000,\\n      \"start\" : 155.010000,\\n      \"word\" : \"global\"\\n    }, {\\n      \"conf\" : 1.000000,\\n      \"end\" : 156.930000,\\n      \"start\" : 155.790000,\\n      \"word\" : \"communications\"\\n    }, {\\n      \"conf\" : 1.000000,\\n      \"end\" : 157.770000,\\n      \"start\" : 157.050000,\\n      \"word\" : \"platform\"\\n    }, {\\n      \"conf\" : 1.000000,\\n      \"end\" : 158.790000,\\n      \"start\" : 158.220000,\\n      \"word\" : \"and\"\\n    }, {\\n      \"conf\" : 0.597529,\\n      \"end\" : 159.900000,\\n      \"start\" : 159.240000,\\n      \"word\" : \"work\"\\n    }, {\\n      \"conf\" : 0.597529,\\n      \"end\" : 159.960000,\\n      \"start\" : 159.900000,\\n      \"word\" : \"at\"\\n    }, {\\n      \"conf\" : 1.000000,\\n      \"end\" : 160.260000,\\n      \"start\" : 159.960000,\\n      \"word\" : \"just\"\\n    }, {\\n      \"conf\" : 1.000000,\\n      \"end\" : 160.380000,\\n      \"start\" : 160.260000,\\n      \"word\" : \"going\"\\n    }, {\\n      \"conf\" : 1.000000,\\n      \"end\" : 160.440000,\\n      \"start\" : 160.380000,\\n      \"word\" : \"to\"\\n    }, {\\n      \"conf\" : 1.000000,\\n      \"end\" : 160.560000,\\n      \"start\" : 160.440000,\\n      \"word\" : \"have\"\\n    }, {\\n      \"conf\" : 1.000000,\\n      \"end\" : 160.650000,\\n      \"start\" : 160.560000,\\n      \"word\" : \"to\"\\n    }, {\\n      \"conf\" : 1.000000,\\n      \"end\" : 160.770000,\\n      \"start\" : 160.650000,\\n      \"word\" : \"see\"\\n    }, {\\n      \"conf\" : 1.000000,\\n      \"end\" : 160.920000,\\n      \"start\" : 160.770000,\\n      \"word\" : \"what\"\\n    }, {\\n      \"conf\" : 1.000000,\\n      \"end\" : 161.400000,\\n      \"start\" : 160.920000,\\n      \"word\" : \"happens\"\\n    }, {\\n      \"conf\" : 1.000000,\\n      \"end\" : 163.080000,\\n      \"start\" : 162.900000,\\n      \"word\" : \"we\\'re\"\\n    }, {\\n      \"conf\" : 1.000000,\\n      \"end\" : 163.320000,\\n      \"start\" : 163.080000,\\n      \"word\" : \"just\"\\n    }, {\\n      \"conf\" : 0.762579,\\n      \"end\" : 163.470000,\\n      \"start\" : 163.320000,\\n      \"word\" : \"gonna\"\\n    }, {\\n      \"conf\" : 1.000000,\\n      \"end\" : 163.650000,\\n      \"start\" : 163.477119,\\n      \"word\" : \"have\"\\n    }, {\\n      \"conf\" : 1.000000,\\n      \"end\" : 163.770000,\\n      \"start\" : 163.650000,\\n      \"word\" : \"to\"\\n    }, {\\n      \"conf\" : 1.000000,\\n      \"end\" : 163.950000,\\n      \"start\" : 163.770000,\\n      \"word\" : \"see\"\\n    }, {\\n      \"conf\" : 1.000000,\\n      \"end\" : 164.070000,\\n      \"start\" : 163.950000,\\n      \"word\" : \"what\"\\n    }, {\\n      \"conf\" : 1.000000,\\n      \"end\" : 164.490000,\\n      \"start\" : 164.070000,\\n      \"word\" : \"happens\"\\n    }, {\\n      \"conf\" : 1.000000,\\n      \"end\" : 164.580000,\\n      \"start\" : 164.490000,\\n      \"word\" : \"i\"\\n    }, {\\n      \"conf\" : 1.000000,\\n      \"end\" : 164.790000,\\n      \"start\" : 164.580000,\\n      \"word\" : \"don\\'t\"\\n    }, {\\n      \"conf\" : 1.000000,\\n      \"end\" : 165.030000,\\n      \"start\" : 164.790000,\\n      \"word\" : \"think\"\\n    }, {\\n      \"conf\" : 1.000000,\\n      \"end\" : 165.390000,\\n      \"start\" : 165.030000,\\n      \"word\" : \"we\"\\n    }, {\\n      \"conf\" : 1.000000,\\n      \"end\" : 165.600000,\\n      \"start\" : 165.390000,\\n      \"word\" : \"have\"\\n    }, {\\n      \"conf\" : 1.000000,\\n      \"end\" : 165.930000,\\n      \"start\" : 165.600000,\\n      \"word\" : \"really\"\\n    }, {\\n      \"conf\" : 1.000000,\\n      \"end\" : 166.170000,\\n      \"start\" : 165.930000,\\n      \"word\" : \"ever\"\\n    }, {\\n      \"conf\" : 1.000000,\\n      \"end\" : 166.380000,\\n      \"start\" : 166.170000,\\n      \"word\" : \"seen\"\\n    }, {\\n      \"conf\" : 1.000000,\\n      \"end\" : 166.740000,\\n      \"start\" : 166.380000,\\n      \"word\" : \"anything\"\\n    }, {\\n      \"conf\" : 1.000000,\\n      \"end\" : 166.950000,\\n      \"start\" : 166.740000,\\n      \"word\" : \"like\"\\n    }, {\\n      \"conf\" : 1.000000,\\n      \"end\" : 167.160000,\\n      \"start\" : 166.950000,\\n      \"word\" : \"this\"\\n    }, {\\n      \"conf\" : 1.000000,\\n      \"end\" : 167.250000,\\n      \"start\" : 167.160000,\\n      \"word\" : \"you\"\\n    }, {\\n      \"conf\" : 1.000000,\\n      \"end\" : 167.340000,\\n      \"start\" : 167.250000,\\n      \"word\" : \"know\"\\n    }, {\\n      \"conf\" : 1.000000,\\n      \"end\" : 167.820000,\\n      \"start\" : 167.340000,\\n      \"word\" : \"obviously\"\\n    }, {\\n      \"conf\" : 1.000000,\\n      \"end\" : 167.975596,\\n      \"start\" : 167.820000,\\n      \"word\" : \"that\"\\n    }, {\\n      \"conf\" : 0.704023,\\n      \"end\" : 168.240000,\\n      \"start\" : 167.975596,\\n      \"word\" : \"fans\"\\n    }, {\\n      \"conf\" : 0.704023,\\n      \"end\" : 168.417378,\\n      \"start\" : 168.240000,\\n      \"word\" : \"have\"\\n    }, {\\n      \"conf\" : 1.000000,\\n      \"end\" : 168.840000,\\n      \"start\" : 168.417378,\\n      \"word\" : \"thought\"\\n    }, {\\n      \"conf\" : 1.000000,\\n      \"end\" : 169.620000,\\n      \"start\" : 169.230000,\\n      \"word\" : \"otherwise\"\\n    }, {\\n      \"conf\" : 0.572524,\\n      \"end\" : 169.860000,\\n      \"start\" : 169.650000,\\n      \"word\" : \"in\"\\n    }, {\\n      \"conf\" : 1.000000,\\n      \"end\" : 170.100000,\\n      \"start\" : 169.860000,\\n      \"word\" : \"both\"\\n    }, {\\n      \"conf\" : 1.000000,\\n      \"end\" : 170.220000,\\n      \"start\" : 170.100000,\\n      \"word\" : \"but\"\\n    }, {\\n      \"conf\" : 1.000000,\\n      \"end\" : 170.340000,\\n      \"start\" : 170.220000,\\n      \"word\" : \"that\"\\n    }, {\\n      \"conf\" : 1.000000,\\n      \"end\" : 170.460000,\\n      \"start\" : 170.340000,\\n      \"word\" : \"was\"\\n    }, {\\n      \"conf\" : 1.000000,\\n      \"end\" : 170.700000,\\n      \"start\" : 170.460000,\\n      \"word\" : \"very\"\\n    }, {\\n      \"conf\" : 1.000000,\\n      \"end\" : 171.030000,\\n      \"start\" : 170.700000,\\n      \"word\" : \"different\"\\n    }, {\\n      \"conf\" : 1.000000,\\n      \"end\" : 171.150000,\\n      \"start\" : 171.030000,\\n      \"word\" : \"he\"\\n    }, {\\n      \"conf\" : 1.000000,\\n      \"end\" : 171.300000,\\n      \"start\" : 171.150000,\\n      \"word\" : \"said\"\\n    }, {\\n      \"conf\" : 1.000000,\\n      \"end\" : 171.450000,\\n      \"start\" : 171.300000,\\n      \"word\" : \"he\"\\n    }, {\\n      \"conf\" : 1.000000,\\n      \"end\" : 171.630000,\\n      \"start\" : 171.450000,\\n      \"word\" : \"would\"\\n    }, {\\n      \"conf\" : 1.000000,\\n      \"end\" : 172.050000,\\n      \"start\" : 171.630000,\\n      \"word\" : \"not\"\\n    }, {\\n      \"conf\" : 1.000000,\\n      \"end\" : 172.380000,\\n      \"start\" : 172.170000,\\n      \"word\" : \"get\"\\n    }, {\\n      \"conf\" : 1.000000,\\n      \"end\" : 172.830000,\\n      \"start\" : 172.380000,\\n      \"word\" : \"involved\"\\n    }, {\\n      \"conf\" : 1.000000,\\n      \"end\" : 172.920000,\\n      \"start\" : 172.830000,\\n      \"word\" : \"at\"\\n    }, {\\n      \"conf\" : 1.000000,\\n      \"end\" : 173.160000,\\n      \"start\" : 172.920000,\\n      \"word\" : \"all\"\\n    }, {\\n      \"conf\" : 1.000000,\\n      \"end\" : 173.970000,\\n      \"start\" : 173.160000,\\n      \"word\" : \"editorially\"\\n    }, {\\n      \"conf\" : 1.000000,\\n      \"end\" : 174.120000,\\n      \"start\" : 173.970000,\\n      \"word\" : \"and\"\\n    }, {\\n      \"conf\" : 1.000000,\\n      \"end\" : 174.540000,\\n      \"start\" : 174.180000,\\n      \"word\" : \"elon\"\\n    }, {\\n      \"conf\" : 1.000000,\\n      \"end\" : 174.900000,\\n      \"start\" : 174.570000,\\n      \"word\" : \"musk\"\\n    }, {\\n      \"conf\" : 1.000000,\\n      \"end\" : 175.170000,\\n      \"start\" : 174.900000,\\n      \"word\" : \"has\"\\n    }, {\\n      \"conf\" : 1.000000,\\n      \"end\" : 175.440000,\\n      \"start\" : 175.170000,\\n      \"word\" : \"said\"\\n    }, {\\n      \"conf\" : 1.000000,\\n      \"end\" : 175.680000,\\n      \"start\" : 175.440000,\\n      \"word\" : \"in\"\\n    }, {\\n      \"conf\" : 1.000000,\\n      \"end\" : 176.640000,\\n      \"start\" : 175.800000,\\n      \"word\" : \"editorial\"\\n    }, {\\n      \"conf\" : 0.413548,\\n      \"end\" : 177.606812,\\n      \"start\" : 177.120000,\\n      \"word\" : \"concerning\"\\n    }, {\\n      \"conf\" : 0.586452,\\n      \"end\" : 177.750000,\\n      \"start\" : 177.606812,\\n      \"word\" : \"because\"\\n    }, {\\n      \"conf\" : 1.000000,\\n      \"end\" : 178.020000,\\n      \"start\" : 177.750000,\\n      \"word\" : \"his\"\\n    }, {\\n      \"conf\" : 1.000000,\\n      \"end\" : 178.710000,\\n      \"start\" : 178.110000,\\n      \"word\" : \"desire\"\\n    }, {\\n      \"conf\" : 1.000000,\\n      \"end\" : 178.860000,\\n      \"start\" : 178.710000,\\n      \"word\" : \"in\"\\n    }, {\\n      \"conf\" : 1.000000,\\n      \"end\" : 179.250000,\\n      \"start\" : 178.860000,\\n      \"word\" : \"buying\"\\n    }, {\\n      \"conf\" : 1.000000,\\n      \"end\" : 179.400000,\\n      \"start\" : 179.250000,\\n      \"word\" : \"it\"\\n    }, {\\n      \"conf\" : 0.719770,\\n      \"end\" : 179.580000,\\n      \"start\" : 179.430000,\\n      \"word\" : \"for\"\\n    }, {\\n      \"conf\" : 1.000000,\\n      \"end\" : 179.910000,\\n      \"start\" : 179.580000,\\n      \"word\" : \"now\"\\n    }, {\\n      \"conf\" : 0.781365,\\n      \"end\" : 180.240000,\\n      \"start\" : 180.150000,\\n      \"word\" : \"that\"\\n    }, {\\n      \"conf\" : 1.000000,\\n      \"end\" : 180.330000,\\n      \"start\" : 180.240000,\\n      \"word\" : \"we\"\\n    }, {\\n      \"conf\" : 1.000000,\\n      \"end\" : 180.540000,\\n      \"start\" : 180.330000,\\n      \"word\" : \"don\\'t\"\\n    }, {\\n      \"conf\" : 1.000000,\\n      \"end\" : 180.870000,\\n      \"start\" : 180.540000,\\n      \"word\" : \"really\"\\n    }, {\\n      \"conf\" : 1.000000,\\n      \"end\" : 181.050000,\\n      \"start\" : 180.870000,\\n      \"word\" : \"know\"\\n    }, {\\n      \"conf\" : 1.000000,\\n      \"end\" : 181.200000,\\n      \"start\" : 181.050000,\\n      \"word\" : \"what\"\\n    }, {\\n      \"conf\" : 1.000000,\\n      \"end\" : 181.440000,\\n      \"start\" : 181.200000,\\n      \"word\" : \"the\"\\n    }, {\\n      \"conf\" : 1.000000,\\n      \"end\" : 181.800000,\\n      \"start\" : 181.530000,\\n      \"word\" : \"end\"\\n    }, {\\n      \"conf\" : 1.000000,\\n      \"end\" : 182.100000,\\n      \"start\" : 181.800000,\\n      \"word\" : \"goal\"\\n    }, {\\n      \"conf\" : 1.000000,\\n      \"end\" : 182.310000,\\n      \"start\" : 182.100000,\\n      \"word\" : \"is\"\\n    }, {\\n      \"conf\" : 1.000000,\\n      \"end\" : 182.760000,\\n      \"start\" : 182.310000,\\n      \"word\" : \"here\"\\n    }, {\\n      \"conf\" : 1.000000,\\n      \"end\" : 183.630000,\\n      \"start\" : 183.180000,\\n      \"word\" : \"and\"\\n    }, {\\n      \"conf\" : 1.000000,\\n      \"end\" : 183.930000,\\n      \"start\" : 183.630000,\\n      \"word\" : \"he\"\\n    }, {\\n      \"conf\" : 0.552285,\\n      \"end\" : 184.170000,\\n      \"start\" : 183.930015,\\n      \"word\" : \"said\"\\n    }, {\\n      \"conf\" : 1.000000,\\n      \"end\" : 184.320000,\\n      \"start\" : 184.170000,\\n      \"word\" : \"on\"\\n    }, {\\n      \"conf\" : 1.000000,\\n      \"end\" : 184.440000,\\n      \"start\" : 184.320000,\\n      \"word\" : \"his\"\\n    }, {\\n      \"conf\" : 1.000000,\\n      \"end\" : 184.710000,\\n      \"start\" : 184.440000,\\n      \"word\" : \"ted\"\\n    }, {\\n      \"conf\" : 1.000000,\\n      \"end\" : 185.062427,\\n      \"start\" : 184.710000,\\n      \"word\" : \"talk\"\\n    }, {\\n      \"conf\" : 1.000000,\\n      \"end\" : 185.190000,\\n      \"start\" : 185.085161,\\n      \"word\" : \"the\"\\n    }, {\\n      \"conf\" : 1.000000,\\n      \"end\" : 185.730000,\\n      \"start\" : 185.220000,\\n      \"word\" : \"day\"\\n    }, {\\n      \"conf\" : 1.000000,\\n      \"end\" : 185.880000,\\n      \"start\" : 185.730000,\\n      \"word\" : \"you\"\\n    }, {\\n      \"conf\" : 1.000000,\\n      \"end\" : 186.000000,\\n      \"start\" : 185.880000,\\n      \"word\" : \"are\"\\n    }, {\\n      \"conf\" : 1.000000,\\n      \"end\" : 186.270000,\\n      \"start\" : 186.000000,\\n      \"word\" : \"bound\"\\n    }, {\\n      \"conf\" : 1.000000,\\n      \"end\" : 186.660000,\\n      \"start\" : 186.600000,\\n      \"word\" : \"to\"\\n    }, {\\n      \"conf\" : 1.000000,\\n      \"end\" : 186.750000,\\n      \"start\" : 186.660000,\\n      \"word\" : \"be\"\\n    }, {\\n      \"conf\" : 1.000000,\\n      \"end\" : 187.230000,\\n      \"start\" : 186.750000,\\n      \"word\" : \"announced\"\\n    }, {\\n      \"conf\" : 1.000000,\\n      \"end\" : 187.320000,\\n      \"start\" : 187.230000,\\n      \"word\" : \"in\"\\n    }, {\\n      \"conf\" : 1.000000,\\n      \"end\" : 187.650000,\\n      \"start\" : 187.380000,\\n      \"word\" : \"bed\"\\n    }, {\\n      \"conf\" : 1.000000,\\n      \"end\" : 187.860000,\\n      \"start\" : 187.680000,\\n      \"word\" : \"that\"\\n    }, {\\n      \"conf\" : 1.000000,\\n      \"end\" : 188.370000,\\n      \"start\" : 187.860000,\\n      \"word\" : \"profit\"\\n    }, {\\n      \"conf\" : 1.000000,\\n      \"end\" : 188.550000,\\n      \"start\" : 188.400000,\\n      \"word\" : \"is\"\\n    }, {\\n      \"conf\" : 1.000000,\\n      \"end\" : 188.790000,\\n      \"start\" : 188.550000,\\n      \"word\" : \"not\"\\n    }, {\\n      \"conf\" : 1.000000,\\n      \"end\" : 188.820000,\\n      \"start\" : 188.790000,\\n      \"word\" : \"a\"\\n    }, {\\n      \"conf\" : 1.000000,\\n      \"end\" : 189.270000,\\n      \"start\" : 188.820000,\\n      \"word\" : \"motive\"\\n    }, {\\n      \"conf\" : 1.000000,\\n      \"end\" : 190.140000,\\n      \"start\" : 189.390000,\\n      \"word\" : \"so\"\\n    }, {\\n      \"conf\" : 1.000000,\\n      \"end\" : 191.040000,\\n      \"start\" : 190.800000,\\n      \"word\" : \"it\\'ll\"\\n    }, {\\n      \"conf\" : 1.000000,\\n      \"end\" : 191.190000,\\n      \"start\" : 191.040000,\\n      \"word\" : \"be\"\\n    }, {\\n      \"conf\" : 1.000000,\\n      \"end\" : 191.670000,\\n      \"start\" : 191.190000,\\n      \"word\" : \"interesting\"\\n    }, {\\n      \"conf\" : 1.000000,\\n      \"end\" : 191.790000,\\n      \"start\" : 191.670000,\\n      \"word\" : \"to\"\\n    }, {\\n      \"conf\" : 1.000000,\\n      \"end\" : 191.970000,\\n      \"start\" : 191.790000,\\n      \"word\" : \"see\"\\n    }, {\\n      \"conf\" : 1.000000,\\n      \"end\" : 192.150000,\\n      \"start\" : 191.970000,\\n      \"word\" : \"how\"\\n    }, {\\n      \"conf\" : 1.000000,\\n      \"end\" : 192.360000,\\n      \"start\" : 192.150000,\\n      \"word\" : \"this\"\\n    }, {\\n      \"conf\" : 1.000000,\\n      \"end\" : 192.630000,\\n      \"start\" : 192.360000,\\n      \"word\" : \"turns\"\\n    }, {\\n      \"conf\" : 1.000000,\\n      \"end\" : 192.810000,\\n      \"start\" : 192.630000,\\n      \"word\" : \"out\"\\n    }, {\\n      \"conf\" : 1.000000,\\n      \"end\" : 193.260000,\\n      \"start\" : 193.020000,\\n      \"word\" : \"it\"\\n    }, {\\n      \"conf\" : 1.000000,\\n      \"end\" : 193.560000,\\n      \"start\" : 193.260000,\\n      \"word\" : \"will\"\\n    }, {\\n      \"conf\" : 1.000000,\\n      \"end\" : 193.950000,\\n      \"start\" : 193.560000,\\n      \"word\" : \"indeed\"\\n    }, {\\n      \"conf\" : 1.000000,\\n      \"end\" : 194.250000,\\n      \"start\" : 194.070000,\\n      \"word\" : \"to\"\\n    }, {\\n      \"conf\" : 1.000000,\\n      \"end\" : 194.340000,\\n      \"start\" : 194.250000,\\n      \"word\" : \"the\"\\n    }, {\\n      \"conf\" : 1.000000,\\n      \"end\" : 194.490000,\\n      \"start\" : 194.370000,\\n      \"word\" : \"to\"\\n    }, {\\n      \"conf\" : 1.000000,\\n      \"end\" : 194.580000,\\n      \"start\" : 194.490000,\\n      \"word\" : \"the\"\\n    }, {\\n      \"conf\" : 1.000000,\\n      \"end\" : 194.820000,\\n      \"start\" : 194.580000,\\n      \"word\" : \"nuts\"\\n    }, {\\n      \"conf\" : 1.000000,\\n      \"end\" : 194.910000,\\n      \"start\" : 194.820000,\\n      \"word\" : \"and\"\\n    }, {\\n      \"conf\" : 1.000000,\\n      \"end\" : 195.150000,\\n      \"start\" : 194.910000,\\n      \"word\" : \"bolts\"\\n    }, {\\n      \"conf\" : 1.000000,\\n      \"end\" : 195.210000,\\n      \"start\" : 195.150000,\\n      \"word\" : \"of\"\\n    }, {\\n      \"conf\" : 1.000000,\\n      \"end\" : 195.360000,\\n      \"start\" : 195.210000,\\n      \"word\" : \"this\"\\n    }, {\\n      \"conf\" : 1.000000,\\n      \"end\" : 196.080000,\\n      \"start\" : 195.360000,\\n      \"word\" : \"negotiation\"\\n    }, {\\n      \"conf\" : 1.000000,\\n      \"end\" : 196.560000,\\n      \"start\" : 196.200000,\\n      \"word\" : \"and\"\\n    }, {\\n      \"conf\" : 1.000000,\\n      \"end\" : 197.250000,\\n      \"start\" : 197.040000,\\n      \"word\" : \"he\"\\n    }, {\\n      \"conf\" : 1.000000,\\n      \"end\" : 197.550000,\\n      \"start\" : 197.250000,\\n      \"word\" : \"comes\"\\n    }, {\\n      \"conf\" : 1.000000,\\n      \"end\" : 197.850000,\\n      \"start\" : 197.550000,\\n      \"word\" : \"in\"\\n    }, {\\n      \"conf\" : 1.000000,\\n      \"end\" : 198.090000,\\n      \"start\" : 197.850000,\\n      \"word\" : \"and\"\\n    }, {\\n      \"conf\" : 1.000000,\\n      \"end\" : 198.510000,\\n      \"start\" : 198.090000,\\n      \"word\" : \"says\"\\n    }, {\\n      \"conf\" : 1.000000,\\n      \"end\" : 198.690000,\\n      \"start\" : 198.510000,\\n      \"word\" : \"i\"\\n    }, {\\n      \"conf\" : 1.000000,\\n      \"end\" : 198.900000,\\n      \"start\" : 198.690000,\\n      \"word\" : \"want\"\\n    }, {\\n      \"conf\" : 1.000000,\\n      \"end\" : 198.960000,\\n      \"start\" : 198.900000,\\n      \"word\" : \"to\"\\n    }, {\\n      \"conf\" : 1.000000,\\n      \"end\" : 199.110000,\\n      \"start\" : 198.960000,\\n      \"word\" : \"buy\"\\n    }, {\\n      \"conf\" : 1.000000,\\n      \"end\" : 199.590000,\\n      \"start\" : 199.110000,\\n      \"word\" : \"twitter\"\\n    }, {\\n      \"conf\" : 1.000000,\\n      \"end\" : 199.770000,\\n      \"start\" : 199.590000,\\n      \"word\" : \"and\"\\n    }, {\\n      \"conf\" : 1.000000,\\n      \"end\" : 199.950000,\\n      \"start\" : 199.770000,\\n      \"word\" : \"here\\'s\"\\n    }, {\\n      \"conf\" : 1.000000,\\n      \"end\" : 200.100000,\\n      \"start\" : 199.950000,\\n      \"word\" : \"my\"\\n    }, {\\n      \"conf\" : 1.000000,\\n      \"end\" : 200.670000,\\n      \"start\" : 200.100000,\\n      \"word\" : \"price\"\\n    }, {\\n      \"conf\" : 1.000000,\\n      \"end\" : 201.090000,\\n      \"start\" : 200.730000,\\n      \"word\" : \"final\"\\n    }, {\\n      \"conf\" : 1.000000,\\n      \"end\" : 201.390000,\\n      \"start\" : 201.090000,\\n      \"word\" : \"offer\"\\n    }, {\\n      \"conf\" : 1.000000,\\n      \"end\" : 201.480000,\\n      \"start\" : 201.390000,\\n      \"word\" : \"the\"\\n    }, {\\n      \"conf\" : 1.000000,\\n      \"end\" : 201.750000,\\n      \"start\" : 201.480000,\\n      \"word\" : \"board\"\\n    }, {\\n      \"conf\" : 1.000000,\\n      \"end\" : 202.200000,\\n      \"start\" : 201.750000,\\n      \"word\" : \"says\"\\n    }, {\\n      \"conf\" : 1.000000,\\n      \"end\" : 202.980000,\\n      \"start\" : 202.620000,\\n      \"word\" : \"i\"\\n    }, {\\n      \"conf\" : 1.000000,\\n      \"end\" : 203.490000,\\n      \"start\" : 202.980000,\\n      \"word\" : \"dunno\"\\n    }, {\\n      \"conf\" : 1.000000,\\n      \"end\" : 203.730000,\\n      \"start\" : 203.490000,\\n      \"word\" : \"there\\'s\"\\n    }, {\\n      \"conf\" : 1.000000,\\n      \"end\" : 203.910000,\\n      \"start\" : 203.730000,\\n      \"word\" : \"talk\"\\n    }, {\\n      \"conf\" : 1.000000,\\n      \"end\" : 204.120000,\\n      \"start\" : 203.910000,\\n      \"word\" : \"about\"\\n    }, {\\n      \"conf\" : 1.000000,\\n      \"end\" : 204.150000,\\n      \"start\" : 204.120000,\\n      \"word\" : \"a\"\\n    }, {\\n      \"conf\" : 1.000000,\\n      \"end\" : 204.510000,\\n      \"start\" : 204.150000,\\n      \"word\" : \"poison\"\\n    }, {\\n      \"conf\" : 1.000000,\\n      \"end\" : 204.870000,\\n      \"start\" : 204.540000,\\n      \"word\" : \"pill\"\\n    }, {\\n      \"conf\" : 1.000000,\\n      \"end\" : 204.990000,\\n      \"start\" : 204.870000,\\n      \"word\" : \"the\"\\n    }, {\\n      \"conf\" : 0.532139,\\n      \"end\" : 205.200000,\\n      \"start\" : 204.990000,\\n      \"word\" : \"board\\'s\"\\n    }, {\\n      \"conf\" : 1.000000,\\n      \"end\" : 205.560000,\\n      \"start\" : 205.230000,\\n      \"word\" : \"clearly\"\\n    }, {\\n      \"conf\" : 1.000000,\\n      \"end\" : 205.740000,\\n      \"start\" : 205.560000,\\n      \"word\" : \"not\"\\n    }, {\\n      \"conf\" : 1.000000,\\n      \"end\" : 206.190000,\\n      \"start\" : 205.740000,\\n      \"word\" : \"excited\"\\n    }, {\\n      \"conf\" : 1.000000,\\n      \"end\" : 206.700000,\\n      \"start\" : 206.550000,\\n      \"word\" : \"and\"\\n    }, {\\n      \"conf\" : 1.000000,\\n      \"end\" : 206.820000,\\n      \"start\" : 206.700000,\\n      \"word\" : \"then\"\\n    }, {\\n      \"conf\" : 1.000000,\\n      \"end\" : 207.240000,\\n      \"start\" : 206.820000,\\n      \"word\" : \"presto\"\\n    }, {\\n      \"conf\" : 1.000000,\\n      \"end\" : 207.900000,\\n      \"start\" : 207.240000,\\n      \"word\" : \"chango\"\\n    }, {\\n      \"conf\" : 1.000000,\\n      \"end\" : 208.050000,\\n      \"start\" : 207.930000,\\n      \"word\" : \"the\"\\n    }, {\\n      \"conf\" : 1.000000,\\n      \"end\" : 208.290000,\\n      \"start\" : 208.050000,\\n      \"word\" : \"board\"\\n    }, {\\n      \"conf\" : 1.000000,\\n      \"end\" : 208.530000,\\n      \"start\" : 208.290000,\\n      \"word\" : \"says\"\\n    }, {\\n      \"conf\" : 1.000000,\\n      \"end\" : 208.800000,\\n      \"start\" : 208.530000,\\n      \"word\" : \"yes\"\\n    }, {\\n      \"conf\" : 1.000000,\\n      \"end\" : 208.950000,\\n      \"start\" : 208.800000,\\n      \"word\" : \"did\"\\n    }, {\\n      \"conf\" : 1.000000,\\n      \"end\" : 209.070000,\\n      \"start\" : 208.950000,\\n      \"word\" : \"they\"\\n    }, {\\n      \"conf\" : 1.000000,\\n      \"end\" : 209.280000,\\n      \"start\" : 209.070000,\\n      \"word\" : \"just\"\\n    }, {\\n      \"conf\" : 1.000000,\\n      \"end\" : 209.490000,\\n      \"start\" : 209.280000,\\n      \"word\" : \"give\"\\n    }, {\\n      \"conf\" : 1.000000,\\n      \"end\" : 209.640000,\\n      \"start\" : 209.490000,\\n      \"word\" : \"up\"\\n    }, {\\n      \"conf\" : 1.000000,\\n      \"end\" : 209.730000,\\n      \"start\" : 209.640000,\\n      \"word\" : \"and\"\\n    }, {\\n      \"conf\" : 1.000000,\\n      \"end\" : 209.880000,\\n      \"start\" : 209.730000,\\n      \"word\" : \"say\"\\n    }, {\\n      \"conf\" : 1.000000,\\n      \"end\" : 209.970000,\\n      \"start\" : 209.880000,\\n      \"word\" : \"you\"\\n    }, {\\n      \"conf\" : 1.000000,\\n      \"end\" : 210.090000,\\n      \"start\" : 209.970000,\\n      \"word\" : \"know\"\\n    }, {\\n      \"conf\" : 1.000000,\\n      \"end\" : 210.240000,\\n      \"start\" : 210.090000,\\n      \"word\" : \"what\"\\n    }, {\\n      \"conf\" : 1.000000,\\n      \"end\" : 210.360000,\\n      \"start\" : 210.240000,\\n      \"word\" : \"we\"\\n    }, {\\n      \"conf\" : 1.000000,\\n      \"end\" : 210.540000,\\n      \"start\" : 210.360000,\\n      \"word\" : \"don\\'t\"\\n    }, {\\n      \"conf\" : 1.000000,\\n      \"end\" : 210.660000,\\n      \"start\" : 210.540000,\\n      \"word\" : \"have\"\\n    }, {\\n      \"conf\" : 1.000000,\\n      \"end\" : 210.720000,\\n      \"start\" : 210.660000,\\n      \"word\" : \"a\"\\n    }, {\\n      \"conf\" : 1.000000,\\n      \"end\" : 210.960000,\\n      \"start\" : 210.720000,\\n      \"word\" : \"better\"\\n    }, {\\n      \"conf\" : 1.000000,\\n      \"end\" : 211.080000,\\n      \"start\" : 210.960000,\\n      \"word\" : \"way\"\\n    }, {\\n      \"conf\" : 1.000000,\\n      \"end\" : 211.170000,\\n      \"start\" : 211.080000,\\n      \"word\" : \"to\"\\n    }, {\\n      \"conf\" : 1.000000,\\n      \"end\" : 211.290000,\\n      \"start\" : 211.170000,\\n      \"word\" : \"run\"\\n    }, {\\n      \"conf\" : 1.000000,\\n      \"end\" : 211.440000,\\n      \"start\" : 211.290000,\\n      \"word\" : \"this\"\\n    }, {\\n      \"conf\" : 1.000000,\\n      \"end\" : 211.650000,\\n      \"start\" : 211.440000,\\n      \"word\" : \"thing\"\\n    }, {\\n      \"conf\" : 1.000000,\\n      \"end\" : 211.800000,\\n      \"start\" : 211.650000,\\n      \"word\" : \"you\"\\n    }, {\\n      \"conf\" : 1.000000,\\n      \"end\" : 212.010000,\\n      \"start\" : 211.800000,\\n      \"word\" : \"do\"\\n    }, {\\n      \"conf\" : 1.000000,\\n      \"end\" : 212.130000,\\n      \"start\" : 212.010000,\\n      \"word\" : \"it\"\\n    }, {\\n      \"conf\" : 1.000000,\\n      \"end\" : 213.270000,\\n      \"start\" : 213.120000,\\n      \"word\" : \"the\"\\n    }, {\\n      \"conf\" : 1.000000,\\n      \"end\" : 213.540000,\\n      \"start\" : 213.270000,\\n      \"word\" : \"big\"\\n    }, {\\n      \"conf\" : 1.000000,\\n      \"end\" : 213.930000,\\n      \"start\" : 213.540000,\\n      \"word\" : \"presto\"\\n    }, {\\n      \"conf\" : 1.000000,\\n      \"end\" : 214.320000,\\n      \"start\" : 213.930000,\\n      \"word\" : \"changer\"\\n    }, {\\n      \"conf\" : 1.000000,\\n      \"end\" : 214.530000,\\n      \"start\" : 214.320000,\\n      \"word\" : \"with\"\\n    }, {\\n      \"conf\" : 1.000000,\\n      \"end\" : 214.980000,\\n      \"start\" : 214.530000,\\n      \"word\" : \"han\"\\n    }, {\\n      \"conf\" : 1.000000,\\n      \"end\" : 215.550000,\\n      \"start\" : 215.130000,\\n      \"word\" : \"putting\"\\n    }, {\\n      \"conf\" : 1.000000,\\n      \"end\" : 215.940000,\\n      \"start\" : 215.580000,\\n      \"word\" : \"together\"\\n    }, {\\n      \"conf\" : 1.000000,\\n      \"end\" : 216.660000,\\n      \"start\" : 215.940000,\\n      \"word\" : \"financing\"\\n    }, {\\n      \"conf\" : 1.000000,\\n      \"end\" : 217.020000,\\n      \"start\" : 216.720000,\\n      \"word\" : \"many\"\\n    }, {\\n      \"conf\" : 1.000000,\\n      \"end\" : 217.260000,\\n      \"start\" : 217.020000,\\n      \"word\" : \"people\"\\n    }, {\\n      \"conf\" : 1.000000,\\n      \"end\" : 217.500000,\\n      \"start\" : 217.260000,\\n      \"word\" : \"thought\"\\n    }, {\\n      \"conf\" : 1.000000,\\n      \"end\" : 217.590000,\\n      \"start\" : 217.500000,\\n      \"word\" : \"he\"\\n    }, {\\n      \"conf\" : 1.000000,\\n      \"end\" : 217.710000,\\n      \"start\" : 217.590000,\\n      \"word\" : \"would\"\\n    }, {\\n      \"conf\" : 1.000000,\\n      \"end\" : 218.040000,\\n      \"start\" : 217.710000,\\n      \"word\" : \"never\"\\n    }, {\\n      \"conf\" : 1.000000,\\n      \"end\" : 218.190000,\\n      \"start\" : 218.040000,\\n      \"word\" : \"be\"\\n    }, {\\n      \"conf\" : 1.000000,\\n      \"end\" : 218.400000,\\n      \"start\" : 218.190000,\\n      \"word\" : \"able\"\\n    }, {\\n      \"conf\" : 1.000000,\\n      \"end\" : 218.550000,\\n      \"start\" : 218.400000,\\n      \"word\" : \"to\"\\n    }, {\\n      \"conf\" : 1.000000,\\n      \"end\" : 218.730000,\\n      \"start\" : 218.550000,\\n      \"word\" : \"do\"\\n    }, {\\n      \"conf\" : 1.000000,\\n      \"end\" : 218.970000,\\n      \"start\" : 218.730000,\\n      \"word\" : \"it\"\\n    }, {\\n      \"conf\" : 1.000000,\\n      \"end\" : 219.120000,\\n      \"start\" : 218.970000,\\n      \"word\" : \"but\"\\n    }, {\\n      \"conf\" : 1.000000,\\n      \"end\" : 219.270000,\\n      \"start\" : 219.120000,\\n      \"word\" : \"on\"\\n    }, {\\n      \"conf\" : 1.000000,\\n      \"end\" : 219.630000,\\n      \"start\" : 219.270000,\\n      \"word\" : \"wednesday\"\\n    }, {\\n      \"conf\" : 0.784267,\\n      \"end\" : 219.900000,\\n      \"start\" : 219.660000,\\n      \"word\" : \"on\"\\n    }, {\\n      \"conf\" : 1.000000,\\n      \"end\" : 220.650000,\\n      \"start\" : 219.900000,\\n      \"word\" : \"thursday\"\\n    }, {\\n      \"conf\" : 0.947310,\\n      \"end\" : 221.370000,\\n      \"start\" : 221.051440,\\n      \"word\" : \"he\"\\n    }, {\\n      \"conf\" : 1.000000,\\n      \"end\" : 221.550000,\\n      \"start\" : 221.371582,\\n      \"word\" : \"made\"\\n    }, {\\n      \"conf\" : 1.000000,\\n      \"end\" : 221.940000,\\n      \"start\" : 221.550000,\\n      \"word\" : \"public\"\\n    }, {\\n      \"conf\" : 1.000000,\\n      \"end\" : 222.060000,\\n      \"start\" : 221.940000,\\n      \"word\" : \"that\"\\n    }, {\\n      \"conf\" : 1.000000,\\n      \"end\" : 222.210000,\\n      \"start\" : 222.060000,\\n      \"word\" : \"he\"\\n    }, {\\n      \"conf\" : 1.000000,\\n      \"end\" : 222.300000,\\n      \"start\" : 222.210000,\\n      \"word\" : \"had\"\\n    }, {\\n      \"conf\" : 1.000000,\\n      \"end\" : 223.080000,\\n      \"start\" : 222.300000,\\n      \"word\" : \"actually\"\\n    }, {\\n      \"conf\" : 1.000000,\\n      \"end\" : 223.620000,\\n      \"start\" : 223.350000,\\n      \"word\" : \"call\"\\n    }, {\\n      \"conf\" : 1.000000,\\n      \"end\" : 223.680000,\\n      \"start\" : 223.620000,\\n      \"word\" : \"it\"\\n    }, {\\n      \"conf\" : 1.000000,\\n      \"end\" : 224.490000,\\n      \"start\" : 223.680000,\\n      \"word\" : \"together\"\\n    }, {\\n      \"conf\" : 1.000000,\\n      \"end\" : 224.790000,\\n      \"start\" : 224.700000,\\n      \"word\" : \"i\"\\n    }, {\\n      \"conf\" : 1.000000,\\n      \"end\" : 225.000000,\\n      \"start\" : 224.790000,\\n      \"word\" : \"think\"\\n    }, {\\n      \"conf\" : 1.000000,\\n      \"end\" : 225.600000,\\n      \"start\" : 225.000000,\\n      \"word\" : \"more\"\\n    }, {\\n      \"conf\" : 1.000000,\\n      \"end\" : 226.110000,\\n      \"start\" : 225.690000,\\n      \"word\" : \"than\"\\n    }, {\\n      \"conf\" : 1.000000,\\n      \"end\" : 226.262666,\\n      \"start\" : 226.110000,\\n      \"word\" : \"the\"\\n    }, {\\n      \"conf\" : 0.865136,\\n      \"end\" : 226.556382,\\n      \"start\" : 226.262666,\\n      \"word\" : \"actual\"\\n    }, {\\n      \"conf\" : 1.000000,\\n      \"end\" : 226.920000,\\n      \"start\" : 226.556382,\\n      \"word\" : \"offer\"\\n    }, {\\n      \"conf\" : 1.000000,\\n      \"end\" : 227.190000,\\n      \"start\" : 226.920000,\\n      \"word\" : \"ended\"\\n    }, {\\n      \"conf\" : 1.000000,\\n      \"end\" : 227.310000,\\n      \"start\" : 227.190000,\\n      \"word\" : \"up\"\\n    }, {\\n      \"conf\" : 1.000000,\\n      \"end\" : 227.730000,\\n      \"start\" : 227.310000,\\n      \"word\" : \"being\"\\n    }, {\\n      \"conf\" : 1.000000,\\n      \"end\" : 227.940000,\\n      \"start\" : 227.730000,\\n      \"word\" : \"so\"\\n    }, {\\n      \"conf\" : 1.000000,\\n      \"end\" : 228.420000,\\n      \"start\" : 227.940000,\\n      \"word\" : \"that\"\\n    }, {\\n      \"conf\" : 1.000000,\\n      \"end\" : 228.990000,\\n      \"start\" : 228.450000,\\n      \"word\" : \"changed\"\\n    }, {\\n      \"conf\" : 1.000000,\\n      \"end\" : 229.050000,\\n      \"start\" : 228.990000,\\n      \"word\" : \"the\"\\n    }, {\\n      \"conf\" : 1.000000,\\n      \"end\" : 229.350000,\\n      \"start\" : 229.050000,\\n      \"word\" : \"game\"\\n    }, {\\n      \"conf\" : 1.000000,\\n      \"end\" : 229.470000,\\n      \"start\" : 229.350000,\\n      \"word\" : \"for\"\\n    }, {\\n      \"conf\" : 1.000000,\\n      \"end\" : 229.590000,\\n      \"start\" : 229.470000,\\n      \"word\" : \"the\"\\n    }, {\\n      \"conf\" : 1.000000,\\n      \"end\" : 229.980000,\\n      \"start\" : 229.590000,\\n      \"word\" : \"board\"\\n    }, {\\n      \"conf\" : 1.000000,\\n      \"end\" : 230.160000,\\n      \"start\" : 229.980000,\\n      \"word\" : \"all\"\\n    }, {\\n      \"conf\" : 1.000000,\\n      \"end\" : 230.250000,\\n      \"start\" : 230.160000,\\n      \"word\" : \"of\"\\n    }, {\\n      \"conf\" : 0.834904,\\n      \"end\" : 230.340000,\\n      \"start\" : 230.280000,\\n      \"word\" : \"a\"\\n    }, {\\n      \"conf\" : 1.000000,\\n      \"end\" : 230.640000,\\n      \"start\" : 230.340000,\\n      \"word\" : \"sudden\"\\n    }, {\\n      \"conf\" : 1.000000,\\n      \"end\" : 230.760000,\\n      \"start\" : 230.640000,\\n      \"word\" : \"they\"\\n    }, {\\n      \"conf\" : 1.000000,\\n      \"end\" : 231.000000,\\n      \"start\" : 230.760000,\\n      \"word\" : \"had\"\\n    }, {\\n      \"conf\" : 1.000000,\\n      \"end\" : 231.060000,\\n      \"start\" : 231.000000,\\n      \"word\" : \"to\"\\n    }, {\\n      \"conf\" : 1.000000,\\n      \"end\" : 231.450000,\\n      \"start\" : 231.060000,\\n      \"word\" : \"take\"\\n    }, {\\n      \"conf\" : 1.000000,\\n      \"end\" : 231.930000,\\n      \"start\" : 231.750000,\\n      \"word\" : \"the\"\\n    }, {\\n      \"conf\" : 1.000000,\\n      \"end\" : 232.260000,\\n      \"start\" : 231.930000,\\n      \"word\" : \"offer\"\\n    }, {\\n      \"conf\" : 1.000000,\\n      \"end\" : 233.130000,\\n      \"start\" : 232.260000,\\n      \"word\" : \"seriously\"\\n    }, {\\n      \"conf\" : 1.000000,\\n      \"end\" : 233.550000,\\n      \"start\" : 233.160000,\\n      \"word\" : \"and\"\\n    }, {\\n      \"conf\" : 1.000000,\\n      \"end\" : 233.670000,\\n      \"start\" : 233.550000,\\n      \"word\" : \"the\"\\n    }, {\\n      \"conf\" : 1.000000,\\n      \"end\" : 234.060000,\\n      \"start\" : 233.670000,\\n      \"word\" : \"pressure\"\\n    }, {\\n      \"conf\" : 1.000000,\\n      \"end\" : 234.210000,\\n      \"start\" : 234.060000,\\n      \"word\" : \"was\"\\n    }, {\\n      \"conf\" : 1.000000,\\n      \"end\" : 234.750000,\\n      \"start\" : 234.240000,\\n      \"word\" : \"mounting\"\\n    }, {\\n      \"conf\" : 1.000000,\\n      \"end\" : 235.500000,\\n      \"start\" : 234.750000,\\n      \"word\" : \"shareholders\"\\n    }, {\\n      \"conf\" : 1.000000,\\n      \"end\" : 236.220000,\\n      \"start\" : 235.500000,\\n      \"word\" : \"recalling\"\\n    }, {\\n      \"conf\" : 1.000000,\\n      \"end\" : 236.970000,\\n      \"start\" : 236.700000,\\n      \"word\" : \"and\"\\n    }, {\\n      \"conf\" : 1.000000,\\n      \"end\" : 237.090000,\\n      \"start\" : 236.970000,\\n      \"word\" : \"at\"\\n    }, {\\n      \"conf\" : 1.000000,\\n      \"end\" : 237.150000,\\n      \"start\" : 237.090000,\\n      \"word\" : \"a\"\\n    }, {\\n      \"conf\" : 1.000000,\\n      \"end\" : 237.420000,\\n      \"start\" : 237.150000,\\n      \"word\" : \"certain\"\\n    }, {\\n      \"conf\" : 1.000000,\\n      \"end\" : 237.750000,\\n      \"start\" : 237.420000,\\n      \"word\" : \"point\"\\n    }, {\\n      \"conf\" : 1.000000,\\n      \"end\" : 237.930000,\\n      \"start\" : 237.750000,\\n      \"word\" : \"you\"\\n    }, {\\n      \"conf\" : 1.000000,\\n      \"end\" : 238.170000,\\n      \"start\" : 237.930000,\\n      \"word\" : \"have\"\\n    }, {\\n      \"conf\" : 1.000000,\\n      \"end\" : 238.440000,\\n      \"start\" : 238.170000,\\n      \"word\" : \"to\"\\n    }, {\\n      \"conf\" : 1.000000,\\n      \"end\" : 238.830000,\\n      \"start\" : 238.500000,\\n      \"word\" : \"listen\"\\n    }, {\\n      \"conf\" : 1.000000,\\n      \"end\" : 238.950000,\\n      \"start\" : 238.830000,\\n      \"word\" : \"to\"\\n    }, {\\n      \"conf\" : 1.000000,\\n      \"end\" : 239.160000,\\n      \"start\" : 238.950000,\\n      \"word\" : \"your\"\\n    }, {\\n      \"conf\" : 1.000000,\\n      \"end\" : 239.880000,\\n      \"start\" : 239.160000,\\n      \"word\" : \"shareholders\"\\n    }, {\\n      \"conf\" : 1.000000,\\n      \"end\" : 239.970000,\\n      \"start\" : 239.880000,\\n      \"word\" : \"and\"\\n    }, {\\n      \"conf\" : 1.000000,\\n      \"end\" : 240.150000,\\n      \"start\" : 239.970000,\\n      \"word\" : \"they\"\\n    }, {\\n      \"conf\" : 1.000000,\\n      \"end\" : 240.420000,\\n      \"start\" : 240.150000,\\n      \"word\" : \"seem\"\\n    }, {\\n      \"conf\" : 1.000000,\\n      \"end\" : 240.540000,\\n      \"start\" : 240.420000,\\n      \"word\" : \"to\"\\n    }, {\\n      \"conf\" : 1.000000,\\n      \"end\" : 240.690000,\\n      \"start\" : 240.540000,\\n      \"word\" : \"be\"\\n    }, {\\n      \"conf\" : 1.000000,\\n      \"end\" : 241.500000,\\n      \"start\" : 240.690000,\\n      \"word\" : \"indicating\"\\n    }, {\\n      \"conf\" : 1.000000,\\n      \"end\" : 241.920000,\\n      \"start\" : 241.620000,\\n      \"word\" : \"they\"\\n    }, {\\n      \"conf\" : 1.000000,\\n      \"end\" : 242.310000,\\n      \"start\" : 241.920000,\\n      \"word\" : \"wanted\"\\n    }, {\\n      \"conf\" : 1.000000,\\n      \"end\" : 242.400000,\\n      \"start\" : 242.310000,\\n      \"word\" : \"to\"\\n    }, {\\n      \"conf\" : 1.000000,\\n      \"end\" : 242.580000,\\n      \"start\" : 242.400000,\\n      \"word\" : \"go\"\\n    }, {\\n      \"conf\" : 1.000000,\\n      \"end\" : 242.730000,\\n      \"start\" : 242.580000,\\n      \"word\" : \"with\"\\n    }, {\\n      \"conf\" : 1.000000,\\n      \"end\" : 243.090000,\\n      \"start\" : 242.760000,\\n      \"word\" : \"elon\"\\n    }, {\\n      \"conf\" : 1.000000,\\n      \"end\" : 243.510000,\\n      \"start\" : 243.120000,\\n      \"word\" : \"feel\"\\n    }, {\\n      \"conf\" : 1.000000,\\n      \"end\" : 245.070000,\\n      \"start\" : 244.650000,\\n      \"word\" : \"so\"\\n    }, {\\n      \"conf\" : 1.000000,\\n      \"end\" : 245.460000,\\n      \"start\" : 245.100000,\\n      \"word\" : \"last\"\\n    }, {\\n      \"conf\" : 1.000000,\\n      \"end\" : 245.790000,\\n      \"start\" : 245.460000,\\n      \"word\" : \"thing\"\\n    }, {\\n      \"conf\" : 1.000000,\\n      \"end\" : 246.000000,\\n      \"start\" : 245.850000,\\n      \"word\" : \"and\"\\n    }, {\\n      \"conf\" : 1.000000,\\n      \"end\" : 246.120000,\\n      \"start\" : 246.000000,\\n      \"word\" : \"then\"\\n    }, {\\n      \"conf\" : 1.000000,\\n      \"end\" : 246.210000,\\n      \"start\" : 246.120000,\\n      \"word\" : \"i\\'ll\"\\n    }, {\\n      \"conf\" : 1.000000,\\n      \"end\" : 246.330000,\\n      \"start\" : 246.210000,\\n      \"word\" : \"let\"\\n    }, {\\n      \"conf\" : 1.000000,\\n      \"end\" : 246.450000,\\n      \"start\" : 246.330000,\\n      \"word\" : \"you\"\\n    }, {\\n      \"conf\" : 1.000000,\\n      \"end\" : 246.600000,\\n      \"start\" : 246.450000,\\n      \"word\" : \"go\"\\n    }, {\\n      \"conf\" : 0.600036,\\n      \"end\" : 246.780000,\\n      \"start\" : 246.600000,\\n      \"word\" : \"because\"\\n    }, {\\n      \"conf\" : 1.000000,\\n      \"end\" : 246.840000,\\n      \"start\" : 246.780000,\\n      \"word\" : \"i\"\\n    }, {\\n      \"conf\" : 1.000000,\\n      \"end\" : 246.990000,\\n      \"start\" : 246.840000,\\n      \"word\" : \"know\"\\n    }, {\\n      \"conf\" : 1.000000,\\n      \"end\" : 247.140000,\\n      \"start\" : 246.990000,\\n      \"word\" : \"you\\'ve\"\\n    }, {\\n      \"conf\" : 1.000000,\\n      \"end\" : 247.320000,\\n      \"start\" : 247.140000,\\n      \"word\" : \"got\"\\n    }, {\\n      \"conf\" : 1.000000,\\n      \"end\" : 247.710000,\\n      \"start\" : 247.320000,\\n      \"word\" : \"reporting\"\\n    }, {\\n      \"conf\" : 1.000000,\\n      \"end\" : 247.800000,\\n      \"start\" : 247.710000,\\n      \"word\" : \"to\"\\n    }, {\\n      \"conf\" : 1.000000,\\n      \"end\" : 248.010000,\\n      \"start\" : 247.800000,\\n      \"word\" : \"do\"\\n    }, {\\n      \"conf\" : 1.000000,\\n      \"end\" : 248.160000,\\n      \"start\" : 248.010000,\\n      \"word\" : \"on\"\\n    }, {\\n      \"conf\" : 1.000000,\\n      \"end\" : 248.670000,\\n      \"start\" : 248.370000,\\n      \"word\" : \"your\"\\n    }, {\\n      \"conf\" : 1.000000,\\n      \"end\" : 248.850000,\\n      \"start\" : 248.670000,\\n      \"word\" : \"on\"\\n    }, {\\n      \"conf\" : 1.000000,\\n      \"end\" : 249.330000,\\n      \"start\" : 248.850000,\\n      \"word\" : \"twitter\"\\n    }, {\\n      \"conf\" : 1.000000,\\n      \"end\" : 249.600000,\\n      \"start\" : 249.330000,\\n      \"word\" : \"i\\'m\"\\n    }, {\\n      \"conf\" : 1.000000,\\n      \"end\" : 249.750000,\\n      \"start\" : 249.600000,\\n      \"word\" : \"on\"\\n    }, {\\n      \"conf\" : 1.000000,\\n      \"end\" : 250.100010,\\n      \"start\" : 249.750000,\\n      \"word\" : \"twitter\"\\n    }, {\\n      \"conf\" : 1.000000,\\n      \"end\" : 250.350000,\\n      \"start\" : 250.119990,\\n      \"word\" : \"lots\"\\n    }, {\\n      \"conf\" : 1.000000,\\n      \"end\" : 250.440000,\\n      \"start\" : 250.350000,\\n      \"word\" : \"of\"\\n    }, {\\n      \"conf\" : 1.000000,\\n      \"end\" : 250.740000,\\n      \"start\" : 250.440000,\\n      \"word\" : \"people\"\\n    }, {\\n      \"conf\" : 1.000000,\\n      \"end\" : 250.950000,\\n      \"start\" : 250.740000,\\n      \"word\" : \"we\"\\n    }, {\\n      \"conf\" : 1.000000,\\n      \"end\" : 251.280000,\\n      \"start\" : 250.950000,\\n      \"word\" : \"both\"\\n    }, {\\n      \"conf\" : 1.000000,\\n      \"end\" : 251.609355,\\n      \"start\" : 251.280000,\\n      \"word\" : \"know\"\\n    }, {\\n      \"conf\" : 0.513539,\\n      \"end\" : 251.699150,\\n      \"start\" : 251.610000,\\n      \"word\" : \"are\"\\n    }, {\\n      \"conf\" : 1.000000,\\n      \"end\" : 251.880000,\\n      \"start\" : 251.699150,\\n      \"word\" : \"on\"\\n    }, {\\n      \"conf\" : 1.000000,\\n      \"end\" : 252.210000,\\n      \"start\" : 251.880000,\\n      \"word\" : \"twitter\"\\n    }, {\\n      \"conf\" : 1.000000,\\n      \"end\" : 252.900000,\\n      \"start\" : 252.210000,\\n      \"word\" : \"journalists\"\\n    }, {\\n      \"conf\" : 1.000000,\\n      \"end\" : 253.290000,\\n      \"start\" : 253.080000,\\n      \"word\" : \"and\"\\n    }, {\\n      \"conf\" : 1.000000,\\n      \"end\" : 253.560000,\\n      \"start\" : 253.290000,\\n      \"word\" : \"many\"\\n    }, {\\n      \"conf\" : 1.000000,\\n      \"end\" : 253.920000,\\n      \"start\" : 253.560000,\\n      \"word\" : \"others\"\\n    }, {\\n      \"conf\" : 1.000000,\\n      \"end\" : 254.190000,\\n      \"start\" : 253.920000,\\n      \"word\" : \"but\"\\n    }, {\\n      \"conf\" : 1.000000,\\n      \"end\" : 254.370000,\\n      \"start\" : 254.190000,\\n      \"word\" : \"the\"\\n    }, {\\n      \"conf\" : 1.000000,\\n      \"end\" : 255.120000,\\n      \"start\" : 254.430000,\\n      \"word\" : \"overwhelming\"\\n    }, {\\n      \"conf\" : 1.000000,\\n      \"end\" : 255.570000,\\n      \"start\" : 255.120000,\\n      \"word\" : \"majority\"\\n    }, {\\n      \"conf\" : 1.000000,\\n      \"end\" : 255.660000,\\n      \"start\" : 255.570000,\\n      \"word\" : \"of\"\\n    }, {\\n      \"conf\" : 1.000000,\\n      \"end\" : 255.720000,\\n      \"start\" : 255.660000,\\n      \"word\" : \"the\"\\n    }, {\\n      \"conf\" : 1.000000,\\n      \"end\" : 256.050000,\\n      \"start\" : 255.720000,\\n      \"word\" : \"american\"\\n    }, {\\n      \"conf\" : 1.000000,\\n      \"end\" : 256.410000,\\n      \"start\" : 256.050000,\\n      \"word\" : \"public\"\\n    }, {\\n      \"conf\" : 1.000000,\\n      \"end\" : 257.190000,\\n      \"start\" : 256.620000,\\n      \"word\" : \"isn\\'t\"\\n    }, {\\n      \"conf\" : 1.000000,\\n      \"end\" : 258.840000,\\n      \"start\" : 258.240000,\\n      \"word\" : \"why\"\\n    }, {\\n      \"conf\" : 1.000000,\\n      \"end\" : 259.020000,\\n      \"start\" : 258.840000,\\n      \"word\" : \"do\"\\n    }, {\\n      \"conf\" : 1.000000,\\n      \"end\" : 259.170000,\\n      \"start\" : 259.020000,\\n      \"word\" : \"we\"\\n    }, {\\n      \"conf\" : 1.000000,\\n      \"end\" : 259.440000,\\n      \"start\" : 259.170000,\\n      \"word\" : \"care\"\\n    }, {\\n      \"conf\" : 1.000000,\\n      \"end\" : 259.680000,\\n      \"start\" : 259.440000,\\n      \"word\" : \"about\"\\n    }, {\\n      \"conf\" : 1.000000,\\n      \"end\" : 260.130000,\\n      \"start\" : 259.680000,\\n      \"word\" : \"this\"\\n    }, {\\n      \"conf\" : 1.000000,\\n      \"end\" : 261.270000,\\n      \"start\" : 261.000000,\\n      \"word\" : \"that\\'s\"\\n    }, {\\n      \"conf\" : 1.000000,\\n      \"end\" : 261.360000,\\n      \"start\" : 261.270000,\\n      \"word\" : \"an\"\\n    }, {\\n      \"conf\" : 1.000000,\\n      \"end\" : 261.720000,\\n      \"start\" : 261.360000,\\n      \"word\" : \"excellent\"\\n    }, {\\n      \"conf\" : 1.000000,\\n      \"end\" : 262.140000,\\n      \"start\" : 261.720000,\\n      \"word\" : \"question\"\\n    }, {\\n      \"conf\" : 1.000000,\\n      \"end\" : 262.230000,\\n      \"start\" : 262.140000,\\n      \"word\" : \"i\"\\n    }, {\\n      \"conf\" : 1.000000,\\n      \"end\" : 262.470000,\\n      \"start\" : 262.230000,\\n      \"word\" : \"think\"\\n    }, {\\n      \"conf\" : 1.000000,\\n      \"end\" : 262.530000,\\n      \"start\" : 262.470000,\\n      \"word\" : \"it\"\\n    }, {\\n      \"conf\" : 1.000000,\\n      \"end\" : 262.800000,\\n      \"start\" : 262.530000,\\n      \"word\" : \"goes\"\\n    }, {\\n      \"conf\" : 1.000000,\\n      \"end\" : 262.920000,\\n      \"start\" : 262.800000,\\n      \"word\" : \"to\"\\n    }, {\\n      \"conf\" : 1.000000,\\n      \"end\" : 263.040000,\\n      \"start\" : 262.920000,\\n      \"word\" : \"what\"\\n    }, {\\n      \"conf\" : 1.000000,\\n      \"end\" : 263.130000,\\n      \"start\" : 263.040000,\\n      \"word\" : \"we\"\\n    }, {\\n      \"conf\" : 1.000000,\\n      \"end\" : 263.250000,\\n      \"start\" : 263.130000,\\n      \"word\" : \"were\"\\n    }, {\\n      \"conf\" : 1.000000,\\n      \"end\" : 263.730000,\\n      \"start\" : 263.250000,\\n      \"word\" : \"discussing\"\\n    }, {\\n      \"conf\" : 1.000000,\\n      \"end\" : 264.240000,\\n      \"start\" : 263.760000,\\n      \"word\" : \"earlier\"\\n    }, {\\n      \"conf\" : 0.521792,\\n      \"end\" : 264.660000,\\n      \"start\" : 264.540000,\\n      \"word\" : \"you\"\\n    }, {\\n      \"conf\" : 0.521792,\\n      \"end\" : 264.750000,\\n      \"start\" : 264.660000,\\n      \"word\" : \"know\"\\n    }, {\\n      \"conf\" : 1.000000,\\n      \"end\" : 264.870000,\\n      \"start\" : 264.764355,\\n      \"word\" : \"the\"\\n    }, {\\n      \"conf\" : 1.000000,\\n      \"end\" : 265.650000,\\n      \"start\" : 264.870000,\\n      \"word\" : \"power\"\\n    }, {\\n      \"conf\" : 1.000000,\\n      \"end\" : 266.430000,\\n      \"start\" : 266.280000,\\n      \"word\" : \"of\"\\n    }, {\\n      \"conf\" : 0.675555,\\n      \"end\" : 266.850000,\\n      \"start\" : 266.430000,\\n      \"word\" : \"well\"\\n    }, {\\n      \"conf\" : 1.000000,\\n      \"end\" : 267.420000,\\n      \"start\" : 266.910000,\\n      \"word\" : \"certainly\"\\n    }, {\\n      \"conf\" : 1.000000,\\n      \"end\" : 267.510000,\\n      \"start\" : 267.420000,\\n      \"word\" : \"in\"\\n    }, {\\n      \"conf\" : 1.000000,\\n      \"end\" : 267.690000,\\n      \"start\" : 267.510000,\\n      \"word\" : \"our\"\\n    }, {\\n      \"conf\" : 1.000000,\\n      \"end\" : 268.230000,\\n      \"start\" : 267.690000,\\n      \"word\" : \"country\"\\n    }, {\\n      \"conf\" : 1.000000,\\n      \"end\" : 268.410000,\\n      \"start\" : 268.230000,\\n      \"word\" : \"to\"\\n    }, {\\n      \"conf\" : 1.000000,\\n      \"end\" : 269.340000,\\n      \"start\" : 268.410000,\\n      \"word\" : \"effectively\"\\n    }, {\\n      \"conf\" : 1.000000,\\n      \"end\" : 270.060000,\\n      \"start\" : 269.670000,\\n      \"word\" : \"get\"\\n    }, {\\n      \"conf\" : 1.000000,\\n      \"end\" : 270.630000,\\n      \"start\" : 270.270000,\\n      \"word\" : \"pretty\"\\n    }, {\\n      \"conf\" : 1.000000,\\n      \"end\" : 270.930000,\\n      \"start\" : 270.660000,\\n      \"word\" : \"much\"\\n    }, {\\n      \"conf\" : 1.000000,\\n      \"end\" : 271.350000,\\n      \"start\" : 270.930000,\\n      \"word\" : \"anything\"\\n    }, {\\n      \"conf\" : 1.000000,\\n      \"end\" : 271.500000,\\n      \"start\" : 271.350000,\\n      \"word\" : \"you\"\\n    }, {\\n      \"conf\" : 1.000000,\\n      \"end\" : 271.950000,\\n      \"start\" : 271.500000,\\n      \"word\" : \"want\"\\n    }, {\\n      \"conf\" : 1.000000,\\n      \"end\" : 272.010000,\\n      \"start\" : 271.950000,\\n      \"word\" : \"i\"\\n    }, {\\n      \"conf\" : 1.000000,\\n      \"end\" : 272.160000,\\n      \"start\" : 272.010000,\\n      \"word\" : \"don\\'t\"\\n    }, {\\n      \"conf\" : 1.000000,\\n      \"end\" : 272.310000,\\n      \"start\" : 272.160000,\\n      \"word\" : \"think\"\\n    }, {\\n      \"conf\" : 1.000000,\\n      \"end\" : 272.700000,\\n      \"start\" : 272.310000,\\n      \"word\" : \"anyone\"\\n    }, {\\n      \"conf\" : 1.000000,\\n      \"end\" : 272.970000,\\n      \"start\" : 272.700000,\\n      \"word\" : \"thought\"\\n    }, {\\n      \"conf\" : 1.000000,\\n      \"end\" : 273.090000,\\n      \"start\" : 272.970000,\\n      \"word\" : \"that\"\\n    }, {\\n      \"conf\" : 1.000000,\\n      \"end\" : 273.360000,\\n      \"start\" : 273.090000,\\n      \"word\" : \"twitter\"\\n    }, {\\n      \"conf\" : 1.000000,\\n      \"end\" : 273.690000,\\n      \"start\" : 273.360000,\\n      \"word\" : \"western\"\\n    }, {\\n      \"conf\" : 1.000000,\\n      \"end\" : 274.050000,\\n      \"start\" : 273.690000,\\n      \"word\" : \"sites\"\\n    }, {\\n      \"conf\" : 1.000000,\\n      \"end\" : 274.260000,\\n      \"start\" : 274.080000,\\n      \"word\" : \"but\"\\n    }, {\\n      \"conf\" : 1.000000,\\n      \"end\" : 274.350000,\\n      \"start\" : 274.260000,\\n      \"word\" : \"the\"\\n    }, {\\n      \"conf\" : 1.000000,\\n      \"end\" : 274.620000,\\n      \"start\" : 274.350000,\\n      \"word\" : \"fact\"\\n    }, {\\n      \"conf\" : 1.000000,\\n      \"end\" : 274.740000,\\n      \"start\" : 274.620000,\\n      \"word\" : \"that\"\\n    }, {\\n      \"conf\" : 1.000000,\\n      \"end\" : 274.920000,\\n      \"start\" : 274.740000,\\n      \"word\" : \"he\\'s\"\\n    }, {\\n      \"conf\" : 1.000000,\\n      \"end\" : 275.010000,\\n      \"start\" : 274.920000,\\n      \"word\" : \"the\"\\n    }, {\\n      \"conf\" : 1.000000,\\n      \"end\" : 275.370000,\\n      \"start\" : 275.010000,\\n      \"word\" : \"richest\"\\n    }, {\\n      \"conf\" : 1.000000,\\n      \"end\" : 275.670000,\\n      \"start\" : 275.370000,\\n      \"word\" : \"person\"\\n    }, {\\n      \"conf\" : 1.000000,\\n      \"end\" : 275.760000,\\n      \"start\" : 275.670000,\\n      \"word\" : \"in\"\\n    }, {\\n      \"conf\" : 1.000000,\\n      \"end\" : 275.850000,\\n      \"start\" : 275.760000,\\n      \"word\" : \"the\"\\n    }, {\\n      \"conf\" : 1.000000,\\n      \"end\" : 276.480000,\\n      \"start\" : 275.850000,\\n      \"word\" : \"country\"\\n    }, {\\n      \"conf\" : 0.923855,\\n      \"end\" : 277.590000,\\n      \"start\" : 277.140000,\\n      \"word\" : \"makes\"\\n    }, {\\n      \"conf\" : 0.503700,\\n      \"end\" : 278.910000,\\n      \"start\" : 278.580000,\\n      \"word\" : \"vs\"\\n    }, {\\n      \"conf\" : 0.896337,\\n      \"end\" : 280.590205,\\n      \"start\" : 280.350000,\\n      \"word\" : \"yes\"\\n    }, {\\n      \"conf\" : 0.862565,\\n      \"end\" : 280.620000,\\n      \"start\" : 280.590205,\\n      \"word\" : \"the\"\\n    }, {\\n      \"conf\" : 1.000000,\\n      \"end\" : 281.100000,\\n      \"start\" : 280.830000,\\n      \"word\" : \"richest\"\\n    }, {\\n      \"conf\" : 1.000000,\\n      \"end\" : 281.430000,\\n      \"start\" : 281.100000,\\n      \"word\" : \"person\"\\n    }, {\\n      \"conf\" : 1.000000,\\n      \"end\" : 281.520000,\\n      \"start\" : 281.430000,\\n      \"word\" : \"in\"\\n    }, {\\n      \"conf\" : 1.000000,\\n      \"end\" : 281.610000,\\n      \"start\" : 281.520000,\\n      \"word\" : \"the\"\\n    }, {\\n      \"conf\" : 1.000000,\\n      \"end\" : 282.060000,\\n      \"start\" : 281.610000,\\n      \"word\" : \"world\"\\n    }, {\\n      \"conf\" : 1.000000,\\n      \"end\" : 282.960000,\\n      \"start\" : 282.570000,\\n      \"word\" : \"makes\"\\n    }, {\\n      \"conf\" : 1.000000,\\n      \"end\" : 283.080000,\\n      \"start\" : 282.960000,\\n      \"word\" : \"it\"\\n    }, {\\n      \"conf\" : 1.000000,\\n      \"end\" : 283.440000,\\n      \"start\" : 283.080000,\\n      \"word\" : \"fell\"\\n    }, {\\n      \"conf\" : 1.000000,\\n      \"end\" : 283.590000,\\n      \"start\" : 283.440000,\\n      \"word\" : \"in\"\\n    }, {\\n      \"conf\" : 1.000000,\\n      \"end\" : 283.770000,\\n      \"start\" : 283.590000,\\n      \"word\" : \"all\"\\n    }, {\\n      \"conf\" : 1.000000,\\n      \"end\" : 283.860000,\\n      \"start\" : 283.770000,\\n      \"word\" : \"of\"\\n    }, {\\n      \"conf\" : 1.000000,\\n      \"end\" : 283.950000,\\n      \"start\" : 283.860000,\\n      \"word\" : \"that\"\\n    }, {\\n      \"conf\" : 1.000000,\\n      \"end\" : 284.040000,\\n      \"start\" : 283.950000,\\n      \"word\" : \"you\"\\n    }, {\\n      \"conf\" : 1.000000,\\n      \"end\" : 284.190000,\\n      \"start\" : 284.040000,\\n      \"word\" : \"know\"\\n    }, {\\n      \"conf\" : 1.000000,\\n      \"end\" : 284.310000,\\n      \"start\" : 284.190000,\\n      \"word\" : \"as\"\\n    }, {\\n      \"conf\" : 1.000000,\\n      \"end\" : 284.370000,\\n      \"start\" : 284.310000,\\n      \"word\" : \"a\"\\n    }, {\\n      \"conf\" : 1.000000,\\n      \"end\" : 285.090000,\\n      \"start\" : 284.370000,\\n      \"word\" : \"journalist\"\\n    }, {\\n      \"conf\" : 1.000000,\\n      \"end\" : 285.480000,\\n      \"start\" : 285.120000,\\n      \"word\" : \"you\"\\n    }, {\\n      \"conf\" : 1.000000,\\n      \"end\" : 285.780000,\\n      \"start\" : 285.480000,\\n      \"word\" : \"kind\"\\n    }, {\\n      \"conf\" : 1.000000,\\n      \"end\" : 285.870000,\\n      \"start\" : 285.780000,\\n      \"word\" : \"of\"\\n    }, {\\n      \"conf\" : 1.000000,\\n      \"end\" : 286.230000,\\n      \"start\" : 285.870000,\\n      \"word\" : \"have\"\\n    }, {\\n      \"conf\" : 1.000000,\\n      \"end\" : 286.620000,\\n      \"start\" : 286.230000,\\n      \"word\" : \"this\"\\n    }, {\\n      \"conf\" : 1.000000,\\n      \"end\" : 287.280000,\\n      \"start\" : 286.890000,\\n      \"word\" : \"very\"\\n    }, {\\n      \"conf\" : 1.000000,\\n      \"end\" : 288.090000,\\n      \"start\" : 287.280000,\\n      \"word\" : \"idealistic\"\\n    }, {\\n      \"conf\" : 1.000000,\\n      \"end\" : 288.660000,\\n      \"start\" : 288.090000,\\n      \"word\" : \"view\"\\n    }, {\\n      \"conf\" : 0.811281,\\n      \"end\" : 288.810000,\\n      \"start\" : 288.660000,\\n      \"word\" : \"of\"\\n    }, {\\n      \"conf\" : 1.000000,\\n      \"end\" : 289.590000,\\n      \"start\" : 288.870000,\\n      \"word\" : \"communications\"\\n    }, {\\n      \"conf\" : 1.000000,\\n      \"end\" : 289.710000,\\n      \"start\" : 289.590000,\\n      \"word\" : \"and\"\\n    }, {\\n      \"conf\" : 1.000000,\\n      \"end\" : 290.160000,\\n      \"start\" : 289.710000,\\n      \"word\" : \"media\"\\n    }, {\\n      \"conf\" : 1.000000,\\n      \"end\" : 290.220000,\\n      \"start\" : 290.160000,\\n      \"word\" : \"and\"\\n    }, {\\n      \"conf\" : 1.000000,\\n      \"end\" : 290.430000,\\n      \"start\" : 290.220000,\\n      \"word\" : \"how\"\\n    }, {\\n      \"conf\" : 1.000000,\\n      \"end\" : 290.550000,\\n      \"start\" : 290.430000,\\n      \"word\" : \"it\"\\n    }, {\\n      \"conf\" : 1.000000,\\n      \"end\" : 290.730000,\\n      \"start\" : 290.550000,\\n      \"word\" : \"should\"\\n    }, {\\n      \"conf\" : 1.000000,\\n      \"end\" : 290.910000,\\n      \"start\" : 290.730000,\\n      \"word\" : \"be\"\\n    }, {\\n      \"conf\" : 0.712458,\\n      \"end\" : 291.300000,\\n      \"start\" : 290.910000,\\n      \"word\" : \"ryan\"\\n    }, {\\n      \"conf\" : 0.968305,\\n      \"end\" : 291.420000,\\n      \"start\" : 291.300000,\\n      \"word\" : \"and\"\\n    }, {\\n      \"conf\" : 1.000000,\\n      \"end\" : 291.660000,\\n      \"start\" : 291.420000,\\n      \"word\" : \"this\"\\n    }, {\\n      \"conf\" : 1.000000,\\n      \"end\" : 292.080000,\\n      \"start\" : 291.660000,\\n      \"word\" : \"really\"\\n    }, {\\n      \"conf\" : 1.000000,\\n      \"end\" : 292.500000,\\n      \"start\" : 292.080000,\\n      \"word\" : \"has\"\\n    }, {\\n      \"conf\" : 1.000000,\\n      \"end\" : 293.160000,\\n      \"start\" : 292.770000,\\n      \"word\" : \"taken\"\\n    }, {\\n      \"conf\" : 1.000000,\\n      \"end\" : 293.280000,\\n      \"start\" : 293.160000,\\n      \"word\" : \"the\"\\n    }, {\\n      \"conf\" : 1.000000,\\n      \"end\" : 293.640000,\\n      \"start\" : 293.280000,\\n      \"word\" : \"rug\"\\n    }, {\\n      \"conf\" : 1.000000,\\n      \"end\" : 293.880000,\\n      \"start\" : 293.670000,\\n      \"word\" : \"out\"\\n    }, {\\n      \"conf\" : 1.000000,\\n      \"end\" : 294.030000,\\n      \"start\" : 293.880000,\\n      \"word\" : \"from\"\\n    }, {\\n      \"conf\" : 1.000000,\\n      \"end\" : 294.300000,\\n      \"start\" : 294.030000,\\n      \"word\" : \"under\"\\n    }, {\\n      \"conf\" : 1.000000,\\n      \"end\" : 294.600000,\\n      \"start\" : 294.300000,\\n      \"word\" : \"that\"\\n    }, {\\n      \"conf\" : 1.000000,\\n      \"end\" : 295.170000,\\n      \"start\" : 294.600000,\\n      \"word\" : \"because\"\\n    }, {\\n      \"conf\" : 1.000000,\\n      \"end\" : 295.440000,\\n      \"start\" : 295.170000,\\n      \"word\" : \"this\"\\n    }, {\\n      \"conf\" : 1.000000,\\n      \"end\" : 295.680000,\\n      \"start\" : 295.440000,\\n      \"word\" : \"is\"\\n    }, {\\n      \"conf\" : 1.000000,\\n      \"end\" : 295.770000,\\n      \"start\" : 295.680000,\\n      \"word\" : \"a\"\\n    }, {\\n      \"conf\" : 1.000000,\\n      \"end\" : 296.160000,\\n      \"start\" : 295.770000,\\n      \"word\" : \"man\"\\n    }, {\\n      \"conf\" : 1.000000,\\n      \"end\" : 296.430000,\\n      \"start\" : 296.160000,\\n      \"word\" : \"with\"\\n    }, {\\n      \"conf\" : 1.000000,\\n      \"end\" : 296.910000,\\n      \"start\" : 296.820000,\\n      \"word\" : \"a\"\\n    }, {\\n      \"conf\" : 1.000000,\\n      \"end\" : 297.390000,\\n      \"start\" : 296.910000,\\n      \"word\" : \"clear\"\\n    }, {\\n      \"conf\" : 1.000000,\\n      \"end\" : 298.020000,\\n      \"start\" : 297.390000,\\n      \"word\" : \"view\"\\n    }, {\\n      \"conf\" : 1.000000,\\n      \"end\" : 298.620000,\\n      \"start\" : 298.410000,\\n      \"word\" : \"and\"\\n    }, {\\n      \"conf\" : 1.000000,\\n      \"end\" : 298.800000,\\n      \"start\" : 298.620000,\\n      \"word\" : \"he\\'s\"\\n    }, {\\n      \"conf\" : 1.000000,\\n      \"end\" : 298.950000,\\n      \"start\" : 298.800000,\\n      \"word\" : \"going\"\\n    }, {\\n      \"conf\" : 1.000000,\\n      \"end\" : 299.010000,\\n      \"start\" : 298.950000,\\n      \"word\" : \"to\"\\n    }, {\\n      \"conf\" : 1.000000,\\n      \"end\" : 299.220000,\\n      \"start\" : 299.010000,\\n      \"word\" : \"run\"\\n    }, {\\n      \"conf\" : 1.000000,\\n      \"end\" : 299.310000,\\n      \"start\" : 299.220000,\\n      \"word\" : \"it\"\\n    }, {\\n      \"conf\" : 0.874459,\\n      \"end\" : 299.460000,\\n      \"start\" : 299.310000,\\n      \"word\" : \"with\"\\n    }, {\\n      \"conf\" : 0.874459,\\n      \"end\" : 299.580000,\\n      \"start\" : 299.460000,\\n      \"word\" : \"a\"\\n    }, {\\n      \"conf\" : 1.000000,\\n      \"end\" : 299.790000,\\n      \"start\" : 299.580000,\\n      \"word\" : \"clear\"\\n    }, {\\n      \"conf\" : 1.000000,\\n      \"end\" : 300.000000,\\n      \"start\" : 299.790000,\\n      \"word\" : \"view\"\\n    }, {\\n      \"conf\" : 1.000000,\\n      \"end\" : 300.210000,\\n      \"start\" : 300.000000,\\n      \"word\" : \"and\"\\n    }, {\\n      \"conf\" : 1.000000,\\n      \"end\" : 300.270000,\\n      \"start\" : 300.210000,\\n      \"word\" : \"i\"\\n    }, {\\n      \"conf\" : 1.000000,\\n      \"end\" : 300.480000,\\n      \"start\" : 300.270000,\\n      \"word\" : \"think\"\\n    }, {\\n      \"conf\" : 1.000000,\\n      \"end\" : 300.600000,\\n      \"start\" : 300.480000,\\n      \"word\" : \"we\"\\n    }, {\\n      \"conf\" : 1.000000,\\n      \"end\" : 300.780000,\\n      \"start\" : 300.600000,\\n      \"word\" : \"all\"\\n    }, {\\n      \"conf\" : 1.000000,\\n      \"end\" : 300.960000,\\n      \"start\" : 300.780000,\\n      \"word\" : \"need\"\\n    }, {\\n      \"conf\" : 0.900475,\\n      \"end\" : 301.020000,\\n      \"start\" : 300.960000,\\n      \"word\" : \"to\"\\n    }, {\\n      \"conf\" : 1.000000,\\n      \"end\" : 301.620000,\\n      \"start\" : 301.020000,\\n      \"word\" : \"rethink\"\\n    }, {\\n      \"conf\" : 0.488830,\\n      \"end\" : 301.800000,\\n      \"start\" : 301.650000,\\n      \"word\" : \"that\"\\n    }, {\\n      \"conf\" : 1.000000,\\n      \"end\" : 302.580000,\\n      \"start\" : 301.800000,\\n      \"word\" : \"ramifications\"\\n    }, {\\n      \"conf\" : 1.000000,\\n      \"end\" : 303.120000,\\n      \"start\" : 302.610000,\\n      \"word\" : \"on\"\\n    }, {\\n      \"conf\" : 1.000000,\\n      \"end\" : 304.320000,\\n      \"start\" : 303.450000,\\n      \"word\" : \"communication\"\\n    }, {\\n      \"conf\" : 1.000000,\\n      \"end\" : 304.470000,\\n      \"start\" : 304.350000,\\n      \"word\" : \"in\"\\n    }, {\\n      \"conf\" : 1.000000,\\n      \"end\" : 304.530000,\\n      \"start\" : 304.470000,\\n      \"word\" : \"the\"\\n    }, {\\n      \"conf\" : 1.000000,\\n      \"end\" : 304.980000,\\n      \"start\" : 304.530000,\\n      \"word\" : \"country\"\\n    }, {\\n      \"conf\" : 1.000000,\\n      \"end\" : 305.400000,\\n      \"start\" : 305.130000,\\n      \"word\" : \"lauren\"\\n    }, {\\n      \"conf\" : 1.000000,\\n      \"end\" : 305.850000,\\n      \"start\" : 305.400000,\\n      \"word\" : \"hirsch\"\\n    }, {\\n      \"conf\" : 1.000000,\\n      \"end\" : 306.210000,\\n      \"start\" : 305.940000,\\n      \"word\" : \"covers\"\\n    }, {\\n      \"conf\" : 1.000000,\\n      \"end\" : 306.840000,\\n      \"start\" : 306.210000,\\n      \"word\" : \"business\"\\n    }, {\\n      \"conf\" : 1.000000,\\n      \"end\" : 307.350000,\\n      \"start\" : 307.230000,\\n      \"word\" : \"and\"\\n    }, {\\n      \"conf\" : 1.000000,\\n      \"end\" : 307.560000,\\n      \"start\" : 307.350000,\\n      \"word\" : \"most\"\\n    }, {\\n      \"conf\" : 1.000000,\\n      \"end\" : 308.040000,\\n      \"start\" : 307.560000,\\n      \"word\" : \"recently\"\\n    }, {\\n      \"conf\" : 1.000000,\\n      \"end\" : 308.430000,\\n      \"start\" : 308.220000,\\n      \"word\" : \"the\"\\n    }, {\\n      \"conf\" : 1.000000,\\n      \"end\" : 308.700000,\\n      \"start\" : 308.430000,\\n      \"word\" : \"twitter\"\\n    }, {\\n      \"conf\" : 0.562549,\\n      \"end\" : 308.910000,\\n      \"start\" : 308.700000,\\n      \"word\" : \"store\"\\n    }, {\\n      \"conf\" : 1.000000,\\n      \"end\" : 309.000000,\\n      \"start\" : 308.923125,\\n      \"word\" : \"in\"\\n    }, {\\n      \"conf\" : 1.000000,\\n      \"end\" : 309.300000,\\n      \"start\" : 309.000000,\\n      \"word\" : \"atlanta\"\\n    }, {\\n      \"conf\" : 1.000000,\\n      \"end\" : 309.480000,\\n      \"start\" : 309.300000,\\n      \"word\" : \"most\"\\n    }, {\\n      \"conf\" : 1.000000,\\n      \"end\" : 309.600000,\\n      \"start\" : 309.540000,\\n      \"word\" : \"of\"\\n    }, {\\n      \"conf\" : 1.000000,\\n      \"end\" : 309.660000,\\n      \"start\" : 309.600000,\\n      \"word\" : \"the\"\\n    }, {\\n      \"conf\" : 1.000000,\\n      \"end\" : 309.750000,\\n      \"start\" : 309.660000,\\n      \"word\" : \"new\"\\n    }, {\\n      \"conf\" : 1.000000,\\n      \"end\" : 309.930000,\\n      \"start\" : 309.750000,\\n      \"word\" : \"york\"\\n    }, {\\n      \"conf\" : 1.000000,\\n      \"end\" : 310.140000,\\n      \"start\" : 309.930000,\\n      \"word\" : \"times\"\\n    }, {\\n      \"conf\" : 1.000000,\\n      \"end\" : 310.350000,\\n      \"start\" : 310.140000,\\n      \"word\" : \"lauren\"\\n    }, {\\n      \"conf\" : 1.000000,\\n      \"end\" : 310.590000,\\n      \"start\" : 310.350000,\\n      \"word\" : \"thanks\"\\n    }, {\\n      \"conf\" : 1.000000,\\n      \"end\" : 310.620000,\\n      \"start\" : 310.590000,\\n      \"word\" : \"a\"\\n    }, {\\n      \"conf\" : 1.000000,\\n      \"end\" : 310.770000,\\n      \"start\" : 310.620000,\\n      \"word\" : \"lot\"\\n    }, {\\n      \"conf\" : 1.000000,\\n      \"end\" : 310.830000,\\n      \"start\" : 310.770000,\\n      \"word\" : \"i\"\\n    }, {\\n      \"conf\" : 1.000000,\\n      \"end\" : 311.220000,\\n      \"start\" : 310.830000,\\n      \"word\" : \"appreciate\"\\n    }, {\\n      \"conf\" : 1.000000,\\n      \"end\" : 311.310000,\\n      \"start\" : 311.220000,\\n      \"word\" : \"your\"\\n    }, {\\n      \"conf\" : 1.000000,\\n      \"end\" : 311.520000,\\n      \"start\" : 311.310000,\\n      \"word\" : \"time\"\\n    }, {\\n      \"conf\" : 1.000000,\\n      \"end\" : 312.150000,\\n      \"start\" : 311.820000,\\n      \"word\" : \"thanks\"\\n    }, {\\n      \"conf\" : 1.000000,\\n      \"end\" : 312.210000,\\n      \"start\" : 312.150000,\\n      \"word\" : \"for\"\\n    }, {\\n      \"conf\" : 1.000000,\\n      \"end\" : 312.480000,\\n      \"start\" : 312.210000,\\n      \"word\" : \"having\"\\n    }, {\\n      \"conf\" : 1.000000,\\n      \"end\" : 312.660000,\\n      \"start\" : 312.480000,\\n      \"word\" : \"me\"\\n    }, {\\n      \"conf\" : 1.000000,\\n      \"end\" : 313.260000,\\n      \"start\" : 313.050000,\\n      \"word\" : \"that\"\\n    }, {\\n      \"conf\" : 1.000000,\\n      \"end\" : 313.770000,\\n      \"start\" : 313.260000,\\n      \"word\" : \"introduction\"\\n    }, {\\n      \"conf\" : 1.000000,\\n      \"end\" : 313.950000,\\n      \"start\" : 313.770000,\\n      \"word\" : \"by\"\\n    }, {\\n      \"conf\" : 1.000000,\\n      \"end\" : 314.100000,\\n      \"start\" : 313.950000,\\n      \"word\" : \"the\"\\n    }, {\\n      \"conf\" : 1.000000,\\n      \"end\" : 314.400000,\\n      \"start\" : 314.100000,\\n      \"word\" : \"way\"\\n    }, {\\n      \"conf\" : 1.000000,\\n      \"end\" : 314.760000,\\n      \"start\" : 314.520000,\\n      \"word\" : \"two\"\\n    }, {\\n      \"conf\" : 1.000000,\\n      \"end\" : 315.000000,\\n      \"start\" : 314.760000,\\n      \"word\" : \"hundred\"\\n    }, {\\n      \"conf\" : 1.000000,\\n      \"end\" : 315.090000,\\n      \"start\" : 315.000000,\\n      \"word\" : \"and\"\\n    }, {\\n      \"conf\" : 1.000000,\\n      \"end\" : 315.480000,\\n      \"start\" : 315.090000,\\n      \"word\" : \"forty\"\\n    }, {\\n      \"conf\" : 1.000000,\\n      \"end\" : 316.200000,\\n      \"start\" : 315.480000,\\n      \"word\" : \"five\"\\n    }, {\\n      \"conf\" : 1.000000,\\n      \"end\" : 317.100000,\\n      \"start\" : 316.200000,\\n      \"word\" : \"characters\"\\n    }, {\\n      \"conf\" : 1.000000,\\n      \"end\" : 317.640000,\\n      \"start\" : 317.100000,\\n      \"word\" : \"nailed\"\\n    }, {\\n      \"conf\" : 1.000000,\\n      \"end\" : 318.300000,\\n      \"start\" : 317.640000,\\n      \"word\" : \"it\"\\n    }, {\\n      \"conf\" : 1.000000,\\n      \"end\" : 318.900000,\\n      \"start\" : 318.600000,\\n      \"word\" : \"twitter\"\\n    }, {\\n      \"conf\" : 1.000000,\\n      \"end\" : 319.230000,\\n      \"start\" : 318.900000,\\n      \"word\" : \"shares\"\\n    }, {\\n      \"conf\" : 1.000000,\\n      \"end\" : 319.350000,\\n      \"start\" : 319.230000,\\n      \"word\" : \"on\"\\n    }, {\\n      \"conf\" : 1.000000,\\n      \"end\" : 319.500000,\\n      \"start\" : 319.350000,\\n      \"word\" : \"this\"\\n    }, {\\n      \"conf\" : 1.000000,\\n      \"end\" : 319.830000,\\n      \"start\" : 319.500000,\\n      \"word\" : \"monday\"\\n    }, {\\n      \"conf\" : 1.000000,\\n      \"end\" : 320.070000,\\n      \"start\" : 319.860000,\\n      \"word\" : \"up\"\\n    }, {\\n      \"conf\" : 1.000000,\\n      \"end\" : 320.520000,\\n      \"start\" : 320.070000,\\n      \"word\" : \"almost\"\\n    }, {\\n      \"conf\" : 1.000000,\\n      \"end\" : 320.820000,\\n      \"start\" : 320.520000,\\n      \"word\" : \"six\"\\n    }, {\\n      \"conf\" : 1.000000,\\n      \"end\" : 321.210000,\\n      \"start\" : 320.820000,\\n      \"word\" : \"percent\"\\n    }, {\\n      \"conf\" : 1.000000,\\n      \"end\" : 322.170000,\\n      \"start\" : 321.840000,\\n      \"word\" : \"still\"\\n    }, {\\n      \"conf\" : 1.000000,\\n      \"end\" : 322.380000,\\n      \"start\" : 322.170000,\\n      \"word\" : \"though\"\\n    }, {\\n      \"conf\" : 1.000000,\\n      \"end\" : 322.440000,\\n      \"start\" : 322.380000,\\n      \"word\" : \"a\"\\n    }, {\\n      \"conf\" : 1.000000,\\n      \"end\" : 322.650000,\\n      \"start\" : 322.440000,\\n      \"word\" : \"couple\"\\n    }, {\\n      \"conf\" : 1.000000,\\n      \"end\" : 322.740000,\\n      \"start\" : 322.650000,\\n      \"word\" : \"of\"\\n    }, {\\n      \"conf\" : 1.000000,\\n      \"end\" : 322.920000,\\n      \"start\" : 322.740000,\\n      \"word\" : \"bucks\"\\n    }, {\\n      \"conf\" : 1.000000,\\n      \"end\" : 323.370000,\\n      \"start\" : 322.920000,\\n      \"word\" : \"shy\"\\n    }, {\\n      \"conf\" : 1.000000,\\n      \"end\" : 323.490000,\\n      \"start\" : 323.370000,\\n      \"word\" : \"of\"\\n    }, {\\n      \"conf\" : 1.000000,\\n      \"end\" : 323.910000,\\n      \"start\" : 323.490000,\\n      \"word\" : \"must\"\\n    }, {\\n      \"conf\" : 1.000000,\\n      \"end\" : 324.420000,\\n      \"start\" : 323.910000,\\n      \"word\" : \"offer\"\\n    }, {\\n      \"conf\" : 1.000000,\\n      \"end\" : 324.870000,\\n      \"start\" : 324.420000,\\n      \"word\" : \"of\"\\n    }, {\\n      \"conf\" : 1.000000,\\n      \"end\" : 325.260000,\\n      \"start\" : 325.050000,\\n      \"word\" : \"one\"\\n    }, {\\n      \"conf\" : 1.000000,\\n      \"end\" : 325.410000,\\n      \"start\" : 325.260000,\\n      \"word\" : \"hundred\"\\n    }, {\\n      \"conf\" : 1.000000,\\n      \"end\" : 325.590000,\\n      \"start\" : 325.410000,\\n      \"word\" : \"and\"\\n    }, {\\n      \"conf\" : 1.000000,\\n      \"end\" : 325.950000,\\n      \"start\" : 325.590000,\\n      \"word\" : \"fifty\"\\n    }, {\\n      \"conf\" : 1.000000,\\n      \"end\" : 326.220000,\\n      \"start\" : 325.950000,\\n      \"word\" : \"four\"\\n    }, {\\n      \"conf\" : 1.000000,\\n      \"end\" : 326.640000,\\n      \"start\" : 326.220000,\\n      \"word\" : \"dollars\"\\n    }, {\\n      \"conf\" : 1.000000,\\n      \"end\" : 327.000000,\\n      \"start\" : 326.640000,\\n      \"word\" : \"twenty\"\\n    }, {\\n      \"conf\" : 1.000000,\\n      \"end\" : 327.300000,\\n      \"start\" : 327.000000,\\n      \"word\" : \"cents\"\\n    }, {\\n      \"conf\" : 1.000000,\\n      \"end\" : 327.330000,\\n      \"start\" : 327.300000,\\n      \"word\" : \"a\"\\n    }, {\\n      \"conf\" : 1.000000,\\n      \"end\" : 327.600000,\\n      \"start\" : 327.330000,\\n      \"word\" : \"piece\"\\n    }, {\\n      \"conf\" : 1.000000,\\n      \"end\" : 328.080000,\\n      \"start\" : 327.600000,\\n      \"word\" : \"elsewhere\"\\n    }, {\\n      \"conf\" : 1.000000,\\n      \"end\" : 328.710000,\\n      \"start\" : 328.620000,\\n      \"word\" : \"the\"\\n    }, {\\n      \"conf\" : 1.000000,\\n      \"end\" : 328.980000,\\n      \"start\" : 328.710000,\\n      \"word\" : \"major\"\\n    }, {\\n      \"conf\" : 1.000000,\\n      \"end\" : 329.400000,\\n      \"start\" : 328.980000,\\n      \"word\" : \"indices\"\\n    }, {\\n      \"conf\" : 1.000000,\\n      \"end\" : 329.580000,\\n      \"start\" : 329.400000,\\n      \"word\" : \"were\"\\n    }, {\\n      \"conf\" : 1.000000,\\n      \"end\" : 329.820000,\\n      \"start\" : 329.580000,\\n      \"word\" : \"up\"\\n    }, {\\n      \"conf\" : 1.000000,\\n      \"end\" : 329.940000,\\n      \"start\" : 329.820000,\\n      \"word\" : \"we\\'ll\"\\n    }, {\\n      \"conf\" : 1.000000,\\n      \"end\" : 330.120000,\\n      \"start\" : 329.940000,\\n      \"word\" : \"have\"\\n    }, {\\n      \"conf\" : 1.000000,\\n      \"end\" : 330.180000,\\n      \"start\" : 330.120000,\\n      \"word\" : \"the\"\\n    }, {\\n      \"conf\" : 1.000000,\\n      \"end\" : 330.900000,\\n      \"start\" : 330.180000,\\n      \"word\" : \"details\"\\n    }, {\\n      \"conf\" : 1.000000,\\n      \"end\" : 331.140000,\\n      \"start\" : 330.930000,\\n      \"word\" : \"when\"\\n    }, {\\n      \"conf\" : 1.000000,\\n      \"end\" : 331.230000,\\n      \"start\" : 331.140000,\\n      \"word\" : \"we\"\\n    }, {\\n      \"conf\" : 1.000000,\\n      \"end\" : 331.350000,\\n      \"start\" : 331.230000,\\n      \"word\" : \"do\"\\n    }, {\\n      \"conf\" : 1.000000,\\n      \"end\" : 331.440000,\\n      \"start\" : 331.350000,\\n      \"word\" : \"the\"\\n    }, {\\n      \"conf\" : 1.000000,\\n      \"end\" : 331.920000,\\n      \"start\" : 331.440000,\\n      \"word\" : \"numbers\"\\n    }, {\\n      \"conf\" : 1.000000,\\n      \"end\" : 349.740000,\\n      \"start\" : 349.530000,\\n      \"word\" : \"or\"\\n    }, {\\n      \"conf\" : 1.000000,\\n      \"end\" : 350.010000,\\n      \"start\" : 349.770000,\\n      \"word\" : \"mark\"\\n    }, {\\n      \"conf\" : 1.000000,\\n      \"end\" : 350.100000,\\n      \"start\" : 350.010000,\\n      \"word\" : \"your\"\\n    }, {\\n      \"conf\" : 1.000000,\\n      \"end\" : 350.610000,\\n      \"start\" : 350.130000,\\n      \"word\" : \"calendars\"\\n    }, {\\n      \"conf\" : 1.000000,\\n      \"end\" : 350.850000,\\n      \"start\" : 350.610000,\\n      \"word\" : \"for\"\\n    }, {\\n      \"conf\" : 1.000000,\\n      \"end\" : 351.510000,\\n      \"start\" : 350.850000,\\n      \"word\" : \"friday\"\\n    }, {\\n      \"conf\" : 1.000000,\\n      \"end\" : 352.050000,\\n      \"start\" : 351.510000,\\n      \"word\" : \"everybody\"\\n    }, {\\n      \"conf\" : 1.000000,\\n      \"end\" : 352.260000,\\n      \"start\" : 352.050000,\\n      \"word\" : \"that\\'s\"\\n    }, {\\n      \"conf\" : 1.000000,\\n      \"end\" : 352.410000,\\n      \"start\" : 352.260000,\\n      \"word\" : \"when\"\\n    }, {\\n      \"conf\" : 1.000000,\\n      \"end\" : 352.470000,\\n      \"start\" : 352.410000,\\n      \"word\" : \"the\"\\n    }, {\\n      \"conf\" : 1.000000,\\n      \"end\" : 352.830000,\\n      \"start\" : 352.470000,\\n      \"word\" : \"latest\"\\n    }, {\\n      \"conf\" : 1.000000,\\n      \"end\" : 353.520000,\\n      \"start\" : 352.830000,\\n      \"word\" : \"inflation\"\\n    }, {\\n      \"conf\" : 1.000000,\\n      \"end\" : 354.060000,\\n      \"start\" : 353.520000,\\n      \"word\" : \"numbers\"\\n    }, {\\n      \"conf\" : 1.000000,\\n      \"end\" : 354.240000,\\n      \"start\" : 354.120000,\\n      \"word\" : \"are\"\\n    }, {\\n      \"conf\" : 1.000000,\\n      \"end\" : 354.420000,\\n      \"start\" : 354.240000,\\n      \"word\" : \"going\"\\n    }, {\\n      \"conf\" : 1.000000,\\n      \"end\" : 354.480000,\\n      \"start\" : 354.420000,\\n      \"word\" : \"to\"\\n    }, {\\n      \"conf\" : 1.000000,\\n      \"end\" : 354.630000,\\n      \"start\" : 354.480000,\\n      \"word\" : \"be\"\\n    }, {\\n      \"conf\" : 1.000000,\\n      \"end\" : 354.870000,\\n      \"start\" : 354.630000,\\n      \"word\" : \"out\"\\n    }, {\\n      \"conf\" : 1.000000,\\n      \"end\" : 355.020000,\\n      \"start\" : 354.870000,\\n      \"word\" : \"we\"\\n    }, {\\n      \"conf\" : 1.000000,\\n      \"end\" : 355.230000,\\n      \"start\" : 355.020000,\\n      \"word\" : \"told\"\\n    }, {\\n      \"conf\" : 1.000000,\\n      \"end\" : 355.290000,\\n      \"start\" : 355.230000,\\n      \"word\" : \"you\"\\n    }, {\\n      \"conf\" : 1.000000,\\n      \"end\" : 355.500000,\\n      \"start\" : 355.290000,\\n      \"word\" : \"about\"\\n    }, {\\n      \"conf\" : 1.000000,\\n      \"end\" : 355.590000,\\n      \"start\" : 355.500000,\\n      \"word\" : \"the\"\\n    }, {\\n      \"conf\" : 1.000000,\\n      \"end\" : 355.890000,\\n      \"start\" : 355.590000,\\n      \"word\" : \"march\"\\n    }, {\\n      \"conf\" : 1.000000,\\n      \"end\" : 356.460000,\\n      \"start\" : 355.890000,\\n      \"word\" : \"consumer\"\\n    }, {\\n      \"conf\" : 1.000000,\\n      \"end\" : 356.940000,\\n      \"start\" : 356.460000,\\n      \"word\" : \"price\"\\n    }, {\\n      \"conf\" : 1.000000,\\n      \"end\" : 357.450000,\\n      \"start\" : 356.970000,\\n      \"word\" : \"index\"\\n    }, {\\n      \"conf\" : 1.000000,\\n      \"end\" : 357.690000,\\n      \"start\" : 357.450000,\\n      \"word\" : \"couple\"\\n    }, {\\n      \"conf\" : 1.000000,\\n      \"end\" : 357.750000,\\n      \"start\" : 357.690000,\\n      \"word\" : \"of\"\\n    }, {\\n      \"conf\" : 1.000000,\\n      \"end\" : 357.960000,\\n      \"start\" : 357.750000,\\n      \"word\" : \"weeks\"\\n    }, {\\n      \"conf\" : 1.000000,\\n      \"end\" : 358.260000,\\n      \"start\" : 357.960000,\\n      \"word\" : \"ago\"\\n    }, {\\n      \"conf\" : 1.000000,\\n      \"end\" : 358.980000,\\n      \"start\" : 358.740000,\\n      \"word\" : \"up\"\\n    }, {\\n      \"conf\" : 1.000000,\\n      \"end\" : 359.310000,\\n      \"start\" : 359.040000,\\n      \"word\" : \"eight\"\\n    }, {\\n      \"conf\" : 1.000000,\\n      \"end\" : 359.430000,\\n      \"start\" : 359.310000,\\n      \"word\" : \"and\"\\n    }, {\\n      \"conf\" : 1.000000,\\n      \"end\" : 359.490000,\\n      \"start\" : 359.430000,\\n      \"word\" : \"a\"\\n    }, {\\n      \"conf\" : 1.000000,\\n      \"end\" : 359.670000,\\n      \"start\" : 359.490000,\\n      \"word\" : \"half\"\\n    }, {\\n      \"conf\" : 0.608137,\\n      \"end\" : 360.060000,\\n      \"start\" : 359.670000,\\n      \"word\" : \"percent\"\\n    }, {\\n      \"conf\" : 1.000000,\\n      \"end\" : 360.270000,\\n      \"start\" : 360.060000,\\n      \"word\" : \"year\"\\n    }, {\\n      \"conf\" : 1.000000,\\n      \"end\" : 360.420000,\\n      \"start\" : 360.270000,\\n      \"word\" : \"on\"\\n    }, {\\n      \"conf\" : 1.000000,\\n      \"end\" : 360.660000,\\n      \"start\" : 360.420000,\\n      \"word\" : \"year\"\\n    }, {\\n      \"conf\" : 1.000000,\\n      \"end\" : 360.810000,\\n      \"start\" : 360.660000,\\n      \"word\" : \"as\"\\n    }, {\\n      \"conf\" : 0.798170,\\n      \"end\" : 360.930000,\\n      \"start\" : 360.810000,\\n      \"word\" : \"you\\'re\"\\n    }, {\\n      \"conf\" : 1.000000,\\n      \"end\" : 361.440000,\\n      \"start\" : 360.930000,\\n      \"word\" : \"surely\"\\n    }, {\\n      \"conf\" : 1.000000,\\n      \"end\" : 361.650000,\\n      \"start\" : 361.440000,\\n      \"word\" : \"know\"\\n    }, {\\n      \"conf\" : 1.000000,\\n      \"end\" : 361.860000,\\n      \"start\" : 361.650000,\\n      \"word\" : \"by\"\\n    }, {\\n      \"conf\" : 1.000000,\\n      \"end\" : 362.160000,\\n      \"start\" : 361.860000,\\n      \"word\" : \"now\"\\n    }, {\\n      \"conf\" : 1.000000,\\n      \"end\" : 363.000000,\\n      \"start\" : 362.790000,\\n      \"word\" : \"this\"\\n    }, {\\n      \"conf\" : 1.000000,\\n      \"end\" : 363.390000,\\n      \"start\" : 363.000000,\\n      \"word\" : \"friday\"\\n    }, {\\n      \"conf\" : 1.000000,\\n      \"end\" : 363.570000,\\n      \"start\" : 363.390000,\\n      \"word\" : \"we\"\\n    }, {\\n      \"conf\" : 1.000000,\\n      \"end\" : 363.780000,\\n      \"start\" : 363.570000,\\n      \"word\" : \"get\"\\n    }, {\\n      \"conf\" : 1.000000,\\n      \"end\" : 364.290000,\\n      \"start\" : 363.780000,\\n      \"word\" : \"p\"\\n    }, {\\n      \"conf\" : 1.000000,\\n      \"end\" : 364.800000,\\n      \"start\" : 364.290000,\\n      \"word\" : \"c\"\\n    }, {\\n      \"conf\" : 1.000000,\\n      \"end\" : 365.130000,\\n      \"start\" : 364.800000,\\n      \"word\" : \"e\"\\n    }, {\\n      \"conf\" : 1.000000,\\n      \"end\" : 365.430000,\\n      \"start\" : 365.130000,\\n      \"word\" : \"that\\'s\"\\n    }, {\\n      \"conf\" : 1.000000,\\n      \"end\" : 365.940000,\\n      \"start\" : 365.430000,\\n      \"word\" : \"personal\"\\n    }, {\\n      \"conf\" : 1.000000,\\n      \"end\" : 366.540000,\\n      \"start\" : 365.940000,\\n      \"word\" : \"consumption\"\\n    }, {\\n      \"conf\" : 1.000000,\\n      \"end\" : 367.320000,\\n      \"start\" : 366.540000,\\n      \"word\" : \"expenditures\"\\n    }, {\\n      \"conf\" : 1.000000,\\n      \"end\" : 367.530000,\\n      \"start\" : 367.320000,\\n      \"word\" : \"which\"\\n    }, {\\n      \"conf\" : 1.000000,\\n      \"end\" : 367.650000,\\n      \"start\" : 367.530000,\\n      \"word\" : \"the\"\\n    }, {\\n      \"conf\" : 1.000000,\\n      \"end\" : 368.010000,\\n      \"start\" : 367.650000,\\n      \"word\" : \"federal\"\\n    }, {\\n      \"conf\" : 1.000000,\\n      \"end\" : 368.370000,\\n      \"start\" : 368.010000,\\n      \"word\" : \"reserve\"\\n    }, {\\n      \"conf\" : 1.000000,\\n      \"end\" : 368.670000,\\n      \"start\" : 368.370000,\\n      \"word\" : \"really\"\\n    }, {\\n      \"conf\" : 1.000000,\\n      \"end\" : 369.000000,\\n      \"start\" : 368.670000,\\n      \"word\" : \"likes\"\\n    }, {\\n      \"conf\" : 1.000000,\\n      \"end\" : 369.330000,\\n      \"start\" : 369.000000,\\n      \"word\" : \"but\"\\n    }, {\\n      \"conf\" : 1.000000,\\n      \"end\" : 370.080000,\\n      \"start\" : 369.930000,\\n      \"word\" : \"as\"\\n    }, {\\n      \"conf\" : 1.000000,\\n      \"end\" : 370.230000,\\n      \"start\" : 370.080000,\\n      \"word\" : \"we\"\\n    }, {\\n      \"conf\" : 1.000000,\\n      \"end\" : 370.380000,\\n      \"start\" : 370.230000,\\n      \"word\" : \"all\"\\n    }, {\\n      \"conf\" : 1.000000,\\n      \"end\" : 370.770000,\\n      \"start\" : 370.380000,\\n      \"word\" : \"know\"\\n    }, {\\n      \"conf\" : 1.000000,\\n      \"end\" : 371.580000,\\n      \"start\" : 370.860000,\\n      \"word\" : \"everybody\"\\n    }, {\\n      \"conf\" : 1.000000,\\n      \"end\" : 371.760000,\\n      \"start\" : 371.580000,\\n      \"word\" : \"is\"\\n    }, {\\n      \"conf\" : 1.000000,\\n      \"end\" : 372.240000,\\n      \"start\" : 371.760000,\\n      \"word\" : \"watching\"\\n    }, {\\n      \"conf\" : 1.000000,\\n      \"end\" : 372.930000,\\n      \"start\" : 372.270000,\\n      \"word\" : \"inflation\"\\n    }, {\\n      \"conf\" : 1.000000,\\n      \"end\" : 373.170000,\\n      \"start\" : 372.930000,\\n      \"word\" : \"right\"\\n    }, {\\n      \"conf\" : 1.000000,\\n      \"end\" : 373.500000,\\n      \"start\" : 373.170000,\\n      \"word\" : \"now\"\\n    }, {\\n      \"conf\" : 1.000000,\\n      \"end\" : 374.160000,\\n      \"start\" : 373.830000,\\n      \"word\" : \"there\"\\n    }, {\\n      \"conf\" : 1.000000,\\n      \"end\" : 374.430000,\\n      \"start\" : 374.160000,\\n      \"word\" : \"are\"\\n    }, {\\n      \"conf\" : 1.000000,\\n      \"end\" : 374.640000,\\n      \"start\" : 374.430000,\\n      \"word\" : \"though\"\\n    }, {\\n      \"conf\" : 1.000000,\\n      \"end\" : 374.940000,\\n      \"start\" : 374.640000,\\n      \"word\" : \"some\"\\n    }, {\\n      \"conf\" : 1.000000,\\n      \"end\" : 376.650000,\\n      \"start\" : 375.630000,\\n      \"word\" : \"nuances\"\\n    }, {\\n      \"conf\" : 1.000000,\\n      \"end\" : 377.070000,\\n      \"start\" : 376.920000,\\n      \"word\" : \"in\"\\n    }, {\\n      \"conf\" : 1.000000,\\n      \"end\" : 377.160000,\\n      \"start\" : 377.070000,\\n      \"word\" : \"the\"\\n    }, {\\n      \"conf\" : 1.000000,\\n      \"end\" : 377.280000,\\n      \"start\" : 377.160000,\\n      \"word\" : \"way\"\\n    }, {\\n      \"conf\" : 1.000000,\\n      \"end\" : 377.400000,\\n      \"start\" : 377.280000,\\n      \"word\" : \"that\"\\n    }, {\\n      \"conf\" : 1.000000,\\n      \"end\" : 377.670000,\\n      \"start\" : 377.400000,\\n      \"word\" : \"people\"\\n    }, {\\n      \"conf\" : 1.000000,\\n      \"end\" : 378.150000,\\n      \"start\" : 377.670000,\\n      \"word\" : \"experience\"\\n    }, {\\n      \"conf\" : 1.000000,\\n      \"end\" : 378.720000,\\n      \"start\" : 378.150000,\\n      \"word\" : \"inflation\"\\n    }, {\\n      \"conf\" : 1.000000,\\n      \"end\" : 379.200000,\\n      \"start\" : 378.840000,\\n      \"word\" : \"that\"\\n    }, {\\n      \"conf\" : 1.000000,\\n      \"end\" : 379.380000,\\n      \"start\" : 379.230000,\\n      \"word\" : \"the\"\\n    }, {\\n      \"conf\" : 1.000000,\\n      \"end\" : 379.740000,\\n      \"start\" : 379.380000,\\n      \"word\" : \"official\"\\n    }, {\\n      \"conf\" : 1.000000,\\n      \"end\" : 380.130000,\\n      \"start\" : 379.740000,\\n      \"word\" : \"metrics\"\\n    }, {\\n      \"conf\" : 1.000000,\\n      \"end\" : 380.460000,\\n      \"start\" : 380.130000,\\n      \"word\" : \"just\"\\n    }, {\\n      \"conf\" : 1.000000,\\n      \"end\" : 380.940000,\\n      \"start\" : 380.640000,\\n      \"word\" : \"don\\'t\"\\n    }, {\\n      \"conf\" : 1.000000,\\n      \"end\" : 381.390000,\\n      \"start\" : 380.940000,\\n      \"word\" : \"capture\"\\n    }, {\\n      \"conf\" : 1.000000,\\n      \"end\" : 381.990000,\\n      \"start\" : 381.840000,\\n      \"word\" : \"so\"\\n    }, {\\n      \"conf\" : 1.000000,\\n      \"end\" : 382.050000,\\n      \"start\" : 381.990000,\\n      \"word\" : \"i\"\\n    }, {\\n      \"conf\" : 1.000000,\\n      \"end\" : 382.260000,\\n      \"start\" : 382.050000,\\n      \"word\" : \"think\"\\n    }, {\\n      \"conf\" : 1.000000,\\n      \"end\" : 382.710000,\\n      \"start\" : 382.320000,\\n      \"word\" : \"maybe\"\\n    }, {\\n      \"conf\" : 1.000000,\\n      \"end\" : 383.610000,\\n      \"start\" : 383.400000,\\n      \"word\" : \"it\"\\n    }, {\\n      \"conf\" : 1.000000,\\n      \"end\" : 383.790000,\\n      \"start\" : 383.610000,\\n      \"word\" : \"could\"\\n    }, {\\n      \"conf\" : 1.000000,\\n      \"end\" : 383.940000,\\n      \"start\" : 383.790000,\\n      \"word\" : \"be\"\\n    }, {\\n      \"conf\" : 1.000000,\\n      \"end\" : 384.600000,\\n      \"start\" : 383.940000,\\n      \"word\" : \"helpful\"\\n    }, {\\n      \"conf\" : 1.000000,\\n      \"end\" : 384.840000,\\n      \"start\" : 384.630000,\\n      \"word\" : \"to\"\\n    }, {\\n      \"conf\" : 1.000000,\\n      \"end\" : 385.110000,\\n      \"start\" : 384.840000,\\n      \"word\" : \"like\"\\n    }, {\\n      \"conf\" : 1.000000,\\n      \"end\" : 385.320000,\\n      \"start\" : 385.110000,\\n      \"word\" : \"tell\"\\n    }, {\\n      \"conf\" : 1.000000,\\n      \"end\" : 385.380000,\\n      \"start\" : 385.320000,\\n      \"word\" : \"a\"\\n    }, {\\n      \"conf\" : 1.000000,\\n      \"end\" : 386.010000,\\n      \"start\" : 385.380000,\\n      \"word\" : \"story\"\\n    }, {\\n      \"conf\" : 0.982298,\\n      \"end\" : 386.100000,\\n      \"start\" : 386.010000,\\n      \"word\" : \"to\"\\n    }, {\\n      \"conf\" : 0.940354,\\n      \"end\" : 386.280000,\\n      \"start\" : 386.100000,\\n      \"word\" : \"sort\"\\n    }, {\\n      \"conf\" : 0.940354,\\n      \"end\" : 386.340000,\\n      \"start\" : 386.280000,\\n      \"word\" : \"of\"\\n    }, {\\n      \"conf\" : 1.000000,\\n      \"end\" : 386.760879,\\n      \"start\" : 386.340000,\\n      \"word\" : \"emphasize\"\\n    }, {\\n      \"conf\" : 0.865582,\\n      \"end\" : 386.880000,\\n      \"start\" : 386.760879,\\n      \"word\" : \"sort\"\\n    }, {\\n      \"conf\" : 1.000000,\\n      \"end\" : 387.030000,\\n      \"start\" : 386.880000,\\n      \"word\" : \"of\"\\n    }, {\\n      \"conf\" : 1.000000,\\n      \"end\" : 387.570000,\\n      \"start\" : 387.360000,\\n      \"word\" : \"one\"\\n    }, {\\n      \"conf\" : 1.000000,\\n      \"end\" : 387.630000,\\n      \"start\" : 387.570000,\\n      \"word\" : \"of\"\\n    }, {\\n      \"conf\" : 1.000000,\\n      \"end\" : 387.690000,\\n      \"start\" : 387.630000,\\n      \"word\" : \"the\"\\n    }, {\\n      \"conf\" : 1.000000,\\n      \"end\" : 388.290000,\\n      \"start\" : 387.690000,\\n      \"word\" : \"reasons\"\\n    }, {\\n      \"conf\" : 1.000000,\\n      \"end\" : 388.530000,\\n      \"start\" : 388.290000,\\n      \"word\" : \"that\"\\n    }, {\\n      \"conf\" : 1.000000,\\n      \"end\" : 388.650000,\\n      \"start\" : 388.530000,\\n      \"word\" : \"i\"\\n    }, {\\n      \"conf\" : 1.000000,\\n      \"end\" : 389.100000,\\n      \"start\" : 388.650000,\\n      \"word\" : \"decided\"\\n    }, {\\n      \"conf\" : 1.000000,\\n      \"end\" : 389.160000,\\n      \"start\" : 389.100000,\\n      \"word\" : \"to\"\\n    }, {\\n      \"conf\" : 1.000000,\\n      \"end\" : 389.490000,\\n      \"start\" : 389.190000,\\n      \"word\" : \"study\"\\n    }, {\\n      \"conf\" : 1.000000,\\n      \"end\" : 389.670000,\\n      \"start\" : 389.490000,\\n      \"word\" : \"this\"\\n    }, {\\n      \"conf\" : 1.000000,\\n      \"end\" : 390.000000,\\n      \"start\" : 389.670000,\\n      \"word\" : \"topic\"\\n    }, {\\n      \"conf\" : 0.636776,\\n      \"end\" : 390.073887,\\n      \"start\" : 390.000000,\\n      \"word\" : \"and\"\\n    }, {\\n      \"conf\" : 1.000000,\\n      \"end\" : 390.150000,\\n      \"start\" : 390.073887,\\n      \"word\" : \"i\"\\n    }, {\\n      \"conf\" : 1.000000,\\n      \"end\" : 390.300000,\\n      \"start\" : 390.150000,\\n      \"word\" : \"thought\"\\n    }, {\\n      \"conf\" : 1.000000,\\n      \"end\" : 390.360000,\\n      \"start\" : 390.300000,\\n      \"word\" : \"it\"\\n    }, {\\n      \"conf\" : 1.000000,\\n      \"end\" : 390.450000,\\n      \"start\" : 390.360000,\\n      \"word\" : \"was\"\\n    }, {\\n      \"conf\" : 1.000000,\\n      \"end\" : 391.050000,\\n      \"start\" : 390.450000,\\n      \"word\" : \"interesting\"\\n    }, {\\n      \"conf\" : 1.000000,\\n      \"end\" : 391.470000,\\n      \"start\" : 391.320000,\\n      \"word\" : \"i\\'m\"\\n    }, {\\n      \"conf\" : 1.000000,\\n      \"end\" : 391.830000,\\n      \"start\" : 391.470000,\\n      \"word\" : \"sorry\"\\n    }, {\\n      \"conf\" : 1.000000,\\n      \"end\" : 392.070000,\\n      \"start\" : 391.830000,\\n      \"word\" : \"you\"\\n    }, {\\n      \"conf\" : 1.000000,\\n      \"end\" : 392.490000,\\n      \"start\" : 392.070000,\\n      \"word\" : \"are\"\\n    }, {\\n      \"conf\" : 1.000000,\\n      \"end\" : 393.180000,\\n      \"start\" : 392.850000,\\n      \"word\" : \"yeah\"\\n    }, {\\n      \"conf\" : 1.000000,\\n      \"end\" : 393.720000,\\n      \"start\" : 393.600000,\\n      \"word\" : \"but\"\\n    }, {\\n      \"conf\" : 1.000000,\\n      \"end\" : 393.900000,\\n      \"start\" : 393.720000,\\n      \"word\" : \"it\\'s\"\\n    }, {\\n      \"conf\" : 1.000000,\\n      \"end\" : 394.290000,\\n      \"start\" : 393.930000,\\n      \"word\" : \"jacob\"\\n    }, {\\n      \"conf\" : 1.000000,\\n      \"end\" : 394.860000,\\n      \"start\" : 394.290000,\\n      \"word\" : \"orchard\"\\n    }, {\\n      \"conf\" : 1.000000,\\n      \"end\" : 395.520000,\\n      \"start\" : 395.220000,\\n      \"word\" : \"so\"\\n    }, {\\n      \"conf\" : 1.000000,\\n      \"end\" : 395.640000,\\n      \"start\" : 395.520000,\\n      \"word\" : \"i\\'m\"\\n    }, {\\n      \"conf\" : 1.000000,\\n      \"end\" : 395.700000,\\n      \"start\" : 395.640000,\\n      \"word\" : \"a\"\\n    }, {\\n      \"conf\" : 1.000000,\\n      \"end\" : 396.240000,\\n      \"start\" : 395.700000,\\n      \"word\" : \"phd\"\\n    }, {\\n      \"conf\" : 1.000000,\\n      \"end\" : 396.750000,\\n      \"start\" : 396.240000,\\n      \"word\" : \"candidate\"\\n    }, {\\n      \"conf\" : 1.000000,\\n      \"end\" : 396.900000,\\n      \"start\" : 396.750000,\\n      \"word\" : \"at\"\\n    }, {\\n      \"conf\" : 1.000000,\\n      \"end\" : 397.140000,\\n      \"start\" : 396.900000,\\n      \"word\" : \"u\"\\n    }, {\\n      \"conf\" : 1.000000,\\n      \"end\" : 397.470000,\\n      \"start\" : 397.140000,\\n      \"word\" : \"c\"\\n    }, {\\n      \"conf\" : 1.000000,\\n      \"end\" : 397.680000,\\n      \"start\" : 397.470000,\\n      \"word\" : \"san\"\\n    }, {\\n      \"conf\" : 1.000000,\\n      \"end\" : 398.250000,\\n      \"start\" : 397.680000,\\n      \"word\" : \"diego\"\\n    }, {\\n      \"conf\" : 1.000000,\\n      \"end\" : 398.580000,\\n      \"start\" : 398.250000,\\n      \"word\" : \"and\"\\n    }, {\\n      \"conf\" : 1.000000,\\n      \"end\" : 398.910000,\\n      \"start\" : 398.580000,\\n      \"word\" : \"actually\"\\n    }, {\\n      \"conf\" : 1.000000,\\n      \"end\" : 399.210000,\\n      \"start\" : 398.910000,\\n      \"word\" : \"just\"\\n    }, {\\n      \"conf\" : 1.000000,\\n      \"end\" : 399.600000,\\n      \"start\" : 399.210000,\\n      \"word\" : \"finishing\"\\n    }, {\\n      \"conf\" : 1.000000,\\n      \"end\" : 399.690000,\\n      \"start\" : 399.600000,\\n      \"word\" : \"up\"\\n    }, {\\n      \"conf\" : 1.000000,\\n      \"end\" : 399.780000,\\n      \"start\" : 399.690000,\\n      \"word\" : \"my\"\\n    }, {\\n      \"conf\" : 1.000000,\\n      \"end\" : 400.500000,\\n      \"start\" : 399.780000,\\n      \"word\" : \"phd\"\\n    }, {\\n      \"conf\" : 1.000000,\\n      \"end\" : 401.010000,\\n      \"start\" : 400.860000,\\n      \"word\" : \"and\"\\n    }, {\\n      \"conf\" : 1.000000,\\n      \"end\" : 401.130000,\\n      \"start\" : 401.010000,\\n      \"word\" : \"so\"\\n    }, {\\n      \"conf\" : 1.000000,\\n      \"end\" : 401.280000,\\n      \"start\" : 401.130000,\\n      \"word\" : \"then\"\\n    }, {\\n      \"conf\" : 1.000000,\\n      \"end\" : 401.490000,\\n      \"start\" : 401.280000,\\n      \"word\" : \"after\"\\n    }, {\\n      \"conf\" : 1.000000,\\n      \"end\" : 401.670000,\\n      \"start\" : 401.490000,\\n      \"word\" : \"that\"\\n    }, {\\n      \"conf\" : 1.000000,\\n      \"end\" : 401.940000,\\n      \"start\" : 401.670000,\\n      \"word\" : \"i\\'ll\"\\n    }, {\\n      \"conf\" : 1.000000,\\n      \"end\" : 402.270000,\\n      \"start\" : 402.210000,\\n      \"word\" : \"be\"\\n    }, {\\n      \"conf\" : 0.609605,\\n      \"end\" : 402.540000,\\n      \"start\" : 402.270000,\\n      \"word\" : \"doctor\"\\n    }, {\\n      \"conf\" : 1.000000,\\n      \"end\" : 402.930000,\\n      \"start\" : 402.540000,\\n      \"word\" : \"orchard\"\\n    }, {\\n      \"conf\" : 1.000000,\\n      \"end\" : 403.290000,\\n      \"start\" : 402.990000,\\n      \"word\" : \"but\"\\n    }, {\\n      \"conf\" : 1.000000,\\n      \"end\" : 403.740000,\\n      \"start\" : 403.320000,\\n      \"word\" : \"until\"\\n    }, {\\n      \"conf\" : 1.000000,\\n      \"end\" : 403.920000,\\n      \"start\" : 403.740000,\\n      \"word\" : \"then\"\\n    }, {\\n      \"conf\" : 1.000000,\\n      \"end\" : 404.010000,\\n      \"start\" : 403.920000,\\n      \"word\" : \"i\\'m\"\\n    }, {\\n      \"conf\" : 1.000000,\\n      \"end\" : 404.220000,\\n      \"start\" : 404.010000,\\n      \"word\" : \"still\"\\n    }, {\\n      \"conf\" : 1.000000,\\n      \"end\" : 404.280000,\\n      \"start\" : 404.220000,\\n      \"word\" : \"a\"\\n    }, {\\n      \"conf\" : 1.000000,\\n      \"end\" : 404.520000,\\n      \"start\" : 404.280000,\\n      \"word\" : \"student\"\\n    }, {\\n      \"conf\" : 1.000000,\\n      \"end\" : 405.180000,\\n      \"start\" : 404.790000,\\n      \"word\" : \"alright\"\\n    }, {\\n      \"conf\" : 1.000000,\\n      \"end\" : 405.360000,\\n      \"start\" : 405.180000,\\n      \"word\" : \"well\"\\n    }, {\\n      \"conf\" : 1.000000,\\n      \"end\" : 405.570000,\\n      \"start\" : 405.360000,\\n      \"word\" : \"then\"\\n    }, {\\n      \"conf\" : 1.000000,\\n      \"end\" : 406.050000,\\n      \"start\" : 405.570000,\\n      \"word\" : \"future\"\\n    }, {\\n      \"conf\" : 0.709933,\\n      \"end\" : 406.590000,\\n      \"start\" : 406.050000,\\n      \"word\" : \"doctor\"\\n    }, {\\n      \"conf\" : 1.000000,\\n      \"end\" : 407.160000,\\n      \"start\" : 406.590000,\\n      \"word\" : \"orchard\"\\n    }, {\\n      \"conf\" : 1.000000,\\n      \"end\" : 407.760000,\\n      \"start\" : 407.160000,\\n      \"word\" : \"please\"\\n    }, {\\n      \"conf\" : 1.000000,\\n      \"end\" : 408.120000,\\n      \"start\" : 407.940000,\\n      \"word\" : \"go\"\\n    }, {\\n      \"conf\" : 1.000000,\\n      \"end\" : 408.420000,\\n      \"start\" : 408.120000,\\n      \"word\" : \"on\"\\n    }, {\\n      \"conf\" : 1.000000,\\n      \"end\" : 409.140000,\\n      \"start\" : 408.990000,\\n      \"word\" : \"in\"\\n    }, {\\n      \"conf\" : 0.752624,\\n      \"end\" : 409.530000,\\n      \"start\" : 409.140000,\\n      \"word\" : \"twenty\"\\n    }, {\\n      \"conf\" : 1.000000,\\n      \"end\" : 410.160000,\\n      \"start\" : 409.537412,\\n      \"word\" : \"eleven\"\\n    }, {\\n      \"conf\" : 1.000000,\\n      \"end\" : 411.180000,\\n      \"start\" : 410.820000,\\n      \"word\" : \"bill\"\\n    }, {\\n      \"conf\" : 1.000000,\\n      \"end\" : 411.840000,\\n      \"start\" : 411.180000,\\n      \"word\" : \"dudley\"\\n    }, {\\n      \"conf\" : 1.000000,\\n      \"end\" : 412.050000,\\n      \"start\" : 411.840000,\\n      \"word\" : \"who\"\\n    }, {\\n      \"conf\" : 1.000000,\\n      \"end\" : 412.500000,\\n      \"start\" : 412.050000,\\n      \"word\" : \"was\"\\n    }, {\\n      \"conf\" : 1.000000,\\n      \"end\" : 412.860000,\\n      \"start\" : 412.530000,\\n      \"word\" : \"the\"\\n    }, {\\n      \"conf\" : 1.000000,\\n      \"end\" : 413.520000,\\n      \"start\" : 412.860000,\\n      \"word\" : \"president\"\\n    }, {\\n      \"conf\" : 1.000000,\\n      \"end\" : 413.640000,\\n      \"start\" : 413.520000,\\n      \"word\" : \"of\"\\n    }, {\\n      \"conf\" : 1.000000,\\n      \"end\" : 413.700000,\\n      \"start\" : 413.640000,\\n      \"word\" : \"the\"\\n    }, {\\n      \"conf\" : 1.000000,\\n      \"end\" : 413.790000,\\n      \"start\" : 413.700000,\\n      \"word\" : \"new\"\\n    }, {\\n      \"conf\" : 1.000000,\\n      \"end\" : 413.970000,\\n      \"start\" : 413.790000,\\n      \"word\" : \"york\"\\n    }, {\\n      \"conf\" : 1.000000,\\n      \"end\" : 414.210000,\\n      \"start\" : 413.970000,\\n      \"word\" : \"fed\"\\n    }, {\\n      \"conf\" : 1.000000,\\n      \"end\" : 414.300000,\\n      \"start\" : 414.210000,\\n      \"word\" : \"at\"\\n    }, {\\n      \"conf\" : 1.000000,\\n      \"end\" : 414.390000,\\n      \"start\" : 414.300000,\\n      \"word\" : \"the\"\\n    }, {\\n      \"conf\" : 1.000000,\\n      \"end\" : 414.840000,\\n      \"start\" : 414.390000,\\n      \"word\" : \"time\"\\n    }, {\\n      \"conf\" : 1.000000,\\n      \"end\" : 415.800000,\\n      \"start\" : 415.530000,\\n      \"word\" : \"he\"\\n    }, {\\n      \"conf\" : 1.000000,\\n      \"end\" : 415.950000,\\n      \"start\" : 415.800000,\\n      \"word\" : \"was\"\\n    }, {\\n      \"conf\" : 1.000000,\\n      \"end\" : 416.160000,\\n      \"start\" : 415.950000,\\n      \"word\" : \"doing\"\\n    }, {\\n      \"conf\" : 1.000000,\\n      \"end\" : 416.250000,\\n      \"start\" : 416.160000,\\n      \"word\" : \"an\"\\n    }, {\\n      \"conf\" : 1.000000,\\n      \"end\" : 416.610000,\\n      \"start\" : 416.250000,\\n      \"word\" : \"outreach\"\\n    }, {\\n      \"conf\" : 1.000000,\\n      \"end\" : 417.120000,\\n      \"start\" : 416.610000,\\n      \"word\" : \"speech\"\\n    }, {\\n      \"conf\" : 1.000000,\\n      \"end\" : 417.900000,\\n      \"start\" : 417.300000,\\n      \"word\" : \"to\"\\n    }, {\\n      \"conf\" : 1.000000,\\n      \"end\" : 418.290000,\\n      \"start\" : 418.230000,\\n      \"word\" : \"a\"\\n    }, {\\n      \"conf\" : 1.000000,\\n      \"end\" : 418.650000,\\n      \"start\" : 418.290000,\\n      \"word\" : \"blue\"\\n    }, {\\n      \"conf\" : 1.000000,\\n      \"end\" : 419.040000,\\n      \"start\" : 418.650000,\\n      \"word\" : \"collar\"\\n    }, {\\n      \"conf\" : 1.000000,\\n      \"end\" : 419.760000,\\n      \"start\" : 419.040000,\\n      \"word\" : \"community\"\\n    }, {\\n      \"conf\" : 1.000000,\\n      \"end\" : 420.420000,\\n      \"start\" : 420.120000,\\n      \"word\" : \"in\"\\n    }, {\\n      \"conf\" : 1.000000,\\n      \"end\" : 420.660000,\\n      \"start\" : 420.532354,\\n      \"word\" : \"new\"\\n    }, {\\n      \"conf\" : 1.000000,\\n      \"end\" : 421.050000,\\n      \"start\" : 420.660000,\\n      \"word\" : \"york\"\\n    }, {\\n      \"conf\" : 1.000000,\\n      \"end\" : 421.710000,\\n      \"start\" : 421.440000,\\n      \"word\" : \"another\"\\n    }, {\\n      \"conf\" : 1.000000,\\n      \"end\" : 421.830000,\\n      \"start\" : 421.710000,\\n      \"word\" : \"the\"\\n    }, {\\n      \"conf\" : 1.000000,\\n      \"end\" : 422.070000,\\n      \"start\" : 421.830000,\\n      \"word\" : \"reason\"\\n    }, {\\n      \"conf\" : 1.000000,\\n      \"end\" : 422.130000,\\n      \"start\" : 422.070000,\\n      \"word\" : \"for\"\\n    }, {\\n      \"conf\" : 1.000000,\\n      \"end\" : 422.220000,\\n      \"start\" : 422.130000,\\n      \"word\" : \"the\"\\n    }, {\\n      \"conf\" : 1.000000,\\n      \"end\" : 422.610000,\\n      \"start\" : 422.220000,\\n      \"word\" : \"speeches\"\\n    }, {\\n      \"conf\" : 1.000000,\\n      \"end\" : 422.880000,\\n      \"start\" : 422.610000,\\n      \"word\" : \"people\"\\n    }, {\\n      \"conf\" : 1.000000,\\n      \"end\" : 423.120000,\\n      \"start\" : 422.880000,\\n      \"word\" : \"were\"\\n    }, {\\n      \"conf\" : 1.000000,\\n      \"end\" : 423.870000,\\n      \"start\" : 423.180000,\\n      \"word\" : \"concerned\"\\n    }, {\\n      \"conf\" : 1.000000,\\n      \"end\" : 424.290000,\\n      \"start\" : 423.870000,\\n      \"word\" : \"about\"\\n    }, {\\n      \"conf\" : 1.000000,\\n      \"end\" : 424.800000,\\n      \"start\" : 424.440000,\\n      \"word\" : \"cost\"\\n    }, {\\n      \"conf\" : 1.000000,\\n      \"end\" : 424.860000,\\n      \"start\" : 424.800000,\\n      \"word\" : \"of\"\\n    }, {\\n      \"conf\" : 1.000000,\\n      \"end\" : 425.370000,\\n      \"start\" : 424.860000,\\n      \"word\" : \"living\"\\n    }, {\\n      \"conf\" : 1.000000,\\n      \"end\" : 426.090000,\\n      \"start\" : 425.640000,\\n      \"word\" : \"just\"\\n    }, {\\n      \"conf\" : 1.000000,\\n      \"end\" : 426.360000,\\n      \"start\" : 426.090000,\\n      \"word\" : \"like\"\\n    }, {\\n      \"conf\" : 1.000000,\\n      \"end\" : 426.570000,\\n      \"start\" : 426.360000,\\n      \"word\" : \"they\"\\n    }, {\\n      \"conf\" : 1.000000,\\n      \"end\" : 426.900000,\\n      \"start\" : 426.570000,\\n      \"word\" : \"are\"\\n    }, {\\n      \"conf\" : 1.000000,\\n      \"end\" : 427.440000,\\n      \"start\" : 426.900000,\\n      \"word\" : \"today\"\\n    }, {\\n      \"conf\" : 1.000000,\\n      \"end\" : 427.950000,\\n      \"start\" : 427.470000,\\n      \"word\" : \"but\"\\n    }, {\\n      \"conf\" : 1.000000,\\n      \"end\" : 428.910000,\\n      \"start\" : 428.310000,\\n      \"word\" : \"unlike\"\\n    }, {\\n      \"conf\" : 1.000000,\\n      \"end\" : 429.420000,\\n      \"start\" : 428.910000,\\n      \"word\" : \"today\"\\n    }, {\\n      \"conf\" : 1.000000,\\n      \"end\" : 429.900000,\\n      \"start\" : 429.780000,\\n      \"word\" : \"the\"\\n    }, {\\n      \"conf\" : 1.000000,\\n      \"end\" : 430.200000,\\n      \"start\" : 429.900000,\\n      \"word\" : \"actual\"\\n    }, {\\n      \"conf\" : 1.000000,\\n      \"end\" : 430.650000,\\n      \"start\" : 430.200000,\\n      \"word\" : \"official\"\\n    }, {\\n      \"conf\" : 0.760051,\\n      \"end\" : 431.244287,\\n      \"start\" : 430.650000,\\n      \"word\" : \"measurer\"\\n    }, {\\n      \"conf\" : 1.000000,\\n      \"end\" : 431.400000,\\n      \"start\" : 431.244287,\\n      \"word\" : \"of\"\\n    }, {\\n      \"conf\" : 1.000000,\\n      \"end\" : 432.000000,\\n      \"start\" : 431.400000,\\n      \"word\" : \"inflation\"\\n    }, {\\n      \"conf\" : 1.000000,\\n      \"end\" : 432.300000,\\n      \"start\" : 432.000000,\\n      \"word\" : \"wasn\\'t\"\\n    }, {\\n      \"conf\" : 1.000000,\\n      \"end\" : 432.450000,\\n      \"start\" : 432.300000,\\n      \"word\" : \"that\"\\n    }, {\\n      \"conf\" : 1.000000,\\n      \"end\" : 432.720000,\\n      \"start\" : 432.450000,\\n      \"word\" : \"high\"\\n    }, {\\n      \"conf\" : 1.000000,\\n      \"end\" : 433.440000,\\n      \"start\" : 433.140000,\\n      \"word\" : \"back\"\\n    }, {\\n      \"conf\" : 1.000000,\\n      \"end\" : 433.710000,\\n      \"start\" : 433.440000,\\n      \"word\" : \"then\"\\n    }, {\\n      \"conf\" : 1.000000,\\n      \"end\" : 434.130000,\\n      \"start\" : 433.710000,\\n      \"word\" : \"some\"\\n    }, {\\n      \"conf\" : 1.000000,\\n      \"end\" : 434.670000,\\n      \"start\" : 434.130000,\\n      \"word\" : \"prices\"\\n    }, {\\n      \"conf\" : 1.000000,\\n      \"end\" : 435.150000,\\n      \"start\" : 434.670000,\\n      \"word\" : \"food\"\\n    }, {\\n      \"conf\" : 1.000000,\\n      \"end\" : 435.360000,\\n      \"start\" : 435.150000,\\n      \"word\" : \"and\"\\n    }, {\\n      \"conf\" : 1.000000,\\n      \"end\" : 435.960000,\\n      \"start\" : 435.360000,\\n      \"word\" : \"energy\"\\n    }, {\\n      \"conf\" : 1.000000,\\n      \"end\" : 436.110000,\\n      \"start\" : 435.960000,\\n      \"word\" : \"of\"\\n    }, {\\n      \"conf\" : 1.000000,\\n      \"end\" : 436.410000,\\n      \"start\" : 436.110000,\\n      \"word\" : \"course\"\\n    }, {\\n      \"conf\" : 0.957911,\\n      \"end\" : 436.500000,\\n      \"start\" : 436.410000,\\n      \"word\" : \"were\"\\n    }, {\\n      \"conf\" : 1.000000,\\n      \"end\" : 436.740000,\\n      \"start\" : 436.500000,\\n      \"word\" : \"going\"\\n    }, {\\n      \"conf\" : 1.000000,\\n      \"end\" : 436.980000,\\n      \"start\" : 436.740000,\\n      \"word\" : \"up\"\\n    }, {\\n      \"conf\" : 1.000000,\\n      \"end\" : 437.220000,\\n      \"start\" : 437.070000,\\n      \"word\" : \"a\"\\n    }, {\\n      \"conf\" : 1.000000,\\n      \"end\" : 437.760000,\\n      \"start\" : 437.220000,\\n      \"word\" : \"lot\"\\n    }, {\\n      \"conf\" : 1.000000,\\n      \"end\" : 438.690000,\\n      \"start\" : 438.450000,\\n      \"word\" : \"other\"\\n    }, {\\n      \"conf\" : 0.907238,\\n      \"end\" : 439.110000,\\n      \"start\" : 438.690000,\\n      \"word\" : \"prices\"\\n    }, {\\n      \"conf\" : 1.000000,\\n      \"end\" : 439.410000,\\n      \"start\" : 439.110000,\\n      \"word\" : \"not\"\\n    }, {\\n      \"conf\" : 1.000000,\\n      \"end\" : 439.800000,\\n      \"start\" : 439.410000,\\n      \"word\" : \"really\"\\n    }, {\\n      \"conf\" : 1.000000,\\n      \"end\" : 440.100000,\\n      \"start\" : 439.800000,\\n      \"word\" : \"so\"\\n    }, {\\n      \"conf\" : 1.000000,\\n      \"end\" : 440.370000,\\n      \"start\" : 440.100000,\\n      \"word\" : \"much\"\\n    }, {\\n      \"conf\" : 1.000000,\\n      \"end\" : 440.490000,\\n      \"start\" : 440.370000,\\n      \"word\" : \"the\"\\n    }, {\\n      \"conf\" : 0.874430,\\n      \"end\" : 440.940000,\\n      \"start\" : 440.490000,\\n      \"word\" : \"cp\"\\n    }, {\\n      \"conf\" : 1.000000,\\n      \"end\" : 441.360000,\\n      \"start\" : 440.940000,\\n      \"word\" : \"i\"\\n    }, {\\n      \"conf\" : 1.000000,\\n      \"end\" : 441.570000,\\n      \"start\" : 441.450000,\\n      \"word\" : \"the\"\\n    }, {\\n      \"conf\" : 1.000000,\\n      \"end\" : 441.900000,\\n      \"start\" : 441.570000,\\n      \"word\" : \"consumer\"\\n    }, {\\n      \"conf\" : 1.000000,\\n      \"end\" : 442.170000,\\n      \"start\" : 441.900000,\\n      \"word\" : \"price\"\\n    }, {\\n      \"conf\" : 1.000000,\\n      \"end\" : 442.470000,\\n      \"start\" : 442.170000,\\n      \"word\" : \"index\"\\n    }, {\\n      \"conf\" : 1.000000,\\n      \"end\" : 442.620000,\\n      \"start\" : 442.470000,\\n      \"word\" : \"was\"\\n    }, {\\n      \"conf\" : 1.000000,\\n      \"end\" : 442.860000,\\n      \"start\" : 442.620000,\\n      \"word\" : \"up\"\\n    }, {\\n      \"conf\" : 1.000000,\\n      \"end\" : 443.340000,\\n      \"start\" : 442.980000,\\n      \"word\" : \"two\"\\n    }, {\\n      \"conf\" : 1.000000,\\n      \"end\" : 443.730000,\\n      \"start\" : 443.340000,\\n      \"word\" : \"point\"\\n    }, {\\n      \"conf\" : 1.000000,\\n      \"end\" : 444.030000,\\n      \"start\" : 443.730000,\\n      \"word\" : \"seven\"\\n    }, {\\n      \"conf\" : 1.000000,\\n      \"end\" : 444.480000,\\n      \"start\" : 444.030000,\\n      \"word\" : \"percent\"\\n    }, {\\n      \"conf\" : 1.000000,\\n      \"end\" : 444.660000,\\n      \"start\" : 444.480000,\\n      \"word\" : \"year\"\\n    }, {\\n      \"conf\" : 1.000000,\\n      \"end\" : 444.870000,\\n      \"start\" : 444.660000,\\n      \"word\" : \"over\"\\n    }, {\\n      \"conf\" : 1.000000,\\n      \"end\" : 445.080000,\\n      \"start\" : 444.870000,\\n      \"word\" : \"year\"\\n    }, {\\n      \"conf\" : 1.000000,\\n      \"end\" : 445.230000,\\n      \"start\" : 445.080000,\\n      \"word\" : \"when\"\\n    }, {\\n      \"conf\" : 1.000000,\\n      \"end\" : 445.410000,\\n      \"start\" : 445.230000,\\n      \"word\" : \"bill\"\\n    }, {\\n      \"conf\" : 1.000000,\\n      \"end\" : 445.710000,\\n      \"start\" : 445.410000,\\n      \"word\" : \"dudley\"\\n    }, {\\n      \"conf\" : 1.000000,\\n      \"end\" : 445.950000,\\n      \"start\" : 445.710000,\\n      \"word\" : \"gave\"\\n    }, {\\n      \"conf\" : 1.000000,\\n      \"end\" : 446.130000,\\n      \"start\" : 445.950000,\\n      \"word\" : \"that\"\\n    }, {\\n      \"conf\" : 1.000000,\\n      \"end\" : 446.520000,\\n      \"start\" : 446.130000,\\n      \"word\" : \"speech\"\\n    }, {\\n      \"conf\" : 1.000000,\\n      \"end\" : 447.180000,\\n      \"start\" : 446.910000,\\n      \"word\" : \"eight\"\\n    }, {\\n      \"conf\" : 1.000000,\\n      \"end\" : 447.270000,\\n      \"start\" : 447.180000,\\n      \"word\" : \"and\"\\n    }, {\\n      \"conf\" : 1.000000,\\n      \"end\" : 447.330000,\\n      \"start\" : 447.270000,\\n      \"word\" : \"a\"\\n    }, {\\n      \"conf\" : 1.000000,\\n      \"end\" : 447.540000,\\n      \"start\" : 447.330000,\\n      \"word\" : \"half\"\\n    }, {\\n      \"conf\" : 0.697948,\\n      \"end\" : 447.921533,\\n      \"start\" : 447.540000,\\n      \"word\" : \"percent\"\\n    }, {\\n      \"conf\" : 0.901589,\\n      \"end\" : 448.290000,\\n      \"start\" : 447.966270,\\n      \"word\" : \"day\"\\n    }, {\\n      \"conf\" : 1.000000,\\n      \"end\" : 448.650000,\\n      \"start\" : 448.380000,\\n      \"word\" : \"as\"\\n    }, {\\n      \"conf\" : 1.000000,\\n      \"end\" : 448.830000,\\n      \"start\" : 448.650000,\\n      \"word\" : \"we\"\\n    }, {\\n      \"conf\" : 1.000000,\\n      \"end\" : 448.980000,\\n      \"start\" : 448.830000,\\n      \"word\" : \"all\"\\n    }, {\\n      \"conf\" : 1.000000,\\n      \"end\" : 449.250000,\\n      \"start\" : 448.980000,\\n      \"word\" : \"know\"\\n    }, {\\n      \"conf\" : 1.000000,\\n      \"end\" : 450.240000,\\n      \"start\" : 449.700000,\\n      \"word\" : \"and\"\\n    }, {\\n      \"conf\" : 1.000000,\\n      \"end\" : 450.720000,\\n      \"start\" : 450.450000,\\n      \"word\" : \"as\"\\n    }, {\\n      \"conf\" : 1.000000,\\n      \"end\" : 450.810000,\\n      \"start\" : 450.720000,\\n      \"word\" : \"an\"\\n    }, {\\n      \"conf\" : 1.000000,\\n      \"end\" : 451.440000,\\n      \"start\" : 450.810000,\\n      \"word\" : \"example\"\\n    }, {\\n      \"conf\" : 1.000000,\\n      \"end\" : 451.560000,\\n      \"start\" : 451.440000,\\n      \"word\" : \"of\"\\n    }, {\\n      \"conf\" : 1.000000,\\n      \"end\" : 451.770000,\\n      \"start\" : 451.560000,\\n      \"word\" : \"why\"\\n    }, {\\n      \"conf\" : 1.000000,\\n      \"end\" : 451.890000,\\n      \"start\" : 451.770000,\\n      \"word\" : \"the\"\\n    }, {\\n      \"conf\" : 1.000000,\\n      \"end\" : 452.160000,\\n      \"start\" : 451.890000,\\n      \"word\" : \"fed\"\\n    }, {\\n      \"conf\" : 1.000000,\\n      \"end\" : 452.580000,\\n      \"start\" : 452.160000,\\n      \"word\" : \"wasn\\'t\"\\n    }, {\\n      \"conf\" : 1.000000,\\n      \"end\" : 453.120000,\\n      \"start\" : 452.700000,\\n      \"word\" : \"super\"\\n    }, {\\n      \"conf\" : 1.000000,\\n      \"end\" : 453.510000,\\n      \"start\" : 453.120000,\\n      \"word\" : \"concerned\"\\n    }, {\\n      \"conf\" : 1.000000,\\n      \"end\" : 453.660000,\\n      \"start\" : 453.510000,\\n      \"word\" : \"about\"\\n    }, {\\n      \"conf\" : 1.000000,\\n      \"end\" : 454.350000,\\n      \"start\" : 453.660000,\\n      \"word\" : \"inflation\"\\n    }, {\\n      \"conf\" : 1.000000,\\n      \"end\" : 454.710000,\\n      \"start\" : 454.500000,\\n      \"word\" : \"give\"\\n    }, {\\n      \"conf\" : 1.000000,\\n      \"end\" : 454.800000,\\n      \"start\" : 454.710000,\\n      \"word\" : \"an\"\\n    }, {\\n      \"conf\" : 1.000000,\\n      \"end\" : 455.400000,\\n      \"start\" : 454.800000,\\n      \"word\" : \"example\"\\n    }, {\\n      \"conf\" : 1.000000,\\n      \"end\" : 455.760000,\\n      \"start\" : 455.400000,\\n      \"word\" : \"of\"\\n    }, {\\n      \"conf\" : 1.000000,\\n      \"end\" : 456.240000,\\n      \"start\" : 456.120000,\\n      \"word\" : \"you\"\\n    }, {\\n      \"conf\" : 1.000000,\\n      \"end\" : 456.360000,\\n      \"start\" : 456.240000,\\n      \"word\" : \"know\"\\n    }, {\\n      \"conf\" : 1.000000,\\n      \"end\" : 456.420000,\\n      \"start\" : 456.360000,\\n      \"word\" : \"if\"\\n    }, {\\n      \"conf\" : 1.000000,\\n      \"end\" : 456.510000,\\n      \"start\" : 456.420000,\\n      \"word\" : \"you\"\\n    }, {\\n      \"conf\" : 1.000000,\\n      \"end\" : 456.660000,\\n      \"start\" : 456.510000,\\n      \"word\" : \"look\"\\n    }, {\\n      \"conf\" : 1.000000,\\n      \"end\" : 456.720000,\\n      \"start\" : 456.660000,\\n      \"word\" : \"at\"\\n    }, {\\n      \"conf\" : 1.000000,\\n      \"end\" : 456.840000,\\n      \"start\" : 456.720000,\\n      \"word\" : \"the\"\\n    }, {\\n      \"conf\" : 1.000000,\\n      \"end\" : 457.320000,\\n      \"start\" : 456.840000,\\n      \"word\" : \"ipad\"\\n    }, {\\n      \"conf\" : 1.000000,\\n      \"end\" : 457.740000,\\n      \"start\" : 457.320000,\\n      \"word\" : \"two\"\\n    }, {\\n      \"conf\" : 1.000000,\\n      \"end\" : 458.040000,\\n      \"start\" : 457.800000,\\n      \"word\" : \"which\"\\n    }, {\\n      \"conf\" : 1.000000,\\n      \"end\" : 458.160000,\\n      \"start\" : 458.040000,\\n      \"word\" : \"had\"\\n    }, {\\n      \"conf\" : 1.000000,\\n      \"end\" : 458.400000,\\n      \"start\" : 458.160000,\\n      \"word\" : \"just\"\\n    }, {\\n      \"conf\" : 1.000000,\\n      \"end\" : 458.580000,\\n      \"start\" : 458.400000,\\n      \"word\" : \"come\"\\n    }, {\\n      \"conf\" : 1.000000,\\n      \"end\" : 458.910000,\\n      \"start\" : 458.580000,\\n      \"word\" : \"out\"\\n    }, {\\n      \"conf\" : 1.000000,\\n      \"end\" : 459.600000,\\n      \"start\" : 459.360000,\\n      \"word\" : \"it\\'s\"\\n    }, {\\n      \"conf\" : 1.000000,\\n      \"end\" : 459.690000,\\n      \"start\" : 459.600000,\\n      \"word\" : \"the\"\\n    }, {\\n      \"conf\" : 1.000000,\\n      \"end\" : 460.050000,\\n      \"start\" : 459.690000,\\n      \"word\" : \"same\"\\n    }, {\\n      \"conf\" : 1.000000,\\n      \"end\" : 460.470000,\\n      \"start\" : 460.050000,\\n      \"word\" : \"price\"\\n    }, {\\n      \"conf\" : 1.000000,\\n      \"end\" : 460.590000,\\n      \"start\" : 460.470000,\\n      \"word\" : \"as\"\\n    }, {\\n      \"conf\" : 1.000000,\\n      \"end\" : 460.680000,\\n      \"start\" : 460.590000,\\n      \"word\" : \"the\"\\n    }, {\\n      \"conf\" : 1.000000,\\n      \"end\" : 461.100000,\\n      \"start\" : 460.680000,\\n      \"word\" : \"ipad\"\\n    }, {\\n      \"conf\" : 1.000000,\\n      \"end\" : 461.430000,\\n      \"start\" : 461.100000,\\n      \"word\" : \"one\"\\n    }, {\\n      \"conf\" : 1.000000,\\n      \"end\" : 461.670000,\\n      \"start\" : 461.460000,\\n      \"word\" : \"is\"\\n    }, {\\n      \"conf\" : 1.000000,\\n      \"end\" : 462.060000,\\n      \"start\" : 461.670000,\\n      \"word\" : \"better\"\\n    }, {\\n      \"conf\" : 1.000000,\\n      \"end\" : 463.050000,\\n      \"start\" : 462.480000,\\n      \"word\" : \"introductory\"\\n    }, {\\n      \"conf\" : 1.000000,\\n      \"end\" : 463.350000,\\n      \"start\" : 463.050000,\\n      \"word\" : \"cost\"\\n    }, {\\n      \"conf\" : 1.000000,\\n      \"end\" : 463.410000,\\n      \"start\" : 463.350000,\\n      \"word\" : \"of\"\\n    }, {\\n      \"conf\" : 1.000000,\\n      \"end\" : 463.500000,\\n      \"start\" : 463.410000,\\n      \"word\" : \"an\"\\n    }, {\\n      \"conf\" : 1.000000,\\n      \"end\" : 463.860000,\\n      \"start\" : 463.500000,\\n      \"word\" : \"ipad\"\\n    }, {\\n      \"conf\" : 1.000000,\\n      \"end\" : 464.280000,\\n      \"start\" : 463.860000,\\n      \"word\" : \"one\"\\n    }, {\\n      \"conf\" : 1.000000,\\n      \"end\" : 465.030000,\\n      \"start\" : 464.610000,\\n      \"word\" : \"four\"\\n    }, {\\n      \"conf\" : 1.000000,\\n      \"end\" : 465.300000,\\n      \"start\" : 465.030000,\\n      \"word\" : \"hundred\"\\n    }, {\\n      \"conf\" : 1.000000,\\n      \"end\" : 465.360000,\\n      \"start\" : 465.300000,\\n      \"word\" : \"and\"\\n    }, {\\n      \"conf\" : 1.000000,\\n      \"end\" : 465.690000,\\n      \"start\" : 465.360000,\\n      \"word\" : \"ninety\"\\n    }, {\\n      \"conf\" : 1.000000,\\n      \"end\" : 466.080000,\\n      \"start\" : 465.690000,\\n      \"word\" : \"nine\"\\n    }, {\\n      \"conf\" : 1.000000,\\n      \"end\" : 466.680000,\\n      \"start\" : 466.200000,\\n      \"word\" : \"dollars\"\\n    }, {\\n      \"conf\" : 1.000000,\\n      \"end\" : 467.250000,\\n      \"start\" : 466.710000,\\n      \"word\" : \"introductory\"\\n    }, {\\n      \"conf\" : 1.000000,\\n      \"end\" : 467.520000,\\n      \"start\" : 467.250000,\\n      \"word\" : \"cost\"\\n    }, {\\n      \"conf\" : 1.000000,\\n      \"end\" : 467.580000,\\n      \"start\" : 467.520000,\\n      \"word\" : \"of\"\\n    }, {\\n      \"conf\" : 1.000000,\\n      \"end\" : 467.670000,\\n      \"start\" : 467.580000,\\n      \"word\" : \"an\"\\n    }, {\\n      \"conf\" : 1.000000,\\n      \"end\" : 468.090000,\\n      \"start\" : 467.670000,\\n      \"word\" : \"ipad\"\\n    }, {\\n      \"conf\" : 0.882252,\\n      \"end\" : 468.480000,\\n      \"start\" : 468.090000,\\n      \"word\" : \"two\"\\n    }, {\\n      \"conf\" : 1.000000,\\n      \"end\" : 468.570000,\\n      \"start\" : 468.480000,\\n      \"word\" : \"a\"\\n    }, {\\n      \"conf\" : 1.000000,\\n      \"end\" : 468.810000,\\n      \"start\" : 468.570000,\\n      \"word\" : \"year\"\\n    }, {\\n      \"conf\" : 1.000000,\\n      \"end\" : 469.290000,\\n      \"start\" : 468.810000,\\n      \"word\" : \"later\"\\n    }, {\\n      \"conf\" : 1.000000,\\n      \"end\" : 470.400000,\\n      \"start\" : 469.980000,\\n      \"word\" : \"four\"\\n    }, {\\n      \"conf\" : 1.000000,\\n      \"end\" : 470.610000,\\n      \"start\" : 470.400000,\\n      \"word\" : \"hundred\"\\n    }, {\\n      \"conf\" : 1.000000,\\n      \"end\" : 470.670000,\\n      \"start\" : 470.610000,\\n      \"word\" : \"and\"\\n    }, {\\n      \"conf\" : 1.000000,\\n      \"end\" : 470.940000,\\n      \"start\" : 470.670000,\\n      \"word\" : \"ninety\"\\n    }, {\\n      \"conf\" : 1.000000,\\n      \"end\" : 471.180000,\\n      \"start\" : 470.940000,\\n      \"word\" : \"nine\"\\n    }, {\\n      \"conf\" : 1.000000,\\n      \"end\" : 471.720000,\\n      \"start\" : 471.180000,\\n      \"word\" : \"dollars\"\\n    }, {\\n      \"conf\" : 1.000000,\\n      \"end\" : 472.200000,\\n      \"start\" : 472.050000,\\n      \"word\" : \"you\"\\n    }, {\\n      \"conf\" : 1.000000,\\n      \"end\" : 472.350000,\\n      \"start\" : 472.200000,\\n      \"word\" : \"know\"\\n    }, {\\n      \"conf\" : 1.000000,\\n      \"end\" : 472.650000,\\n      \"start\" : 472.350000,\\n      \"word\" : \"some\"\\n    }, {\\n      \"conf\" : 1.000000,\\n      \"end\" : 473.040000,\\n      \"start\" : 472.650000,\\n      \"word\" : \"prices\"\\n    }, {\\n      \"conf\" : 1.000000,\\n      \"end\" : 473.100000,\\n      \"start\" : 473.040000,\\n      \"word\" : \"are\"\\n    }, {\\n      \"conf\" : 1.000000,\\n      \"end\" : 473.370000,\\n      \"start\" : 473.100000,\\n      \"word\" : \"going\"\\n    }, {\\n      \"conf\" : 1.000000,\\n      \"end\" : 473.580000,\\n      \"start\" : 473.370000,\\n      \"word\" : \"down\"\\n    }, {\\n      \"conf\" : 1.000000,\\n      \"end\" : 474.510000,\\n      \"start\" : 474.360000,\\n      \"word\" : \"and\"\\n    }, {\\n      \"conf\" : 1.000000,\\n      \"end\" : 474.630000,\\n      \"start\" : 474.510000,\\n      \"word\" : \"then\"\\n    }, {\\n      \"conf\" : 1.000000,\\n      \"end\" : 474.960000,\\n      \"start\" : 474.630000,\\n      \"word\" : \"someone\"\\n    }, {\\n      \"conf\" : 1.000000,\\n      \"end\" : 475.140000,\\n      \"start\" : 474.960000,\\n      \"word\" : \"from\"\\n    }, {\\n      \"conf\" : 1.000000,\\n      \"end\" : 475.260000,\\n      \"start\" : 475.140000,\\n      \"word\" : \"the\"\\n    }, {\\n      \"conf\" : 1.000000,\\n      \"end\" : 475.740000,\\n      \"start\" : 475.260000,\\n      \"word\" : \"audience\"\\n    }, {\\n      \"conf\" : 1.000000,\\n      \"end\" : 476.220000,\\n      \"start\" : 475.740000,\\n      \"word\" : \"shouted\"\\n    }, {\\n      \"conf\" : 1.000000,\\n      \"end\" : 476.610000,\\n      \"start\" : 476.430000,\\n      \"word\" : \"we\"\\n    }, {\\n      \"conf\" : 1.000000,\\n      \"end\" : 477.030000,\\n      \"start\" : 476.610000,\\n      \"word\" : \"can\\'t\"\\n    }, {\\n      \"conf\" : 1.000000,\\n      \"end\" : 477.270000,\\n      \"start\" : 477.060000,\\n      \"word\" : \"eat\"\\n    }, {\\n      \"conf\" : 1.000000,\\n      \"end\" : 477.390000,\\n      \"start\" : 477.270000,\\n      \"word\" : \"an\"\\n    }, {\\n      \"conf\" : 1.000000,\\n      \"end\" : 477.840000,\\n      \"start\" : 477.390000,\\n      \"word\" : \"ipad\"\\n    }, {\\n      \"conf\" : 1.000000,\\n      \"end\" : 478.320000,\\n      \"start\" : 477.930000,\\n      \"word\" : \"fact\"\\n    }, {\\n      \"conf\" : 1.000000,\\n      \"end\" : 478.800000,\\n      \"start\" : 478.410000,\\n      \"word\" : \"check\"\\n    }, {\\n      \"conf\" : 1.000000,\\n      \"end\" : 479.640000,\\n      \"start\" : 478.980000,\\n      \"word\" : \"true\"\\n    }, {\\n      \"conf\" : 1.000000,\\n      \"end\" : 480.480000,\\n      \"start\" : 480.090000,\\n      \"word\" : \"and\"\\n    }, {\\n      \"conf\" : 1.000000,\\n      \"end\" : 480.690000,\\n      \"start\" : 480.480000,\\n      \"word\" : \"i\"\\n    }, {\\n      \"conf\" : 1.000000,\\n      \"end\" : 480.870000,\\n      \"start\" : 480.690000,\\n      \"word\" : \"think\"\\n    }, {\\n      \"conf\" : 0.448594,\\n      \"end\" : 480.930000,\\n      \"start\" : 480.870000,\\n      \"word\" : \"it\"\\n    }, {\\n      \"conf\" : 1.000000,\\n      \"end\" : 481.110000,\\n      \"start\" : 480.990000,\\n      \"word\" : \"just\"\\n    }, {\\n      \"conf\" : 1.000000,\\n      \"end\" : 481.260000,\\n      \"start\" : 481.110000,\\n      \"word\" : \"goes\"\\n    }, {\\n      \"conf\" : 1.000000,\\n      \"end\" : 481.350000,\\n      \"start\" : 481.260000,\\n      \"word\" : \"to\"\\n    }, {\\n      \"conf\" : 1.000000,\\n      \"end\" : 481.680000,\\n      \"start\" : 481.350000,\\n      \"word\" : \"show\"\\n    }, {\\n      \"conf\" : 1.000000,\\n      \"end\" : 481.950000,\\n      \"start\" : 481.680000,\\n      \"word\" : \"that\"\\n    }, {\\n      \"conf\" : 1.000000,\\n      \"end\" : 482.040000,\\n      \"start\" : 481.950000,\\n      \"word\" : \"you\"\\n    }, {\\n      \"conf\" : 0.748841,\\n      \"end\" : 482.249971,\\n      \"start\" : 482.040000,\\n      \"word\" : \"know\"\\n    }, {\\n      \"conf\" : 1.000000,\\n      \"end\" : 482.520000,\\n      \"start\" : 482.280000,\\n      \"word\" : \"maybe\"\\n    }, {\\n      \"conf\" : 1.000000,\\n      \"end\" : 482.610000,\\n      \"start\" : 482.520000,\\n      \"word\" : \"the\"\\n    }, {\\n      \"conf\" : 1.000000,\\n      \"end\" : 483.090000,\\n      \"start\" : 482.610000,\\n      \"word\" : \"prices\"\\n    }, {\\n      \"conf\" : 1.000000,\\n      \"end\" : 483.210000,\\n      \"start\" : 483.090000,\\n      \"word\" : \"of\"\\n    }, {\\n      \"conf\" : 1.000000,\\n      \"end\" : 483.480000,\\n      \"start\" : 483.210000,\\n      \"word\" : \"some\"\\n    }, {\\n      \"conf\" : 1.000000,\\n      \"end\" : 483.960000,\\n      \"start\" : 483.480000,\\n      \"word\" : \"things\"\\n    }, {\\n      \"conf\" : 1.000000,\\n      \"end\" : 484.590000,\\n      \"start\" : 484.290000,\\n      \"word\" : \"aren\\'t\"\\n    }, {\\n      \"conf\" : 1.000000,\\n      \"end\" : 484.740000,\\n      \"start\" : 484.590000,\\n      \"word\" : \"that\"\\n    }, {\\n      \"conf\" : 1.000000,\\n      \"end\" : 485.280000,\\n      \"start\" : 484.740000,\\n      \"word\" : \"important\"\\n    }, {\\n      \"conf\" : 1.000000,\\n      \"end\" : 485.790000,\\n      \"start\" : 485.610000,\\n      \"word\" : \"for\"\\n    }, {\\n      \"conf\" : 1.000000,\\n      \"end\" : 486.060000,\\n      \"start\" : 485.790000,\\n      \"word\" : \"some\"\\n    }, {\\n      \"conf\" : 1.000000,\\n      \"end\" : 486.480000,\\n      \"start\" : 486.060000,\\n      \"word\" : \"people\"\\n    }, {\\n      \"conf\" : 1.000000,\\n      \"end\" : 487.170000,\\n      \"start\" : 487.020000,\\n      \"word\" : \"so\"\\n    }, {\\n      \"conf\" : 1.000000,\\n      \"end\" : 487.320000,\\n      \"start\" : 487.170000,\\n      \"word\" : \"the\"\\n    }, {\\n      \"conf\" : 1.000000,\\n      \"end\" : 487.710000,\\n      \"start\" : 487.320000,\\n      \"word\" : \"actual\"\\n    }, {\\n      \"conf\" : 1.000000,\\n      \"end\" : 488.310000,\\n      \"start\" : 487.710000,\\n      \"word\" : \"topic\"\\n    }, {\\n      \"conf\" : 1.000000,\\n      \"end\" : 488.730000,\\n      \"start\" : 488.310000,\\n      \"word\" : \"of\"\\n    }, {\\n      \"conf\" : 1.000000,\\n      \"end\" : 489.570000,\\n      \"start\" : 488.820000,\\n      \"word\" : \"my\"\\n    }, {\\n      \"conf\" : 1.000000,\\n      \"end\" : 490.560000,\\n      \"start\" : 489.630000,\\n      \"word\" : \"dissertation\"\\n    }, {\\n      \"conf\" : 1.000000,\\n      \"end\" : 491.670000,\\n      \"start\" : 491.100000,\\n      \"word\" : \"is\"\\n    }, {\\n      \"conf\" : 1.000000,\\n      \"end\" : 492.330000,\\n      \"start\" : 491.670000,\\n      \"word\" : \"how\"\\n    }, {\\n      \"conf\" : 1.000000,\\n      \"end\" : 492.780000,\\n      \"start\" : 492.390000,\\n      \"word\" : \"the\"\\n    }, {\\n      \"conf\" : 1.000000,\\n      \"end\" : 493.350000,\\n      \"start\" : 492.870000,\\n      \"word\" : \"price\"\\n    }, {\\n      \"conf\" : 1.000000,\\n      \"end\" : 493.830000,\\n      \"start\" : 493.350000,\\n      \"word\" : \"index\"\\n    }, {\\n      \"conf\" : 1.000000,\\n      \"end\" : 494.310000,\\n      \"start\" : 494.070000,\\n      \"word\" : \"for\"\\n    }, {\\n      \"conf\" : 1.000000,\\n      \"end\" : 494.580000,\\n      \"start\" : 494.310000,\\n      \"word\" : \"low\"\\n    }, {\\n      \"conf\" : 1.000000,\\n      \"end\" : 494.910000,\\n      \"start\" : 494.580000,\\n      \"word\" : \"income\"\\n    }, {\\n      \"conf\" : 1.000000,\\n      \"end\" : 495.000000,\\n      \"start\" : 494.910000,\\n      \"word\" : \"and\"\\n    }, {\\n      \"conf\" : 1.000000,\\n      \"end\" : 495.180000,\\n      \"start\" : 495.000000,\\n      \"word\" : \"high\"\\n    }, {\\n      \"conf\" : 1.000000,\\n      \"end\" : 495.390000,\\n      \"start\" : 495.180000,\\n      \"word\" : \"income\"\\n    }, {\\n      \"conf\" : 1.000000,\\n      \"end\" : 495.960000,\\n      \"start\" : 495.390000,\\n      \"word\" : \"households\"\\n    }, {\\n      \"conf\" : 1.000000,\\n      \"end\" : 496.500000,\\n      \"start\" : 496.290000,\\n      \"word\" : \"can\"\\n    }, {\\n      \"conf\" : 1.000000,\\n      \"end\" : 497.550000,\\n      \"start\" : 496.500000,\\n      \"word\" : \"systematically\"\\n    }, {\\n      \"conf\" : 1.000000,\\n      \"end\" : 498.090000,\\n      \"start\" : 497.550000,\\n      \"word\" : \"differ\"\\n    }, {\\n      \"conf\" : 1.000000,\\n      \"end\" : 498.780000,\\n      \"start\" : 498.480000,\\n      \"word\" : \"over\"\\n    }, {\\n      \"conf\" : 1.000000,\\n      \"end\" : 498.900000,\\n      \"start\" : 498.780000,\\n      \"word\" : \"the\"\\n    }, {\\n      \"conf\" : 1.000000,\\n      \"end\" : 499.230000,\\n      \"start\" : 498.900000,\\n      \"word\" : \"course\"\\n    }, {\\n      \"conf\" : 1.000000,\\n      \"end\" : 499.290000,\\n      \"start\" : 499.230000,\\n      \"word\" : \"of\"\\n    }, {\\n      \"conf\" : 1.000000,\\n      \"end\" : 499.380000,\\n      \"start\" : 499.290000,\\n      \"word\" : \"the\"\\n    }, {\\n      \"conf\" : 1.000000,\\n      \"end\" : 499.710000,\\n      \"start\" : 499.380000,\\n      \"word\" : \"business\"\\n    }, {\\n      \"conf\" : 1.000000,\\n      \"end\" : 500.100000,\\n      \"start\" : 499.710000,\\n      \"word\" : \"cycle\"\\n    }, {\\n      \"conf\" : 1.000000,\\n      \"end\" : 500.550000,\\n      \"start\" : 500.400000,\\n      \"word\" : \"in\"\\n    }, {\\n      \"conf\" : 1.000000,\\n      \"end\" : 500.730000,\\n      \"start\" : 500.550000,\\n      \"word\" : \"other\"\\n    }, {\\n      \"conf\" : 1.000000,\\n      \"end\" : 501.030000,\\n      \"start\" : 500.730000,\\n      \"word\" : \"words\"\\n    }, {\\n      \"conf\" : 1.000000,\\n      \"end\" : 501.450000,\\n      \"start\" : 501.030000,\\n      \"word\" : \"where\"\\n    }, {\\n      \"conf\" : 1.000000,\\n      \"end\" : 501.780000,\\n      \"start\" : 501.450000,\\n      \"word\" : \"you\"\\n    }, {\\n      \"conf\" : 1.000000,\\n      \"end\" : 502.200000,\\n      \"start\" : 501.780000,\\n      \"word\" : \"are\"\\n    }, {\\n      \"conf\" : 1.000000,\\n      \"end\" : 502.500000,\\n      \"start\" : 502.200000,\\n      \"word\" : \"on\"\\n    }, {\\n      \"conf\" : 1.000000,\\n      \"end\" : 502.680000,\\n      \"start\" : 502.500000,\\n      \"word\" : \"the\"\\n    }, {\\n      \"conf\" : 1.000000,\\n      \"end\" : 503.130000,\\n      \"start\" : 502.680000,\\n      \"word\" : \"income\"\\n    }, {\\n      \"conf\" : 1.000000,\\n      \"end\" : 503.670000,\\n      \"start\" : 503.130000,\\n      \"word\" : \"spectrum\"\\n    }, {\\n      \"conf\" : 1.000000,\\n      \"end\" : 504.150000,\\n      \"start\" : 503.670000,\\n      \"word\" : \"determines\"\\n    }, {\\n      \"conf\" : 1.000000,\\n      \"end\" : 504.450000,\\n      \"start\" : 504.150000,\\n      \"word\" : \"your\"\\n    }, {\\n      \"conf\" : 1.000000,\\n      \"end\" : 505.290000,\\n      \"start\" : 504.630000,\\n      \"word\" : \"personal\"\\n    }, {\\n      \"conf\" : 1.000000,\\n      \"end\" : 505.740000,\\n      \"start\" : 505.290000,\\n      \"word\" : \"inflation\"\\n    }, {\\n      \"conf\" : 1.000000,\\n      \"end\" : 505.950000,\\n      \"start\" : 505.740000,\\n      \"word\" : \"rate\"\\n    }, {\\n      \"conf\" : 1.000000,\\n      \"end\" : 506.760000,\\n      \"start\" : 506.430000,\\n      \"word\" : \"right\"\\n    }, {\\n      \"conf\" : 1.000000,\\n      \"end\" : 507.390000,\\n      \"start\" : 506.760000,\\n      \"word\" : \"now\"\\n    }, {\\n      \"conf\" : 1.000000,\\n      \"end\" : 507.690000,\\n      \"start\" : 507.450000,\\n      \"word\" : \"from\"\\n    }, {\\n      \"conf\" : 1.000000,\\n      \"end\" : 508.080000,\\n      \"start\" : 507.690000,\\n      \"word\" : \"march\"\\n    }, {\\n      \"conf\" : 1.000000,\\n      \"end\" : 508.410000,\\n      \"start\" : 508.080000,\\n      \"word\" : \"twenty\"\\n    }, {\\n      \"conf\" : 1.000000,\\n      \"end\" : 508.680000,\\n      \"start\" : 508.440000,\\n      \"word\" : \"twenty\"\\n    }, {\\n      \"conf\" : 1.000000,\\n      \"end\" : 509.100000,\\n      \"start\" : 508.680000,\\n      \"word\" : \"two\"\\n    }, {\\n      \"conf\" : 1.000000,\\n      \"end\" : 509.243379,\\n      \"start\" : 509.100000,\\n      \"word\" : \"so\"\\n    }, {\\n      \"conf\" : 0.351419,\\n      \"end\" : 509.400000,\\n      \"start\" : 509.250000,\\n      \"word\" : \"this\"\\n    }, {\\n      \"conf\" : 1.000000,\\n      \"end\" : 509.850000,\\n      \"start\" : 509.400000,\\n      \"word\" : \"last\"\\n    }, {\\n      \"conf\" : 1.000000,\\n      \"end\" : 510.480000,\\n      \"start\" : 510.120000,\\n      \"word\" : \"report\"\\n    }, {\\n      \"conf\" : 1.000000,\\n      \"end\" : 510.570000,\\n      \"start\" : 510.480000,\\n      \"word\" : \"that\"\\n    }, {\\n      \"conf\" : 1.000000,\\n      \"end\" : 510.660000,\\n      \"start\" : 510.570000,\\n      \"word\" : \"we\"\\n    }, {\\n      \"conf\" : 1.000000,\\n      \"end\" : 510.990000,\\n      \"start\" : 510.660000,\\n      \"word\" : \"got\"\\n    }, {\\n      \"conf\" : 1.000000,\\n      \"end\" : 511.920000,\\n      \"start\" : 511.590000,\\n      \"word\" : \"compared\"\\n    }, {\\n      \"conf\" : 1.000000,\\n      \"end\" : 512.010000,\\n      \"start\" : 511.920000,\\n      \"word\" : \"to\"\\n    }, {\\n      \"conf\" : 1.000000,\\n      \"end\" : 512.280000,\\n      \"start\" : 512.010000,\\n      \"word\" : \"march\"\\n    }, {\\n      \"conf\" : 1.000000,\\n      \"end\" : 512.490000,\\n      \"start\" : 512.280000,\\n      \"word\" : \"twenty\"\\n    }, {\\n      \"conf\" : 1.000000,\\n      \"end\" : 512.730000,\\n      \"start\" : 512.520000,\\n      \"word\" : \"twenty\"\\n    }, {\\n      \"conf\" : 1.000000,\\n      \"end\" : 513.030000,\\n      \"start\" : 512.730000,\\n      \"word\" : \"one\"\\n    }, {\\n      \"conf\" : 1.000000,\\n      \"end\" : 513.510000,\\n      \"start\" : 513.420000,\\n      \"word\" : \"the\"\\n    }, {\\n      \"conf\" : 1.000000,\\n      \"end\" : 513.960000,\\n      \"start\" : 513.510000,\\n      \"word\" : \"inflation\"\\n    }, {\\n      \"conf\" : 1.000000,\\n      \"end\" : 514.140000,\\n      \"start\" : 513.960000,\\n      \"word\" : \"rate\"\\n    }, {\\n      \"conf\" : 1.000000,\\n      \"end\" : 514.281211,\\n      \"start\" : 514.140000,\\n      \"word\" : \"for\"\\n    }, {\\n      \"conf\" : 1.000000,\\n      \"end\" : 514.530000,\\n      \"start\" : 514.298789,\\n      \"word\" : \"low\"\\n    }, {\\n      \"conf\" : 1.000000,\\n      \"end\" : 514.740000,\\n      \"start\" : 514.530000,\\n      \"word\" : \"income\"\\n    }, {\\n      \"conf\" : 1.000000,\\n      \"end\" : 515.280000,\\n      \"start\" : 514.740000,\\n      \"word\" : \"households\"\\n    }, {\\n      \"conf\" : 1.000000,\\n      \"end\" : 515.490000,\\n      \"start\" : 515.280000,\\n      \"word\" : \"was\"\\n    }, {\\n      \"conf\" : 1.000000,\\n      \"end\" : 515.730000,\\n      \"start\" : 515.490000,\\n      \"word\" : \"running\"\\n    }, {\\n      \"conf\" : 1.000000,\\n      \"end\" : 515.790000,\\n      \"start\" : 515.730000,\\n      \"word\" : \"at\"\\n    }, {\\n      \"conf\" : 1.000000,\\n      \"end\" : 516.030000,\\n      \"start\" : 515.790000,\\n      \"word\" : \"about\"\\n    }, {\\n      \"conf\" : 1.000000,\\n      \"end\" : 516.300000,\\n      \"start\" : 516.030000,\\n      \"word\" : \"nine\"\\n    }, {\\n      \"conf\" : 1.000000,\\n      \"end\" : 516.660000,\\n      \"start\" : 516.300000,\\n      \"word\" : \"percent\"\\n    }, {\\n      \"conf\" : 1.000000,\\n      \"end\" : 517.380000,\\n      \"start\" : 517.290000,\\n      \"word\" : \"are\"\\n    }, {\\n      \"conf\" : 1.000000,\\n      \"end\" : 517.530000,\\n      \"start\" : 517.380000,\\n      \"word\" : \"from\"\\n    }, {\\n      \"conf\" : 1.000000,\\n      \"end\" : 517.770000,\\n      \"start\" : 517.560000,\\n      \"word\" : \"high\"\\n    }, {\\n      \"conf\" : 1.000000,\\n      \"end\" : 517.980000,\\n      \"start\" : 517.770000,\\n      \"word\" : \"income\"\\n    }, {\\n      \"conf\" : 1.000000,\\n      \"end\" : 518.370234,\\n      \"start\" : 517.980000,\\n      \"word\" : \"households\"\\n    }, {\\n      \"conf\" : 0.971929,\\n      \"end\" : 518.520000,\\n      \"start\" : 518.370234,\\n      \"word\" : \"is\"\\n    }, {\\n      \"conf\" : 1.000000,\\n      \"end\" : 518.760000,\\n      \"start\" : 518.520000,\\n      \"word\" : \"much\"\\n    }, {\\n      \"conf\" : 1.000000,\\n      \"end\" : 519.270000,\\n      \"start\" : 518.760000,\\n      \"word\" : \"closer\"\\n    }, {\\n      \"conf\" : 1.000000,\\n      \"end\" : 519.420000,\\n      \"start\" : 519.270000,\\n      \"word\" : \"to\"\\n    }, {\\n      \"conf\" : 1.000000,\\n      \"end\" : 519.570000,\\n      \"start\" : 519.420000,\\n      \"word\" : \"the\"\\n    }, {\\n      \"conf\" : 1.000000,\\n      \"end\" : 519.960000,\\n      \"start\" : 519.570000,\\n      \"word\" : \"average\"\\n    }, {\\n      \"conf\" : 1.000000,\\n      \"end\" : 520.380000,\\n      \"start\" : 519.960000,\\n      \"word\" : \"inflation\"\\n    }, {\\n      \"conf\" : 1.000000,\\n      \"end\" : 520.560000,\\n      \"start\" : 520.380000,\\n      \"word\" : \"rate\"\\n    }, {\\n      \"conf\" : 1.000000,\\n      \"end\" : 520.710000,\\n      \"start\" : 520.560000,\\n      \"word\" : \"at\"\\n    }, {\\n      \"conf\" : 1.000000,\\n      \"end\" : 521.040000,\\n      \"start\" : 520.830000,\\n      \"word\" : \"eight\"\\n    }, {\\n      \"conf\" : 1.000000,\\n      \"end\" : 521.130000,\\n      \"start\" : 521.040000,\\n      \"word\" : \"and\"\\n    }, {\\n      \"conf\" : 1.000000,\\n      \"end\" : 521.160000,\\n      \"start\" : 521.130000,\\n      \"word\" : \"a\"\\n    }, {\\n      \"conf\" : 1.000000,\\n      \"end\" : 521.430000,\\n      \"start\" : 521.160000,\\n      \"word\" : \"half\"\\n    }, {\\n      \"conf\" : 1.000000,\\n      \"end\" : 521.820000,\\n      \"start\" : 521.430000,\\n      \"word\" : \"percent\"\\n    }, {\\n      \"conf\" : 1.000000,\\n      \"end\" : 522.270000,\\n      \"start\" : 522.150000,\\n      \"word\" : \"in\"\\n    }, {\\n      \"conf\" : 1.000000,\\n      \"end\" : 522.420000,\\n      \"start\" : 522.270000,\\n      \"word\" : \"other\"\\n    }, {\\n      \"conf\" : 1.000000,\\n      \"end\" : 522.660000,\\n      \"start\" : 522.420000,\\n      \"word\" : \"words\"\\n    }, {\\n      \"conf\" : 1.000000,\\n      \"end\" : 523.260000,\\n      \"start\" : 522.660000,\\n      \"word\" : \"inflation\"\\n    }, {\\n      \"conf\" : 1.000000,\\n      \"end\" : 523.410000,\\n      \"start\" : 523.260000,\\n      \"word\" : \"is\"\\n    }, {\\n      \"conf\" : 1.000000,\\n      \"end\" : 523.680000,\\n      \"start\" : 523.410000,\\n      \"word\" : \"high\"\\n    }, {\\n      \"conf\" : 1.000000,\\n      \"end\" : 524.010000,\\n      \"start\" : 523.680000,\\n      \"word\" : \"for\"\\n    }, {\\n      \"conf\" : 1.000000,\\n      \"end\" : 524.670000,\\n      \"start\" : 524.100000,\\n      \"word\" : \"everybody\"\\n    }, {\\n      \"conf\" : 1.000000,\\n      \"end\" : 524.850000,\\n      \"start\" : 524.670000,\\n      \"word\" : \"but\"\\n    }, {\\n      \"conf\" : 1.000000,\\n      \"end\" : 525.150000,\\n      \"start\" : 524.850000,\\n      \"word\" : \"there\"\\n    }, {\\n      \"conf\" : 1.000000,\\n      \"end\" : 525.390000,\\n      \"start\" : 525.150000,\\n      \"word\" : \"is\"\\n    }, {\\n      \"conf\" : 1.000000,\\n      \"end\" : 525.450000,\\n      \"start\" : 525.390000,\\n      \"word\" : \"a\"\\n    }, {\\n      \"conf\" : 1.000000,\\n      \"end\" : 525.840000,\\n      \"start\" : 525.450000,\\n      \"word\" : \"gap\"\\n    }, {\\n      \"conf\" : 1.000000,\\n      \"end\" : 526.020000,\\n      \"start\" : 525.870000,\\n      \"word\" : \"and\"\\n    }, {\\n      \"conf\" : 1.000000,\\n      \"end\" : 526.110000,\\n      \"start\" : 526.020000,\\n      \"word\" : \"if\"\\n    }, {\\n      \"conf\" : 1.000000,\\n      \"end\" : 526.230000,\\n      \"start\" : 526.110000,\\n      \"word\" : \"you\"\\n    }, {\\n      \"conf\" : 1.000000,\\n      \"end\" : 526.500000,\\n      \"start\" : 526.230000,\\n      \"word\" : \"step\"\\n    }, {\\n      \"conf\" : 1.000000,\\n      \"end\" : 526.800000,\\n      \"start\" : 526.530000,\\n      \"word\" : \"back\"\\n    }, {\\n      \"conf\" : 1.000000,\\n      \"end\" : 526.920000,\\n      \"start\" : 526.800000,\\n      \"word\" : \"for\"\\n    }, {\\n      \"conf\" : 1.000000,\\n      \"end\" : 526.980000,\\n      \"start\" : 526.920000,\\n      \"word\" : \"a\"\\n    }, {\\n      \"conf\" : 1.000000,\\n      \"end\" : 527.310000,\\n      \"start\" : 526.980000,\\n      \"word\" : \"second\"\\n    }, {\\n      \"conf\" : 1.000000,\\n      \"end\" : 527.460000,\\n      \"start\" : 527.310000,\\n      \"word\" : \"and\"\\n    }, {\\n      \"conf\" : 1.000000,\\n      \"end\" : 527.910000,\\n      \"start\" : 527.490000,\\n      \"word\" : \"think\"\\n    }, {\\n      \"conf\" : 1.000000,\\n      \"end\" : 528.240000,\\n      \"start\" : 527.910000,\\n      \"word\" : \"big\"\\n    }, {\\n      \"conf\" : 1.000000,\\n      \"end\" : 528.720000,\\n      \"start\" : 528.240000,\\n      \"word\" : \"picture\"\\n    }, {\\n      \"conf\" : 0.779429,\\n      \"end\" : 529.350000,\\n      \"start\" : 529.290000,\\n      \"word\" : \"i\"\\n    }, {\\n      \"conf\" : 1.000000,\\n      \"end\" : 529.530000,\\n      \"start\" : 529.353516,\\n      \"word\" : \"kind\"\\n    }, {\\n      \"conf\" : 1.000000,\\n      \"end\" : 529.590000,\\n      \"start\" : 529.530000,\\n      \"word\" : \"of\"\\n    }, {\\n      \"conf\" : 0.809323,\\n      \"end\" : 529.710000,\\n      \"start\" : 529.590000,\\n      \"word\" : \"make\"\\n    }, {\\n      \"conf\" : 1.000000,\\n      \"end\" : 530.100000,\\n      \"start\" : 529.715742,\\n      \"word\" : \"sense\"\\n    }, {\\n      \"conf\" : 1.000000,\\n      \"end\" : 530.730000,\\n      \"start\" : 530.580000,\\n      \"word\" : \"the\"\\n    }, {\\n      \"conf\" : 1.000000,\\n      \"end\" : 531.240000,\\n      \"start\" : 530.730000,\\n      \"word\" : \"two\"\\n    }, {\\n      \"conf\" : 1.000000,\\n      \"end\" : 531.780000,\\n      \"start\" : 531.390000,\\n      \"word\" : \"biggest\"\\n    }, {\\n      \"conf\" : 1.000000,\\n      \"end\" : 532.260000,\\n      \"start\" : 531.780000,\\n      \"word\" : \"sources\"\\n    }, {\\n      \"conf\" : 1.000000,\\n      \"end\" : 532.410000,\\n      \"start\" : 532.260000,\\n      \"word\" : \"of\"\\n    }, {\\n      \"conf\" : 1.000000,\\n      \"end\" : 533.190000,\\n      \"start\" : 532.410000,\\n      \"word\" : \"inflation\"\\n    }, {\\n      \"conf\" : 0.974340,\\n      \"end\" : 534.180000,\\n      \"start\" : 533.550000,\\n      \"word\" : \"are\"\\n    }, {\\n      \"conf\" : 1.000000,\\n      \"end\" : 534.660000,\\n      \"start\" : 534.300000,\\n      \"word\" : \"energy\"\\n    }, {\\n      \"conf\" : 1.000000,\\n      \"end\" : 535.320000,\\n      \"start\" : 534.660000,\\n      \"word\" : \"prices\"\\n    }, {\\n      \"conf\" : 1.000000,\\n      \"end\" : 536.070000,\\n      \"start\" : 535.650000,\\n      \"word\" : \"and\"\\n    }, {\\n      \"conf\" : 1.000000,\\n      \"end\" : 536.640000,\\n      \"start\" : 536.130000,\\n      \"word\" : \"food\"\\n    }, {\\n      \"conf\" : 1.000000,\\n      \"end\" : 536.940000,\\n      \"start\" : 536.730000,\\n      \"word\" : \"that\"\\n    }, {\\n      \"conf\" : 1.000000,\\n      \"end\" : 537.330000,\\n      \"start\" : 536.940000,\\n      \"word\" : \"stephanie\"\\n    }, {\\n      \"conf\" : 1.000000,\\n      \"end\" : 537.480000,\\n      \"start\" : 537.330000,\\n      \"word\" : \"said\"\\n    }, {\\n      \"conf\" : 1.000000,\\n      \"end\" : 537.780000,\\n      \"start\" : 537.480000,\\n      \"word\" : \"nino\"\\n    }, {\\n      \"conf\" : 1.000000,\\n      \"end\" : 538.200000,\\n      \"start\" : 537.780000,\\n      \"word\" : \"professor\"\\n    }, {\\n      \"conf\" : 1.000000,\\n      \"end\" : 538.260000,\\n      \"start\" : 538.200000,\\n      \"word\" : \"of\"\\n    }, {\\n      \"conf\" : 1.000000,\\n      \"end\" : 538.770000,\\n      \"start\" : 538.260000,\\n      \"word\" : \"economics\"\\n    }, {\\n      \"conf\" : 1.000000,\\n      \"end\" : 539.010000,\\n      \"start\" : 538.770000,\\n      \"word\" : \"at\"\\n    }, {\\n      \"conf\" : 1.000000,\\n      \"end\" : 539.100000,\\n      \"start\" : 539.010000,\\n      \"word\" : \"the\"\\n    }, {\\n      \"conf\" : 1.000000,\\n      \"end\" : 539.700000,\\n      \"start\" : 539.100000,\\n      \"word\" : \"university\"\\n    }, {\\n      \"conf\" : 1.000000,\\n      \"end\" : 539.880000,\\n      \"start\" : 539.700000,\\n      \"word\" : \"of\"\\n    }, {\\n      \"conf\" : 1.000000,\\n      \"end\" : 540.330000,\\n      \"start\" : 539.880000,\\n      \"word\" : \"vermont\"\\n    }, {\\n      \"conf\" : 1.000000,\\n      \"end\" : 541.110000,\\n      \"start\" : 540.840000,\\n      \"word\" : \"and\"\\n    }, {\\n      \"conf\" : 1.000000,\\n      \"end\" : 541.260000,\\n      \"start\" : 541.110000,\\n      \"word\" : \"for\"\\n    }, {\\n      \"conf\" : 1.000000,\\n      \"end\" : 541.500000,\\n      \"start\" : 541.260000,\\n      \"word\" : \"low\"\\n    }, {\\n      \"conf\" : 1.000000,\\n      \"end\" : 541.830000,\\n      \"start\" : 541.500000,\\n      \"word\" : \"income\"\\n    }, {\\n      \"conf\" : 1.000000,\\n      \"end\" : 542.370000,\\n      \"start\" : 541.830000,\\n      \"word\" : \"families\"\\n    }, {\\n      \"conf\" : 1.000000,\\n      \"end\" : 542.520000,\\n      \"start\" : 542.370000,\\n      \"word\" : \"they\"\\n    }, {\\n      \"conf\" : 1.000000,\\n      \"end\" : 543.060000,\\n      \"start\" : 542.520000,\\n      \"word\" : \"comprise\"\\n    }, {\\n      \"conf\" : 1.000000,\\n      \"end\" : 543.120000,\\n      \"start\" : 543.060000,\\n      \"word\" : \"a\"\\n    }, {\\n      \"conf\" : 1.000000,\\n      \"end\" : 543.360000,\\n      \"start\" : 543.120000,\\n      \"word\" : \"much\"\\n    }, {\\n      \"conf\" : 1.000000,\\n      \"end\" : 543.870000,\\n      \"start\" : 543.360000,\\n      \"word\" : \"larger\"\\n    }, {\\n      \"conf\" : 1.000000,\\n      \"end\" : 544.350000,\\n      \"start\" : 543.870000,\\n      \"word\" : \"portion\"\\n    }, {\\n      \"conf\" : 1.000000,\\n      \"end\" : 544.530000,\\n      \"start\" : 544.350000,\\n      \"word\" : \"of\"\\n    }, {\\n      \"conf\" : 1.000000,\\n      \"end\" : 544.620000,\\n      \"start\" : 544.530000,\\n      \"word\" : \"the\"\\n    }, {\\n      \"conf\" : 1.000000,\\n      \"end\" : 545.130000,\\n      \"start\" : 544.620000,\\n      \"word\" : \"budget\"\\n    }, {\\n      \"conf\" : 1.000000,\\n      \"end\" : 546.210000,\\n      \"start\" : 545.610000,\\n      \"word\" : \"so\"\\n    }, {\\n      \"conf\" : 1.000000,\\n      \"end\" : 546.480000,\\n      \"start\" : 546.270000,\\n      \"word\" : \"poor\"\\n    }, {\\n      \"conf\" : 1.000000,\\n      \"end\" : 547.080000,\\n      \"start\" : 546.480000,\\n      \"word\" : \"families\"\\n    }, {\\n      \"conf\" : 1.000000,\\n      \"end\" : 547.830000,\\n      \"start\" : 547.120957,\\n      \"word\" : \"undoubtedly\"\\n    }, {\\n      \"conf\" : 1.000000,\\n      \"end\" : 547.920000,\\n      \"start\" : 547.830000,\\n      \"word\" : \"are\"\\n    }, {\\n      \"conf\" : 1.000000,\\n      \"end\" : 548.160000,\\n      \"start\" : 547.920000,\\n      \"word\" : \"hit\"\\n    }, {\\n      \"conf\" : 1.000000,\\n      \"end\" : 548.580000,\\n      \"start\" : 548.160000,\\n      \"word\" : \"hard\"\\n    }, {\\n      \"conf\" : 1.000000,\\n      \"end\" : 549.060000,\\n      \"start\" : 548.880000,\\n      \"word\" : \"and\"\\n    }, {\\n      \"conf\" : 1.000000,\\n      \"end\" : 549.210000,\\n      \"start\" : 549.060000,\\n      \"word\" : \"there\"\\n    }, {\\n      \"conf\" : 1.000000,\\n      \"end\" : 549.660000,\\n      \"start\" : 549.210000,\\n      \"word\" : \"is\"\\n    }, {\\n      \"conf\" : 1.000000,\\n      \"end\" : 550.050000,\\n      \"start\" : 549.660000,\\n      \"word\" : \"another\"\\n    }, {\\n      \"conf\" : 1.000000,\\n      \"end\" : 550.320000,\\n      \"start\" : 550.050000,\\n      \"word\" : \"piece\"\\n    }, {\\n      \"conf\" : 1.000000,\\n      \"end\" : 550.410000,\\n      \"start\" : 550.320000,\\n      \"word\" : \"of\"\\n    }, {\\n      \"conf\" : 1.000000,\\n      \"end\" : 550.680000,\\n      \"start\" : 550.410000,\\n      \"word\" : \"this\"\\n    }, {\\n      \"conf\" : 1.000000,\\n      \"end\" : 550.890000,\\n      \"start\" : 550.680000,\\n      \"word\" : \"we\"\\n    }, {\\n      \"conf\" : 1.000000,\\n      \"end\" : 551.130000,\\n      \"start\" : 550.890000,\\n      \"word\" : \"gotta\"\\n    }, {\\n      \"conf\" : 1.000000,\\n      \"end\" : 551.370000,\\n      \"start\" : 551.130000,\\n      \"word\" : \"talk\"\\n    }, {\\n      \"conf\" : 1.000000,\\n      \"end\" : 551.610000,\\n      \"start\" : 551.370000,\\n      \"word\" : \"about\"\\n    }, {\\n      \"conf\" : 1.000000,\\n      \"end\" : 552.420000,\\n      \"start\" : 551.610000,\\n      \"word\" : \"inflation\"\\n    }, {\\n      \"conf\" : 1.000000,\\n      \"end\" : 552.810000,\\n      \"start\" : 552.480000,\\n      \"word\" : \"and\"\\n    }, {\\n      \"conf\" : 1.000000,\\n      \"end\" : 553.650000,\\n      \"start\" : 552.870000,\\n      \"word\" : \"jobs\"\\n    }, {\\n      \"conf\" : 1.000000,\\n      \"end\" : 554.400000,\\n      \"start\" : 554.220000,\\n      \"word\" : \"the\"\\n    }, {\\n      \"conf\" : 1.000000,\\n      \"end\" : 554.760000,\\n      \"start\" : 554.400000,\\n      \"word\" : \"overall\"\\n    }, {\\n      \"conf\" : 1.000000,\\n      \"end\" : 555.270000,\\n      \"start\" : 554.760000,\\n      \"word\" : \"inflation\"\\n    }, {\\n      \"conf\" : 1.000000,\\n      \"end\" : 555.570000,\\n      \"start\" : 555.270000,\\n      \"word\" : \"rate\"\\n    }, {\\n      \"conf\" : 1.000000,\\n      \"end\" : 555.780000,\\n      \"start\" : 555.600000,\\n      \"word\" : \"is\"\\n    }, {\\n      \"conf\" : 1.000000,\\n      \"end\" : 555.900000,\\n      \"start\" : 555.780000,\\n      \"word\" : \"at\"\\n    }, {\\n      \"conf\" : 1.000000,\\n      \"end\" : 556.020000,\\n      \"start\" : 555.900000,\\n      \"word\" : \"a\"\\n    }, {\\n      \"conf\" : 1.000000,\\n      \"end\" : 556.470000,\\n      \"start\" : 556.020000,\\n      \"word\" : \"forty\"\\n    }, {\\n      \"conf\" : 1.000000,\\n      \"end\" : 556.860000,\\n      \"start\" : 556.470000,\\n      \"word\" : \"year\"\\n    }, {\\n      \"conf\" : 1.000000,\\n      \"end\" : 557.550000,\\n      \"start\" : 556.860000,\\n      \"word\" : \"high\"\\n    }, {\\n      \"conf\" : 1.000000,\\n      \"end\" : 558.390000,\\n      \"start\" : 558.210000,\\n      \"word\" : \"the\"\\n    }, {\\n      \"conf\" : 1.000000,\\n      \"end\" : 558.810000,\\n      \"start\" : 558.390000,\\n      \"word\" : \"overall\"\\n    }, {\\n      \"conf\" : 1.000000,\\n      \"end\" : 559.680000,\\n      \"start\" : 558.840000,\\n      \"word\" : \"unemployment\"\\n    }, {\\n      \"conf\" : 1.000000,\\n      \"end\" : 559.950000,\\n      \"start\" : 559.680000,\\n      \"word\" : \"rate\"\\n    }, {\\n      \"conf\" : 1.000000,\\n      \"end\" : 560.250000,\\n      \"start\" : 559.950000,\\n      \"word\" : \"three\"\\n    }, {\\n      \"conf\" : 1.000000,\\n      \"end\" : 560.550000,\\n      \"start\" : 560.250000,\\n      \"word\" : \"point\"\\n    }, {\\n      \"conf\" : 1.000000,\\n      \"end\" : 560.820000,\\n      \"start\" : 560.550000,\\n      \"word\" : \"six\"\\n    }, {\\n      \"conf\" : 0.504480,\\n      \"end\" : 560.970000,\\n      \"start\" : 560.820000,\\n      \"word\" : \"per\"\\n    }, {\\n      \"conf\" : 0.504480,\\n      \"end\" : 561.330000,\\n      \"start\" : 560.970000,\\n      \"word\" : \"cent\"\\n    }, {\\n      \"conf\" : 1.000000,\\n      \"end\" : 562.170000,\\n      \"start\" : 561.660000,\\n      \"word\" : \"darn\"\\n    }, {\\n      \"conf\" : 1.000000,\\n      \"end\" : 562.380000,\\n      \"start\" : 562.170000,\\n      \"word\" : \"near\"\\n    }, {\\n      \"conf\" : 1.000000,\\n      \"end\" : 562.890000,\\n      \"start\" : 562.380000,\\n      \"word\" : \"fifty\"\\n    }, {\\n      \"conf\" : 1.000000,\\n      \"end\" : 563.190000,\\n      \"start\" : 562.890000,\\n      \"word\" : \"year\"\\n    }, {\\n      \"conf\" : 1.000000,\\n      \"end\" : 564.000000,\\n      \"start\" : 563.190000,\\n      \"word\" : \"lows\"\\n    }, {\\n      \"conf\" : 1.000000,\\n      \"end\" : 564.720000,\\n      \"start\" : 564.420000,\\n      \"word\" : \"but\"\\n    }, {\\n      \"conf\" : 0.880353,\\n      \"end\" : 565.110000,\\n      \"start\" : 564.960000,\\n      \"word\" : \"there\"\\n    }, {\\n      \"conf\" : 0.880353,\\n      \"end\" : 565.200000,\\n      \"start\" : 565.110000,\\n      \"word\" : \"is\"\\n    }, {\\n      \"conf\" : 1.000000,\\n      \"end\" : 565.260000,\\n      \"start\" : 565.200000,\\n      \"word\" : \"a\"\\n    }, {\\n      \"conf\" : 1.000000,\\n      \"end\" : 565.710000,\\n      \"start\" : 565.260000,\\n      \"word\" : \"huge\"\\n    }, {\\n      \"conf\" : 1.000000,\\n      \"end\" : 566.250000,\\n      \"start\" : 565.710000,\\n      \"word\" : \"caveat\"\\n    }, {\\n      \"conf\" : 0.442079,\\n      \"end\" : 566.400000,\\n      \"start\" : 566.250000,\\n      \"word\" : \"there\"\\n    }, {\\n      \"conf\" : 1.000000,\\n      \"end\" : 567.150000,\\n      \"start\" : 566.400000,\\n      \"word\" : \"latino\"\\n    }, {\\n      \"conf\" : 1.000000,\\n      \"end\" : 567.690000,\\n      \"start\" : 567.150000,\\n      \"word\" : \"unemployment\"\\n    }, {\\n      \"conf\" : 1.000000,\\n      \"end\" : 567.930000,\\n      \"start\" : 567.690000,\\n      \"word\" : \"rate\"\\n    }, {\\n      \"conf\" : 1.000000,\\n      \"end\" : 568.740000,\\n      \"start\" : 568.290000,\\n      \"word\" : \"four\"\\n    }, {\\n      \"conf\" : 1.000000,\\n      \"end\" : 569.100000,\\n      \"start\" : 568.740000,\\n      \"word\" : \"point\"\\n    }, {\\n      \"conf\" : 1.000000,\\n      \"end\" : 569.280000,\\n      \"start\" : 569.100000,\\n      \"word\" : \"two\"\\n    }, {\\n      \"conf\" : 1.000000,\\n      \"end\" : 569.850000,\\n      \"start\" : 569.280000,\\n      \"word\" : \"percent\"\\n    }, {\\n      \"conf\" : 1.000000,\\n      \"end\" : 570.090000,\\n      \"start\" : 569.910000,\\n      \"word\" : \"in\"\\n    }, {\\n      \"conf\" : 1.000000,\\n      \"end\" : 570.390000,\\n      \"start\" : 570.090000,\\n      \"word\" : \"march\"\\n    }, {\\n      \"conf\" : 1.000000,\\n      \"end\" : 570.540000,\\n      \"start\" : 570.390000,\\n      \"word\" : \"the\"\\n    }, {\\n      \"conf\" : 1.000000,\\n      \"end\" : 571.020000,\\n      \"start\" : 570.540000,\\n      \"word\" : \"black\"\\n    }, {\\n      \"conf\" : 1.000000,\\n      \"end\" : 571.620000,\\n      \"start\" : 571.020000,\\n      \"word\" : \"unemployment\"\\n    }, {\\n      \"conf\" : 1.000000,\\n      \"end\" : 571.890000,\\n      \"start\" : 571.620000,\\n      \"word\" : \"rate\"\\n    }, {\\n      \"conf\" : 1.000000,\\n      \"end\" : 573.030000,\\n      \"start\" : 572.220000,\\n      \"word\" : \"six\"\\n    }, {\\n      \"conf\" : 1.000000,\\n      \"end\" : 573.540000,\\n      \"start\" : 573.180000,\\n      \"word\" : \"point\"\\n    }, {\\n      \"conf\" : 1.000000,\\n      \"end\" : 573.780000,\\n      \"start\" : 573.540000,\\n      \"word\" : \"two\"\\n    }, {\\n      \"conf\" : 1.000000,\\n      \"end\" : 574.320000,\\n      \"start\" : 573.780000,\\n      \"word\" : \"percent\"\\n    }, {\\n      \"conf\" : 1.000000,\\n      \"end\" : 574.980000,\\n      \"start\" : 574.860000,\\n      \"word\" : \"i\"\\n    }, {\\n      \"conf\" : 1.000000,\\n      \"end\" : 575.160000,\\n      \"start\" : 574.980000,\\n      \"word\" : \"want\"\\n    }, {\\n      \"conf\" : 1.000000,\\n      \"end\" : 575.280000,\\n      \"start\" : 575.160000,\\n      \"word\" : \"to\"\\n    }, {\\n      \"conf\" : 1.000000,\\n      \"end\" : 575.490000,\\n      \"start\" : 575.340000,\\n      \"word\" : \"be\"\\n    }, {\\n      \"conf\" : 1.000000,\\n      \"end\" : 575.730000,\\n      \"start\" : 575.490000,\\n      \"word\" : \"clear\"\\n    }, {\\n      \"conf\" : 1.000000,\\n      \"end\" : 576.030000,\\n      \"start\" : 575.730000,\\n      \"word\" : \"that\"\\n    }, {\\n      \"conf\" : 1.000000,\\n      \"end\" : 576.510000,\\n      \"start\" : 576.240000,\\n      \"word\" : \"when\"\\n    }, {\\n      \"conf\" : 1.000000,\\n      \"end\" : 576.720000,\\n      \"start\" : 576.510000,\\n      \"word\" : \"you\"\\n    }, {\\n      \"conf\" : 1.000000,\\n      \"end\" : 577.110000,\\n      \"start\" : 576.720000,\\n      \"word\" : \"ask\"\\n    }, {\\n      \"conf\" : 1.000000,\\n      \"end\" : 577.410000,\\n      \"start\" : 577.110000,\\n      \"word\" : \"people\"\\n    }, {\\n      \"conf\" : 1.000000,\\n      \"end\" : 577.560000,\\n      \"start\" : 577.410000,\\n      \"word\" : \"in\"\\n    }, {\\n      \"conf\" : 1.000000,\\n      \"end\" : 577.620000,\\n      \"start\" : 577.560000,\\n      \"word\" : \"a\"\\n    }, {\\n      \"conf\" : 1.000000,\\n      \"end\" : 578.190000,\\n      \"start\" : 577.620000,\\n      \"word\" : \"survey\"\\n    }, {\\n      \"conf\" : 0.866525,\\n      \"end\" : 578.670000,\\n      \"start\" : 578.520000,\\n      \"word\" : \"do\"\\n    }, {\\n      \"conf\" : 1.000000,\\n      \"end\" : 578.820000,\\n      \"start\" : 578.670000,\\n      \"word\" : \"they\"\\n    }, {\\n      \"conf\" : 1.000000,\\n      \"end\" : 579.090000,\\n      \"start\" : 578.820000,\\n      \"word\" : \"care\"\\n    }, {\\n      \"conf\" : 1.000000,\\n      \"end\" : 579.420000,\\n      \"start\" : 579.090000,\\n      \"word\" : \"more\"\\n    }, {\\n      \"conf\" : 1.000000,\\n      \"end\" : 579.750000,\\n      \"start\" : 579.420000,\\n      \"word\" : \"about\"\\n    }, {\\n      \"conf\" : 1.000000,\\n      \"end\" : 580.500000,\\n      \"start\" : 579.750000,\\n      \"word\" : \"unemployment\"\\n    }, {\\n      \"conf\" : 1.000000,\\n      \"end\" : 580.740000,\\n      \"start\" : 580.530000,\\n      \"word\" : \"or\"\\n    }, {\\n      \"conf\" : 1.000000,\\n      \"end\" : 581.550000,\\n      \"start\" : 580.740000,\\n      \"word\" : \"inflation\"\\n    }, {\\n      \"conf\" : 1.000000,\\n      \"end\" : 582.270000,\\n      \"start\" : 582.000000,\\n      \"word\" : \"they\"\\n    }, {\\n      \"conf\" : 1.000000,\\n      \"end\" : 582.780000,\\n      \"start\" : 582.270000,\\n      \"word\" : \"say\"\\n    }, {\\n      \"conf\" : 1.000000,\\n      \"end\" : 583.680000,\\n      \"start\" : 582.870000,\\n      \"word\" : \"unemployment\"\\n    }, {\\n      \"conf\" : 1.000000,\\n      \"end\" : 584.160000,\\n      \"start\" : 584.010000,\\n      \"word\" : \"they\"\\n    }, {\\n      \"conf\" : 1.000000,\\n      \"end\" : 584.340000,\\n      \"start\" : 584.160000,\\n      \"word\" : \"would\"\\n    }, {\\n      \"conf\" : 1.000000,\\n      \"end\" : 584.700000,\\n      \"start\" : 584.340000,\\n      \"word\" : \"rather\"\\n    }, {\\n      \"conf\" : 1.000000,\\n      \"end\" : 584.970000,\\n      \"start\" : 584.700000,\\n      \"word\" : \"live\"\\n    }, {\\n      \"conf\" : 1.000000,\\n      \"end\" : 585.150000,\\n      \"start\" : 584.970000,\\n      \"word\" : \"with\"\\n    }, {\\n      \"conf\" : 1.000000,\\n      \"end\" : 585.390000,\\n      \"start\" : 585.150000,\\n      \"word\" : \"some\"\\n    }, {\\n      \"conf\" : 1.000000,\\n      \"end\" : 585.960000,\\n      \"start\" : 585.390000,\\n      \"word\" : \"inflation\"\\n    }, {\\n      \"conf\" : 1.000000,\\n      \"end\" : 586.050000,\\n      \"start\" : 585.960000,\\n      \"word\" : \"and\"\\n    }, {\\n      \"conf\" : 1.000000,\\n      \"end\" : 586.230000,\\n      \"start\" : 586.050000,\\n      \"word\" : \"have\"\\n    }, {\\n      \"conf\" : 1.000000,\\n      \"end\" : 586.290000,\\n      \"start\" : 586.230000,\\n      \"word\" : \"a\"\\n    }, {\\n      \"conf\" : 1.000000,\\n      \"end\" : 586.890000,\\n      \"start\" : 586.290000,\\n      \"word\" : \"job\"\\n    }, {\\n      \"conf\" : 1.000000,\\n      \"end\" : 587.430000,\\n      \"start\" : 587.250000,\\n      \"word\" : \"that\"\\n    }, {\\n      \"conf\" : 1.000000,\\n      \"end\" : 587.610000,\\n      \"start\" : 587.430000,\\n      \"word\" : \"have\"\\n    }, {\\n      \"conf\" : 1.000000,\\n      \"end\" : 587.820000,\\n      \"start\" : 587.610000,\\n      \"word\" : \"low\"\\n    }, {\\n      \"conf\" : 1.000000,\\n      \"end\" : 588.360000,\\n      \"start\" : 587.820000,\\n      \"word\" : \"inflation\"\\n    }, {\\n      \"conf\" : 1.000000,\\n      \"end\" : 588.450000,\\n      \"start\" : 588.360000,\\n      \"word\" : \"and\"\\n    }, {\\n      \"conf\" : 1.000000,\\n      \"end\" : 588.660000,\\n      \"start\" : 588.450000,\\n      \"word\" : \"no\"\\n    }, {\\n      \"conf\" : 1.000000,\\n      \"end\" : 589.170000,\\n      \"start\" : 588.660000,\\n      \"word\" : \"job\"\\n    }, {\\n      \"conf\" : 1.000000,\\n      \"end\" : 589.890000,\\n      \"start\" : 589.620000,\\n      \"word\" : \"here\\'s\"\\n    }, {\\n      \"conf\" : 1.000000,\\n      \"end\" : 589.950000,\\n      \"start\" : 589.890000,\\n      \"word\" : \"the\"\\n    }, {\\n      \"conf\" : 1.000000,\\n      \"end\" : 590.220000,\\n      \"start\" : 589.950000,\\n      \"word\" : \"thing\"\\n    }, {\\n      \"conf\" : 1.000000,\\n      \"end\" : 590.370000,\\n      \"start\" : 590.220000,\\n      \"word\" : \"though\"\\n    }, {\\n      \"conf\" : 1.000000,\\n      \"end\" : 590.490000,\\n      \"start\" : 590.370000,\\n      \"word\" : \"you\"\\n    }, {\\n      \"conf\" : 1.000000,\\n      \"end\" : 590.640000,\\n      \"start\" : 590.490000,\\n      \"word\" : \"can\"\\n    }, {\\n      \"conf\" : 1.000000,\\n      \"end\" : 591.090000,\\n      \"start\" : 590.640000,\\n      \"word\" : \"raise\"\\n    }, {\\n      \"conf\" : 1.000000,\\n      \"end\" : 591.510000,\\n      \"start\" : 591.090000,\\n      \"word\" : \"interest\"\\n    }, {\\n      \"conf\" : 1.000000,\\n      \"end\" : 591.780000,\\n      \"start\" : 591.510000,\\n      \"word\" : \"rates\"\\n    }, {\\n      \"conf\" : 1.000000,\\n      \"end\" : 591.900000,\\n      \"start\" : 591.780000,\\n      \"word\" : \"to\"\\n    }, {\\n      \"conf\" : 1.000000,\\n      \"end\" : 592.080000,\\n      \"start\" : 591.900000,\\n      \"word\" : \"fight\"\\n    }, {\\n      \"conf\" : 1.000000,\\n      \"end\" : 592.500000,\\n      \"start\" : 592.080000,\\n      \"word\" : \"inflation\"\\n    }, {\\n      \"conf\" : 1.000000,\\n      \"end\" : 592.680000,\\n      \"start\" : 592.500000,\\n      \"word\" : \"which\"\\n    }, {\\n      \"conf\" : 1.000000,\\n      \"end\" : 592.770000,\\n      \"start\" : 592.680000,\\n      \"word\" : \"the\"\\n    }, {\\n      \"conf\" : 1.000000,\\n      \"end\" : 592.980000,\\n      \"start\" : 592.770000,\\n      \"word\" : \"fed\"\\n    }, {\\n      \"conf\" : 1.000000,\\n      \"end\" : 593.250000,\\n      \"start\" : 592.980000,\\n      \"word\" : \"does\"\\n    }, {\\n      \"conf\" : 1.000000,\\n      \"end\" : 594.000000,\\n      \"start\" : 593.730000,\\n      \"word\" : \"that\"\\n    }, {\\n      \"conf\" : 1.000000,\\n      \"end\" : 594.540000,\\n      \"start\" : 594.000000,\\n      \"word\" : \"slows\"\\n    }, {\\n      \"conf\" : 1.000000,\\n      \"end\" : 594.660000,\\n      \"start\" : 594.540000,\\n      \"word\" : \"the\"\\n    }, {\\n      \"conf\" : 1.000000,\\n      \"end\" : 595.110000,\\n      \"start\" : 594.660000,\\n      \"word\" : \"economy\"\\n    }, {\\n      \"conf\" : 1.000000,\\n      \"end\" : 595.170000,\\n      \"start\" : 595.110000,\\n      \"word\" : \"and\"\\n    }, {\\n      \"conf\" : 1.000000,\\n      \"end\" : 595.350000,\\n      \"start\" : 595.170000,\\n      \"word\" : \"that\"\\n    }, {\\n      \"conf\" : 1.000000,\\n      \"end\" : 596.160000,\\n      \"start\" : 595.350000,\\n      \"word\" : \"usually\"\\n    }, {\\n      \"conf\" : 1.000000,\\n      \"end\" : 597.600000,\\n      \"start\" : 596.610000,\\n      \"word\" : \"increases\"\\n    }, {\\n      \"conf\" : 1.000000,\\n      \"end\" : 598.590000,\\n      \"start\" : 597.750000,\\n      \"word\" : \"unemployment\"\\n    }, {\\n      \"conf\" : 1.000000,\\n      \"end\" : 599.160000,\\n      \"start\" : 598.980000,\\n      \"word\" : \"we\"\\n    }, {\\n      \"conf\" : 1.000000,\\n      \"end\" : 599.400000,\\n      \"start\" : 599.160000,\\n      \"word\" : \"call\"\\n    }, {\\n      \"conf\" : 1.000000,\\n      \"end\" : 599.490000,\\n      \"start\" : 599.400000,\\n      \"word\" : \"it\"\\n    }, {\\n      \"conf\" : 1.000000,\\n      \"end\" : 599.580000,\\n      \"start\" : 599.490000,\\n      \"word\" : \"the\"\\n    }, {\\n      \"conf\" : 1.000000,\\n      \"end\" : 600.270000,\\n      \"start\" : 599.580000,\\n      \"word\" : \"sacrifice\"\\n    }, {\\n      \"conf\" : 1.000000,\\n      \"end\" : 600.870000,\\n      \"start\" : 600.270000,\\n      \"word\" : \"ratio\"\\n    }, {\\n      \"conf\" : 1.000000,\\n      \"end\" : 601.470000,\\n      \"start\" : 601.320000,\\n      \"word\" : \"and\"\\n    }, {\\n      \"conf\" : 1.000000,\\n      \"end\" : 601.560000,\\n      \"start\" : 601.470000,\\n      \"word\" : \"the\"\\n    }, {\\n      \"conf\" : 1.000000,\\n      \"end\" : 602.340000,\\n      \"start\" : 601.560000,\\n      \"word\" : \"sacrifice\"\\n    }, {\\n      \"conf\" : 1.000000,\\n      \"end\" : 602.550000,\\n      \"start\" : 602.340000,\\n      \"word\" : \"is\"\\n    }, {\\n      \"conf\" : 1.000000,\\n      \"end\" : 603.390000,\\n      \"start\" : 602.550000,\\n      \"word\" : \"disproportionately\"\\n    }, {\\n      \"conf\" : 1.000000,\\n      \"end\" : 603.690000,\\n      \"start\" : 603.390000,\\n      \"word\" : \"paid\"\\n    }, {\\n      \"conf\" : 1.000000,\\n      \"end\" : 604.140000,\\n      \"start\" : 603.690000,\\n      \"word\" : \"for\"\\n    }, {\\n      \"conf\" : 1.000000,\\n      \"end\" : 604.650000,\\n      \"start\" : 604.500000,\\n      \"word\" : \"by\"\\n    }, {\\n      \"conf\" : 1.000000,\\n      \"end\" : 604.980000,\\n      \"start\" : 604.650000,\\n      \"word\" : \"people\"\\n    }, {\\n      \"conf\" : 1.000000,\\n      \"end\" : 605.100000,\\n      \"start\" : 604.980000,\\n      \"word\" : \"of\"\\n    }, {\\n      \"conf\" : 1.000000,\\n      \"end\" : 605.490000,\\n      \"start\" : 605.100000,\\n      \"word\" : \"color\"\\n    }, {\\n      \"conf\" : 1.000000,\\n      \"end\" : 606.000000,\\n      \"start\" : 605.820000,\\n      \"word\" : \"that\"\\n    }, {\\n      \"conf\" : 1.000000,\\n      \"end\" : 606.300000,\\n      \"start\" : 606.000000,\\n      \"word\" : \"is\"\\n    }, {\\n      \"conf\" : 1.000000,\\n      \"end\" : 606.930000,\\n      \"start\" : 606.390000,\\n      \"word\" : \"african\"\\n    }, {\\n      \"conf\" : 1.000000,\\n      \"end\" : 607.440000,\\n      \"start\" : 606.930000,\\n      \"word\" : \"americans\"\\n    }, {\\n      \"conf\" : 1.000000,\\n      \"end\" : 607.530000,\\n      \"start\" : 607.440000,\\n      \"word\" : \"and\"\\n    }, {\\n      \"conf\" : 1.000000,\\n      \"end\" : 608.070000,\\n      \"start\" : 607.530000,\\n      \"word\" : \"hispanics\"\\n    }, {\\n      \"conf\" : 1.000000,\\n      \"end\" : 608.160000,\\n      \"start\" : 608.070000,\\n      \"word\" : \"are\"\\n    }, {\\n      \"conf\" : 1.000000,\\n      \"end\" : 609.180000,\\n      \"start\" : 608.190000,\\n      \"word\" : \"disproportionately\"\\n    }, {\\n      \"conf\" : 1.000000,\\n      \"end\" : 609.510000,\\n      \"start\" : 609.180000,\\n      \"word\" : \"likely\"\\n    }, {\\n      \"conf\" : 1.000000,\\n      \"end\" : 609.630000,\\n      \"start\" : 609.510000,\\n      \"word\" : \"to\"\\n    }, {\\n      \"conf\" : 1.000000,\\n      \"end\" : 609.930000,\\n      \"start\" : 609.630000,\\n      \"word\" : \"lose\"\\n    }, {\\n      \"conf\" : 1.000000,\\n      \"end\" : 610.080000,\\n      \"start\" : 609.930000,\\n      \"word\" : \"their\"\\n    }, {\\n      \"conf\" : 1.000000,\\n      \"end\" : 610.560000,\\n      \"start\" : 610.080000,\\n      \"word\" : \"jobs\"\\n    }, {\\n      \"conf\" : 1.000000,\\n      \"end\" : 611.160000,\\n      \"start\" : 610.950000,\\n      \"word\" : \"and\"\\n    }, {\\n      \"conf\" : 1.000000,\\n      \"end\" : 611.370000,\\n      \"start\" : 611.160000,\\n      \"word\" : \"your\"\\n    }, {\\n      \"conf\" : 1.000000,\\n      \"end\" : 612.180000,\\n      \"start\" : 611.370000,\\n      \"word\" : \"job\"\\n    }, {\\n      \"conf\" : 1.000000,\\n      \"end\" : 612.990000,\\n      \"start\" : 612.780000,\\n      \"word\" : \"which\"\\n    }, {\\n      \"conf\" : 1.000000,\\n      \"end\" : 613.080000,\\n      \"start\" : 612.990000,\\n      \"word\" : \"you\"\\n    }, {\\n      \"conf\" : 1.000000,\\n      \"end\" : 613.230000,\\n      \"start\" : 613.080000,\\n      \"word\" : \"can\"\\n    }, {\\n      \"conf\" : 1.000000,\\n      \"end\" : 613.410000,\\n      \"start\" : 613.230000,\\n      \"word\" : \"read\"\\n    }, {\\n      \"conf\" : 1.000000,\\n      \"end\" : 613.590000,\\n      \"start\" : 613.410000,\\n      \"word\" : \"as\"\\n    }, {\\n      \"conf\" : 1.000000,\\n      \"end\" : 613.800000,\\n      \"start\" : 613.590000,\\n      \"word\" : \"your\"\\n    }, {\\n      \"conf\" : 1.000000,\\n      \"end\" : 614.280000,\\n      \"start\" : 613.800000,\\n      \"word\" : \"wages\"\\n    }, {\\n      \"conf\" : 1.000000,\\n      \"end\" : 614.490000,\\n      \"start\" : 614.280000,\\n      \"word\" : \"right\"\\n    }, {\\n      \"conf\" : 1.000000,\\n      \"end\" : 615.030000,\\n      \"start\" : 614.820000,\\n      \"word\" : \"that\"\\n    }, {\\n      \"conf\" : 1.000000,\\n      \"end\" : 615.360000,\\n      \"start\" : 615.030000,\\n      \"word\" : \"affects\"\\n    }, {\\n      \"conf\" : 1.000000,\\n      \"end\" : 615.600000,\\n      \"start\" : 615.360000,\\n      \"word\" : \"what\"\\n    }, {\\n      \"conf\" : 1.000000,\\n      \"end\" : 615.810000,\\n      \"start\" : 615.600000,\\n      \"word\" : \"you\"\\n    }, {\\n      \"conf\" : 1.000000,\\n      \"end\" : 616.410000,\\n      \"start\" : 615.810000,\\n      \"word\" : \"buy\"\\n    }, {\\n      \"conf\" : 1.000000,\\n      \"end\" : 616.620000,\\n      \"start\" : 616.410000,\\n      \"word\" : \"which\"\\n    }, {\\n      \"conf\" : 1.000000,\\n      \"end\" : 616.800000,\\n      \"start\" : 616.620000,\\n      \"word\" : \"gets\"\\n    }, {\\n      \"conf\" : 1.000000,\\n      \"end\" : 617.340000,\\n      \"start\" : 616.800000,\\n      \"word\" : \"reflected\"\\n    }, {\\n      \"conf\" : 1.000000,\\n      \"end\" : 617.670000,\\n      \"start\" : 617.340000,\\n      \"word\" : \"in\"\\n    }, {\\n      \"conf\" : 1.000000,\\n      \"end\" : 618.000000,\\n      \"start\" : 617.670000,\\n      \"word\" : \"those\"\\n    }, {\\n      \"conf\" : 1.000000,\\n      \"end\" : 618.900000,\\n      \"start\" : 618.000000,\\n      \"word\" : \"inflation\"\\n    }, {\\n      \"conf\" : 1.000000,\\n      \"end\" : 619.650000,\\n      \"start\" : 619.020000,\\n      \"word\" : \"numbers\"\\n    }, {\\n      \"conf\" : 1.000000,\\n      \"end\" : 620.160000,\\n      \"start\" : 620.040000,\\n      \"word\" : \"the\"\\n    }, {\\n      \"conf\" : 1.000000,\\n      \"end\" : 620.550000,\\n      \"start\" : 620.160000,\\n      \"word\" : \"overall\"\\n    }, {\\n      \"conf\" : 0.842196,\\n      \"end\" : 620.940000,\\n      \"start\" : 620.550000,\\n      \"word\" : \"cp\"\\n    }, {\\n      \"conf\" : 1.000000,\\n      \"end\" : 621.330000,\\n      \"start\" : 620.940000,\\n      \"word\" : \"i\"\\n    }, {\\n      \"conf\" : 1.000000,\\n      \"end\" : 622.020000,\\n      \"start\" : 621.750000,\\n      \"word\" : \"is\"\\n    }, {\\n      \"conf\" : 1.000000,\\n      \"end\" : 622.380000,\\n      \"start\" : 622.020000,\\n      \"word\" : \"meant\"\\n    }, {\\n      \"conf\" : 1.000000,\\n      \"end\" : 622.650000,\\n      \"start\" : 622.410000,\\n      \"word\" : \"to\"\\n    }, {\\n      \"conf\" : 1.000000,\\n      \"end\" : 623.460000,\\n      \"start\" : 622.680000,\\n      \"word\" : \"capture\"\\n    }, {\\n      \"conf\" : 1.000000,\\n      \"end\" : 623.880000,\\n      \"start\" : 623.670000,\\n      \"word\" : \"the\"\\n    }, {\\n      \"conf\" : 1.000000,\\n      \"end\" : 624.300000,\\n      \"start\" : 623.910000,\\n      \"word\" : \"spending\"\\n    }, {\\n      \"conf\" : 1.000000,\\n      \"end\" : 624.780000,\\n      \"start\" : 624.300000,\\n      \"word\" : \"patterns\"\\n    }, {\\n      \"conf\" : 1.000000,\\n      \"end\" : 624.990000,\\n      \"start\" : 624.780000,\\n      \"word\" : \"of\"\\n    }, {\\n      \"conf\" : 1.000000,\\n      \"end\" : 625.140000,\\n      \"start\" : 624.990000,\\n      \"word\" : \"a\"\\n    }, {\\n      \"conf\" : 1.000000,\\n      \"end\" : 625.740000,\\n      \"start\" : 625.260000,\\n      \"word\" : \"typical\"\\n    }, {\\n      \"conf\" : 1.000000,\\n      \"end\" : 626.280000,\\n      \"start\" : 625.740000,\\n      \"word\" : \"household\"\\n    }, {\\n      \"conf\" : 1.000000,\\n      \"end\" : 627.000000,\\n      \"start\" : 626.670000,\\n      \"word\" : \"but\"\\n    }, {\\n      \"conf\" : 1.000000,\\n      \"end\" : 627.360000,\\n      \"start\" : 627.000000,\\n      \"word\" : \"really\"\\n    }, {\\n      \"conf\" : 0.573652,\\n      \"end\" : 627.810000,\\n      \"start\" : 627.390000,\\n      \"word\" : \"nobody\\'s\"\\n    }, {\\n      \"conf\" : 1.000000,\\n      \"end\" : 627.900000,\\n      \"start\" : 627.810000,\\n      \"word\" : \"the\"\\n    }, {\\n      \"conf\" : 1.000000,\\n      \"end\" : 628.260000,\\n      \"start\" : 627.900000,\\n      \"word\" : \"typical\"\\n    }, {\\n      \"conf\" : 1.000000,\\n      \"end\" : 628.830000,\\n      \"start\" : 628.260000,\\n      \"word\" : \"household\"\\n    }, {\\n      \"conf\" : 1.000000,\\n      \"end\" : 629.250000,\\n      \"start\" : 629.130000,\\n      \"word\" : \"and\"\\n    }, {\\n      \"conf\" : 1.000000,\\n      \"end\" : 629.400000,\\n      \"start\" : 629.250000,\\n      \"word\" : \"that\"\\n    }, {\\n      \"conf\" : 1.000000,\\n      \"end\" : 629.610000,\\n      \"start\" : 629.400000,\\n      \"word\" : \"gets\"\\n    }, {\\n      \"conf\" : 1.000000,\\n      \"end\" : 629.760000,\\n      \"start\" : 629.610000,\\n      \"word\" : \"us\"\\n    }, {\\n      \"conf\" : 1.000000,\\n      \"end\" : 629.850000,\\n      \"start\" : 629.760000,\\n      \"word\" : \"to\"\\n    }, {\\n      \"conf\" : 1.000000,\\n      \"end\" : 630.150000,\\n      \"start\" : 629.850000,\\n      \"word\" : \"this\"\\n    }, {\\n      \"conf\" : 1.000000,\\n      \"end\" : 630.600000,\\n      \"start\" : 630.150000,\\n      \"word\" : \"last\"\\n    }, {\\n      \"conf\" : 1.000000,\\n      \"end\" : 631.020000,\\n      \"start\" : 630.600000,\\n      \"word\" : \"point\"\\n    }, {\\n      \"conf\" : 1.000000,\\n      \"end\" : 631.800000,\\n      \"start\" : 631.140000,\\n      \"word\" : \"how\"\\n    }, {\\n      \"conf\" : 1.000000,\\n      \"end\" : 632.070000,\\n      \"start\" : 631.800000,\\n      \"word\" : \"we\"\\n    }, {\\n      \"conf\" : 1.000000,\\n      \"end\" : 632.520000,\\n      \"start\" : 632.070000,\\n      \"word\" : \"measure\"\\n    }, {\\n      \"conf\" : 1.000000,\\n      \"end\" : 633.300000,\\n      \"start\" : 632.520000,\\n      \"word\" : \"inflation\"\\n    }, {\\n      \"conf\" : 1.000000,\\n      \"end\" : 633.540000,\\n      \"start\" : 633.360000,\\n      \"word\" : \"in\"\\n    }, {\\n      \"conf\" : 1.000000,\\n      \"end\" : 633.720000,\\n      \"start\" : 633.540000,\\n      \"word\" : \"this\"\\n    }, {\\n      \"conf\" : 1.000000,\\n      \"end\" : 634.170000,\\n      \"start\" : 633.720000,\\n      \"word\" : \"economy\"\\n    }, {\\n      \"conf\" : 1.000000,\\n      \"end\" : 634.980000,\\n      \"start\" : 634.770000,\\n      \"word\" : \"then\"\\n    }, {\\n      \"conf\" : 1.000000,\\n      \"end\" : 635.130000,\\n      \"start\" : 634.980000,\\n      \"word\" : \"you\\'ll\"\\n    }, {\\n      \"conf\" : 1.000000,\\n      \"end\" : 635.520000,\\n      \"start\" : 635.130000,\\n      \"word\" : \"sickle\"\\n    }, {\\n      \"conf\" : 1.000000,\\n      \"end\" : 635.910000,\\n      \"start\" : 635.730000,\\n      \"word\" : \"is\"\\n    }, {\\n      \"conf\" : 1.000000,\\n      \"end\" : 636.000000,\\n      \"start\" : 635.910000,\\n      \"word\" : \"a\"\\n    }, {\\n      \"conf\" : 1.000000,\\n      \"end\" : 636.450000,\\n      \"start\" : 636.000000,\\n      \"word\" : \"professor\"\\n    }, {\\n      \"conf\" : 1.000000,\\n      \"end\" : 636.510000,\\n      \"start\" : 636.450000,\\n      \"word\" : \"at\"\\n    }, {\\n      \"conf\" : 1.000000,\\n      \"end\" : 637.080000,\\n      \"start\" : 636.510000,\\n      \"word\" : \"wellesley\"\\n    }, {\\n      \"conf\" : 1.000000,\\n      \"end\" : 637.470000,\\n      \"start\" : 637.110000,\\n      \"word\" : \"also\"\\n    }, {\\n      \"conf\" : 1.000000,\\n      \"end\" : 637.650000,\\n      \"start\" : 637.470000,\\n      \"word\" : \"though\"\\n    }, {\\n      \"conf\" : 1.000000,\\n      \"end\" : 637.830000,\\n      \"start\" : 637.650000,\\n      \"word\" : \"he\\'s\"\\n    }, {\\n      \"conf\" : 1.000000,\\n      \"end\" : 637.920000,\\n      \"start\" : 637.830000,\\n      \"word\" : \"the\"\\n    }, {\\n      \"conf\" : 1.000000,\\n      \"end\" : 638.160000,\\n      \"start\" : 637.920000,\\n      \"word\" : \"chair\"\\n    }, {\\n      \"conf\" : 1.000000,\\n      \"end\" : 638.280000,\\n      \"start\" : 638.160000,\\n      \"word\" : \"of\"\\n    }, {\\n      \"conf\" : 0.755851,\\n      \"end\" : 638.310000,\\n      \"start\" : 638.280000,\\n      \"word\" : \"a\"\\n    }, {\\n      \"conf\" : 1.000000,\\n      \"end\" : 638.700000,\\n      \"start\" : 638.317324,\\n      \"word\" : \"national\"\\n    }, {\\n      \"conf\" : 1.000000,\\n      \"end\" : 639.120000,\\n      \"start\" : 638.700000,\\n      \"word\" : \"academy\"\\n    }, {\\n      \"conf\" : 1.000000,\\n      \"end\" : 639.180000,\\n      \"start\" : 639.120000,\\n      \"word\" : \"of\"\\n    }, {\\n      \"conf\" : 1.000000,\\n      \"end\" : 639.630000,\\n      \"start\" : 639.180000,\\n      \"word\" : \"sciences\"\\n    }, {\\n      \"conf\" : 1.000000,\\n      \"end\" : 640.050000,\\n      \"start\" : 639.630000,\\n      \"word\" : \"committee\"\\n    }, {\\n      \"conf\" : 1.000000,\\n      \"end\" : 640.560000,\\n      \"start\" : 640.380000,\\n      \"word\" : \"that\"\\n    }, {\\n      \"conf\" : 1.000000,\\n      \"end\" : 640.650000,\\n      \"start\" : 640.560000,\\n      \"word\" : \"is\"\\n    }, {\\n      \"conf\" : 1.000000,\\n      \"end\" : 641.130000,\\n      \"start\" : 640.650000,\\n      \"word\" : \"studying\"\\n    }, {\\n      \"conf\" : 1.000000,\\n      \"end\" : 641.430000,\\n      \"start\" : 641.130000,\\n      \"word\" : \"ways\"\\n    }, {\\n      \"conf\" : 1.000000,\\n      \"end\" : 641.640000,\\n      \"start\" : 641.430000,\\n      \"word\" : \"to\"\\n    }, {\\n      \"conf\" : 0.835722,\\n      \"end\" : 642.690000,\\n      \"start\" : 641.640000,\\n      \"word\" : \"modernize\"\\n    }, {\\n      \"conf\" : 1.000000,\\n      \"end\" : 642.870000,\\n      \"start\" : 642.720000,\\n      \"word\" : \"the\"\\n    }, {\\n      \"conf\" : 1.000000,\\n      \"end\" : 643.260000,\\n      \"start\" : 642.870000,\\n      \"word\" : \"consumer\"\\n    }, {\\n      \"conf\" : 1.000000,\\n      \"end\" : 643.530000,\\n      \"start\" : 643.260000,\\n      \"word\" : \"price\"\\n    }, {\\n      \"conf\" : 1.000000,\\n      \"end\" : 643.980000,\\n      \"start\" : 643.530000,\\n      \"word\" : \"index\"\\n    }, {\\n      \"conf\" : 1.000000,\\n      \"end\" : 644.430000,\\n      \"start\" : 644.250000,\\n      \"word\" : \"make\"\\n    }, {\\n      \"conf\" : 1.000000,\\n      \"end\" : 644.520000,\\n      \"start\" : 644.430000,\\n      \"word\" : \"it\"\\n    }, {\\n      \"conf\" : 1.000000,\\n      \"end\" : 644.790000,\\n      \"start\" : 644.520000,\\n      \"word\" : \"better\"\\n    }, {\\n      \"conf\" : 0.876001,\\n      \"end\" : 645.060000,\\n      \"start\" : 644.790000,\\n      \"word\" : \"right\"\\n    }, {\\n      \"conf\" : 0.876001,\\n      \"end\" : 645.120000,\\n      \"start\" : 645.060000,\\n      \"word\" : \"and\"\\n    }, {\\n      \"conf\" : 1.000000,\\n      \"end\" : 645.270000,\\n      \"start\" : 645.120000,\\n      \"word\" : \"more\"\\n    }, {\\n      \"conf\" : 1.000000,\\n      \"end\" : 645.570000,\\n      \"start\" : 645.270000,\\n      \"word\" : \"useful\"\\n    }, {\\n      \"conf\" : 1.000000,\\n      \"end\" : 645.630000,\\n      \"start\" : 645.570000,\\n      \"word\" : \"the\"\\n    }, {\\n      \"conf\" : 1.000000,\\n      \"end\" : 646.080000,\\n      \"start\" : 645.630000,\\n      \"word\" : \"bls\"\\n    }, {\\n      \"conf\" : 1.000000,\\n      \"end\" : 646.320000,\\n      \"start\" : 646.110000,\\n      \"word\" : \"does\"\\n    }, {\\n      \"conf\" : 1.000000,\\n      \"end\" : 646.770000,\\n      \"start\" : 646.320000,\\n      \"word\" : \"publish\"\\n    }, {\\n      \"conf\" : 1.000000,\\n      \"end\" : 647.190000,\\n      \"start\" : 647.070000,\\n      \"word\" : \"a\"\\n    }, {\\n      \"conf\" : 1.000000,\\n      \"end\" : 647.520000,\\n      \"start\" : 647.190000,\\n      \"word\" : \"couple\"\\n    }, {\\n      \"conf\" : 1.000000,\\n      \"end\" : 647.580000,\\n      \"start\" : 647.520000,\\n      \"word\" : \"of\"\\n    }, {\\n      \"conf\" : 1.000000,\\n      \"end\" : 647.970000,\\n      \"start\" : 647.580000,\\n      \"word\" : \"versions\"\\n    }, {\\n      \"conf\" : 1.000000,\\n      \"end\" : 648.060000,\\n      \"start\" : 647.970000,\\n      \"word\" : \"of\"\\n    }, {\\n      \"conf\" : 1.000000,\\n      \"end\" : 648.150000,\\n      \"start\" : 648.060000,\\n      \"word\" : \"the\"\\n    }, {\\n      \"conf\" : 1.000000,\\n      \"end\" : 648.510000,\\n      \"start\" : 648.150000,\\n      \"word\" : \"cp\"\\n    }, {\\n      \"conf\" : 1.000000,\\n      \"end\" : 648.660000,\\n      \"start\" : 648.510000,\\n      \"word\" : \"i\"\\n    }, {\\n      \"conf\" : 1.000000,\\n      \"end\" : 649.080000,\\n      \"start\" : 648.660000,\\n      \"word\" : \"already\"\\n    }, {\\n      \"conf\" : 1.000000,\\n      \"end\" : 649.800000,\\n      \"start\" : 649.410000,\\n      \"word\" : \"but\"\\n    }, {\\n      \"conf\" : 1.000000,\\n      \"end\" : 650.370000,\\n      \"start\" : 649.800000,\\n      \"word\" : \"there\\'s\"\\n    }, {\\n      \"conf\" : 1.000000,\\n      \"end\" : 650.760000,\\n      \"start\" : 650.370000,\\n      \"word\" : \"plenty\"\\n    }, {\\n      \"conf\" : 1.000000,\\n      \"end\" : 650.820000,\\n      \"start\" : 650.760000,\\n      \"word\" : \"of\"\\n    }, {\\n      \"conf\" : 1.000000,\\n      \"end\" : 651.060000,\\n      \"start\" : 650.820000,\\n      \"word\" : \"room\"\\n    }, {\\n      \"conf\" : 1.000000,\\n      \"end\" : 651.300000,\\n      \"start\" : 651.060000,\\n      \"word\" : \"for\"\\n    }, {\\n      \"conf\" : 1.000000,\\n      \"end\" : 651.960000,\\n      \"start\" : 651.300000,\\n      \"word\" : \"improvement\"\\n    }, {\\n      \"conf\" : 1.000000,\\n      \"end\" : 652.650000,\\n      \"start\" : 652.080000,\\n      \"word\" : \"like\"\\n    }, {\\n      \"conf\" : 1.000000,\\n      \"end\" : 652.830000,\\n      \"start\" : 652.680000,\\n      \"word\" : \"they\"\\n    }, {\\n      \"conf\" : 1.000000,\\n      \"end\" : 653.070000,\\n      \"start\" : 652.830000,\\n      \"word\" : \"could\"\\n    }, {\\n      \"conf\" : 1.000000,\\n      \"end\" : 653.520000,\\n      \"start\" : 653.070000,\\n      \"word\" : \"do\"\\n    }, {\\n      \"conf\" : 1.000000,\\n      \"end\" : 653.760000,\\n      \"start\" : 653.520000,\\n      \"word\" : \"what\"\\n    }, {\\n      \"conf\" : 1.000000,\\n      \"end\" : 654.240000,\\n      \"start\" : 653.760000,\\n      \"word\" : \"jacob\"\\n    }, {\\n      \"conf\" : 1.000000,\\n      \"end\" : 654.870000,\\n      \"start\" : 654.240000,\\n      \"word\" : \"orchard\"\\n    }, {\\n      \"conf\" : 1.000000,\\n      \"end\" : 654.930000,\\n      \"start\" : 654.870000,\\n      \"word\" : \"and\"\\n    }, {\\n      \"conf\" : 1.000000,\\n      \"end\" : 655.140000,\\n      \"start\" : 654.930000,\\n      \"word\" : \"other\"\\n    }, {\\n      \"conf\" : 1.000000,\\n      \"end\" : 655.710000,\\n      \"start\" : 655.140000,\\n      \"word\" : \"researchers\"\\n    }, {\\n      \"conf\" : 1.000000,\\n      \"end\" : 655.950000,\\n      \"start\" : 655.710000,\\n      \"word\" : \"remember\"\\n    }, {\\n      \"conf\" : 1.000000,\\n      \"end\" : 656.242031,\\n      \"start\" : 655.950000,\\n      \"word\" : \"jacob\"\\n    }, {\\n      \"conf\" : 0.734490,\\n      \"end\" : 656.629922,\\n      \"start\" : 656.250000,\\n      \"word\" : \"orchard\"\\n    }, {\\n      \"conf\" : 1.000000,\\n      \"end\" : 656.850000,\\n      \"start\" : 656.629922,\\n      \"word\" : \"the\"\\n    }, {\\n      \"conf\" : 1.000000,\\n      \"end\" : 657.330000,\\n      \"start\" : 656.910000,\\n      \"word\" : \"almost\"\\n    }, {\\n      \"conf\" : 0.826166,\\n      \"end\" : 657.660000,\\n      \"start\" : 657.330000,\\n      \"word\" : \"doctor\"\\n    }, {\\n      \"conf\" : 0.942068,\\n      \"end\" : 657.780000,\\n      \"start\" : 657.660000,\\n      \"word\" : \"up\"\\n    }, {\\n      \"conf\" : 1.000000,\\n      \"end\" : 657.930000,\\n      \"start\" : 657.780000,\\n      \"word\" : \"from\"\\n    }, {\\n      \"conf\" : 1.000000,\\n      \"end\" : 657.990000,\\n      \"start\" : 657.930000,\\n      \"word\" : \"the\"\\n    }, {\\n      \"conf\" : 1.000000,\\n      \"end\" : 658.230000,\\n      \"start\" : 657.990000,\\n      \"word\" : \"top\"\\n    }, {\\n      \"conf\" : 0.832926,\\n      \"end\" : 658.856895,\\n      \"start\" : 658.710000,\\n      \"word\" : \"could\"\\n    }, {\\n      \"conf\" : 1.000000,\\n      \"end\" : 658.950000,\\n      \"start\" : 658.856895,\\n      \"word\" : \"do\"\\n    }, {\\n      \"conf\" : 1.000000,\\n      \"end\" : 659.070000,\\n      \"start\" : 658.950000,\\n      \"word\" : \"what\"\\n    }, {\\n      \"conf\" : 1.000000,\\n      \"end\" : 659.250000,\\n      \"start\" : 659.070000,\\n      \"word\" : \"they\"\\n    }, {\\n      \"conf\" : 1.000000,\\n      \"end\" : 659.580000,\\n      \"start\" : 659.250000,\\n      \"word\" : \"do\"\\n    }, {\\n      \"conf\" : 1.000000,\\n      \"end\" : 660.570000,\\n      \"start\" : 660.210000,\\n      \"word\" : \"using\"\\n    }, {\\n      \"conf\" : 1.000000,\\n      \"end\" : 661.170000,\\n      \"start\" : 660.900000,\\n      \"word\" : \"data\"\\n    }, {\\n      \"conf\" : 1.000000,\\n      \"end\" : 661.290000,\\n      \"start\" : 661.170000,\\n      \"word\" : \"on\"\\n    }, {\\n      \"conf\" : 1.000000,\\n      \"end\" : 661.710000,\\n      \"start\" : 661.290000,\\n      \"word\" : \"spending\"\\n    }, {\\n      \"conf\" : 1.000000,\\n      \"end\" : 662.130000,\\n      \"start\" : 661.710000,\\n      \"word\" : \"patterns\"\\n    }, {\\n      \"conf\" : 1.000000,\\n      \"end\" : 662.310000,\\n      \"start\" : 662.160000,\\n      \"word\" : \"to\"\\n    }, {\\n      \"conf\" : 1.000000,\\n      \"end\" : 663.390000,\\n      \"start\" : 662.310000,\\n      \"word\" : \"desegregate\"\\n    }, {\\n      \"conf\" : 1.000000,\\n      \"end\" : 663.690000,\\n      \"start\" : 663.570000,\\n      \"word\" : \"the\"\\n    }, {\\n      \"conf\" : 1.000000,\\n      \"end\" : 664.410000,\\n      \"start\" : 663.690000,\\n      \"word\" : \"sepia\"\\n    }, {\\n      \"conf\" : 1.000000,\\n      \"end\" : 664.980000,\\n      \"start\" : 664.890000,\\n      \"word\" : \"a\"\\n    }, {\\n      \"conf\" : 1.000000,\\n      \"end\" : 665.280000,\\n      \"start\" : 664.980000,\\n      \"word\" : \"step\"\\n    }, {\\n      \"conf\" : 1.000000,\\n      \"end\" : 665.640000,\\n      \"start\" : 665.280000,\\n      \"word\" : \"further\"\\n    }, {\\n      \"conf\" : 1.000000,\\n      \"end\" : 665.820000,\\n      \"start\" : 665.640000,\\n      \"word\" : \"than\"\\n    }, {\\n      \"conf\" : 1.000000,\\n      \"end\" : 666.120000,\\n      \"start\" : 665.820000,\\n      \"word\" : \"that\"\\n    }, {\\n      \"conf\" : 1.000000,\\n      \"end\" : 666.390000,\\n      \"start\" : 666.120000,\\n      \"word\" : \"would\"\\n    }, {\\n      \"conf\" : 1.000000,\\n      \"end\" : 666.600000,\\n      \"start\" : 666.390000,\\n      \"word\" : \"be\"\\n    }, {\\n      \"conf\" : 1.000000,\\n      \"end\" : 666.720000,\\n      \"start\" : 666.600000,\\n      \"word\" : \"to\"\\n    }, {\\n      \"conf\" : 1.000000,\\n      \"end\" : 667.110000,\\n      \"start\" : 666.720000,\\n      \"word\" : \"develop\"\\n    }, {\\n      \"conf\" : 1.000000,\\n      \"end\" : 667.170000,\\n      \"start\" : 667.110000,\\n      \"word\" : \"a\"\\n    }, {\\n      \"conf\" : 1.000000,\\n      \"end\" : 667.470000,\\n      \"start\" : 667.170000,\\n      \"word\" : \"data\"\\n    }, {\\n      \"conf\" : 1.000000,\\n      \"end\" : 667.890000,\\n      \"start\" : 667.470000,\\n      \"word\" : \"system\"\\n    }, {\\n      \"conf\" : 1.000000,\\n      \"end\" : 668.070000,\\n      \"start\" : 667.890000,\\n      \"word\" : \"where\"\\n    }, {\\n      \"conf\" : 1.000000,\\n      \"end\" : 668.250000,\\n      \"start\" : 668.070000,\\n      \"word\" : \"they\"\\n    }, {\\n      \"conf\" : 1.000000,\\n      \"end\" : 668.760000,\\n      \"start\" : 668.250000,\\n      \"word\" : \"really\"\\n    }, {\\n      \"conf\" : 1.000000,\\n      \"end\" : 669.210000,\\n      \"start\" : 668.790000,\\n      \"word\" : \"could\"\\n    }, {\\n      \"conf\" : 1.000000,\\n      \"end\" : 669.810000,\\n      \"start\" : 669.240000,\\n      \"word\" : \"link\"\\n    }, {\\n      \"conf\" : 1.000000,\\n      \"end\" : 670.500000,\\n      \"start\" : 670.020000,\\n      \"word\" : \"prices\"\\n    }, {\\n      \"conf\" : 1.000000,\\n      \"end\" : 670.620000,\\n      \"start\" : 670.500000,\\n      \"word\" : \"of\"\\n    }, {\\n      \"conf\" : 1.000000,\\n      \"end\" : 671.370000,\\n      \"start\" : 670.620000,\\n      \"word\" : \"particular\"\\n    }, {\\n      \"conf\" : 1.000000,\\n      \"end\" : 672.030000,\\n      \"start\" : 671.370000,\\n      \"word\" : \"items\"\\n    }, {\\n      \"conf\" : 1.000000,\\n      \"end\" : 672.420000,\\n      \"start\" : 672.030000,\\n      \"word\" : \"to\"\\n    }, {\\n      \"conf\" : 1.000000,\\n      \"end\" : 672.690000,\\n      \"start\" : 672.420000,\\n      \"word\" : \"the\"\\n    }, {\\n      \"conf\" : 1.000000,\\n      \"end\" : 673.410000,\\n      \"start\" : 672.720000,\\n      \"word\" : \"demographic\"\\n    }, {\\n      \"conf\" : 1.000000,\\n      \"end\" : 674.190000,\\n      \"start\" : 673.410000,\\n      \"word\" : \"characteristics\"\\n    }, {\\n      \"conf\" : 1.000000,\\n      \"end\" : 674.310000,\\n      \"start\" : 674.190000,\\n      \"word\" : \"of\"\\n    }, {\\n      \"conf\" : 1.000000,\\n      \"end\" : 674.400000,\\n      \"start\" : 674.310000,\\n      \"word\" : \"the\"\\n    }, {\\n      \"conf\" : 1.000000,\\n      \"end\" : 674.880000,\\n      \"start\" : 674.400000,\\n      \"word\" : \"people\"\\n    }, {\\n      \"conf\" : 1.000000,\\n      \"end\" : 675.270000,\\n      \"start\" : 674.940000,\\n      \"word\" : \"buying\"\\n    }, {\\n      \"conf\" : 1.000000,\\n      \"end\" : 675.450000,\\n      \"start\" : 675.270000,\\n      \"word\" : \"them\"\\n    }, {\\n      \"conf\" : 1.000000,\\n      \"end\" : 676.020000,\\n      \"start\" : 675.750000,\\n      \"word\" : \"that\"\\n    }, {\\n      \"conf\" : 1.000000,\\n      \"end\" : 676.170000,\\n      \"start\" : 676.020000,\\n      \"word\" : \"would\"\\n    }, {\\n      \"conf\" : 1.000000,\\n      \"end\" : 676.380000,\\n      \"start\" : 676.170000,\\n      \"word\" : \"be\"\\n    }, {\\n      \"conf\" : 1.000000,\\n      \"end\" : 676.620000,\\n      \"start\" : 676.380000,\\n      \"word\" : \"kind\"\\n    }, {\\n      \"conf\" : 1.000000,\\n      \"end\" : 676.680000,\\n      \"start\" : 676.620000,\\n      \"word\" : \"of\"\\n    }, {\\n      \"conf\" : 1.000000,\\n      \"end\" : 677.040000,\\n      \"start\" : 676.680000,\\n      \"word\" : \"like\"\\n    }, {\\n      \"conf\" : 1.000000,\\n      \"end\" : 677.190000,\\n      \"start\" : 677.070000,\\n      \"word\" : \"the\"\\n    }, {\\n      \"conf\" : 1.000000,\\n      \"end\" : 677.460000,\\n      \"start\" : 677.190000,\\n      \"word\" : \"holy\"\\n    }, {\\n      \"conf\" : 1.000000,\\n      \"end\" : 677.940000,\\n      \"start\" : 677.460000,\\n      \"word\" : \"grail\"\\n    }, {\\n      \"conf\" : 1.000000,\\n      \"end\" : 678.390000,\\n      \"start\" : 678.150000,\\n      \"word\" : \"which\"\\n    }, {\\n      \"conf\" : 1.000000,\\n      \"end\" : 678.570000,\\n      \"start\" : 678.390000,\\n      \"word\" : \"would\"\\n    }, {\\n      \"conf\" : 1.000000,\\n      \"end\" : 678.690000,\\n      \"start\" : 678.570000,\\n      \"word\" : \"be\"\\n    }, {\\n      \"conf\" : 1.000000,\\n      \"end\" : 679.050000,\\n      \"start\" : 678.690000,\\n      \"word\" : \"super\"\\n    }, {\\n      \"conf\" : 1.000000,\\n      \"end\" : 679.440000,\\n      \"start\" : 679.050000,\\n      \"word\" : \"useful\"\\n    }, {\\n      \"conf\" : 1.000000,\\n      \"end\" : 679.560000,\\n      \"start\" : 679.440000,\\n      \"word\" : \"in\"\\n    }, {\\n      \"conf\" : 1.000000,\\n      \"end\" : 679.620000,\\n      \"start\" : 679.560000,\\n      \"word\" : \"the\"\\n    }, {\\n      \"conf\" : 1.000000,\\n      \"end\" : 679.980000,\\n      \"start\" : 679.620000,\\n      \"word\" : \"meanwhile\"\\n    }, {\\n      \"conf\" : 1.000000,\\n      \"end\" : 680.130000,\\n      \"start\" : 679.980000,\\n      \"word\" : \"they\\'re\"\\n    }, {\\n      \"conf\" : 1.000000,\\n      \"end\" : 680.430000,\\n      \"start\" : 680.130000,\\n      \"word\" : \"waiting\"\\n    }, {\\n      \"conf\" : 1.000000,\\n      \"end\" : 680.640000,\\n      \"start\" : 680.430000,\\n      \"word\" : \"for\"\\n    }, {\\n      \"conf\" : 1.000000,\\n      \"end\" : 680.730000,\\n      \"start\" : 680.640000,\\n      \"word\" : \"the\"\\n    }, {\\n      \"conf\" : 1.000000,\\n      \"end\" : 680.940000,\\n      \"start\" : 680.730000,\\n      \"word\" : \"holy\"\\n    }, {\\n      \"conf\" : 1.000000,\\n      \"end\" : 681.330000,\\n      \"start\" : 680.940000,\\n      \"word\" : \"grail\"\\n    }, {\\n      \"conf\" : 1.000000,\\n      \"end\" : 682.110000,\\n      \"start\" : 681.840000,\\n      \"word\" : \"later\"\\n    }, {\\n      \"conf\" : 1.000000,\\n      \"end\" : 682.230000,\\n      \"start\" : 682.110000,\\n      \"word\" : \"on\"\\n    }, {\\n      \"conf\" : 1.000000,\\n      \"end\" : 682.380000,\\n      \"start\" : 682.230000,\\n      \"word\" : \"this\"\\n    }, {\\n      \"conf\" : 1.000000,\\n      \"end\" : 682.590000,\\n      \"start\" : 682.380000,\\n      \"word\" : \"week\"\\n    }, {\\n      \"conf\" : 1.000000,\\n      \"end\" : 682.680000,\\n      \"start\" : 682.590000,\\n      \"word\" : \"the\"\\n    }, {\\n      \"conf\" : 1.000000,\\n      \"end\" : 683.280000,\\n      \"start\" : 682.680000,\\n      \"word\" : \"fed\\'s\"\\n    }, {\\n      \"conf\" : 1.000000,\\n      \"end\" : 683.790000,\\n      \"start\" : 683.340000,\\n      \"word\" : \"favorite\"\\n    }, {\\n      \"conf\" : 1.000000,\\n      \"end\" : 684.390000,\\n      \"start\" : 683.820000,\\n      \"word\" : \"inflation\"\\n    }, {\\n      \"conf\" : 1.000000,\\n      \"end\" : 684.750000,\\n      \"start\" : 684.390000,\\n      \"word\" : \"metric\"\\n    }, {\\n      \"conf\" : 1.000000,\\n      \"end\" : 685.590000,\\n      \"start\" : 684.750000,\\n      \"word\" : \"pc\"\\n    }, {\\n      \"conf\" : 0.518180,\\n      \"end\" : 685.729687,\\n      \"start\" : 685.590059,\\n      \"word\" : \"we\"\\n    }, {\\n      \"conf\" : 1.000000,\\n      \"end\" : 685.890000,\\n      \"start\" : 685.729687,\\n      \"word\" : \"will\"\\n    }, {\\n      \"conf\" : 1.000000,\\n      \"end\" : 686.100000,\\n      \"start\" : 685.890000,\\n      \"word\" : \"tell\"\\n    }, {\\n      \"conf\" : 1.000000,\\n      \"end\" : 686.280000,\\n      \"start\" : 686.100000,\\n      \"word\" : \"you\"\\n    }, {\\n      \"conf\" : 1.000000,\\n      \"end\" : 686.700000,\\n      \"start\" : 686.340000,\\n      \"word\" : \"why\"\\n    }, {\\n      \"conf\" : 1.000000,\\n      \"end\" : 687.180000,\\n      \"start\" : 686.700000,\\n      \"word\" : \"that\"\\n    }, {\\n      \"conf\" : 1.000000,\\n      \"end\" : 687.480000,\\n      \"start\" : 687.210000,\\n      \"word\" : \"is\"\\n    }, {\\n      \"conf\" : 1.000000,\\n      \"end\" : 687.600000,\\n      \"start\" : 687.480000,\\n      \"word\" : \"the\"\\n    }, {\\n      \"conf\" : 1.000000,\\n      \"end\" : 688.050000,\\n      \"start\" : 687.600000,\\n      \"word\" : \"one\"\\n    }, {\\n      \"conf\" : 1.000000,\\n      \"end\" : 688.620000,\\n      \"start\" : 688.410000,\\n      \"word\" : \"that\"\\n    }, {\\n      \"conf\" : 1.000000,\\n      \"end\" : 688.770000,\\n      \"start\" : 688.620000,\\n      \"word\" : \"they\"\\n    }, {\\n      \"conf\" : 1.000000,\\n      \"end\" : 689.340000,\\n      \"start\" : 688.770000,\\n      \"word\" : \"like\"\\n    }, {\\n      \"conf\" : 1.000000,\\n      \"end\" : 708.510000,\\n      \"start\" : 689.940000,\\n      \"word\" : \"ooh\"\\n    }, {\\n      \"conf\" : 1.000000,\\n      \"end\" : 709.650000,\\n      \"start\" : 709.470000,\\n      \"word\" : \"one\"\\n    }, {\\n      \"conf\" : 1.000000,\\n      \"end\" : 709.800000,\\n      \"start\" : 709.650000,\\n      \"word\" : \"more\"\\n    }, {\\n      \"conf\" : 1.000000,\\n      \"end\" : 710.070000,\\n      \"start\" : 709.800000,\\n      \"word\" : \"quick\"\\n    }, {\\n      \"conf\" : 1.000000,\\n      \"end\" : 710.430000,\\n      \"start\" : 710.070000,\\n      \"word\" : \"thing\"\\n    }, {\\n      \"conf\" : 1.000000,\\n      \"end\" : 710.760000,\\n      \"start\" : 710.550000,\\n      \"word\" : \"on\"\\n    }, {\\n      \"conf\" : 1.000000,\\n      \"end\" : 711.660000,\\n      \"start\" : 710.760000,\\n      \"word\" : \"inflation\"\\n    }, {\\n      \"conf\" : 1.000000,\\n      \"end\" : 712.020000,\\n      \"start\" : 711.750000,\\n      \"word\" : \"and\"\\n    }, {\\n      \"conf\" : 1.000000,\\n      \"end\" : 712.710000,\\n      \"start\" : 712.020000,\\n      \"word\" : \"wages\"\\n    }, {\\n      \"conf\" : 1.000000,\\n      \"end\" : 712.890000,\\n      \"start\" : 712.710000,\\n      \"word\" : \"this\"\\n    }, {\\n      \"conf\" : 1.000000,\\n      \"end\" : 713.190000,\\n      \"start\" : 712.890000,\\n      \"word\" : \"time\"\\n    }, {\\n      \"conf\" : 1.000000,\\n      \"end\" : 713.970000,\\n      \"start\" : 713.850000,\\n      \"word\" : \"the\"\\n    }, {\\n      \"conf\" : 1.000000,\\n      \"end\" : 714.270000,\\n      \"start\" : 713.970000,\\n      \"word\" : \"national\"\\n    }, {\\n      \"conf\" : 1.000000,\\n      \"end\" : 714.930000,\\n      \"start\" : 714.270000,\\n      \"word\" : \"association\"\\n    }, {\\n      \"conf\" : 1.000000,\\n      \"end\" : 715.110000,\\n      \"start\" : 714.930000,\\n      \"word\" : \"for\"\\n    }, {\\n      \"conf\" : 1.000000,\\n      \"end\" : 715.650000,\\n      \"start\" : 715.110000,\\n      \"word\" : \"business\"\\n    }, {\\n      \"conf\" : 1.000000,\\n      \"end\" : 716.370000,\\n      \"start\" : 715.650000,\\n      \"word\" : \"economics\"\\n    }, {\\n      \"conf\" : 1.000000,\\n      \"end\" : 716.640000,\\n      \"start\" : 716.400000,\\n      \"word\" : \"is\"\\n    }, {\\n      \"conf\" : 1.000000,\\n      \"end\" : 716.790527,\\n      \"start\" : 716.640000,\\n      \"word\" : \"out\"\\n    }, {\\n      \"conf\" : 0.953371,\\n      \"end\" : 716.880000,\\n      \"start\" : 716.790527,\\n      \"word\" : \"with\"\\n    }, {\\n      \"conf\" : 0.953371,\\n      \"end\" : 716.940000,\\n      \"start\" : 716.880000,\\n      \"word\" : \"a\"\\n    }, {\\n      \"conf\" : 1.000000,\\n      \"end\" : 717.060000,\\n      \"start\" : 716.940000,\\n      \"word\" : \"new\"\\n    }, {\\n      \"conf\" : 1.000000,\\n      \"end\" : 717.510000,\\n      \"start\" : 717.060000,\\n      \"word\" : \"survey\"\\n    }, {\\n      \"conf\" : 1.000000,\\n      \"end\" : 717.630000,\\n      \"start\" : 717.510000,\\n      \"word\" : \"of\"\\n    }, {\\n      \"conf\" : 1.000000,\\n      \"end\" : 718.200000,\\n      \"start\" : 717.630000,\\n      \"word\" : \"economists\"\\n    }, {\\n      \"conf\" : 1.000000,\\n      \"end\" : 718.380000,\\n      \"start\" : 718.200000,\\n      \"word\" : \"to\"\\n    }, {\\n      \"conf\" : 1.000000,\\n      \"end\" : 718.620000,\\n      \"start\" : 718.380000,\\n      \"word\" : \"work\"\\n    }, {\\n      \"conf\" : 1.000000,\\n      \"end\" : 718.740000,\\n      \"start\" : 718.620000,\\n      \"word\" : \"at\"\\n    }, {\\n      \"conf\" : 1.000000,\\n      \"end\" : 718.980000,\\n      \"start\" : 718.740000,\\n      \"word\" : \"big\"\\n    }, {\\n      \"conf\" : 1.000000,\\n      \"end\" : 719.400000,\\n      \"start\" : 718.980000,\\n      \"word\" : \"companies\"\\n    }, {\\n      \"conf\" : 1.000000,\\n      \"end\" : 719.550000,\\n      \"start\" : 719.400000,\\n      \"word\" : \"and\"\\n    }, {\\n      \"conf\" : 1.000000,\\n      \"end\" : 719.790000,\\n      \"start\" : 719.550000,\\n      \"word\" : \"those\"\\n    }, {\\n      \"conf\" : 1.000000,\\n      \"end\" : 720.450000,\\n      \"start\" : 719.790000,\\n      \"word\" : \"economists\"\\n    }, {\\n      \"conf\" : 1.000000,\\n      \"end\" : 720.870000,\\n      \"start\" : 720.690000,\\n      \"word\" : \"a\"\\n    }, {\\n      \"conf\" : 1.000000,\\n      \"end\" : 721.380000,\\n      \"start\" : 720.870000,\\n      \"word\" : \"record\"\\n    }, {\\n      \"conf\" : 1.000000,\\n      \"end\" : 721.740000,\\n      \"start\" : 721.410000,\\n      \"word\" : \"number\"\\n    }, {\\n      \"conf\" : 1.000000,\\n      \"end\" : 721.860000,\\n      \"start\" : 721.740000,\\n      \"word\" : \"of\"\\n    }, {\\n      \"conf\" : 1.000000,\\n      \"end\" : 721.980000,\\n      \"start\" : 721.860000,\\n      \"word\" : \"them\"\\n    }, {\\n      \"conf\" : 1.000000,\\n      \"end\" : 722.640000,\\n      \"start\" : 722.370000,\\n      \"word\" : \"say\"\\n    }, {\\n      \"conf\" : 1.000000,\\n      \"end\" : 722.760000,\\n      \"start\" : 722.640000,\\n      \"word\" : \"their\"\\n    }, {\\n      \"conf\" : 1.000000,\\n      \"end\" : 723.480000,\\n      \"start\" : 722.760000,\\n      \"word\" : \"businesses\"\\n    }, {\\n      \"conf\" : 1.000000,\\n      \"end\" : 723.690000,\\n      \"start\" : 723.510000,\\n      \"word\" : \"have\"\\n    }, {\\n      \"conf\" : 1.000000,\\n      \"end\" : 723.780000,\\n      \"start\" : 723.690000,\\n      \"word\" : \"been\"\\n    }, {\\n      \"conf\" : 1.000000,\\n      \"end\" : 724.020000,\\n      \"start\" : 723.780000,\\n      \"word\" : \"book\"\\n    }, {\\n      \"conf\" : 1.000000,\\n      \"end\" : 724.140000,\\n      \"start\" : 724.020000,\\n      \"word\" : \"and\"\\n    }, {\\n      \"conf\" : 1.000000,\\n      \"end\" : 724.530000,\\n      \"start\" : 724.140000,\\n      \"word\" : \"pay\"\\n    }, {\\n      \"conf\" : 1.000000,\\n      \"end\" : 725.220000,\\n      \"start\" : 724.530000,\\n      \"word\" : \"increases\"\\n    }, {\\n      \"conf\" : 1.000000,\\n      \"end\" : 725.430000,\\n      \"start\" : 725.220000,\\n      \"word\" : \"of\"\\n    }, {\\n      \"conf\" : 1.000000,\\n      \"end\" : 725.820000,\\n      \"start\" : 725.430000,\\n      \"word\" : \"late\"\\n    }, {\\n      \"conf\" : 1.000000,\\n      \"end\" : 728.340000,\\n      \"start\" : 727.020000,\\n      \"word\" : \"yeah\"\\n    }, {\\n      \"conf\" : 1.000000,\\n      \"end\" : 729.390000,\\n      \"start\" : 728.430000,\\n      \"word\" : \"but\"\\n    }, {\\n      \"conf\" : 1.000000,\\n      \"end\" : 729.750000,\\n      \"start\" : 729.510000,\\n      \"word\" : \"here\\'s\"\\n    }, {\\n      \"conf\" : 1.000000,\\n      \"end\" : 730.290000,\\n      \"start\" : 729.750000,\\n      \"word\" : \"marketplace\\'s\"\\n    }, {\\n      \"conf\" : 1.000000,\\n      \"end\" : 730.560000,\\n      \"start\" : 730.290000,\\n      \"word\" : \"nancy\"\\n    }, {\\n      \"conf\" : 1.000000,\\n      \"end\" : 730.830000,\\n      \"start\" : 730.560000,\\n      \"word\" : \"marshall\"\\n    }, {\\n      \"conf\" : 1.000000,\\n      \"end\" : 731.220000,\\n      \"start\" : 730.830000,\\n      \"word\" : \"cancer\"\\n    }, {\\n      \"conf\" : 1.000000,\\n      \"end\" : 731.910000,\\n      \"start\" : 731.760000,\\n      \"word\" : \"in\"\\n    }, {\\n      \"conf\" : 1.000000,\\n      \"end\" : 732.300000,\\n      \"start\" : 731.910000,\\n      \"word\" : \"leicester\"\\n    }, {\\n      \"conf\" : 1.000000,\\n      \"end\" : 732.900000,\\n      \"start\" : 732.300000,\\n      \"word\" : \"jones\\'s\"\\n    }, {\\n      \"conf\" : 1.000000,\\n      \"end\" : 733.290000,\\n      \"start\" : 732.900000,\\n      \"word\" : \"world\"\\n    }, {\\n      \"conf\" : 1.000000,\\n      \"end\" : 733.740000,\\n      \"start\" : 733.530000,\\n      \"word\" : \"you\"\\n    }, {\\n      \"conf\" : 1.000000,\\n      \"end\" : 733.980000,\\n      \"start\" : 733.740000,\\n      \"word\" : \"need\"\\n    }, {\\n      \"conf\" : 1.000000,\\n      \"end\" : 734.520000,\\n      \"start\" : 733.980000,\\n      \"word\" : \"muscle\"\\n    }, {\\n      \"conf\" : 1.000000,\\n      \"end\" : 735.330000,\\n      \"start\" : 734.850000,\\n      \"word\" : \"we\"\\n    }, {\\n      \"conf\" : 1.000000,\\n      \"end\" : 735.990000,\\n      \"start\" : 735.330000,\\n      \"word\" : \"rely\"\\n    }, {\\n      \"conf\" : 1.000000,\\n      \"end\" : 736.440000,\\n      \"start\" : 735.990000,\\n      \"word\" : \"on\"\\n    }, {\\n      \"conf\" : 1.000000,\\n      \"end\" : 736.590000,\\n      \"start\" : 736.500000,\\n      \"word\" : \"a\"\\n    }, {\\n      \"conf\" : 1.000000,\\n      \"end\" : 737.040000,\\n      \"start\" : 736.590000,\\n      \"word\" : \"lot\"\\n    }, {\\n      \"conf\" : 1.000000,\\n      \"end\" : 737.280000,\\n      \"start\" : 737.040000,\\n      \"word\" : \"of\"\\n    }, {\\n      \"conf\" : 1.000000,\\n      \"end\" : 738.390000,\\n      \"start\" : 738.000000,\\n      \"word\" : \"manual\"\\n    }, {\\n      \"conf\" : 1.000000,\\n      \"end\" : 738.750000,\\n      \"start\" : 738.390000,\\n      \"word\" : \"labor\"\\n    }, {\\n      \"conf\" : 1.000000,\\n      \"end\" : 739.560000,\\n      \"start\" : 739.140000,\\n      \"word\" : \"jones\"\\n    }, {\\n      \"conf\" : 1.000000,\\n      \"end\" : 739.740000,\\n      \"start\" : 739.560000,\\n      \"word\" : \"is\"\\n    }, {\\n      \"conf\" : 1.000000,\\n      \"end\" : 739.980000,\\n      \"start\" : 739.740000,\\n      \"word\" : \"chief\"\\n    }, {\\n      \"conf\" : 1.000000,\\n      \"end\" : 740.640000,\\n      \"start\" : 739.980000,\\n      \"word\" : \"economist\"\\n    }, {\\n      \"conf\" : 1.000000,\\n      \"end\" : 740.730000,\\n      \"start\" : 740.640000,\\n      \"word\" : \"at\"\\n    }, {\\n      \"conf\" : 1.000000,\\n      \"end\" : 740.820000,\\n      \"start\" : 740.730000,\\n      \"word\" : \"the\"\\n    }, {\\n      \"conf\" : 1.000000,\\n      \"end\" : 741.390000,\\n      \"start\" : 740.820000,\\n      \"word\" : \"national\"\\n    }, {\\n      \"conf\" : 1.000000,\\n      \"end\" : 741.780000,\\n      \"start\" : 741.420000,\\n      \"word\" : \"beer\"\\n    }, {\\n      \"conf\" : 1.000000,\\n      \"end\" : 742.470000,\\n      \"start\" : 741.780000,\\n      \"word\" : \"wholesalers\"\\n    }, {\\n      \"conf\" : 1.000000,\\n      \"end\" : 743.250000,\\n      \"start\" : 742.470000,\\n      \"word\" : \"association\"\\n    }, {\\n      \"conf\" : 1.000000,\\n      \"end\" : 744.030000,\\n      \"start\" : 743.580000,\\n      \"word\" : \"we\"\\n    }, {\\n      \"conf\" : 1.000000,\\n      \"end\" : 744.450000,\\n      \"start\" : 744.090000,\\n      \"word\" : \"move\"\\n    }, {\\n      \"conf\" : 1.000000,\\n      \"end\" : 745.050000,\\n      \"start\" : 744.600000,\\n      \"word\" : \"cases\"\\n    }, {\\n      \"conf\" : 1.000000,\\n      \"end\" : 745.320000,\\n      \"start\" : 745.050000,\\n      \"word\" : \"of\"\\n    }, {\\n      \"conf\" : 1.000000,\\n      \"end\" : 745.950000,\\n      \"start\" : 745.320000,\\n      \"word\" : \"beverages\"\\n    }, {\\n      \"conf\" : 1.000000,\\n      \"end\" : 746.400000,\\n      \"start\" : 745.950000,\\n      \"word\" : \"throughout\"\\n    }, {\\n      \"conf\" : 1.000000,\\n      \"end\" : 746.520000,\\n      \"start\" : 746.400000,\\n      \"word\" : \"the\"\\n    }, {\\n      \"conf\" : 1.000000,\\n      \"end\" : 747.150000,\\n      \"start\" : 746.520000,\\n      \"word\" : \"economy\"\\n    }, {\\n      \"conf\" : 0.803231,\\n      \"end\" : 747.390000,\\n      \"start\" : 747.150000,\\n      \"word\" : \"they\\'re\"\\n    }, {\\n      \"conf\" : 1.000000,\\n      \"end\" : 747.810000,\\n      \"start\" : 747.390000,\\n      \"word\" : \"heavy\"\\n    }, {\\n      \"conf\" : 1.000000,\\n      \"end\" : 748.650000,\\n      \"start\" : 748.350000,\\n      \"word\" : \"junk\"\\n    }, {\\n      \"conf\" : 1.000000,\\n      \"end\" : 748.920000,\\n      \"start\" : 748.650000,\\n      \"word\" : \"says\"\\n    }, {\\n      \"conf\" : 1.000000,\\n      \"end\" : 749.160000,\\n      \"start\" : 748.920000,\\n      \"word\" : \"some\"\\n    }, {\\n      \"conf\" : 1.000000,\\n      \"end\" : 749.850000,\\n      \"start\" : 749.160000,\\n      \"word\" : \"distributors\"\\n    }, {\\n      \"conf\" : 1.000000,\\n      \"end\" : 749.970000,\\n      \"start\" : 749.850000,\\n      \"word\" : \"are\"\\n    }, {\\n      \"conf\" : 1.000000,\\n      \"end\" : 750.570000,\\n      \"start\" : 749.970000,\\n      \"word\" : \"competing\"\\n    }, {\\n      \"conf\" : 1.000000,\\n      \"end\" : 751.140000,\\n      \"start\" : 750.570000,\\n      \"word\" : \"fiercely\"\\n    }, {\\n      \"conf\" : 1.000000,\\n      \"end\" : 751.350000,\\n      \"start\" : 751.140000,\\n      \"word\" : \"for\"\\n    }, {\\n      \"conf\" : 1.000000,\\n      \"end\" : 751.890000,\\n      \"start\" : 751.350000,\\n      \"word\" : \"workers\"\\n    }, {\\n      \"conf\" : 1.000000,\\n      \"end\" : 752.250000,\\n      \"start\" : 752.130000,\\n      \"word\" : \"and\"\\n    }, {\\n      \"conf\" : 1.000000,\\n      \"end\" : 752.370000,\\n      \"start\" : 752.250000,\\n      \"word\" : \"it\\'s\"\\n    }, {\\n      \"conf\" : 1.000000,\\n      \"end\" : 752.610000,\\n      \"start\" : 752.370000,\\n      \"word\" : \"like\"\\n    }, {\\n      \"conf\" : 1.000000,\\n      \"end\" : 752.790000,\\n      \"start\" : 752.610000,\\n      \"word\" : \"that\"\\n    }, {\\n      \"conf\" : 1.000000,\\n      \"end\" : 753.030000,\\n      \"start\" : 752.790000,\\n      \"word\" : \"all\"\\n    }, {\\n      \"conf\" : 1.000000,\\n      \"end\" : 753.390000,\\n      \"start\" : 753.030000,\\n      \"word\" : \"over\"\\n    }, {\\n      \"conf\" : 1.000000,\\n      \"end\" : 754.140000,\\n      \"start\" : 753.600000,\\n      \"word\" : \"seventy\"\\n    }, {\\n      \"conf\" : 1.000000,\\n      \"end\" : 754.590000,\\n      \"start\" : 754.140000,\\n      \"word\" : \"percent\"\\n    }, {\\n      \"conf\" : 1.000000,\\n      \"end\" : 754.650000,\\n      \"start\" : 754.590000,\\n      \"word\" : \"of\"\\n    }, {\\n      \"conf\" : 1.000000,\\n      \"end\" : 754.770000,\\n      \"start\" : 754.650000,\\n      \"word\" : \"the\"\\n    }, {\\n      \"conf\" : 1.000000,\\n      \"end\" : 755.310000,\\n      \"start\" : 754.770000,\\n      \"word\" : \"economists\"\\n    }, {\\n      \"conf\" : 1.000000,\\n      \"end\" : 755.790000,\\n      \"start\" : 755.310000,\\n      \"word\" : \"surveyed\"\\n    }, {\\n      \"conf\" : 1.000000,\\n      \"end\" : 756.060000,\\n      \"start\" : 755.790000,\\n      \"word\" : \"said\"\\n    }, {\\n      \"conf\" : 1.000000,\\n      \"end\" : 756.540000,\\n      \"start\" : 756.060000,\\n      \"word\" : \"wages\"\\n    }, {\\n      \"conf\" : 1.000000,\\n      \"end\" : 756.930000,\\n      \"start\" : 756.540000,\\n      \"word\" : \"rose\"\\n    }, {\\n      \"conf\" : 1.000000,\\n      \"end\" : 757.050000,\\n      \"start\" : 756.930000,\\n      \"word\" : \"at\"\\n    }, {\\n      \"conf\" : 1.000000,\\n      \"end\" : 757.170000,\\n      \"start\" : 757.050000,\\n      \"word\" : \"their\"\\n    }, {\\n      \"conf\" : 1.000000,\\n      \"end\" : 757.710000,\\n      \"start\" : 757.170000,\\n      \"word\" : \"companies\"\\n    }, {\\n      \"conf\" : 1.000000,\\n      \"end\" : 758.100000,\\n      \"start\" : 757.890000,\\n      \"word\" : \"that\\'s\"\\n    }, {\\n      \"conf\" : 1.000000,\\n      \"end\" : 758.220000,\\n      \"start\" : 758.100000,\\n      \"word\" : \"the\"\\n    }, {\\n      \"conf\" : 1.000000,\\n      \"end\" : 758.670000,\\n      \"start\" : 758.220000,\\n      \"word\" : \"highest\"\\n    }, {\\n      \"conf\" : 1.000000,\\n      \"end\" : 759.000000,\\n      \"start\" : 758.670000,\\n      \"word\" : \"number\"\\n    }, {\\n      \"conf\" : 1.000000,\\n      \"end\" : 759.120000,\\n      \"start\" : 759.000000,\\n      \"word\" : \"in\"\\n    }, {\\n      \"conf\" : 1.000000,\\n      \"end\" : 759.210000,\\n      \"start\" : 759.120000,\\n      \"word\" : \"the\"\\n    }, {\\n      \"conf\" : 1.000000,\\n      \"end\" : 759.720000,\\n      \"start\" : 759.210000,\\n      \"word\" : \"surveys\"\\n    }, {\\n      \"conf\" : 1.000000,\\n      \"end\" : 760.230000,\\n      \"start\" : 759.780000,\\n      \"word\" : \"forty\"\\n    }, {\\n      \"conf\" : 1.000000,\\n      \"end\" : 760.500000,\\n      \"start\" : 760.230000,\\n      \"word\" : \"year\"\\n    }, {\\n      \"conf\" : 1.000000,\\n      \"end\" : 761.100000,\\n      \"start\" : 760.500000,\\n      \"word\" : \"history\"\\n    }, {\\n      \"conf\" : 1.000000,\\n      \"end\" : 761.640000,\\n      \"start\" : 761.250000,\\n      \"word\" : \"but\"\\n    }, {\\n      \"conf\" : 1.000000,\\n      \"end\" : 762.120000,\\n      \"start\" : 762.000000,\\n      \"word\" : \"for\"\\n    }, {\\n      \"conf\" : 1.000000,\\n      \"end\" : 762.240000,\\n      \"start\" : 762.120000,\\n      \"word\" : \"the\"\\n    }, {\\n      \"conf\" : 1.000000,\\n      \"end\" : 762.450000,\\n      \"start\" : 762.240000,\\n      \"word\" : \"most\"\\n    }, {\\n      \"conf\" : 1.000000,\\n      \"end\" : 762.780000,\\n      \"start\" : 762.450000,\\n      \"word\" : \"part\"\\n    }, {\\n      \"conf\" : 1.000000,\\n      \"end\" : 763.380000,\\n      \"start\" : 762.840000,\\n      \"word\" : \"employers\"\\n    }, {\\n      \"conf\" : 1.000000,\\n      \"end\" : 763.710000,\\n      \"start\" : 763.380000,\\n      \"word\" : \"aren\\'t\"\\n    }, {\\n      \"conf\" : 1.000000,\\n      \"end\" : 764.250000,\\n      \"start\" : 763.710000,\\n      \"word\" : \"boosting\"\\n    }, {\\n      \"conf\" : 0.995377,\\n      \"end\" : 764.700000,\\n      \"start\" : 764.250000,\\n      \"word\" : \"wages\"\\n    }, {\\n      \"conf\" : 1.000000,\\n      \"end\" : 765.000000,\\n      \"start\" : 764.700000,\\n      \"word\" : \"enough\"\\n    }, {\\n      \"conf\" : 1.000000,\\n      \"end\" : 765.210000,\\n      \"start\" : 765.000000,\\n      \"word\" : \"to\"\\n    }, {\\n      \"conf\" : 1.000000,\\n      \"end\" : 765.600000,\\n      \"start\" : 765.300000,\\n      \"word\" : \"keep\"\\n    }, {\\n      \"conf\" : 1.000000,\\n      \"end\" : 765.750000,\\n      \"start\" : 765.600000,\\n      \"word\" : \"up\"\\n    }, {\\n      \"conf\" : 1.000000,\\n      \"end\" : 765.900000,\\n      \"start\" : 765.750000,\\n      \"word\" : \"with\"\\n    }, {\\n      \"conf\" : 1.000000,\\n      \"end\" : 766.350000,\\n      \"start\" : 765.900000,\\n      \"word\" : \"soaring\"\\n    }, {\\n      \"conf\" : 1.000000,\\n      \"end\" : 766.920000,\\n      \"start\" : 766.350000,\\n      \"word\" : \"prices\"\\n    }, {\\n      \"conf\" : 1.000000,\\n      \"end\" : 767.700000,\\n      \"start\" : 767.280000,\\n      \"word\" : \"cornell\"\\n    }, {\\n      \"conf\" : 0.892075,\\n      \"end\" : 768.090000,\\n      \"start\" : 767.760000,\\n      \"word\" : \"labor\"\\n    }, {\\n      \"conf\" : 1.000000,\\n      \"end\" : 768.660000,\\n      \"start\" : 768.090000,\\n      \"word\" : \"economist\"\\n    }, {\\n      \"conf\" : 0.549924,\\n      \"end\" : 769.080000,\\n      \"start\" : 768.690000,\\n      \"word\" : \"erica\"\\n    }, {\\n      \"conf\" : 1.000000,\\n      \"end\" : 769.650000,\\n      \"start\" : 769.110000,\\n      \"word\" : \"grossman\"\\n    }, {\\n      \"conf\" : 1.000000,\\n      \"end\" : 769.890000,\\n      \"start\" : 769.650000,\\n      \"word\" : \"has\"\\n    }, {\\n      \"conf\" : 1.000000,\\n      \"end\" : 769.950000,\\n      \"start\" : 769.890000,\\n      \"word\" : \"a\"\\n    }, {\\n      \"conf\" : 1.000000,\\n      \"end\" : 770.370000,\\n      \"start\" : 769.950000,\\n      \"word\" : \"theory\"\\n    }, {\\n      \"conf\" : 1.000000,\\n      \"end\" : 770.550000,\\n      \"start\" : 770.370000,\\n      \"word\" : \"on\"\\n    }, {\\n      \"conf\" : 1.000000,\\n      \"end\" : 770.790000,\\n      \"start\" : 770.550000,\\n      \"word\" : \"that\"\\n    }, {\\n      \"conf\" : 1.000000,\\n      \"end\" : 771.420000,\\n      \"start\" : 771.270000,\\n      \"word\" : \"they\"\\n    }, {\\n      \"conf\" : 1.000000,\\n      \"end\" : 771.660000,\\n      \"start\" : 771.420000,\\n      \"word\" : \"don\\'t\"\\n    }, {\\n      \"conf\" : 1.000000,\\n      \"end\" : 771.810000,\\n      \"start\" : 771.660000,\\n      \"word\" : \"want\"\\n    }, {\\n      \"conf\" : 1.000000,\\n      \"end\" : 771.870000,\\n      \"start\" : 771.810000,\\n      \"word\" : \"to\"\\n    }, {\\n      \"conf\" : 1.000000,\\n      \"end\" : 772.050000,\\n      \"start\" : 771.870000,\\n      \"word\" : \"get\"\\n    }, {\\n      \"conf\" : 1.000000,\\n      \"end\" : 772.260000,\\n      \"start\" : 772.050000,\\n      \"word\" : \"too\"\\n    }, {\\n      \"conf\" : 1.000000,\\n      \"end\" : 772.560000,\\n      \"start\" : 772.260000,\\n      \"word\" : \"far\"\\n    }, {\\n      \"conf\" : 1.000000,\\n      \"end\" : 772.860000,\\n      \"start\" : 772.560000,\\n      \"word\" : \"ahead\"\\n    }, {\\n      \"conf\" : 1.000000,\\n      \"end\" : 772.980000,\\n      \"start\" : 772.860000,\\n      \"word\" : \"of\"\\n    }, {\\n      \"conf\" : 1.000000,\\n      \"end\" : 773.700000,\\n      \"start\" : 772.980000,\\n      \"word\" : \"inflation\"\\n    }, {\\n      \"conf\" : 1.000000,\\n      \"end\" : 774.540000,\\n      \"start\" : 774.090000,\\n      \"word\" : \"because\"\\n    }, {\\n      \"conf\" : 1.000000,\\n      \"end\" : 774.690000,\\n      \"start\" : 774.540000,\\n      \"word\" : \"it\\'s\"\\n    }, {\\n      \"conf\" : 1.000000,\\n      \"end\" : 774.870000,\\n      \"start\" : 774.690000,\\n      \"word\" : \"hard\"\\n    }, {\\n      \"conf\" : 1.000000,\\n      \"end\" : 774.990000,\\n      \"start\" : 774.870000,\\n      \"word\" : \"to\"\\n    }, {\\n      \"conf\" : 1.000000,\\n      \"end\" : 775.290000,\\n      \"start\" : 774.990000,\\n      \"word\" : \"dial\"\\n    }, {\\n      \"conf\" : 1.000000,\\n      \"end\" : 775.500000,\\n      \"start\" : 775.290000,\\n      \"word\" : \"that\"\\n    }, {\\n      \"conf\" : 1.000000,\\n      \"end\" : 775.950000,\\n      \"start\" : 775.500000,\\n      \"word\" : \"back\"\\n    }, {\\n      \"conf\" : 1.000000,\\n      \"end\" : 776.850000,\\n      \"start\" : 776.490000,\\n      \"word\" : \"some\"\\n    }, {\\n      \"conf\" : 1.000000,\\n      \"end\" : 777.420000,\\n      \"start\" : 776.850000,\\n      \"word\" : \"economists\"\\n    }, {\\n      \"conf\" : 1.000000,\\n      \"end\" : 777.510000,\\n      \"start\" : 777.420000,\\n      \"word\" : \"in\"\\n    }, {\\n      \"conf\" : 1.000000,\\n      \"end\" : 777.630000,\\n      \"start\" : 777.510000,\\n      \"word\" : \"their\"\\n    }, {\\n      \"conf\" : 1.000000,\\n      \"end\" : 778.050000,\\n      \"start\" : 777.630000,\\n      \"word\" : \"survey\"\\n    }, {\\n      \"conf\" : 1.000000,\\n      \"end\" : 778.350000,\\n      \"start\" : 778.080000,\\n      \"word\" : \"don\\'t\"\\n    }, {\\n      \"conf\" : 1.000000,\\n      \"end\" : 778.680000,\\n      \"start\" : 778.350000,\\n      \"word\" : \"expect\"\\n    }, {\\n      \"conf\" : 1.000000,\\n      \"end\" : 778.800000,\\n      \"start\" : 778.680000,\\n      \"word\" : \"their\"\\n    }, {\\n      \"conf\" : 1.000000,\\n      \"end\" : 779.160000,\\n      \"start\" : 778.800000,\\n      \"word\" : \"firms\"\\n    }, {\\n      \"conf\" : 1.000000,\\n      \"end\" : 779.280000,\\n      \"start\" : 779.160000,\\n      \"word\" : \"to\"\\n    }, {\\n      \"conf\" : 1.000000,\\n      \"end\" : 779.460000,\\n      \"start\" : 779.280000,\\n      \"word\" : \"pay\"\\n    }, {\\n      \"conf\" : 1.000000,\\n      \"end\" : 779.910000,\\n      \"start\" : 779.460000,\\n      \"word\" : \"workers\"\\n    }, {\\n      \"conf\" : 1.000000,\\n      \"end\" : 780.210000,\\n      \"start\" : 779.910000,\\n      \"word\" : \"more\"\\n    }, {\\n      \"conf\" : 1.000000,\\n      \"end\" : 780.420000,\\n      \"start\" : 780.210000,\\n      \"word\" : \"in\"\\n    }, {\\n      \"conf\" : 1.000000,\\n      \"end\" : 780.510000,\\n      \"start\" : 780.420000,\\n      \"word\" : \"the\"\\n    }, {\\n      \"conf\" : 1.000000,\\n      \"end\" : 781.170000,\\n      \"start\" : 780.510000,\\n      \"word\" : \"future\"\\n    }, {\\n      \"conf\" : 1.000000,\\n      \"end\" : 781.620000,\\n      \"start\" : 781.260000,\\n      \"word\" : \"say\"\\n    }, {\\n      \"conf\" : 1.000000,\\n      \"end\" : 781.860000,\\n      \"start\" : 781.620000,\\n      \"word\" : \"over\"\\n    }, {\\n      \"conf\" : 1.000000,\\n      \"end\" : 781.980000,\\n      \"start\" : 781.860000,\\n      \"word\" : \"the\"\\n    }, {\\n      \"conf\" : 1.000000,\\n      \"end\" : 782.250000,\\n      \"start\" : 781.980000,\\n      \"word\" : \"next\"\\n    }, {\\n      \"conf\" : 1.000000,\\n      \"end\" : 782.400000,\\n      \"start\" : 782.250000,\\n      \"word\" : \"three\"\\n    }],\\n  \"text\" : \"turns out fifty four dollars and twenty cents was not a joke from american public media this is marketplace the in los angeles ca resident monday today i do believe the twenty fifth of april good as always to have you along everybody all right just for fun i am going to see if i can do this in two hundred and eighty characters which is of course twitter\\'s limit starting right now after making a not very veiled marijuana reference in offering fifty four dollars twenty cents a share to buy twitter elon musk has sealed the deal as of today lauren hirsch has been covering the story for the new york times thanks for coming on thanks for having me setting aside all marijuana jokes that many people made with this price that musk offered and clearly he was serious and now this has happened in an unbelievably fast timeline right and we will be fast i tell you i was at a shower yesterday communicating with us to where it\\'s kind of casually checking in at my source code i think there could be detailed in my out and i got what how is that even possible and you know i don\\'t think most people never thought a deal would have happened and even if people thought they weren\\'t it\\'d be a deal i don\\'t think anyone thought it could have possibly happened this quickly he gets all the money together they have these board meetings over the weekend and then today it\\'s a done deal let me ask you this though and and this may be a longer answer than we have time for in the program today why does elon musk want to buy twitter i can tell you what he has said which is he is he would call himself an advocate for free speech and he doesn\\'t like the way that twitter has managed content on it\\'s platform and he wants to change that he\\'s spoken in statement today about i kind of keep centralizing it\\'s contents with effectively allowing users to personalize that content that they see on the app but i\\'ll tell you a lot of people really don\\'t know that is what he said but it feels like there might be something deeper here you know to spend forty billion dollars largely on money right i notice you didn\\'t say he wants to make money he wants to run it as a better business and show the the the the logical extension of that is here you have an american oligarch buying a global communications platform and work at just going to have to see what happens we\\'re just gonna have to see what happens i don\\'t think we have really ever seen anything like this you know obviously that fans have thought otherwise in both but that was very different he said he would not get involved at all editorially and elon musk has said in editorial concerning because his desire in buying it for now that we don\\'t really know what the end goal is here and he said on his ted talk the day you are bound to be announced in bed that profit is not a motive so it\\'ll be interesting to see how this turns out it will indeed to the to the nuts and bolts of this negotiation and he comes in and says i want to buy twitter and here\\'s my price final offer the board says i dunno there\\'s talk about a poison pill the board\\'s clearly not excited and then presto chango the board says yes did they just give up and say you know what we don\\'t have a better way to run this thing you do it the big presto changer with han putting together financing many people thought he would never be able to do it but on wednesday on thursday he made public that he had actually call it together i think more than the actual offer ended up being so that changed the game for the board all of a sudden they had to take the offer seriously and the pressure was mounting shareholders recalling and at a certain point you have to listen to your shareholders and they seem to be indicating they wanted to go with elon feel so last thing and then i\\'ll let you go because i know you\\'ve got reporting to do on your on twitter i\\'m on twitter lots of people we both know are on twitter journalists and many others but the overwhelming majority of the american public isn\\'t why do we care about this that\\'s an excellent question i think it goes to what we were discussing earlier you know the power of well certainly in our country to effectively get pretty much anything you want i don\\'t think anyone thought that twitter western sites but the fact that he\\'s the richest person in the country makes vs yes the richest person in the world makes it fell in all of that you know as a journalist you kind of have this very idealistic view of communications and media and how it should be ryan and this really has taken the rug out from under that because this is a man with a clear view and he\\'s going to run it with a clear view and i think we all need to rethink that ramifications on communication in the country lauren hirsch covers business and most recently the twitter store in atlanta most of the new york times lauren thanks a lot i appreciate your time thanks for having me that introduction by the way two hundred and forty five characters nailed it twitter shares on this monday up almost six percent still though a couple of bucks shy of must offer of one hundred and fifty four dollars twenty cents a piece elsewhere the major indices were up we\\'ll have the details when we do the numbers or mark your calendars for friday everybody that\\'s when the latest inflation numbers are going to be out we told you about the march consumer price index couple of weeks ago up eight and a half percent year on year as you\\'re surely know by now this friday we get p c e that\\'s personal consumption expenditures which the federal reserve really likes but as we all know everybody is watching inflation right now there are though some nuances in the way that people experience inflation that the official metrics just don\\'t capture so i think maybe it could be helpful to like tell a story to sort of emphasize sort of one of the reasons that i decided to study this topic and i thought it was interesting i\\'m sorry you are yeah but it\\'s jacob orchard so i\\'m a phd candidate at u c san diego and actually just finishing up my phd and so then after that i\\'ll be doctor orchard but until then i\\'m still a student alright well then future doctor orchard please go on in twenty eleven bill dudley who was the president of the new york fed at the time he was doing an outreach speech to a blue collar community in new york another the reason for the speeches people were concerned about cost of living just like they are today but unlike today the actual official measurer of inflation wasn\\'t that high back then some prices food and energy of course were going up a lot other prices not really so much the cp i the consumer price index was up two point seven percent year over year when bill dudley gave that speech eight and a half percent day as we all know and as an example of why the fed wasn\\'t super concerned about inflation give an example of you know if you look at the ipad two which had just come out it\\'s the same price as the ipad one is better introductory cost of an ipad one four hundred and ninety nine dollars introductory cost of an ipad two a year later four hundred and ninety nine dollars you know some prices are going down and then someone from the audience shouted we can\\'t eat an ipad fact check true and i think it just goes to show that you know maybe the prices of some things aren\\'t that important for some people so the actual topic of my dissertation is how the price index for low income and high income households can systematically differ over the course of the business cycle in other words where you are on the income spectrum determines your personal inflation rate right now from march twenty twenty two so this last report that we got compared to march twenty twenty one the inflation rate for low income households was running at about nine percent are from high income households is much closer to the average inflation rate at eight and a half percent in other words inflation is high for everybody but there is a gap and if you step back for a second and think big picture i kind of make sense the two biggest sources of inflation are energy prices and food that stephanie said nino professor of economics at the university of vermont and for low income families they comprise a much larger portion of the budget so poor families undoubtedly are hit hard and there is another piece of this we gotta talk about inflation and jobs the overall inflation rate is at a forty year high the overall unemployment rate three point six per cent darn near fifty year lows but there is a huge caveat there latino unemployment rate four point two percent in march the black unemployment rate six point two percent i want to be clear that when you ask people in a survey do they care more about unemployment or inflation they say unemployment they would rather live with some inflation and have a job that have low inflation and no job here\\'s the thing though you can raise interest rates to fight inflation which the fed does that slows the economy and that usually increases unemployment we call it the sacrifice ratio and the sacrifice is disproportionately paid for by people of color that is african americans and hispanics are disproportionately likely to lose their jobs and your job which you can read as your wages right that affects what you buy which gets reflected in those inflation numbers the overall cp i is meant to capture the spending patterns of a typical household but really nobody\\'s the typical household and that gets us to this last point how we measure inflation in this economy then you\\'ll sickle is a professor at wellesley also though he\\'s the chair of a national academy of sciences committee that is studying ways to modernize the consumer price index make it better right and more useful the bls does publish a couple of versions of the cp i already but there\\'s plenty of room for improvement like they could do what jacob orchard and other researchers remember jacob orchard the almost doctor up from the top could do what they do using data on spending patterns to desegregate the sepia a step further than that would be to develop a data system where they really could link prices of particular items to the demographic characteristics of the people buying them that would be kind of like the holy grail which would be super useful in the meanwhile they\\'re waiting for the holy grail later on this week the fed\\'s favorite inflation metric pc we will tell you why that is the one that they like ooh one more quick thing on inflation and wages this time the national association for business economics is out with a new survey of economists to work at big companies and those economists a record number of them say their businesses have been book and pay increases of late yeah but here\\'s marketplace\\'s nancy marshall cancer in leicester jones\\'s world you need muscle we rely on a lot of manual labor jones is chief economist at the national beer wholesalers association we move cases of beverages throughout the economy they\\'re heavy junk says some distributors are competing fiercely for workers and it\\'s like that all over seventy percent of the economists surveyed said wages rose at their companies that\\'s the highest number in the surveys forty year history but for the most part employers aren\\'t boosting wages enough to keep up with soaring prices cornell labor economist erica grossman has a theory on that they don\\'t want to get too far ahead of inflation because it\\'s hard to dial that back some economists in their survey don\\'t expect their firms to pay workers more in the future say over the next three\"\\n}'"
            ],
            "application/vnd.google.colaboratory.intrinsic+json": {
              "type": "string"
            }
          },
          "metadata": {},
          "execution_count": 11
        }
      ]
    },
    {
      "cell_type": "code",
      "source": [
        "import json\n",
        "\n",
        "text = json.loads(result)[\"text\"]   # converts the transcript to readable text."
      ],
      "metadata": {
        "id": "UMFLd3rfesA8"
      },
      "execution_count": null,
      "outputs": []
    },
    {
      "cell_type": "code",
      "source": [
        "text"
      ],
      "metadata": {
        "colab": {
          "base_uri": "https://localhost:8080/",
          "height": 258
        },
        "id": "Vi5TjGcAeyxC",
        "outputId": "00f02b67-341e-4976-dcaf-0a53fc279220"
      },
      "execution_count": null,
      "outputs": [
        {
          "output_type": "execute_result",
          "data": {
            "text/plain": [
              "\"turns out fifty four dollars and twenty cents was not a joke from american public media this is marketplace the in los angeles ca resident monday today i do believe the twenty fifth of april good as always to have you along everybody all right just for fun i am going to see if i can do this in two hundred and eighty characters which is of course twitter's limit starting right now after making a not very veiled marijuana reference in offering fifty four dollars twenty cents a share to buy twitter elon musk has sealed the deal as of today lauren hirsch has been covering the story for the new york times thanks for coming on thanks for having me setting aside all marijuana jokes that many people made with this price that musk offered and clearly he was serious and now this has happened in an unbelievably fast timeline right and we will be fast i tell you i was at a shower yesterday communicating with us to where it's kind of casually checking in at my source code i think there could be detailed in my out and i got what how is that even possible and you know i don't think most people never thought a deal would have happened and even if people thought they weren't it'd be a deal i don't think anyone thought it could have possibly happened this quickly he gets all the money together they have these board meetings over the weekend and then today it's a done deal let me ask you this though and and this may be a longer answer than we have time for in the program today why does elon musk want to buy twitter i can tell you what he has said which is he is he would call himself an advocate for free speech and he doesn't like the way that twitter has managed content on it's platform and he wants to change that he's spoken in statement today about i kind of keep centralizing it's contents with effectively allowing users to personalize that content that they see on the app but i'll tell you a lot of people really don't know that is what he said but it feels like there might be something deeper here you know to spend forty billion dollars largely on money right i notice you didn't say he wants to make money he wants to run it as a better business and show the the the the logical extension of that is here you have an american oligarch buying a global communications platform and work at just going to have to see what happens we're just gonna have to see what happens i don't think we have really ever seen anything like this you know obviously that fans have thought otherwise in both but that was very different he said he would not get involved at all editorially and elon musk has said in editorial concerning because his desire in buying it for now that we don't really know what the end goal is here and he said on his ted talk the day you are bound to be announced in bed that profit is not a motive so it'll be interesting to see how this turns out it will indeed to the to the nuts and bolts of this negotiation and he comes in and says i want to buy twitter and here's my price final offer the board says i dunno there's talk about a poison pill the board's clearly not excited and then presto chango the board says yes did they just give up and say you know what we don't have a better way to run this thing you do it the big presto changer with han putting together financing many people thought he would never be able to do it but on wednesday on thursday he made public that he had actually call it together i think more than the actual offer ended up being so that changed the game for the board all of a sudden they had to take the offer seriously and the pressure was mounting shareholders recalling and at a certain point you have to listen to your shareholders and they seem to be indicating they wanted to go with elon feel so last thing and then i'll let you go because i know you've got reporting to do on your on twitter i'm on twitter lots of people we both know are on twitter journalists and many others but the overwhelming majority of the american public isn't why do we care about this that's an excellent question i think it goes to what we were discussing earlier you know the power of well certainly in our country to effectively get pretty much anything you want i don't think anyone thought that twitter western sites but the fact that he's the richest person in the country makes vs yes the richest person in the world makes it fell in all of that you know as a journalist you kind of have this very idealistic view of communications and media and how it should be ryan and this really has taken the rug out from under that because this is a man with a clear view and he's going to run it with a clear view and i think we all need to rethink that ramifications on communication in the country lauren hirsch covers business and most recently the twitter store in atlanta most of the new york times lauren thanks a lot i appreciate your time thanks for having me that introduction by the way two hundred and forty five characters nailed it twitter shares on this monday up almost six percent still though a couple of bucks shy of must offer of one hundred and fifty four dollars twenty cents a piece elsewhere the major indices were up we'll have the details when we do the numbers or mark your calendars for friday everybody that's when the latest inflation numbers are going to be out we told you about the march consumer price index couple of weeks ago up eight and a half percent year on year as you're surely know by now this friday we get p c e that's personal consumption expenditures which the federal reserve really likes but as we all know everybody is watching inflation right now there are though some nuances in the way that people experience inflation that the official metrics just don't capture so i think maybe it could be helpful to like tell a story to sort of emphasize sort of one of the reasons that i decided to study this topic and i thought it was interesting i'm sorry you are yeah but it's jacob orchard so i'm a phd candidate at u c san diego and actually just finishing up my phd and so then after that i'll be doctor orchard but until then i'm still a student alright well then future doctor orchard please go on in twenty eleven bill dudley who was the president of the new york fed at the time he was doing an outreach speech to a blue collar community in new york another the reason for the speeches people were concerned about cost of living just like they are today but unlike today the actual official measurer of inflation wasn't that high back then some prices food and energy of course were going up a lot other prices not really so much the cp i the consumer price index was up two point seven percent year over year when bill dudley gave that speech eight and a half percent day as we all know and as an example of why the fed wasn't super concerned about inflation give an example of you know if you look at the ipad two which had just come out it's the same price as the ipad one is better introductory cost of an ipad one four hundred and ninety nine dollars introductory cost of an ipad two a year later four hundred and ninety nine dollars you know some prices are going down and then someone from the audience shouted we can't eat an ipad fact check true and i think it just goes to show that you know maybe the prices of some things aren't that important for some people so the actual topic of my dissertation is how the price index for low income and high income households can systematically differ over the course of the business cycle in other words where you are on the income spectrum determines your personal inflation rate right now from march twenty twenty two so this last report that we got compared to march twenty twenty one the inflation rate for low income households was running at about nine percent are from high income households is much closer to the average inflation rate at eight and a half percent in other words inflation is high for everybody but there is a gap and if you step back for a second and think big picture i kind of make sense the two biggest sources of inflation are energy prices and food that stephanie said nino professor of economics at the university of vermont and for low income families they comprise a much larger portion of the budget so poor families undoubtedly are hit hard and there is another piece of this we gotta talk about inflation and jobs the overall inflation rate is at a forty year high the overall unemployment rate three point six per cent darn near fifty year lows but there is a huge caveat there latino unemployment rate four point two percent in march the black unemployment rate six point two percent i want to be clear that when you ask people in a survey do they care more about unemployment or inflation they say unemployment they would rather live with some inflation and have a job that have low inflation and no job here's the thing though you can raise interest rates to fight inflation which the fed does that slows the economy and that usually increases unemployment we call it the sacrifice ratio and the sacrifice is disproportionately paid for by people of color that is african americans and hispanics are disproportionately likely to lose their jobs and your job which you can read as your wages right that affects what you buy which gets reflected in those inflation numbers the overall cp i is meant to capture the spending patterns of a typical household but really nobody's the typical household and that gets us to this last point how we measure inflation in this economy then you'll sickle is a professor at wellesley also though he's the chair of a national academy of sciences committee that is studying ways to modernize the consumer price index make it better right and more useful the bls does publish a couple of versions of the cp i already but there's plenty of room for improvement like they could do what jacob orchard and other researchers remember jacob orchard the almost doctor up from the top could do what they do using data on spending patterns to desegregate the sepia a step further than that would be to develop a data system where they really could link prices of particular items to the demographic characteristics of the people buying them that would be kind of like the holy grail which would be super useful in the meanwhile they're waiting for the holy grail later on this week the fed's favorite inflation metric pc we will tell you why that is the one that they like ooh one more quick thing on inflation and wages this time the national association for business economics is out with a new survey of economists to work at big companies and those economists a record number of them say their businesses have been book and pay increases of late yeah but here's marketplace's nancy marshall cancer in leicester jones's world you need muscle we rely on a lot of manual labor jones is chief economist at the national beer wholesalers association we move cases of beverages throughout the economy they're heavy junk says some distributors are competing fiercely for workers and it's like that all over seventy percent of the economists surveyed said wages rose at their companies that's the highest number in the surveys forty year history but for the most part employers aren't boosting wages enough to keep up with soaring prices cornell labor economist erica grossman has a theory on that they don't want to get too far ahead of inflation because it's hard to dial that back some economists in their survey don't expect their firms to pay workers more in the future say over the next three\""
            ],
            "application/vnd.google.colaboratory.intrinsic+json": {
              "type": "string"
            }
          },
          "metadata": {},
          "execution_count": 13
        }
      ]
    },
    {
      "cell_type": "code",
      "source": [
        "pip install torch"
      ],
      "metadata": {
        "colab": {
          "base_uri": "https://localhost:8080/"
        },
        "id": "BbOtgB-We4x6",
        "outputId": "312a810d-38a7-45a9-e361-829d3a4ebba6"
      },
      "execution_count": null,
      "outputs": [
        {
          "output_type": "stream",
          "name": "stdout",
          "text": [
            "Looking in indexes: https://pypi.org/simple, https://us-python.pkg.dev/colab-wheels/public/simple/\n",
            "Requirement already satisfied: torch in /usr/local/lib/python3.7/dist-packages (1.11.0+cu113)\n",
            "Requirement already satisfied: typing-extensions in /usr/local/lib/python3.7/dist-packages (from torch) (4.2.0)\n"
          ]
        }
      ]
    },
    {
      "cell_type": "code",
      "source": [
        "pip install regex  # this package is not really necessary."
      ],
      "metadata": {
        "colab": {
          "base_uri": "https://localhost:8080/"
        },
        "id": "pRMl_pd9ha_H",
        "outputId": "291c8b76-bd56-4a34-b18e-36b1fc5966b3"
      },
      "execution_count": null,
      "outputs": [
        {
          "output_type": "stream",
          "name": "stdout",
          "text": [
            "Looking in indexes: https://pypi.org/simple, https://us-python.pkg.dev/colab-wheels/public/simple/\n",
            "Requirement already satisfied: regex in /usr/local/lib/python3.7/dist-packages (2022.6.2)\n"
          ]
        }
      ]
    },
    {
      "cell_type": "code",
      "source": [
        "pip install transformers"
      ],
      "metadata": {
        "colab": {
          "base_uri": "https://localhost:8080/"
        },
        "id": "PntZIi5_hrwf",
        "outputId": "8d0c4329-2fdd-4a2b-fe3b-7abfee14f6ab"
      },
      "execution_count": null,
      "outputs": [
        {
          "output_type": "stream",
          "name": "stdout",
          "text": [
            "Looking in indexes: https://pypi.org/simple, https://us-python.pkg.dev/colab-wheels/public/simple/\n",
            "Collecting transformers\n",
            "  Downloading transformers-4.19.4-py3-none-any.whl (4.2 MB)\n",
            "\u001b[K     |████████████████████████████████| 4.2 MB 5.4 MB/s \n",
            "\u001b[?25hRequirement already satisfied: tqdm>=4.27 in /usr/local/lib/python3.7/dist-packages (from transformers) (4.64.0)\n",
            "Requirement already satisfied: importlib-metadata in /usr/local/lib/python3.7/dist-packages (from transformers) (4.11.4)\n",
            "Requirement already satisfied: numpy>=1.17 in /usr/local/lib/python3.7/dist-packages (from transformers) (1.21.6)\n",
            "Collecting huggingface-hub<1.0,>=0.1.0\n",
            "  Downloading huggingface_hub-0.7.0-py3-none-any.whl (86 kB)\n",
            "\u001b[K     |████████████████████████████████| 86 kB 5.7 MB/s \n",
            "\u001b[?25hRequirement already satisfied: packaging>=20.0 in /usr/local/lib/python3.7/dist-packages (from transformers) (21.3)\n",
            "Collecting tokenizers!=0.11.3,<0.13,>=0.11.1\n",
            "  Downloading tokenizers-0.12.1-cp37-cp37m-manylinux_2_12_x86_64.manylinux2010_x86_64.whl (6.6 MB)\n",
            "\u001b[K     |████████████████████████████████| 6.6 MB 36.7 MB/s \n",
            "\u001b[?25hRequirement already satisfied: filelock in /usr/local/lib/python3.7/dist-packages (from transformers) (3.7.1)\n",
            "Requirement already satisfied: regex!=2019.12.17 in /usr/local/lib/python3.7/dist-packages (from transformers) (2022.6.2)\n",
            "Requirement already satisfied: requests in /usr/local/lib/python3.7/dist-packages (from transformers) (2.23.0)\n",
            "Collecting pyyaml>=5.1\n",
            "  Downloading PyYAML-6.0-cp37-cp37m-manylinux_2_5_x86_64.manylinux1_x86_64.manylinux_2_12_x86_64.manylinux2010_x86_64.whl (596 kB)\n",
            "\u001b[K     |████████████████████████████████| 596 kB 44.9 MB/s \n",
            "\u001b[?25hRequirement already satisfied: typing-extensions>=3.7.4.3 in /usr/local/lib/python3.7/dist-packages (from huggingface-hub<1.0,>=0.1.0->transformers) (4.2.0)\n",
            "Requirement already satisfied: pyparsing!=3.0.5,>=2.0.2 in /usr/local/lib/python3.7/dist-packages (from packaging>=20.0->transformers) (3.0.9)\n",
            "Requirement already satisfied: zipp>=0.5 in /usr/local/lib/python3.7/dist-packages (from importlib-metadata->transformers) (3.8.0)\n",
            "Requirement already satisfied: idna<3,>=2.5 in /usr/local/lib/python3.7/dist-packages (from requests->transformers) (2.10)\n",
            "Requirement already satisfied: urllib3!=1.25.0,!=1.25.1,<1.26,>=1.21.1 in /usr/local/lib/python3.7/dist-packages (from requests->transformers) (1.24.3)\n",
            "Requirement already satisfied: certifi>=2017.4.17 in /usr/local/lib/python3.7/dist-packages (from requests->transformers) (2022.5.18.1)\n",
            "Requirement already satisfied: chardet<4,>=3.0.2 in /usr/local/lib/python3.7/dist-packages (from requests->transformers) (3.0.4)\n",
            "Installing collected packages: pyyaml, tokenizers, huggingface-hub, transformers\n",
            "  Attempting uninstall: pyyaml\n",
            "    Found existing installation: PyYAML 3.13\n",
            "    Uninstalling PyYAML-3.13:\n",
            "      Successfully uninstalled PyYAML-3.13\n",
            "Successfully installed huggingface-hub-0.7.0 pyyaml-6.0 tokenizers-0.12.1 transformers-4.19.4\n"
          ]
        }
      ]
    },
    {
      "cell_type": "code",
      "source": [
        "import subprocess\n",
        "\n",
        "cased = subprocess.check_output(\"python recasepunc/recasepunc.py predict recasepunc/checkpoint \", shell=True, text=True, input=text)"
      ],
      "metadata": {
        "id": "BhD-ElXnhy63"
      },
      "execution_count": 1,
      "outputs": []
    },
    {
      "cell_type": "markdown",
      "source": [
        "# Creating a function to get an audio and summarised it into text."
      ],
      "metadata": {
        "id": "uNns9XDYoSml"
      }
    },
    {
      "cell_type": "code",
      "source": [
        "cased"
      ],
      "metadata": {
        "id": "fQi7NErUh-q2"
      },
      "execution_count": 2,
      "outputs": []
    },
    {
      "cell_type": "code",
      "source": [
        "def voice_recognition(filename):\n",
        "  model = Model(model_name=\"vosk-model-en-us-0.22\")\n",
        "  #Model(model_name=\"vosk-model-small-en-us-0.15\")\n",
        "\n",
        "  rec = KaldiRecognizer(model, FRAME_RATE)\n",
        "  rec.SetWords(True)\n",
        "\n",
        "  mp3 = AudioSegment.from_mp3(filename)\n",
        "  mp3 = mp3.set_channels(CHANNELS)\n",
        "  mp3 = mp3.set_frame(FRAME_RATE)\n",
        "\n",
        "  step = 45000\n",
        "  transcript = \"\"\n",
        "  for i for range(0,len(mp3), step):\n",
        "    print(f\"Progress: {i/len(mp3)}\")\n",
        "    segment = mp3[i:(i+step)]\n",
        "\n",
        "  rec.AcceptWaveform(segment.raw_data)\n",
        "  result = rec.Result()\n",
        "\n",
        "  text = json.loads(result)[\"text\"]\n",
        "  transcript += text\n",
        "\n",
        "  import subprocess\n",
        "\n",
        "  cased = subprocess.check_output(\"python recasepunc/recasepunc.py predict recasepunc/checkpoint \", shell=True, text=True, input=transcript)\n",
        "  return cased"
      ],
      "metadata": {
        "id": "fVvKg32qLCNL"
      },
      "execution_count": 12,
      "outputs": []
    },
    {
      "cell_type": "code",
      "source": [
        "voice_recognition(\"maketplace_full.mp3\")"
      ],
      "metadata": {
        "id": "enlPqp_bblTH"
      },
      "execution_count": 7,
      "outputs": []
    },
    {
      "cell_type": "code",
      "source": [
        "pip install transformers"
      ],
      "metadata": {
        "colab": {
          "base_uri": "https://localhost:8080/"
        },
        "id": "S5hqd8fabsd2",
        "outputId": "b42defe8-0a54-4dd1-f3be-fdef3d28c2d8"
      },
      "execution_count": null,
      "outputs": [
        {
          "output_type": "stream",
          "name": "stdout",
          "text": [
            "Looking in indexes: https://pypi.org/simple, https://us-python.pkg.dev/colab-wheels/public/simple/\n",
            "Collecting transformers\n",
            "  Downloading transformers-4.19.4-py3-none-any.whl (4.2 MB)\n",
            "\u001b[K     |████████████████████████████████| 4.2 MB 7.6 MB/s \n",
            "\u001b[?25hRequirement already satisfied: filelock in /usr/local/lib/python3.7/dist-packages (from transformers) (3.7.1)\n",
            "Collecting pyyaml>=5.1\n",
            "  Downloading PyYAML-6.0-cp37-cp37m-manylinux_2_5_x86_64.manylinux1_x86_64.manylinux_2_12_x86_64.manylinux2010_x86_64.whl (596 kB)\n",
            "\u001b[K     |████████████████████████████████| 596 kB 57.4 MB/s \n",
            "\u001b[?25hRequirement already satisfied: packaging>=20.0 in /usr/local/lib/python3.7/dist-packages (from transformers) (21.3)\n",
            "Requirement already satisfied: importlib-metadata in /usr/local/lib/python3.7/dist-packages (from transformers) (4.11.4)\n",
            "Requirement already satisfied: requests in /usr/local/lib/python3.7/dist-packages (from transformers) (2.23.0)\n",
            "Requirement already satisfied: numpy>=1.17 in /usr/local/lib/python3.7/dist-packages (from transformers) (1.21.6)\n",
            "Collecting tokenizers!=0.11.3,<0.13,>=0.11.1\n",
            "  Downloading tokenizers-0.12.1-cp37-cp37m-manylinux_2_12_x86_64.manylinux2010_x86_64.whl (6.6 MB)\n",
            "\u001b[K     |████████████████████████████████| 6.6 MB 40.8 MB/s \n",
            "\u001b[?25hRequirement already satisfied: tqdm>=4.27 in /usr/local/lib/python3.7/dist-packages (from transformers) (4.64.0)\n",
            "Requirement already satisfied: regex!=2019.12.17 in /usr/local/lib/python3.7/dist-packages (from transformers) (2022.6.2)\n",
            "Collecting huggingface-hub<1.0,>=0.1.0\n",
            "  Downloading huggingface_hub-0.7.0-py3-none-any.whl (86 kB)\n",
            "\u001b[K     |████████████████████████████████| 86 kB 7.4 MB/s \n",
            "\u001b[?25hRequirement already satisfied: typing-extensions>=3.7.4.3 in /usr/local/lib/python3.7/dist-packages (from huggingface-hub<1.0,>=0.1.0->transformers) (4.2.0)\n",
            "Requirement already satisfied: pyparsing!=3.0.5,>=2.0.2 in /usr/local/lib/python3.7/dist-packages (from packaging>=20.0->transformers) (3.0.9)\n",
            "Requirement already satisfied: zipp>=0.5 in /usr/local/lib/python3.7/dist-packages (from importlib-metadata->transformers) (3.8.0)\n",
            "Requirement already satisfied: chardet<4,>=3.0.2 in /usr/local/lib/python3.7/dist-packages (from requests->transformers) (3.0.4)\n",
            "Requirement already satisfied: certifi>=2017.4.17 in /usr/local/lib/python3.7/dist-packages (from requests->transformers) (2022.5.18.1)\n",
            "Requirement already satisfied: idna<3,>=2.5 in /usr/local/lib/python3.7/dist-packages (from requests->transformers) (2.10)\n",
            "Requirement already satisfied: urllib3!=1.25.0,!=1.25.1,<1.26,>=1.21.1 in /usr/local/lib/python3.7/dist-packages (from requests->transformers) (1.24.3)\n",
            "Installing collected packages: pyyaml, tokenizers, huggingface-hub, transformers\n",
            "  Attempting uninstall: pyyaml\n",
            "    Found existing installation: PyYAML 3.13\n",
            "    Uninstalling PyYAML-3.13:\n",
            "      Successfully uninstalled PyYAML-3.13\n",
            "Successfully installed huggingface-hub-0.7.0 pyyaml-6.0 tokenizers-0.12.1 transformers-4.19.4\n"
          ]
        }
      ]
    },
    {
      "cell_type": "code",
      "source": [
        "from transformers import pipeline\n",
        "\n",
        "summarizer = pipeline(\"summarization\")\n",
        "# For a smaller model, use: summarizer = pipeline(\"summarization\", model=\"t5-small\")\n"
      ],
      "metadata": {
        "colab": {
          "base_uri": "https://localhost:8080/",
          "height": 271,
          "referenced_widgets": [
            "6a155c365b814becb16edae26982b4e5",
            "e91c5a5c235849329de50ba437ebfdf6",
            "acfa2614e1134a4f863eb0481d8e4caf",
            "06c94433473f4c1cb5ce800ebbda869a",
            "ae6d617f5cec42b68c02914416f94240",
            "d5c3c7f36f7b46b7afe8b8dc8e6de953",
            "517ce44b1c1047328e0fcf62accef89d",
            "29c32533dd8f41769a6ef1602be88195",
            "2664fed712a54a8b96fcb289b630bcb3",
            "89420a8656ea420a85299a8aa4f9c224",
            "6005e541dbfd4d9da7cf8dc63662539a",
            "96a85263f30248a2a790afda86182943",
            "b916e04588654bdcb0dbfe5385ed6a4e",
            "c3cf17327b574fc6a7790fd80ee1e2e2",
            "922d593b8f794f888bea815018bf1b89",
            "c50d46c85d64418f9463dad98876e417",
            "75d84c4a99504b7cab2d8bf695ac2693",
            "5914283769ac4fb1b0ad5e34554ceb6b",
            "32067abc3b0342c3becdae39428a9ae5",
            "f37a7c667ea94020a9089721d0dfcc67",
            "2932648d0f594a9ebed920b163556c6d",
            "9b5b016b93ea4d779a02cb02e588285c",
            "983a6dd6cfae479484697a73895b66bd",
            "40d1309e4eb740e8a1559e0b69a86ae6",
            "f02fbe53d2b5438baf1eb7e3a17b7e5b",
            "719c7e6f1d704d7badd23376d3482e93",
            "0df20c9831dd44f3a18392c2c51df6c6",
            "cfa6a52db3dc4b89bdc6bbee11bc9db1",
            "3e721dde1fed4fb183cf7e83a9239646",
            "7ea71bd293784983a46de187a6237bd1",
            "57cb13950bfb4cb59efb826d2ee802cc",
            "a7b98ddc4f40424d9220ef0d63f46694",
            "fa34d369d1984ce99ad4501b93775360",
            "4a5f12339e254cad9b43d28d78126ca6",
            "3745d08a827945aabdb97ef3485b20a0",
            "f933014541524af3a36bfeb0b1869213",
            "e61f4b1edf6b45269b219cbd84e88fd3",
            "59f9e6e3b0ec42efad71737d3ffcd4a5",
            "22984b07897a46679f8d53324ab16164",
            "dea8110ccf5b4bf28247a27f52b96408",
            "b988b0a7e7044f87b7a4d4bb8f40077e",
            "e4d2b6ffff6e41209aa1c872d6903a20",
            "e89208a7293c421497d84ef5464a3703",
            "83bbb3c030a447c0a079417bf406e774",
            "13d60a24017f4f5888a68f325b177cfc",
            "9fa19a02b4674b5d8f28077dbc015ae9",
            "da7b00f6f9f84dad9bc7382386bef8ab",
            "8c099bfe46be4a4c8e0de5e379d42a50",
            "b5db042b1d874b9e8b4a1a1fa25b4c76",
            "b43c4d750a2c486ea25060f8f33dc5ec",
            "b0d161fbc6964788817dd5593395818d",
            "bf9a8e413f414ac892d0836a544301ec",
            "95c55d4ee0954d17b84cae7240ecbea9",
            "7f9ab8193c73477eaf92eeb8393c8ea6",
            "550b6647d84c493a98ed95cc0b547099"
          ]
        },
        "id": "e0tvffOmdK9s",
        "outputId": "80cee5ac-f0fc-4a80-f225-87c60f4463bc"
      },
      "execution_count": null,
      "outputs": [
        {
          "output_type": "stream",
          "name": "stderr",
          "text": [
            "No model was supplied, defaulted to sshleifer/distilbart-cnn-12-6 (https://huggingface.co/sshleifer/distilbart-cnn-12-6)\n"
          ]
        },
        {
          "output_type": "display_data",
          "data": {
            "text/plain": [
              "Downloading:   0%|          | 0.00/1.76k [00:00<?, ?B/s]"
            ],
            "application/vnd.jupyter.widget-view+json": {
              "version_major": 2,
              "version_minor": 0,
              "model_id": "6a155c365b814becb16edae26982b4e5"
            }
          },
          "metadata": {}
        },
        {
          "output_type": "display_data",
          "data": {
            "text/plain": [
              "Downloading:   0%|          | 0.00/1.14G [00:00<?, ?B/s]"
            ],
            "application/vnd.jupyter.widget-view+json": {
              "version_major": 2,
              "version_minor": 0,
              "model_id": "96a85263f30248a2a790afda86182943"
            }
          },
          "metadata": {}
        },
        {
          "output_type": "display_data",
          "data": {
            "text/plain": [
              "Downloading:   0%|          | 0.00/26.0 [00:00<?, ?B/s]"
            ],
            "application/vnd.jupyter.widget-view+json": {
              "version_major": 2,
              "version_minor": 0,
              "model_id": "983a6dd6cfae479484697a73895b66bd"
            }
          },
          "metadata": {}
        },
        {
          "output_type": "display_data",
          "data": {
            "text/plain": [
              "Downloading:   0%|          | 0.00/878k [00:00<?, ?B/s]"
            ],
            "application/vnd.jupyter.widget-view+json": {
              "version_major": 2,
              "version_minor": 0,
              "model_id": "4a5f12339e254cad9b43d28d78126ca6"
            }
          },
          "metadata": {}
        },
        {
          "output_type": "display_data",
          "data": {
            "text/plain": [
              "Downloading:   0%|          | 0.00/446k [00:00<?, ?B/s]"
            ],
            "application/vnd.jupyter.widget-view+json": {
              "version_major": 2,
              "version_minor": 0,
              "model_id": "13d60a24017f4f5888a68f325b177cfc"
            }
          },
          "metadata": {}
        }
      ]
    },
    {
      "cell_type": "code",
      "source": [
        "with open(\"transcript.txt\") as f:\n",
        "  transcript = f.read()"
      ],
      "metadata": {
        "id": "ylH94_CQdc7L"
      },
      "execution_count": 8,
      "outputs": []
    },
    {
      "cell_type": "code",
      "source": [
        "split_tokens = transcript.split(\" \")\n",
        "docs = []\n",
        "\n",
        "for i in range(0, len(split_tokens), 850):\n",
        "  selection = \" \".join(split_tokens[i:(i+850)])\n",
        "  docs.append(selection)"
      ],
      "metadata": {
        "id": "V2aHQuExei8i"
      },
      "execution_count": 9,
      "outputs": []
    },
    {
      "cell_type": "code",
      "source": [
        "summaries = summarizer(docs)\n",
        "\n",
        "summary = \"\\n\\n\".join(d[\"summary_text\"]for d in summaries)\n",
        " "
      ],
      "metadata": {
        "id": "MrjQnBu1etIy"
      },
      "execution_count": 10,
      "outputs": []
    },
    {
      "cell_type": "code",
      "source": [
        "summary"
      ],
      "metadata": {
        "id": "2itHGAZLe-c6"
      },
      "execution_count": 11,
      "outputs": []
    }
  ]
}